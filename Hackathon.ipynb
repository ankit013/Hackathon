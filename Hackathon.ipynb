{
 "cells": [
  {
   "cell_type": "markdown",
   "metadata": {},
   "source": [
    "# Predicting Greatstone Rating for Mutual Funds "
   ]
  },
  {
   "cell_type": "code",
   "execution_count": 1054,
   "metadata": {},
   "outputs": [],
   "source": [
    "## Import library\n",
    "import pandas as pd\n",
    "import numpy as np\n",
    "import seaborn as sns\n",
    "import matplotlib.pyplot as plt\n",
    "%matplotlib inline\n",
    "import warnings\n",
    "warnings.simplefilter('ignore')\n",
    "\n",
    "import os\n",
    "pd.set_option('display.max_columns',100)\n",
    "pd.set_option('display.max_rows',200)\n",
    "\n",
    "from sklearn.metrics import make_scorer,accuracy_score,average_precision_score\n",
    "\n",
    "from sklearn.preprocessing import OrdinalEncoder\n",
    "from sklearn.impute import KNNImputer\n",
    "\n",
    "from sklearn.preprocessing import StandardScaler\n",
    "from sklearn.ensemble import RandomForestClassifier\n",
    "from sklearn.model_selection import train_test_split\n",
    "from sklearn.ensemble import ExtraTreesClassifier\n",
    "from sklearn.ensemble import GradientBoostingClassifier\n",
    "from sklearn.model_selection import RandomizedSearchCV\n",
    "from sklearn.model_selection import GridSearchCV\n",
    "from sklearn.multiclass import OneVsRestClassifier\n",
    "from sklearn.svm import LinearSVC\n",
    "import xgboost as xgb\n",
    "from xgboost.sklearn import XGBClassifier\n",
    "from sklearn.linear_model import *\n",
    "from sklearn.tree import *\n",
    "import lightgbm as lgbm\n",
    "from lightgbm.sklearn import LGBMClassifier\n",
    "import catboost\n",
    "from catboost import CatBoostClassifier\n",
    "from sklearn.ensemble import AdaBoostClassifier\n",
    "from sklearn.svm import SVC\n",
    "\n",
    "# explicitly require this experimental feature\n",
    "from sklearn.experimental import enable_hist_gradient_boosting  \n",
    "# now you can import normally from ensemble\n",
    "from sklearn.ensemble import HistGradientBoostingClassifier\n",
    "\n",
    "from sklearn.ensemble import VotingClassifier"
   ]
  },
  {
   "cell_type": "code",
   "execution_count": null,
   "metadata": {},
   "outputs": [],
   "source": [
    "display(os.getcwd())\n",
    "os.chdir('/Users/ankitpatel/Downloads/external/')"
   ]
  },
  {
   "cell_type": "code",
   "execution_count": null,
   "metadata": {},
   "outputs": [],
   "source": [
    "os.listdir()"
   ]
  },
  {
   "cell_type": "code",
   "execution_count": null,
   "metadata": {},
   "outputs": [],
   "source": [
    "## read data ##\n",
    "rt_3yr=pd.read_csv('return_3year.csv')\n",
    "rt_5yr=pd.read_csv('return_5year.csv')\n",
    "rt_10yr=pd.read_csv('return_10year.csv')\n",
    "fund_allo=pd.read_csv('fund_allocations.csv')\n",
    "fund_conf=pd.read_csv('fund_config.csv')\n",
    "fund_specs=pd.read_csv('fund_specs.csv')\n",
    "other_specs=pd.read_csv('other_specs.csv')\n",
    "bond_ratings=pd.read_csv('bond_ratings.csv')\n",
    "fund_ratios=pd.read_csv('fund_ratios.csv')\n",
    "sample_sub=pd.read_csv('sample_submission.csv')"
   ]
  },
  {
   "cell_type": "code",
   "execution_count": null,
   "metadata": {},
   "outputs": [],
   "source": [
    "display(rt_3yr.shape)\n",
    "display(rt_5yr.shape)\n",
    "display(rt_10yr.shape)\n",
    "display(fund_allo.shape)\n",
    "display(fund_conf.shape)\n",
    "display(fund_specs.shape)\n",
    "display(other_specs.shape)\n",
    "display(bond_ratings.shape)\n",
    "display(fund_ratios.shape)\n",
    "display(sample_sub.shape)"
   ]
  },
  {
   "cell_type": "markdown",
   "metadata": {},
   "source": [
    "## Data Frame :: rt_3yr"
   ]
  },
  {
   "cell_type": "code",
   "execution_count": null,
   "metadata": {},
   "outputs": [],
   "source": [
    "## Analyze data one by one ##\n",
    "rt_3yr.info()"
   ]
  },
  {
   "cell_type": "code",
   "execution_count": null,
   "metadata": {},
   "outputs": [],
   "source": [
    "## convert 3yrs_treynor_ratio_fund to float ##\n",
    "rt_3yr['3yrs_treynor_ratio_fund']=rt_3yr['3yrs_treynor_ratio_fund'].str.replace(\",\",\"\")"
   ]
  },
  {
   "cell_type": "code",
   "execution_count": null,
   "metadata": {},
   "outputs": [],
   "source": [
    "rt_3yr['3yrs_treynor_ratio_fund'].unique()"
   ]
  },
  {
   "cell_type": "code",
   "execution_count": null,
   "metadata": {},
   "outputs": [],
   "source": [
    "rt_3yr.isna().sum()"
   ]
  },
  {
   "cell_type": "code",
   "execution_count": null,
   "metadata": {},
   "outputs": [],
   "source": [
    "rt_3yr['3yrs_treynor_ratio_fund']=rt_3yr['3yrs_treynor_ratio_fund'].astype(float)"
   ]
  },
  {
   "cell_type": "code",
   "execution_count": null,
   "metadata": {},
   "outputs": [],
   "source": [
    "## impute nulls ##\n",
    "\n",
    "cols=['3yrs_treynor_ratio_fund','3_years_alpha_fund','3years_category_std','3yrs_sharpe_ratio_fund','3yrs_treynor_ratio_category',\\\n",
    "     '3_years_return_mean_annual_fund','fund_beta_3years','3years_fund_r_squared','3years_fund_std','category_beta_3years',\\\n",
    "     'fund_return_3years','3_years_alpha_category','3_years_return_mean_annual_category','3yrs_sharpe_ratio_category',\\\n",
    "     '3years_category_r_squared','3_years_return_category']\n",
    "\n",
    "from sklearn.impute import SimpleImputer\n",
    "mp = SimpleImputer(missing_values=np.nan, strategy='median')\n",
    "mp.fit(rt_3yr[cols])"
   ]
  },
  {
   "cell_type": "code",
   "execution_count": null,
   "metadata": {},
   "outputs": [],
   "source": [
    "rt_3yr_imputed=pd.DataFrame(mp.fit_transform(rt_3yr[cols]),columns=cols)"
   ]
  },
  {
   "cell_type": "code",
   "execution_count": null,
   "metadata": {},
   "outputs": [],
   "source": [
    "rt_3yr"
   ]
  },
  {
   "cell_type": "code",
   "execution_count": null,
   "metadata": {},
   "outputs": [],
   "source": [
    "rt_3yr_imputed"
   ]
  },
  {
   "cell_type": "code",
   "execution_count": null,
   "metadata": {},
   "outputs": [],
   "source": [
    "## drop the columns\n",
    "rt_3yr.drop(cols,axis=1,inplace=True)"
   ]
  },
  {
   "cell_type": "code",
   "execution_count": null,
   "metadata": {},
   "outputs": [],
   "source": [
    "rt_3yr_imputed=pd.concat([rt_3yr,rt_3yr_imputed],axis=1)"
   ]
  },
  {
   "cell_type": "code",
   "execution_count": null,
   "metadata": {},
   "outputs": [],
   "source": [
    "rt_3yr_imputed.head(10)"
   ]
  },
  {
   "cell_type": "code",
   "execution_count": null,
   "metadata": {},
   "outputs": [],
   "source": [
    "display(rt_3yr_imputed.isna().sum())\n",
    "display(rt_3yr_imputed.info())"
   ]
  },
  {
   "cell_type": "markdown",
   "metadata": {},
   "source": [
    "## Data Frame :: rt_5yr"
   ]
  },
  {
   "cell_type": "code",
   "execution_count": null,
   "metadata": {},
   "outputs": [],
   "source": [
    "## Analyze data one by one ##\n",
    "rt_5yr.info()"
   ]
  },
  {
   "cell_type": "code",
   "execution_count": null,
   "metadata": {},
   "outputs": [],
   "source": [
    "rt_5yr.head()"
   ]
  },
  {
   "cell_type": "code",
   "execution_count": null,
   "metadata": {},
   "outputs": [],
   "source": [
    "## convert 5yrs_treynor_ratio_fund to float ##\n",
    "rt_5yr['5yrs_treynor_ratio_fund']=rt_5yr['5yrs_treynor_ratio_fund'].str.replace(\",\",\"\")\n",
    "rt_5yr['5yrs_treynor_ratio_fund']=rt_5yr['5yrs_treynor_ratio_fund'].astype(float)"
   ]
  },
  {
   "cell_type": "code",
   "execution_count": null,
   "metadata": {},
   "outputs": [],
   "source": [
    "rt_5yr.columns"
   ]
  },
  {
   "cell_type": "code",
   "execution_count": null,
   "metadata": {},
   "outputs": [],
   "source": [
    "## impute nulls ##\n",
    "\n",
    "cols=['category_r_squared_5years', '5yrs_sharpe_ratio_fund',\n",
    "       '5_years_alpha_fund', '5years_fund_r_squared', '5years_fund_std',\n",
    "       '5yrs_sharpe_ratio_category', '5_years_beta_fund',\n",
    "       '5yrs_treynor_ratio_fund', '5_years_return_mean_annual_fund',\n",
    "       '5_years_return_mean_annual_category', '5yrs_treynor_ratio_category',\n",
    "       '5_years_return_fund', '5_years_alpha_category',\n",
    "       '5_years_beta_category', '5years_category_std',\n",
    "       '5_years_return_category']\n",
    "\n",
    "from sklearn.impute import SimpleImputer\n",
    "mp = SimpleImputer(missing_values=np.nan, strategy='median')\n",
    "mp.fit(rt_5yr[cols])"
   ]
  },
  {
   "cell_type": "code",
   "execution_count": null,
   "metadata": {},
   "outputs": [],
   "source": [
    "rt_5yr_imputed=pd.DataFrame(mp.fit_transform(rt_5yr[cols]),columns=cols)"
   ]
  },
  {
   "cell_type": "code",
   "execution_count": null,
   "metadata": {},
   "outputs": [],
   "source": [
    "## drop the columns\n",
    "rt_5yr.drop(cols,axis=1,inplace=True)"
   ]
  },
  {
   "cell_type": "code",
   "execution_count": null,
   "metadata": {},
   "outputs": [],
   "source": [
    "rt_5yr_imputed=pd.concat([rt_5yr,rt_5yr_imputed],axis=1)"
   ]
  },
  {
   "cell_type": "code",
   "execution_count": null,
   "metadata": {},
   "outputs": [],
   "source": [
    "display(rt_5yr.head(10))\n",
    "display(rt_5yr_imputed.head(10))\n",
    "display(rt_5yr_imputed.isna().sum())\n",
    "display(rt_5yr_imputed.info())"
   ]
  },
  {
   "cell_type": "markdown",
   "metadata": {},
   "source": [
    "## DataFrame :: rt_10yr"
   ]
  },
  {
   "cell_type": "code",
   "execution_count": null,
   "metadata": {},
   "outputs": [],
   "source": [
    "## Analyze data one by one ##\n",
    "rt_10yr.info()"
   ]
  },
  {
   "cell_type": "code",
   "execution_count": null,
   "metadata": {},
   "outputs": [],
   "source": [
    "rt_10yr.head(10)"
   ]
  },
  {
   "cell_type": "code",
   "execution_count": null,
   "metadata": {},
   "outputs": [],
   "source": [
    "## convert 10yrs_treynor_ratio_fund to float ##\n",
    "rt_10yr['10yrs_treynor_ratio_fund']=rt_10yr['10yrs_treynor_ratio_fund'].str.replace(\",\",\"\")\n",
    "rt_10yr['10yrs_treynor_ratio_fund']=rt_10yr['10yrs_treynor_ratio_fund'].astype(float)"
   ]
  },
  {
   "cell_type": "code",
   "execution_count": null,
   "metadata": {},
   "outputs": [],
   "source": [
    "rt_10yr.columns"
   ]
  },
  {
   "cell_type": "code",
   "execution_count": null,
   "metadata": {},
   "outputs": [],
   "source": [
    "## impute nulls ##\n",
    "\n",
    "cols=['10years_category_r_squared', '10yrs_sharpe_ratio_fund',\n",
    "       '10_years_alpha_fund', '10years_fund_r_squared', '10years_fund_std',\n",
    "       '10yrs_sharpe_ratio_category', '10_years_beta_fund',\n",
    "       '10yrs_treynor_ratio_fund',\n",
    "       '10_years_return_mean_annual_category', '10yrs_treynor_ratio_category',\n",
    "       '10_years_return_fund', '10_years_alpha_category',\n",
    "       '10_years_beta_category', '10years_category_std',\n",
    "       '10_years_return_mean_annual_fund', '10_years_return_category']\n",
    "\n",
    "from sklearn.impute import SimpleImputer\n",
    "mp = SimpleImputer(missing_values=np.nan, strategy='median')\n",
    "mp.fit(rt_10yr[cols])"
   ]
  },
  {
   "cell_type": "code",
   "execution_count": null,
   "metadata": {},
   "outputs": [],
   "source": [
    "rt_10yr_imputed=pd.DataFrame(mp.fit_transform(rt_10yr[cols]),columns=cols)"
   ]
  },
  {
   "cell_type": "code",
   "execution_count": null,
   "metadata": {},
   "outputs": [],
   "source": [
    "## drop the columns\n",
    "rt_10yr.drop(cols,axis=1,inplace=True)"
   ]
  },
  {
   "cell_type": "code",
   "execution_count": null,
   "metadata": {},
   "outputs": [],
   "source": [
    "rt_10yr_imputed=pd.concat([rt_10yr,rt_10yr_imputed],axis=1)"
   ]
  },
  {
   "cell_type": "code",
   "execution_count": null,
   "metadata": {},
   "outputs": [],
   "source": [
    "display(rt_10yr.head(10))\n",
    "display(rt_10yr_imputed.head(10))\n",
    "display(rt_10yr_imputed.isna().sum())\n",
    "display(rt_10yr_imputed.info())"
   ]
  },
  {
   "cell_type": "markdown",
   "metadata": {},
   "source": [
    "## DataFrame :: fund_allo"
   ]
  },
  {
   "cell_type": "code",
   "execution_count": null,
   "metadata": {},
   "outputs": [],
   "source": [
    "fund_allo.info()"
   ]
  },
  {
   "cell_type": "code",
   "execution_count": null,
   "metadata": {},
   "outputs": [],
   "source": [
    "fund_allo.head()"
   ]
  },
  {
   "cell_type": "code",
   "execution_count": null,
   "metadata": {},
   "outputs": [],
   "source": [
    "fund_allo[fund_allo.isna()].head(20)"
   ]
  },
  {
   "cell_type": "code",
   "execution_count": null,
   "metadata": {},
   "outputs": [],
   "source": [
    "fund_specs['tag'].nunique()"
   ]
  },
  {
   "cell_type": "code",
   "execution_count": null,
   "metadata": {},
   "outputs": [],
   "source": [
    "## No Need to impute as ID's are also null ##"
   ]
  },
  {
   "cell_type": "markdown",
   "metadata": {},
   "source": [
    "## DataFrame :: fund_conf"
   ]
  },
  {
   "cell_type": "code",
   "execution_count": null,
   "metadata": {},
   "outputs": [],
   "source": [
    "fund_conf.info()"
   ]
  },
  {
   "cell_type": "code",
   "execution_count": null,
   "metadata": {},
   "outputs": [],
   "source": [
    "fund_conf.head()"
   ]
  },
  {
   "cell_type": "code",
   "execution_count": null,
   "metadata": {},
   "outputs": [],
   "source": [
    "## No need to impute ##"
   ]
  },
  {
   "cell_type": "markdown",
   "metadata": {},
   "source": [
    "## DataFrame :: bond_ratings"
   ]
  },
  {
   "cell_type": "code",
   "execution_count": null,
   "metadata": {},
   "outputs": [],
   "source": [
    "bond_ratings.info(verbose=True,null_counts=True)\n",
    "#bond_ratings.info(verbose=True)"
   ]
  },
  {
   "cell_type": "code",
   "execution_count": null,
   "metadata": {},
   "outputs": [],
   "source": [
    "bond_ratings.head()"
   ]
  },
  {
   "cell_type": "code",
   "execution_count": null,
   "metadata": {},
   "outputs": [],
   "source": [
    "bond_ratings['maturity_bond'].unique()"
   ]
  },
  {
   "cell_type": "code",
   "execution_count": null,
   "metadata": {},
   "outputs": [],
   "source": [
    "bond_ratings[bond_ratings['bb_rating'].isna()]"
   ]
  },
  {
   "cell_type": "code",
   "execution_count": null,
   "metadata": {},
   "outputs": [],
   "source": [
    "## Drop the records with Tag available and all other records as null ##\n",
    "bond_ratings.index=bond_ratings['tag']"
   ]
  },
  {
   "cell_type": "code",
   "execution_count": null,
   "metadata": {},
   "outputs": [],
   "source": [
    "bond_ratings.drop('tag',axis=1,inplace=True)"
   ]
  },
  {
   "cell_type": "code",
   "execution_count": null,
   "metadata": {},
   "outputs": [],
   "source": [
    "bond_ratings.dropna(axis=0,inplace=True,how=\"all\")"
   ]
  },
  {
   "cell_type": "code",
   "execution_count": null,
   "metadata": {},
   "outputs": [],
   "source": [
    "bond_ratings.shape"
   ]
  },
  {
   "cell_type": "code",
   "execution_count": null,
   "metadata": {},
   "outputs": [],
   "source": [
    "bond_ratings.isna().sum()"
   ]
  },
  {
   "cell_type": "code",
   "execution_count": null,
   "metadata": {},
   "outputs": [],
   "source": [
    "## check the distribution of maturity_bond & duration_bond\n",
    "sns.scatterplot(x='maturity_bond',y='duration_bond',data=bond_ratings)"
   ]
  },
  {
   "cell_type": "code",
   "execution_count": null,
   "metadata": {},
   "outputs": [],
   "source": [
    "## Using KNN imputer ##\n",
    "from sklearn.impute import KNNImputer"
   ]
  },
  {
   "cell_type": "code",
   "execution_count": null,
   "metadata": {},
   "outputs": [],
   "source": [
    "bond_ratings.columns"
   ]
  },
  {
   "cell_type": "code",
   "execution_count": null,
   "metadata": {},
   "outputs": [],
   "source": [
    "cols=['bb_rating', 'us_govt_bond_rating', 'below_b_rating', 'others_rating',\n",
    "       'maturity_bond', 'b_rating', 'a_rating', 'aaa_rating', 'aa_rating',\n",
    "       'bbb_rating', 'duration_bond']\n",
    "knnimputer = KNNImputer(n_neighbors=2, weights=\"uniform\")\n",
    "knnimputer.fit(bond_ratings[cols])"
   ]
  },
  {
   "cell_type": "code",
   "execution_count": null,
   "metadata": {},
   "outputs": [],
   "source": [
    "bond_ratings_imputed=pd.DataFrame(knnimputer.fit_transform(bond_ratings[cols]),columns=cols)"
   ]
  },
  {
   "cell_type": "code",
   "execution_count": null,
   "metadata": {},
   "outputs": [],
   "source": [
    "bond_ratings_imputed"
   ]
  },
  {
   "cell_type": "code",
   "execution_count": null,
   "metadata": {},
   "outputs": [],
   "source": [
    "bond_ratings['tag']=bond_ratings.index"
   ]
  },
  {
   "cell_type": "code",
   "execution_count": null,
   "metadata": {},
   "outputs": [],
   "source": [
    "bond_ratings.reset_index(inplace=True,drop=True)"
   ]
  },
  {
   "cell_type": "code",
   "execution_count": null,
   "metadata": {},
   "outputs": [],
   "source": [
    "bond_ratings"
   ]
  },
  {
   "cell_type": "code",
   "execution_count": null,
   "metadata": {},
   "outputs": [],
   "source": [
    "## drop the columns\n",
    "bond_ratings.drop(cols,axis=1,inplace=True)"
   ]
  },
  {
   "cell_type": "code",
   "execution_count": null,
   "metadata": {},
   "outputs": [],
   "source": [
    "bond_ratings_imputed=pd.concat([bond_ratings,bond_ratings_imputed],axis=1)"
   ]
  },
  {
   "cell_type": "code",
   "execution_count": null,
   "metadata": {},
   "outputs": [],
   "source": [
    "display(bond_ratings_imputed.head(10))\n",
    "display(bond_ratings_imputed.isna().sum())"
   ]
  },
  {
   "cell_type": "markdown",
   "metadata": {},
   "source": [
    "## DataFrame :: fund_ratios"
   ]
  },
  {
   "cell_type": "code",
   "execution_count": null,
   "metadata": {},
   "outputs": [],
   "source": [
    "fund_ratios.info()"
   ]
  },
  {
   "cell_type": "code",
   "execution_count": null,
   "metadata": {},
   "outputs": [],
   "source": [
    "fund_ratios['tag'].nunique()"
   ]
  },
  {
   "cell_type": "code",
   "execution_count": null,
   "metadata": {},
   "outputs": [],
   "source": [
    "fund_ratios.head(100)"
   ]
  },
  {
   "cell_type": "code",
   "execution_count": null,
   "metadata": {},
   "outputs": [],
   "source": [
    "fund_ratios['mmc']=fund_ratios['mmc'].str.replace(',','')"
   ]
  },
  {
   "cell_type": "code",
   "execution_count": null,
   "metadata": {},
   "outputs": [],
   "source": [
    "fund_ratios['mmc']=fund_ratios['mmc'].astype(float)"
   ]
  },
  {
   "cell_type": "code",
   "execution_count": null,
   "metadata": {},
   "outputs": [],
   "source": [
    "fund_ratios['ps_ratio']=fund_ratios['ps_ratio'].str.replace(',','')\n",
    "fund_ratios['ps_ratio']=fund_ratios['ps_ratio'].astype(float)\n",
    "fund_ratios['pc_ratio']=fund_ratios['pc_ratio'].str.replace(',','')\n",
    "fund_ratios['pc_ratio']=fund_ratios['pc_ratio'].astype(float)\n",
    "fund_ratios['pe_ratio']=fund_ratios['pe_ratio'].str.replace(',','')\n",
    "fund_ratios['pe_ratio']=fund_ratios['pe_ratio'].astype(float)"
   ]
  },
  {
   "cell_type": "code",
   "execution_count": null,
   "metadata": {},
   "outputs": [],
   "source": [
    "fund_ratios[fund_ratios['pb_ratio'].isna()]"
   ]
  },
  {
   "cell_type": "markdown",
   "metadata": {},
   "source": [
    "## DataFrame :: fund_specs"
   ]
  },
  {
   "cell_type": "code",
   "execution_count": null,
   "metadata": {},
   "outputs": [],
   "source": [
    "fund_specs.info()"
   ]
  },
  {
   "cell_type": "code",
   "execution_count": null,
   "metadata": {},
   "outputs": [],
   "source": [
    "fund_specs[fund_specs['tag']==202562].head()"
   ]
  },
  {
   "cell_type": "code",
   "execution_count": null,
   "metadata": {},
   "outputs": [],
   "source": [
    "fund_specs['fund_size'].unique()"
   ]
  },
  {
   "cell_type": "code",
   "execution_count": null,
   "metadata": {},
   "outputs": [],
   "source": [
    "## List of categorical variable ##\n",
    "var=['investment_class','fund_size']\n",
    "encoder = OrdinalEncoder()\n",
    "imputer = KNNImputer()\n",
    "\n",
    "def encode(data):\n",
    "    '''function to encode non-null data and replace it in the original data'''\n",
    "    #retains only non-null values\n",
    "    nonulls = np.array(data.dropna())\n",
    "    #reshapes the data for encoding\n",
    "    impute_reshape = nonulls.reshape(-1,1)\n",
    "    #encode date\n",
    "    impute_ordinal = encoder.fit_transform(impute_reshape)\n",
    "    #Assign back encoded values to non-null values\n",
    "    data.loc[data.notnull()] = np.squeeze(impute_ordinal)\n",
    "    return data\n",
    "\n",
    "#create a for loop to iterate through each column in the data\n",
    "for columns in var:\n",
    "    encode(fund_specs[columns])"
   ]
  },
  {
   "cell_type": "code",
   "execution_count": null,
   "metadata": {},
   "outputs": [],
   "source": [
    "fund_specs"
   ]
  },
  {
   "cell_type": "code",
   "execution_count": null,
   "metadata": {},
   "outputs": [],
   "source": [
    "cols=['investment_class','total_assets','yield','fund_size','return_ytd']\n",
    "# impute data and convert \n",
    "encode_data = pd.DataFrame(np.round(imputer.fit_transform(fund_specs[cols])),columns = cols)"
   ]
  },
  {
   "cell_type": "code",
   "execution_count": null,
   "metadata": {},
   "outputs": [],
   "source": [
    "encode_data"
   ]
  },
  {
   "cell_type": "code",
   "execution_count": null,
   "metadata": {},
   "outputs": [],
   "source": [
    "## drop columns from main table \n",
    "fund_specs.drop(['investment_class','total_assets','yield','fund_size','return_ytd'],axis=1,inplace=True)"
   ]
  },
  {
   "cell_type": "code",
   "execution_count": null,
   "metadata": {},
   "outputs": [],
   "source": [
    "fund_specs_imputed=pd.concat([fund_specs,encode_data],axis=1)"
   ]
  },
  {
   "cell_type": "code",
   "execution_count": null,
   "metadata": {},
   "outputs": [],
   "source": [
    "fund_specs_imputed"
   ]
  },
  {
   "cell_type": "code",
   "execution_count": null,
   "metadata": {},
   "outputs": [],
   "source": [
    "fund_specs_imputed.isna().sum()"
   ]
  },
  {
   "cell_type": "markdown",
   "metadata": {},
   "source": [
    "## DataFrame :: other_specs"
   ]
  },
  {
   "cell_type": "code",
   "execution_count": null,
   "metadata": {},
   "outputs": [],
   "source": [
    "other_specs.info()"
   ]
  },
  {
   "cell_type": "code",
   "execution_count": null,
   "metadata": {},
   "outputs": [],
   "source": [
    "## convert object to float ##\n",
    "other_specs['pc_ratio']=other_specs['pc_ratio'].str.replace(',','')\n",
    "other_specs['pe_ratio']=other_specs['pe_ratio'].str.replace(',','')\n",
    "other_specs['mmc']=other_specs['mmc'].str.replace(',','')\n",
    "other_specs['ps_ratio']=other_specs['ps_ratio'].str.replace(',','')"
   ]
  },
  {
   "cell_type": "code",
   "execution_count": null,
   "metadata": {},
   "outputs": [],
   "source": [
    "other_specs['pc_ratio']=other_specs['pc_ratio'].astype(float)\n",
    "other_specs['pe_ratio']=other_specs['pe_ratio'].astype(float)\n",
    "other_specs['mmc']=other_specs['mmc'].astype(float)\n",
    "other_specs['ps_ratio']=other_specs['ps_ratio'].astype(float)"
   ]
  },
  {
   "cell_type": "code",
   "execution_count": null,
   "metadata": {},
   "outputs": [],
   "source": [
    "other_specs['tag'].nunique()"
   ]
  },
  {
   "cell_type": "code",
   "execution_count": null,
   "metadata": {},
   "outputs": [],
   "source": [
    "other_specs.head()"
   ]
  },
  {
   "cell_type": "code",
   "execution_count": null,
   "metadata": {},
   "outputs": [],
   "source": [
    "## categorical variables \n",
    "## Assumptions : years_down: number of years the mutual fund was down\n",
    "other_specs['years_down'].unique()"
   ]
  },
  {
   "cell_type": "code",
   "execution_count": null,
   "metadata": {},
   "outputs": [],
   "source": [
    "other_specs['years_down'].isna().sum()"
   ]
  },
  {
   "cell_type": "code",
   "execution_count": null,
   "metadata": {},
   "outputs": [],
   "source": [
    "## Assumptions : years_up: number of years the mutual fund was up\n",
    "other_specs['years_up'].unique()"
   ]
  },
  {
   "cell_type": "code",
   "execution_count": null,
   "metadata": {},
   "outputs": [],
   "source": [
    "other_specs['years_up'].isna().sum()"
   ]
  },
  {
   "cell_type": "code",
   "execution_count": null,
   "metadata": {},
   "outputs": [],
   "source": [
    "other_specs['portfolio_convertable'].unique()"
   ]
  },
  {
   "cell_type": "code",
   "execution_count": null,
   "metadata": {},
   "outputs": [],
   "source": [
    "### Replace all nan in years_doen and years_up with 0\n",
    "other_specs['years_up']=other_specs['years_up'].replace(np.nan,0)"
   ]
  },
  {
   "cell_type": "code",
   "execution_count": null,
   "metadata": {},
   "outputs": [],
   "source": [
    "other_specs['years_down']=other_specs['years_down'].replace(np.nan,0)"
   ]
  },
  {
   "cell_type": "code",
   "execution_count": null,
   "metadata": {},
   "outputs": [],
   "source": [
    "other_specs.columns"
   ]
  },
  {
   "cell_type": "code",
   "execution_count": null,
   "metadata": {},
   "outputs": [],
   "source": [
    "## Impute all the other columns ##\n",
    "cols=['2014_category_return', '2012_return_category',\n",
    "       '2018_return_category', 'category_return_1year',\n",
    "       'cash_percent_of_portfolio', 'pc_ratio', '2011_return_category',\n",
    "       'ytd_return_fund', '2014_return_fund',\n",
    "       'category_return_1month', '2013_return_fund', 'fund_return_3months',\n",
    "       'ytd_return_category', 'pb_ratio', '2017_category_return',\n",
    "       '1_year_return_fund', 'pe_ratio', '2015_return_fund',\n",
    "       'portfolio_convertable', '3_months_return_category', 'portfolio_others',\n",
    "       '2016_return_fund', 'mmc', 'stock_percent_of_portfolio',\n",
    "       '2016_return_category', 'ps_ratio', '2011_return_fund',\n",
    "       '2010_return_fund', 'fund_return_3years', '2012_fund_return',\n",
    "       '2018_return_fund', '2017_return_fund',\n",
    "        'category_return_2015',\n",
    "       '1_month_fund_return', 'bond_percentage_of_porfolio',\n",
    "       'portfolio_preferred', '2010_return_category', '2013_category_return']\n",
    "imputer = KNNImputer()\n",
    "# impute data and convert \n",
    "other_specs_imputed = pd.DataFrame(np.round(imputer.fit_transform(other_specs[cols])),columns = cols)"
   ]
  },
  {
   "cell_type": "code",
   "execution_count": null,
   "metadata": {},
   "outputs": [],
   "source": [
    "other_specs_imputed"
   ]
  },
  {
   "cell_type": "code",
   "execution_count": null,
   "metadata": {},
   "outputs": [],
   "source": [
    "## drop columns from main table \n",
    "other_specs.drop(cols,axis=1,inplace=True)"
   ]
  },
  {
   "cell_type": "code",
   "execution_count": null,
   "metadata": {},
   "outputs": [],
   "source": [
    "other_specs"
   ]
  },
  {
   "cell_type": "code",
   "execution_count": null,
   "metadata": {},
   "outputs": [],
   "source": [
    "other_specs_imputed=pd.concat([other_specs,other_specs_imputed],axis=1)"
   ]
  },
  {
   "cell_type": "code",
   "execution_count": null,
   "metadata": {},
   "outputs": [],
   "source": [
    "other_specs_imputed.info()"
   ]
  },
  {
   "cell_type": "markdown",
   "metadata": {},
   "source": [
    "## Merging of the data"
   ]
  },
  {
   "cell_type": "code",
   "execution_count": null,
   "metadata": {},
   "outputs": [],
   "source": [
    "## Final List of tables after imputation ##\n",
    "#1)rt_3yr_imputed\n",
    "#2)rt_5yr_imputed\n",
    "#3)rt_10yr_imputed\n",
    "#4)fund_allo\n",
    "#5)fund_conf\n",
    "#6)bond_ratings_imputed\n",
    "#7)fund_ratios\n",
    "#8)fund_specs_imputed\n",
    "#9)other_specs_imputed"
   ]
  },
  {
   "cell_type": "code",
   "execution_count": null,
   "metadata": {},
   "outputs": [],
   "source": [
    "display(other_specs_imputed.columns)\n",
    "display(fund_specs_imputed.columns)"
   ]
  },
  {
   "cell_type": "code",
   "execution_count": null,
   "metadata": {},
   "outputs": [],
   "source": [
    "## Merging other_specs with funds_specs\n",
    "## Join fund_spaecs and Other_specs on Tag ##\n",
    "master_df = fund_specs_imputed.merge(other_specs_imputed,left_on='tag', right_on='tag', how='left',suffixes=['_x','_y'])\n",
    "pd.set_option('display.max_columns',1000)\n",
    "display(master_df)"
   ]
  },
  {
   "cell_type": "code",
   "execution_count": null,
   "metadata": {},
   "outputs": [],
   "source": [
    "## Drop the common column ##\n",
    "master_df.drop('greatstone_rating_y',axis=1,inplace=True)"
   ]
  },
  {
   "cell_type": "code",
   "execution_count": null,
   "metadata": {},
   "outputs": [],
   "source": [
    "master_df.info()"
   ]
  },
  {
   "cell_type": "code",
   "execution_count": null,
   "metadata": {},
   "outputs": [],
   "source": [
    "# Rename column\n",
    "master_df.rename(columns={'greatstone_rating_x':'greatstone_rating'},inplace=True)"
   ]
  },
  {
   "cell_type": "code",
   "execution_count": null,
   "metadata": {},
   "outputs": [],
   "source": [
    "fund_ratios.columns"
   ]
  },
  {
   "cell_type": "code",
   "execution_count": null,
   "metadata": {},
   "outputs": [],
   "source": [
    "## Join master_df and fund_ratios on tag ##\n",
    "master_df = master_df.merge(fund_ratios,left_on='tag', right_on='tag', how='left',suffixes=['_x','_y'])\n",
    "pd.set_option('display.max_columns',1000)\n",
    "display(master_df)\n",
    "display(master_df.shape)"
   ]
  },
  {
   "cell_type": "code",
   "execution_count": null,
   "metadata": {},
   "outputs": [],
   "source": [
    "## drop duplicate columns \n",
    "master_df.drop(['pc_ratio_y','pb_ratio_y','pe_ratio_y','ps_ratio_y','mmc_y'],axis=1,inplace=True)"
   ]
  },
  {
   "cell_type": "code",
   "execution_count": null,
   "metadata": {},
   "outputs": [],
   "source": [
    "master_df.info()"
   ]
  },
  {
   "cell_type": "code",
   "execution_count": null,
   "metadata": {},
   "outputs": [],
   "source": [
    "# rename the columns #\n",
    "master_df.rename(columns={'pc_ratio_x':'pc_ratio','pb_ratio_x':'pb_ratio','pe_ratio_x':'pe_ratio','ps_ratio_x':'ps_ratio'},\\\n",
    "                inplace=True)"
   ]
  },
  {
   "cell_type": "code",
   "execution_count": null,
   "metadata": {},
   "outputs": [],
   "source": [
    "fund_allo.columns"
   ]
  },
  {
   "cell_type": "code",
   "execution_count": null,
   "metadata": {},
   "outputs": [],
   "source": [
    "## Join master_df and fund_allot_df on tag ##\n",
    "master_df = master_df.merge(fund_allo,left_on='tag', right_on='id', how='left',suffixes=['_x','_y'])\n",
    "pd.set_option('display.max_columns',1000)\n",
    "display(master_df)\n",
    "display(master_df.shape)"
   ]
  },
  {
   "cell_type": "code",
   "execution_count": null,
   "metadata": {},
   "outputs": [],
   "source": [
    "## Drop ID column \n",
    "master_df.drop('id',axis=1,inplace=True)"
   ]
  },
  {
   "cell_type": "code",
   "execution_count": null,
   "metadata": {},
   "outputs": [],
   "source": [
    "master_df.info()"
   ]
  },
  {
   "cell_type": "code",
   "execution_count": null,
   "metadata": {},
   "outputs": [],
   "source": [
    "## rename mmc_x to mmc\n",
    "master_df.rename(columns={'mmc_x':'mmc'},inplace=True)"
   ]
  },
  {
   "cell_type": "code",
   "execution_count": null,
   "metadata": {},
   "outputs": [],
   "source": [
    "fund_conf.columns"
   ]
  },
  {
   "cell_type": "code",
   "execution_count": null,
   "metadata": {},
   "outputs": [],
   "source": [
    "## Join master_df and fund_config_df on tag ##\n",
    "master_df = master_df.merge(fund_conf,left_on='fund_id', right_on='fund_id', how='left',suffixes=['_x','_y'])\n",
    "pd.set_option('display.max_columns',1000)\n",
    "display(master_df)\n",
    "display(master_df.shape)"
   ]
  },
  {
   "cell_type": "code",
   "execution_count": null,
   "metadata": {},
   "outputs": [],
   "source": [
    "master_df.info()"
   ]
  },
  {
   "cell_type": "code",
   "execution_count": null,
   "metadata": {},
   "outputs": [],
   "source": [
    "bond_ratings_imputed.columns"
   ]
  },
  {
   "cell_type": "code",
   "execution_count": null,
   "metadata": {},
   "outputs": [],
   "source": [
    "## Join master_df and bond_rating_df on tag ##\n",
    "master_df = master_df.merge(bond_ratings_imputed,left_on='tag', right_on='tag', how='left',suffixes=['_x','_y'])\n",
    "pd.set_option('display.max_columns',1000)\n",
    "display(master_df)\n",
    "display(master_df.shape)"
   ]
  },
  {
   "cell_type": "code",
   "execution_count": null,
   "metadata": {},
   "outputs": [],
   "source": [
    "rt_3yr_imputed.columns"
   ]
  },
  {
   "cell_type": "code",
   "execution_count": null,
   "metadata": {},
   "outputs": [],
   "source": [
    "## Join master_df and return_3_df on tag ##\n",
    "master_df = master_df.merge(rt_3yr_imputed,left_on='tag', right_on='tag', how='left',suffixes=['_x','_y'])\n",
    "pd.set_option('display.max_columns',1000)\n",
    "display(master_df)\n",
    "display(master_df.shape)"
   ]
  },
  {
   "cell_type": "code",
   "execution_count": null,
   "metadata": {},
   "outputs": [],
   "source": [
    "master_df.info()"
   ]
  },
  {
   "cell_type": "code",
   "execution_count": null,
   "metadata": {},
   "outputs": [],
   "source": [
    "rt_5yr_imputed.columns"
   ]
  },
  {
   "cell_type": "code",
   "execution_count": null,
   "metadata": {},
   "outputs": [],
   "source": [
    "## Join master_df and return_5_df on tag ##\n",
    "master_df = master_df.merge(rt_5yr_imputed,left_on='tag', right_on='tag', how='left',suffixes=['_x','_y'])\n",
    "pd.set_option('display.max_columns',1000)\n",
    "display(master_df)\n",
    "display(master_df.shape)"
   ]
  },
  {
   "cell_type": "code",
   "execution_count": null,
   "metadata": {},
   "outputs": [],
   "source": [
    "master_df.info(verbose=True)"
   ]
  },
  {
   "cell_type": "code",
   "execution_count": null,
   "metadata": {},
   "outputs": [],
   "source": [
    "rt_10yr_imputed.columns"
   ]
  },
  {
   "cell_type": "code",
   "execution_count": null,
   "metadata": {},
   "outputs": [],
   "source": [
    "## Join master_df and return_10_df on tag ##\n",
    "master_df = master_df.merge(rt_10yr_imputed,left_on='fund_id', right_on='fund_id', how='left',suffixes=['_x','_y'])\n",
    "pd.set_option('display.max_columns',1000)\n",
    "display(master_df)\n",
    "display(master_df.shape)"
   ]
  },
  {
   "cell_type": "code",
   "execution_count": null,
   "metadata": {},
   "outputs": [],
   "source": [
    "list(master_df)"
   ]
  },
  {
   "cell_type": "markdown",
   "metadata": {},
   "source": [
    "## Check on the columns "
   ]
  },
  {
   "cell_type": "code",
   "execution_count": null,
   "metadata": {},
   "outputs": [],
   "source": [
    "master_df.isna().sum()"
   ]
  },
  {
   "cell_type": "code",
   "execution_count": null,
   "metadata": {},
   "outputs": [],
   "source": [
    "master_df[master_df['portfolio_financial_services'].isna()]"
   ]
  },
  {
   "cell_type": "code",
   "execution_count": null,
   "metadata": {},
   "outputs": [],
   "source": [
    "### Columns : 'portfolio_communication_allocation',\n",
    " #'portfolio_financial_services',\n",
    " #'portfolio_industrials_allocation',\n",
    " #'portfolio_tech_allocation',\n",
    " #'portfolio_materials_basic_allocation',\n",
    " #'portfolio_energy_allocation',\n",
    " #'portfolio_consumer_defence_allocation',\n",
    " #'portfolio_healthcare_allocation',\n",
    " #'portfolio_property_allocation',\n",
    " #'portfolio_utils_allocation',\n",
    " #'portfolio_cyclical_consumer_allocation'\n",
    " #'portfolio_communication_allocation'\n",
    "#posses nulls bcoz of their master file having tag null"
   ]
  },
  {
   "cell_type": "code",
   "execution_count": null,
   "metadata": {},
   "outputs": [],
   "source": [
    "master_df['portfolio_financial_services'].isna().sum()"
   ]
  },
  {
   "cell_type": "code",
   "execution_count": null,
   "metadata": {},
   "outputs": [],
   "source": [
    "## Replacing the na's in the above columns with 0 \n",
    "master_df['portfolio_financial_services'].replace(np.nan,0,inplace=True)\n",
    "master_df['portfolio_industrials_allocation'].replace(np.nan,0,inplace=True)\n",
    "master_df['portfolio_tech_allocation'].replace(np.nan,0,inplace=True)\n",
    "master_df['portfolio_materials_basic_allocation'].replace(np.nan,0,inplace=True)\n",
    "master_df['portfolio_energy_allocation'].replace(np.nan,0,inplace=True)\n",
    "master_df['portfolio_consumer_defence_allocation'].replace(np.nan,0,inplace=True)\n",
    "master_df['portfolio_healthcare_allocation'].replace(np.nan,0,inplace=True)\n",
    "master_df['portfolio_property_allocation'].replace(np.nan,0,inplace=True)\n",
    "master_df['portfolio_utils_allocation'].replace(np.nan,0,inplace=True)\n",
    "master_df['portfolio_cyclical_consumer_allocation'].replace(np.nan,0,inplace=True)\n",
    "master_df['portfolio_communication_allocation'].replace(np.nan,0,inplace=True)"
   ]
  },
  {
   "cell_type": "code",
   "execution_count": null,
   "metadata": {},
   "outputs": [],
   "source": [
    "master_df.to_csv('Master_hack.csv')"
   ]
  },
  {
   "cell_type": "code",
   "execution_count": null,
   "metadata": {},
   "outputs": [],
   "source": [
    "master_df.head()"
   ]
  },
  {
   "cell_type": "code",
   "execution_count": null,
   "metadata": {},
   "outputs": [],
   "source": [
    "## Rename the column with investmentclass and fundsize\n",
    "display(master_df['investment_class'].unique())\n",
    "#0:Blend\n",
    "#1:Growth\n",
    "#2:Value\n",
    "\n",
    "display(master_df['fund_size'].unique())\n",
    "#0:Large\n",
    "#1:Medium\n",
    "#2:Small\n",
    "\n",
    "display(master_df['category'].nunique())\n",
    "display(master_df['parent_company'].nunique())\n",
    "display(master_df['fund_name'].nunique())"
   ]
  },
  {
   "cell_type": "code",
   "execution_count": null,
   "metadata": {},
   "outputs": [],
   "source": [
    "master_df.info()"
   ]
  },
  {
   "cell_type": "code",
   "execution_count": null,
   "metadata": {},
   "outputs": [],
   "source": [
    "master_df['investment_class']=master_df['investment_class'].astype('object')\n",
    "master_df['fund_size']=master_df['fund_size'].astype('object')"
   ]
  },
  {
   "cell_type": "code",
   "execution_count": null,
   "metadata": {},
   "outputs": [],
   "source": [
    "cols=['investment_class','fund_size']"
   ]
  },
  {
   "cell_type": "code",
   "execution_count": null,
   "metadata": {},
   "outputs": [],
   "source": [
    "dummies=pd.get_dummies(master_df[cols],prefix_sep='_')"
   ]
  },
  {
   "cell_type": "code",
   "execution_count": null,
   "metadata": {},
   "outputs": [],
   "source": [
    "## append the dummies column to the master_df\n",
    "master_df=pd.concat([master_df,dummies],axis=1)"
   ]
  },
  {
   "cell_type": "code",
   "execution_count": null,
   "metadata": {},
   "outputs": [],
   "source": [
    "master_df.info(verbose=True)"
   ]
  },
  {
   "cell_type": "code",
   "execution_count": null,
   "metadata": {},
   "outputs": [],
   "source": [
    "##droping 'investment_class','fund_size'\n",
    "master_df.drop(['investment_class','fund_size'],axis=1,inplace=True)"
   ]
  },
  {
   "cell_type": "code",
   "execution_count": null,
   "metadata": {},
   "outputs": [],
   "source": [
    "## Import submission data and separating out the submission data from master_Df\n",
    "sample_sub.head()"
   ]
  },
  {
   "cell_type": "code",
   "execution_count": null,
   "metadata": {},
   "outputs": [],
   "source": [
    "master_df_train_test=master_df[master_df['greatstone_rating'].notna()]"
   ]
  },
  {
   "cell_type": "code",
   "execution_count": null,
   "metadata": {},
   "outputs": [],
   "source": [
    "master_df_train_test.shape"
   ]
  },
  {
   "cell_type": "code",
   "execution_count": null,
   "metadata": {},
   "outputs": [],
   "source": [
    "master_df_train_test['greatstone_rating'].isna().sum()"
   ]
  },
  {
   "cell_type": "code",
   "execution_count": null,
   "metadata": {},
   "outputs": [],
   "source": [
    "master_df_sub=master_df[master_df['greatstone_rating'].isna()]"
   ]
  },
  {
   "cell_type": "code",
   "execution_count": null,
   "metadata": {},
   "outputs": [],
   "source": [
    "master_df_sub.shape"
   ]
  },
  {
   "cell_type": "code",
   "execution_count": null,
   "metadata": {},
   "outputs": [],
   "source": [
    "## Validating the submission file with master_df_sub\n",
    "sample_sub=sample_sub.merge(master_df_sub,left_on='fund_id',right_on='fund_id',how='left')"
   ]
  },
  {
   "cell_type": "code",
   "execution_count": null,
   "metadata": {},
   "outputs": [],
   "source": [
    "sample_sub.shape"
   ]
  },
  {
   "cell_type": "code",
   "execution_count": null,
   "metadata": {},
   "outputs": [],
   "source": [
    "sample_sub.head()"
   ]
  },
  {
   "cell_type": "code",
   "execution_count": null,
   "metadata": {},
   "outputs": [],
   "source": [
    "## Dropping duplicate column#\n",
    "sample_sub.drop('greatstone_rating_y',axis=1,inplace=True)"
   ]
  },
  {
   "cell_type": "code",
   "execution_count": null,
   "metadata": {},
   "outputs": [],
   "source": [
    "sample_sub.to_csv('sample_sub.csv')\n",
    "master_df_train_test.to_csv('master_df_train_test.csv')"
   ]
  },
  {
   "cell_type": "code",
   "execution_count": null,
   "metadata": {},
   "outputs": [],
   "source": [
    "os.getcwd()"
   ]
  },
  {
   "cell_type": "code",
   "execution_count": null,
   "metadata": {},
   "outputs": [],
   "source": [
    "os.listdir()"
   ]
  },
  {
   "cell_type": "markdown",
   "metadata": {},
   "source": [
    "## Data Exploration "
   ]
  },
  {
   "cell_type": "code",
   "execution_count": null,
   "metadata": {},
   "outputs": [],
   "source": [
    "master_df_train_test=pd.read_csv('master_df_train_test.csv')"
   ]
  },
  {
   "cell_type": "code",
   "execution_count": null,
   "metadata": {},
   "outputs": [],
   "source": [
    "master_df_train_test.drop('Unnamed: 0',axis=1,inplace=True)"
   ]
  },
  {
   "cell_type": "code",
   "execution_count": null,
   "metadata": {},
   "outputs": [],
   "source": [
    "master_df_train_test.info(verbose=True)"
   ]
  },
  {
   "cell_type": "code",
   "execution_count": null,
   "metadata": {},
   "outputs": [],
   "source": [
    "master_df_train_test['greatstone_rating']=master_df_train_test['greatstone_rating'].astype('int')"
   ]
  },
  {
   "cell_type": "code",
   "execution_count": null,
   "metadata": {},
   "outputs": [],
   "source": [
    "list(master_df_train_test.columns)"
   ]
  },
  {
   "cell_type": "markdown",
   "metadata": {},
   "source": [
    "## Build a benchmark model :with default hyperparameters Random forest "
   ]
  },
  {
   "cell_type": "code",
   "execution_count": null,
   "metadata": {},
   "outputs": [],
   "source": [
    "master_df_train_test.head(10)"
   ]
  },
  {
   "cell_type": "code",
   "execution_count": null,
   "metadata": {},
   "outputs": [],
   "source": [
    "cols=['yield',\n",
    " 'return_ytd',\n",
    " 'years_up',\n",
    " 'years_down',\n",
    " '2014_category_return',\n",
    " '2012_return_category',\n",
    " '2018_return_category',\n",
    " 'category_return_1year',\n",
    " 'cash_percent_of_portfolio',\n",
    " 'pc_ratio',\n",
    " '2011_return_category',\n",
    " 'ytd_return_fund',\n",
    " '2014_return_fund',\n",
    " 'category_return_1month',\n",
    " '2013_return_fund',\n",
    " 'fund_return_3months',\n",
    " 'ytd_return_category',\n",
    " 'pb_ratio',\n",
    " '2017_category_return',\n",
    " '1_year_return_fund',\n",
    " 'pe_ratio',\n",
    " '2015_return_fund',\n",
    " 'portfolio_convertable',\n",
    " '3_months_return_category',\n",
    " 'portfolio_others',\n",
    " '2016_return_fund',\n",
    " 'mmc',\n",
    " 'stock_percent_of_portfolio',\n",
    " '2016_return_category',\n",
    " 'ps_ratio',\n",
    " '2011_return_fund',\n",
    " '2010_return_fund',\n",
    " 'fund_return_3years_x',\n",
    " '2012_fund_return',\n",
    " '2018_return_fund',\n",
    " '2017_return_fund',\n",
    " 'category_return_2015',\n",
    " '1_month_fund_return',\n",
    " 'bond_percentage_of_porfolio',\n",
    " 'portfolio_preferred',\n",
    " '2010_return_category',\n",
    " '2013_category_return',\n",
    " 'fund_ratio_net_annual_expense',\n",
    " 'portfolio_communication_allocation',\n",
    " 'portfolio_financial_services',\n",
    " 'portfolio_industrials_allocation',\n",
    " 'portfolio_tech_allocation',\n",
    " 'portfolio_materials_basic_allocation',\n",
    " 'portfolio_energy_allocation',\n",
    " 'portfolio_consumer_defence_allocation',\n",
    " 'portfolio_healthcare_allocation',\n",
    " 'portfolio_property_allocation',\n",
    " 'portfolio_utils_allocation',\n",
    " 'portfolio_cyclical_consumer_allocation',\n",
    " 'bb_rating',\n",
    " 'us_govt_bond_rating',\n",
    " 'below_b_rating',\n",
    " 'others_rating',\n",
    " 'maturity_bond',\n",
    " 'b_rating',\n",
    " 'a_rating',\n",
    " 'aaa_rating',\n",
    " 'aa_rating',\n",
    " 'bbb_rating',\n",
    " 'duration_bond',\n",
    " '3yrs_treynor_ratio_fund',\n",
    " '3_years_alpha_fund',\n",
    " '3years_category_std',\n",
    " '3yrs_sharpe_ratio_fund',\n",
    " '3yrs_treynor_ratio_category',\n",
    " '3_years_return_mean_annual_fund',\n",
    " 'fund_beta_3years',\n",
    " '3years_fund_r_squared',\n",
    " '3years_fund_std',\n",
    " 'category_beta_3years',\n",
    " 'fund_return_3years_y',\n",
    " '3_years_alpha_category',\n",
    " '3_years_return_mean_annual_category',\n",
    " '3yrs_sharpe_ratio_category',\n",
    " '3years_category_r_squared',\n",
    " '3_years_return_category',\n",
    " 'category_r_squared_5years',\n",
    " '5yrs_sharpe_ratio_fund',\n",
    " '5_years_alpha_fund',\n",
    " '5years_fund_r_squared',\n",
    " '5years_fund_std',\n",
    " '5yrs_sharpe_ratio_category',\n",
    " '5_years_beta_fund',\n",
    " '5yrs_treynor_ratio_fund',\n",
    " '5_years_return_mean_annual_fund',\n",
    " '5_years_return_mean_annual_category',\n",
    " '5yrs_treynor_ratio_category',\n",
    " '5_years_return_fund',\n",
    " '5_years_alpha_category',\n",
    " '5_years_beta_category',\n",
    " '5years_category_std',\n",
    " '5_years_return_category',\n",
    " '10years_category_r_squared',\n",
    " '10yrs_sharpe_ratio_fund',\n",
    " '10_years_alpha_fund',\n",
    " '10years_fund_r_squared',\n",
    " '10years_fund_std',\n",
    " '10yrs_sharpe_ratio_category',\n",
    " '10_years_beta_fund',\n",
    " '10yrs_treynor_ratio_fund',\n",
    " '10_years_return_mean_annual_category',\n",
    " '10yrs_treynor_ratio_category',\n",
    " '10_years_return_fund',\n",
    " '10_years_alpha_category',\n",
    " '10_years_beta_category',\n",
    " '10years_category_std',\n",
    " '10_years_return_mean_annual_fund',\n",
    " '10_years_return_category',\n",
    " 'investment_class_0.0',\n",
    " 'investment_class_1.0',\n",
    " 'investment_class_2.0',\n",
    " 'fund_size_0.0',\n",
    " 'fund_size_1.0',\n",
    " 'fund_size_2.0',\n",
    " 'total_assets',\n",
    " 'category_ratio_net_annual_expense']"
   ]
  },
  {
   "cell_type": "code",
   "execution_count": null,
   "metadata": {},
   "outputs": [],
   "source": [
    "master_df_train_test.info(verbose=True)"
   ]
  },
  {
   "cell_type": "code",
   "execution_count": null,
   "metadata": {},
   "outputs": [],
   "source": [
    "master_df_train_test['greatstone_rating'].unique()"
   ]
  },
  {
   "cell_type": "code",
   "execution_count": null,
   "metadata": {},
   "outputs": [],
   "source": [
    "X=master_df_train_test[cols]\n",
    "y=master_df_train_test['greatstone_rating']"
   ]
  },
  {
   "cell_type": "code",
   "execution_count": null,
   "metadata": {},
   "outputs": [],
   "source": [
    "display(X.shape)\n",
    "display(y.shape)"
   ]
  },
  {
   "cell_type": "code",
   "execution_count": null,
   "metadata": {},
   "outputs": [],
   "source": [
    "pd.set_option('display.max_columns',150)\n",
    "X.head(2)"
   ]
  },
  {
   "cell_type": "code",
   "execution_count": null,
   "metadata": {},
   "outputs": [],
   "source": [
    "## Scale the whole data ##\n",
    "scaler = StandardScaler()\n",
    "X= scaler.fit_transform(X)"
   ]
  },
  {
   "cell_type": "code",
   "execution_count": null,
   "metadata": {},
   "outputs": [],
   "source": [
    "## split into train and test \n",
    "X_train,X_test,y_train,y_test=train_test_split(X,y,test_size=0.2,random_state=123)\n",
    "# Feature Scaling\n",
    "scaler = StandardScaler()\n",
    "X_train = scaler.fit_transform(X_train)\n",
    "X_test = scaler.transform(X_test)"
   ]
  },
  {
   "cell_type": "code",
   "execution_count": null,
   "metadata": {},
   "outputs": [],
   "source": [
    "rf=RandomForestClassifier(n_estimators=100)"
   ]
  },
  {
   "cell_type": "code",
   "execution_count": null,
   "metadata": {},
   "outputs": [],
   "source": [
    "display(X_train.shape)\n",
    "display(X_test.shape)\n",
    "display(y_train.shape)\n",
    "display(y_test.shape)"
   ]
  },
  {
   "cell_type": "code",
   "execution_count": null,
   "metadata": {},
   "outputs": [],
   "source": [
    "rf.fit(X_train,y_train)"
   ]
  },
  {
   "cell_type": "code",
   "execution_count": null,
   "metadata": {},
   "outputs": [],
   "source": [
    "rf.fit(X,y)"
   ]
  },
  {
   "cell_type": "code",
   "execution_count": null,
   "metadata": {},
   "outputs": [],
   "source": [
    "feat_imp=rf.feature_importances_\n",
    "fi=pd.DataFrame({'Feature':cols,'imp':feat_imp})"
   ]
  },
  {
   "cell_type": "code",
   "execution_count": null,
   "metadata": {},
   "outputs": [],
   "source": [
    "fi"
   ]
  },
  {
   "cell_type": "code",
   "execution_count": null,
   "metadata": {},
   "outputs": [],
   "source": [
    "fi.sort_values(by=['imp'],ascending=False)"
   ]
  },
  {
   "cell_type": "code",
   "execution_count": null,
   "metadata": {},
   "outputs": [],
   "source": [
    "## predict on Y_test\n",
    "pred=rf.predict(X_test)"
   ]
  },
  {
   "cell_type": "code",
   "execution_count": null,
   "metadata": {},
   "outputs": [],
   "source": [
    "## Predict on sample_sub\n",
    "pred_rf=rf.predict(sample_sub[cols])"
   ]
  },
  {
   "cell_type": "code",
   "execution_count": null,
   "metadata": {},
   "outputs": [],
   "source": [
    "pred"
   ]
  },
  {
   "cell_type": "code",
   "execution_count": null,
   "metadata": {},
   "outputs": [],
   "source": [
    "pred_rf"
   ]
  },
  {
   "cell_type": "code",
   "execution_count": null,
   "metadata": {},
   "outputs": [],
   "source": [
    "print(rf.score(X_test,y_test))"
   ]
  },
  {
   "cell_type": "code",
   "execution_count": null,
   "metadata": {},
   "outputs": [],
   "source": [
    "from sklearn.metrics import confusion_matrix\n",
    "from sklearn.metrics import classification_report"
   ]
  },
  {
   "cell_type": "code",
   "execution_count": null,
   "metadata": {},
   "outputs": [],
   "source": [
    "print(confusion_matrix(y_test,pred))\n",
    "print(classification_report(y_test,pred))"
   ]
  },
  {
   "cell_type": "markdown",
   "metadata": {},
   "source": [
    "## predict on submission data "
   ]
  },
  {
   "cell_type": "code",
   "execution_count": null,
   "metadata": {},
   "outputs": [],
   "source": [
    "sample_sub=pd.read_csv('sample_sub.csv')"
   ]
  },
  {
   "cell_type": "code",
   "execution_count": null,
   "metadata": {
    "scrolled": true
   },
   "outputs": [],
   "source": [
    "sample_sub.columns"
   ]
  },
  {
   "cell_type": "code",
   "execution_count": null,
   "metadata": {},
   "outputs": [],
   "source": [
    "sample_sub.drop(['Unnamed: 0'],axis=1,inplace=True)"
   ]
  },
  {
   "cell_type": "code",
   "execution_count": null,
   "metadata": {},
   "outputs": [],
   "source": [
    "pred_rf=rf.predict(sample_sub[cols])"
   ]
  },
  {
   "cell_type": "code",
   "execution_count": null,
   "metadata": {},
   "outputs": [],
   "source": [
    "pred_rf"
   ]
  },
  {
   "cell_type": "code",
   "execution_count": null,
   "metadata": {},
   "outputs": [],
   "source": [
    "##Random forest\n",
    "#sample_sub['greatstone_rating']=pred_rf\n",
    "##Extra tree classifier\n",
    "#sample_sub['greatstone_rating']=pred_etc\n",
    "## gbc\n",
    "#sample_sub['greatstone_rating']=pred_gbc\n",
    "## gbc with tuning \n",
    "#sample_sub['greatstone_rating']=pred_gbc_t\n",
    "## random forest w/o tuning \n",
    "sample_sub['greatstone_rating']=pred_rf"
   ]
  },
  {
   "cell_type": "code",
   "execution_count": null,
   "metadata": {},
   "outputs": [],
   "source": [
    "sample_sub.head()"
   ]
  },
  {
   "cell_type": "code",
   "execution_count": null,
   "metadata": {},
   "outputs": [],
   "source": [
    "##iter 1\n",
    "#sample_sub[['fund_id','greatstone_rating']].to_csv('sample_submission_v1.csv',index=False)\n",
    "##iter 2\n",
    "#sample_sub[['fund_id','greatstone_rating']].to_csv('sample_submission_v2.csv',index=False)\n",
    "##iter 3\n",
    "#sample_sub[['fund_id','greatstone_rating']].to_csv('sample_submission_v3.csv',index=False)\n",
    "##iter 4\n",
    "#sample_sub[['fund_id','greatstone_rating']].to_csv('sample_submission_v4.csv',index=False)\n",
    "##iter 5\n",
    "#sample_sub[['fund_id','greatstone_rating']].to_csv('sample_submission_v5.csv',index=False)\n",
    "##iter 8\n",
    "#sample_sub[['fund_id','greatstone_rating']].to_csv('sample_submission_v8.csv',index=False)\n",
    "##iter 9\n",
    "#sample_sub[['fund_id','greatstone_rating']].to_csv('sample_submission_v9.csv',index=False)\n",
    "##iter 10\n",
    "#sample_sub[['fund_id','greatstone_rating']].to_csv('sample_submission_v10.csv',index=False)\n",
    "##iter 10\n",
    "sample_sub[['fund_id','greatstone_rating']].to_csv('sample_submission_v11.csv',index=False)"
   ]
  },
  {
   "cell_type": "markdown",
   "metadata": {},
   "source": [
    "## Random Forest with tuning "
   ]
  },
  {
   "cell_type": "code",
   "execution_count": null,
   "metadata": {},
   "outputs": [],
   "source": [
    "params={'n_estimators':[100,200,300,400],\n",
    "        'max_depth':[4,6,8,10],\n",
    "        'min_samples_split':[0.1,0.2,0.3,0.4,0.5],\n",
    "        'min_samples_leaf':[0.1,0.2,0.3,0.4,0.5],\n",
    "        'max_features':['auto','sqrt','log2']}\n",
    "#score=make_scorer(score_func=average_precision_score)\n",
    "\n",
    "rf=RandomForestClassifier(oob_score=True,n_jobs=-1,random_state=123)\n",
    "rf_t=GridSearchCV(rf,param_grid=params,cv=5,n_jobs=-1,verbose=1)"
   ]
  },
  {
   "cell_type": "code",
   "execution_count": null,
   "metadata": {},
   "outputs": [],
   "source": [
    "rf_t.fit(X,y)"
   ]
  },
  {
   "cell_type": "code",
   "execution_count": null,
   "metadata": {},
   "outputs": [],
   "source": [
    "rf_t.best_params_"
   ]
  },
  {
   "cell_type": "code",
   "execution_count": null,
   "metadata": {},
   "outputs": [],
   "source": [
    "rf_t_best=RandomForestClassifier(n_estimators=400,max_depth=4,min_samples_split=0.1,\n",
    "                                 min_samples_leaf=0.1,max_features='auto',\n",
    "                                 oob_score=True,n_jobs=-1,random_state=123)\n",
    "rf_t_best.fit(X,y)"
   ]
  },
  {
   "cell_type": "code",
   "execution_count": null,
   "metadata": {},
   "outputs": [],
   "source": [
    "feat_imp=rf_t_best.feature_importances_\n",
    "fi=pd.DataFrame({'Feature':cols,'imp':feat_imp})\n",
    "display(fi.sort_values(by='imp',ascending=False).head(150))"
   ]
  },
  {
   "cell_type": "code",
   "execution_count": null,
   "metadata": {},
   "outputs": [],
   "source": [
    "sample_sub=pd.read_csv('sample_sub.csv')"
   ]
  },
  {
   "cell_type": "code",
   "execution_count": null,
   "metadata": {},
   "outputs": [],
   "source": [
    "rf_t_pred=rf_t_best.predict(sample_sub[cols])"
   ]
  },
  {
   "cell_type": "code",
   "execution_count": null,
   "metadata": {},
   "outputs": [],
   "source": [
    "rf_t_pred"
   ]
  },
  {
   "cell_type": "code",
   "execution_count": null,
   "metadata": {},
   "outputs": [],
   "source": [
    "sample_sub.drop(['greatstone_rating_x','Unnamed: 0'],axis=1,inplace=True)\n",
    "sample_sub['greatstone_rating']=rf_t_pred"
   ]
  },
  {
   "cell_type": "code",
   "execution_count": null,
   "metadata": {},
   "outputs": [],
   "source": [
    "sample_sub.head()"
   ]
  },
  {
   "cell_type": "code",
   "execution_count": null,
   "metadata": {},
   "outputs": [],
   "source": [
    "##iter 7\n",
    "sample_sub[['fund_id','greatstone_rating']].to_csv('sample_submission_v7.csv',index=False)"
   ]
  },
  {
   "cell_type": "markdown",
   "metadata": {},
   "source": [
    "## ExtraTreeClassifier "
   ]
  },
  {
   "cell_type": "code",
   "execution_count": null,
   "metadata": {},
   "outputs": [],
   "source": [
    "etc=ExtraTreesClassifier(n_estimators=100,random_state=123)"
   ]
  },
  {
   "cell_type": "code",
   "execution_count": null,
   "metadata": {},
   "outputs": [],
   "source": [
    "etc.fit(X,y)"
   ]
  },
  {
   "cell_type": "code",
   "execution_count": null,
   "metadata": {},
   "outputs": [],
   "source": [
    "pred_etc=etc.predict(sample_sub[cols])"
   ]
  },
  {
   "cell_type": "code",
   "execution_count": null,
   "metadata": {},
   "outputs": [],
   "source": [
    "pred_etc"
   ]
  },
  {
   "cell_type": "markdown",
   "metadata": {},
   "source": [
    "## Gradient Boosting Classifier"
   ]
  },
  {
   "cell_type": "markdown",
   "metadata": {},
   "source": [
    "### Hyperparameter tuning "
   ]
  },
  {
   "cell_type": "code",
   "execution_count": null,
   "metadata": {},
   "outputs": [],
   "source": [
    "params={'n_estimators':[100,200,500,1000],\n",
    "        'learning_rate':[0.05,0.1,0.2,0.3,0.4,0.5],\n",
    "        'min_samples_split':[0.2,0.4,0.6,0.8],\n",
    "        'min_samples_leaf':[0.2,0.4,0.6,0.8],\n",
    "        'max_depth':[5,10,15,20],\n",
    "        'max_features':['auto','log2','sqrt']}\n",
    "gbc=GradientBoostingClassifier(n_iter_no_change=10,validation_fraction=0.2,random_state=123)"
   ]
  },
  {
   "cell_type": "code",
   "execution_count": null,
   "metadata": {},
   "outputs": [],
   "source": [
    "rs=RandomizedSearchCV(gbc,param_distributions=params,n_iter=100,cv=5,n_jobs=-1,verbose=1,random_state=123)\n",
    "rs.fit(X,y)"
   ]
  },
  {
   "cell_type": "code",
   "execution_count": null,
   "metadata": {},
   "outputs": [],
   "source": [
    "rs.best_params_"
   ]
  },
  {
   "cell_type": "code",
   "execution_count": null,
   "metadata": {},
   "outputs": [],
   "source": [
    "## fit with best params ##\n",
    "rs_gbc=GradientBoostingClassifier(n_estimators=500,min_samples_split=0.4,\\\n",
    "                                  min_samples_leaf=0.2,max_features='auto',\\\n",
    "                                  max_depth=20,learning_rate=0.5,\\\n",
    "                                  random_state=123)\n",
    "rs_gbc.fit(X,y)"
   ]
  },
  {
   "cell_type": "code",
   "execution_count": null,
   "metadata": {},
   "outputs": [],
   "source": [
    "#### Fitted without hyperparamater tuning ####\n",
    "gbc.fit(X,y)"
   ]
  },
  {
   "cell_type": "code",
   "execution_count": null,
   "metadata": {},
   "outputs": [],
   "source": [
    "#pred_gbc=gbc.predict(sample_sub[cols])\n",
    "## tunning\n",
    "pred_gbc_t=rs_gbc.predict(sample_sub[cols])"
   ]
  },
  {
   "cell_type": "code",
   "execution_count": null,
   "metadata": {},
   "outputs": [],
   "source": [
    "pred_gbc_t"
   ]
  },
  {
   "cell_type": "markdown",
   "metadata": {},
   "source": [
    "## OnevsrestClassifier"
   ]
  },
  {
   "cell_type": "code",
   "execution_count": 1968,
   "metadata": {},
   "outputs": [
    {
     "data": {
      "text/plain": [
       "OneVsRestClassifier(estimator=LGBMClassifier(boosting_type='dart',\n",
       "                                             class_weight=None,\n",
       "                                             colsample_bytree=1.0,\n",
       "                                             importance_type='split',\n",
       "                                             learning_rate=0.05, max_depth=-1,\n",
       "                                             min_child_samples=30,\n",
       "                                             min_child_weight=0.001,\n",
       "                                             min_split_gain=0.0,\n",
       "                                             n_estimators=2500, n_jobs=-1,\n",
       "                                             num_leaves=31, objective=None,\n",
       "                                             random_state=1111, reg_alpha=0.0,\n",
       "                                             reg_lambda=0.2, silent=True,\n",
       "                                             subsample=1.0,\n",
       "                                             subsample_for_bin=200000,\n",
       "                                             subsample_freq=0),\n",
       "                    n_jobs=-1)"
      ]
     },
     "execution_count": 1968,
     "metadata": {},
     "output_type": "execute_result"
    }
   ],
   "source": [
    "#rf=RandomForestClassifier(n_estimators=100)\n",
    "lgbm_t=LGBMClassifier(boosting_type='dart',learning_rate=0.05,n_estimators=2500\n",
    "                      ,reg_lambda=0.2,min_child_samples=30,\n",
    "                      max_depth=-1,random_state=1111)\n",
    "ovr=OneVsRestClassifier(estimator=lgbm_t,n_jobs=-1)\n",
    "ovr.fit(X,y)"
   ]
  },
  {
   "cell_type": "code",
   "execution_count": 1969,
   "metadata": {},
   "outputs": [],
   "source": [
    "sample_sub=pd.read_csv('sample_sub.csv')\n",
    "ovr_pred=ovr.predict(sample_sub[cols])"
   ]
  },
  {
   "cell_type": "code",
   "execution_count": 1970,
   "metadata": {},
   "outputs": [
    {
     "data": {
      "text/plain": [
       "array([4, 2, 4, ..., 4, 4, 4])"
      ]
     },
     "execution_count": 1970,
     "metadata": {},
     "output_type": "execute_result"
    }
   ],
   "source": [
    "ovr_pred"
   ]
  },
  {
   "cell_type": "code",
   "execution_count": 1971,
   "metadata": {},
   "outputs": [],
   "source": [
    "sample_sub.drop(['Unnamed: 0'],axis=1,inplace=True)\n",
    "sample_sub['greatstone_rating']=ovr_pred"
   ]
  },
  {
   "cell_type": "code",
   "execution_count": 1972,
   "metadata": {},
   "outputs": [
    {
     "data": {
      "text/html": [
       "<div>\n",
       "<style scoped>\n",
       "    .dataframe tbody tr th:only-of-type {\n",
       "        vertical-align: middle;\n",
       "    }\n",
       "\n",
       "    .dataframe tbody tr th {\n",
       "        vertical-align: top;\n",
       "    }\n",
       "\n",
       "    .dataframe thead th {\n",
       "        text-align: right;\n",
       "    }\n",
       "</style>\n",
       "<table border=\"1\" class=\"dataframe\">\n",
       "  <thead>\n",
       "    <tr style=\"text-align: right;\">\n",
       "      <th></th>\n",
       "      <th>fund_id</th>\n",
       "      <th>currency</th>\n",
       "      <th>inception_date</th>\n",
       "      <th>tag</th>\n",
       "      <th>total_assets</th>\n",
       "      <th>yield</th>\n",
       "      <th>return_ytd</th>\n",
       "      <th>years_up</th>\n",
       "      <th>years_down</th>\n",
       "      <th>category_ratio_net_annual_expense</th>\n",
       "      <th>2014_category_return</th>\n",
       "      <th>2012_return_category</th>\n",
       "      <th>2018_return_category</th>\n",
       "      <th>category_return_1year</th>\n",
       "      <th>cash_percent_of_portfolio</th>\n",
       "      <th>pc_ratio</th>\n",
       "      <th>2011_return_category</th>\n",
       "      <th>ytd_return_fund</th>\n",
       "      <th>2014_return_fund</th>\n",
       "      <th>category_return_1month</th>\n",
       "      <th>2013_return_fund</th>\n",
       "      <th>fund_return_3months</th>\n",
       "      <th>ytd_return_category</th>\n",
       "      <th>pb_ratio</th>\n",
       "      <th>2017_category_return</th>\n",
       "      <th>1_year_return_fund</th>\n",
       "      <th>pe_ratio</th>\n",
       "      <th>2015_return_fund</th>\n",
       "      <th>portfolio_convertable</th>\n",
       "      <th>3_months_return_category</th>\n",
       "      <th>portfolio_others</th>\n",
       "      <th>2016_return_fund</th>\n",
       "      <th>mmc</th>\n",
       "      <th>stock_percent_of_portfolio</th>\n",
       "      <th>2016_return_category</th>\n",
       "      <th>ps_ratio</th>\n",
       "      <th>2011_return_fund</th>\n",
       "      <th>2010_return_fund</th>\n",
       "      <th>fund_return_3years_x</th>\n",
       "      <th>2012_fund_return</th>\n",
       "      <th>2018_return_fund</th>\n",
       "      <th>2017_return_fund</th>\n",
       "      <th>category_return_2015</th>\n",
       "      <th>1_month_fund_return</th>\n",
       "      <th>bond_percentage_of_porfolio</th>\n",
       "      <th>portfolio_preferred</th>\n",
       "      <th>2010_return_category</th>\n",
       "      <th>2013_category_return</th>\n",
       "      <th>fund_ratio_net_annual_expense</th>\n",
       "      <th>portfolio_communication_allocation</th>\n",
       "      <th>...</th>\n",
       "      <th>3years_fund_r_squared</th>\n",
       "      <th>3years_fund_std</th>\n",
       "      <th>category_beta_3years</th>\n",
       "      <th>fund_return_3years_y</th>\n",
       "      <th>3_years_alpha_category</th>\n",
       "      <th>3_years_return_mean_annual_category</th>\n",
       "      <th>3yrs_sharpe_ratio_category</th>\n",
       "      <th>3years_category_r_squared</th>\n",
       "      <th>3_years_return_category</th>\n",
       "      <th>category_r_squared_5years</th>\n",
       "      <th>5yrs_sharpe_ratio_fund</th>\n",
       "      <th>5_years_alpha_fund</th>\n",
       "      <th>5years_fund_r_squared</th>\n",
       "      <th>5years_fund_std</th>\n",
       "      <th>5yrs_sharpe_ratio_category</th>\n",
       "      <th>5_years_beta_fund</th>\n",
       "      <th>5yrs_treynor_ratio_fund</th>\n",
       "      <th>5_years_return_mean_annual_fund</th>\n",
       "      <th>5_years_return_mean_annual_category</th>\n",
       "      <th>5yrs_treynor_ratio_category</th>\n",
       "      <th>5_years_return_fund</th>\n",
       "      <th>5_years_alpha_category</th>\n",
       "      <th>5_years_beta_category</th>\n",
       "      <th>5years_category_std</th>\n",
       "      <th>5_years_return_category</th>\n",
       "      <th>10years_category_r_squared</th>\n",
       "      <th>10yrs_sharpe_ratio_fund</th>\n",
       "      <th>10_years_alpha_fund</th>\n",
       "      <th>10years_fund_r_squared</th>\n",
       "      <th>10years_fund_std</th>\n",
       "      <th>10yrs_sharpe_ratio_category</th>\n",
       "      <th>10_years_beta_fund</th>\n",
       "      <th>10yrs_treynor_ratio_fund</th>\n",
       "      <th>10_years_return_mean_annual_category</th>\n",
       "      <th>10yrs_treynor_ratio_category</th>\n",
       "      <th>10_years_return_fund</th>\n",
       "      <th>10_years_alpha_category</th>\n",
       "      <th>10_years_beta_category</th>\n",
       "      <th>10years_category_std</th>\n",
       "      <th>10_years_return_mean_annual_fund</th>\n",
       "      <th>10_years_return_category</th>\n",
       "      <th>investment_class_0.0</th>\n",
       "      <th>investment_class_1.0</th>\n",
       "      <th>investment_class_2.0</th>\n",
       "      <th>fund_size_0.0</th>\n",
       "      <th>fund_size_1.0</th>\n",
       "      <th>fund_size_2.0</th>\n",
       "      <th>total_assets_t</th>\n",
       "      <th>category_ratio_net_annual_expense_t</th>\n",
       "      <th>greatstone_rating</th>\n",
       "    </tr>\n",
       "  </thead>\n",
       "  <tbody>\n",
       "    <tr>\n",
       "      <th>0</th>\n",
       "      <td>85a6edf9-db47-490c-981a-168ce90434bb</td>\n",
       "      <td>USD</td>\n",
       "      <td>1997-02-06</td>\n",
       "      <td>87272</td>\n",
       "      <td>3.362000e+08</td>\n",
       "      <td>3.0</td>\n",
       "      <td>3.0</td>\n",
       "      <td>18.0</td>\n",
       "      <td>3.0</td>\n",
       "      <td>0.94</td>\n",
       "      <td>10.0</td>\n",
       "      <td>8.0</td>\n",
       "      <td>1.0</td>\n",
       "      <td>4.0</td>\n",
       "      <td>0.0</td>\n",
       "      <td>0.0</td>\n",
       "      <td>10.0</td>\n",
       "      <td>3.0</td>\n",
       "      <td>10.0</td>\n",
       "      <td>1.0</td>\n",
       "      <td>-4.0</td>\n",
       "      <td>3.0</td>\n",
       "      <td>2.0</td>\n",
       "      <td>0.0</td>\n",
       "      <td>3.0</td>\n",
       "      <td>5.0</td>\n",
       "      <td>0.0</td>\n",
       "      <td>3.0</td>\n",
       "      <td>0.0</td>\n",
       "      <td>2.0</td>\n",
       "      <td>0.0</td>\n",
       "      <td>0.0</td>\n",
       "      <td>0.0</td>\n",
       "      <td>0.0</td>\n",
       "      <td>1.0</td>\n",
       "      <td>0.0</td>\n",
       "      <td>10.0</td>\n",
       "      <td>3.0</td>\n",
       "      <td>2.0</td>\n",
       "      <td>7.0</td>\n",
       "      <td>1.0</td>\n",
       "      <td>4.0</td>\n",
       "      <td>2.0</td>\n",
       "      <td>1.0</td>\n",
       "      <td>100.0</td>\n",
       "      <td>0.0</td>\n",
       "      <td>1.0</td>\n",
       "      <td>-6.0</td>\n",
       "      <td>0.66</td>\n",
       "      <td>0.00</td>\n",
       "      <td>...</td>\n",
       "      <td>97.77</td>\n",
       "      <td>2.93</td>\n",
       "      <td>0.01</td>\n",
       "      <td>2.28</td>\n",
       "      <td>-0.01</td>\n",
       "      <td>0.00</td>\n",
       "      <td>0.00</td>\n",
       "      <td>0.95</td>\n",
       "      <td>1.90</td>\n",
       "      <td>0.92</td>\n",
       "      <td>1.02</td>\n",
       "      <td>0.19</td>\n",
       "      <td>96.73</td>\n",
       "      <td>2.66</td>\n",
       "      <td>0.01</td>\n",
       "      <td>0.87</td>\n",
       "      <td>3.16</td>\n",
       "      <td>0.29</td>\n",
       "      <td>0.00</td>\n",
       "      <td>0.03</td>\n",
       "      <td>3.55</td>\n",
       "      <td>-0.00</td>\n",
       "      <td>0.01</td>\n",
       "      <td>0.03</td>\n",
       "      <td>3.16</td>\n",
       "      <td>0.92</td>\n",
       "      <td>1.15</td>\n",
       "      <td>0.12</td>\n",
       "      <td>97.12</td>\n",
       "      <td>3.66</td>\n",
       "      <td>0.01</td>\n",
       "      <td>0.97</td>\n",
       "      <td>4.40</td>\n",
       "      <td>0.00</td>\n",
       "      <td>0.04</td>\n",
       "      <td>4.71</td>\n",
       "      <td>-0.01</td>\n",
       "      <td>0.01</td>\n",
       "      <td>0.04</td>\n",
       "      <td>0.39</td>\n",
       "      <td>4.22</td>\n",
       "      <td>1</td>\n",
       "      <td>0</td>\n",
       "      <td>0</td>\n",
       "      <td>0</td>\n",
       "      <td>1</td>\n",
       "      <td>0</td>\n",
       "      <td>26.407641</td>\n",
       "      <td>-0.060848</td>\n",
       "      <td>4</td>\n",
       "    </tr>\n",
       "    <tr>\n",
       "      <th>1</th>\n",
       "      <td>654dac08-5e5d-4cf0-870e-3167087de7d2</td>\n",
       "      <td>USD</td>\n",
       "      <td>2005-03-31</td>\n",
       "      <td>160073</td>\n",
       "      <td>3.330000e+09</td>\n",
       "      <td>2.0</td>\n",
       "      <td>12.0</td>\n",
       "      <td>11.0</td>\n",
       "      <td>2.0</td>\n",
       "      <td>1.15</td>\n",
       "      <td>17.0</td>\n",
       "      <td>7.0</td>\n",
       "      <td>3.0</td>\n",
       "      <td>17.0</td>\n",
       "      <td>4.0</td>\n",
       "      <td>7.0</td>\n",
       "      <td>11.0</td>\n",
       "      <td>12.0</td>\n",
       "      <td>12.0</td>\n",
       "      <td>3.0</td>\n",
       "      <td>19.0</td>\n",
       "      <td>12.0</td>\n",
       "      <td>11.0</td>\n",
       "      <td>2.0</td>\n",
       "      <td>12.0</td>\n",
       "      <td>15.0</td>\n",
       "      <td>18.0</td>\n",
       "      <td>-15.0</td>\n",
       "      <td>0.0</td>\n",
       "      <td>11.0</td>\n",
       "      <td>0.0</td>\n",
       "      <td>11.0</td>\n",
       "      <td>23044.0</td>\n",
       "      <td>95.0</td>\n",
       "      <td>14.0</td>\n",
       "      <td>2.0</td>\n",
       "      <td>6.0</td>\n",
       "      <td>13.0</td>\n",
       "      <td>9.0</td>\n",
       "      <td>12.0</td>\n",
       "      <td>0.0</td>\n",
       "      <td>14.0</td>\n",
       "      <td>-10.0</td>\n",
       "      <td>4.0</td>\n",
       "      <td>0.0</td>\n",
       "      <td>1.0</td>\n",
       "      <td>9.0</td>\n",
       "      <td>18.0</td>\n",
       "      <td>1.75</td>\n",
       "      <td>19.02</td>\n",
       "      <td>...</td>\n",
       "      <td>36.65</td>\n",
       "      <td>8.60</td>\n",
       "      <td>0.00</td>\n",
       "      <td>9.41</td>\n",
       "      <td>0.05</td>\n",
       "      <td>0.01</td>\n",
       "      <td>0.01</td>\n",
       "      <td>0.13</td>\n",
       "      <td>9.39</td>\n",
       "      <td>0.16</td>\n",
       "      <td>0.41</td>\n",
       "      <td>0.05</td>\n",
       "      <td>53.49</td>\n",
       "      <td>10.75</td>\n",
       "      <td>0.01</td>\n",
       "      <td>0.71</td>\n",
       "      <td>5.47</td>\n",
       "      <td>0.43</td>\n",
       "      <td>0.01</td>\n",
       "      <td>0.25</td>\n",
       "      <td>4.68</td>\n",
       "      <td>0.06</td>\n",
       "      <td>0.00</td>\n",
       "      <td>0.12</td>\n",
       "      <td>8.87</td>\n",
       "      <td>0.29</td>\n",
       "      <td>0.97</td>\n",
       "      <td>3.04</td>\n",
       "      <td>69.89</td>\n",
       "      <td>11.92</td>\n",
       "      <td>0.01</td>\n",
       "      <td>0.72</td>\n",
       "      <td>15.98</td>\n",
       "      <td>0.01</td>\n",
       "      <td>0.30</td>\n",
       "      <td>11.89</td>\n",
       "      <td>0.07</td>\n",
       "      <td>0.00</td>\n",
       "      <td>0.11</td>\n",
       "      <td>1.00</td>\n",
       "      <td>12.25</td>\n",
       "      <td>0</td>\n",
       "      <td>0</td>\n",
       "      <td>1</td>\n",
       "      <td>1</td>\n",
       "      <td>0</td>\n",
       "      <td>0</td>\n",
       "      <td>30.583554</td>\n",
       "      <td>0.145197</td>\n",
       "      <td>2</td>\n",
       "    </tr>\n",
       "    <tr>\n",
       "      <th>2</th>\n",
       "      <td>75214019-f876-42a9-a316-328b759ac4ba</td>\n",
       "      <td>USD</td>\n",
       "      <td>2011-09-29</td>\n",
       "      <td>166391</td>\n",
       "      <td>3.100000e+09</td>\n",
       "      <td>4.0</td>\n",
       "      <td>2.0</td>\n",
       "      <td>6.0</td>\n",
       "      <td>1.0</td>\n",
       "      <td>1.18</td>\n",
       "      <td>1.0</td>\n",
       "      <td>8.0</td>\n",
       "      <td>-1.0</td>\n",
       "      <td>2.0</td>\n",
       "      <td>10.0</td>\n",
       "      <td>1.0</td>\n",
       "      <td>-1.0</td>\n",
       "      <td>2.0</td>\n",
       "      <td>3.0</td>\n",
       "      <td>0.0</td>\n",
       "      <td>3.0</td>\n",
       "      <td>2.0</td>\n",
       "      <td>3.0</td>\n",
       "      <td>3.0</td>\n",
       "      <td>4.0</td>\n",
       "      <td>3.0</td>\n",
       "      <td>16.0</td>\n",
       "      <td>-0.0</td>\n",
       "      <td>0.0</td>\n",
       "      <td>3.0</td>\n",
       "      <td>0.0</td>\n",
       "      <td>4.0</td>\n",
       "      <td>0.0</td>\n",
       "      <td>0.0</td>\n",
       "      <td>5.0</td>\n",
       "      <td>4.0</td>\n",
       "      <td>2.0</td>\n",
       "      <td>13.0</td>\n",
       "      <td>3.0</td>\n",
       "      <td>16.0</td>\n",
       "      <td>1.0</td>\n",
       "      <td>4.0</td>\n",
       "      <td>-1.0</td>\n",
       "      <td>1.0</td>\n",
       "      <td>90.0</td>\n",
       "      <td>0.0</td>\n",
       "      <td>10.0</td>\n",
       "      <td>0.0</td>\n",
       "      <td>1.04</td>\n",
       "      <td>0.00</td>\n",
       "      <td>...</td>\n",
       "      <td>36.49</td>\n",
       "      <td>0.99</td>\n",
       "      <td>0.00</td>\n",
       "      <td>3.20</td>\n",
       "      <td>0.02</td>\n",
       "      <td>0.00</td>\n",
       "      <td>0.01</td>\n",
       "      <td>0.14</td>\n",
       "      <td>3.71</td>\n",
       "      <td>0.12</td>\n",
       "      <td>1.60</td>\n",
       "      <td>1.26</td>\n",
       "      <td>22.98</td>\n",
       "      <td>0.99</td>\n",
       "      <td>0.01</td>\n",
       "      <td>0.17</td>\n",
       "      <td>9.64</td>\n",
       "      <td>0.20</td>\n",
       "      <td>0.00</td>\n",
       "      <td>-0.13</td>\n",
       "      <td>2.40</td>\n",
       "      <td>0.01</td>\n",
       "      <td>-0.00</td>\n",
       "      <td>0.03</td>\n",
       "      <td>2.04</td>\n",
       "      <td>0.07</td>\n",
       "      <td>0.96</td>\n",
       "      <td>-0.30</td>\n",
       "      <td>86.08</td>\n",
       "      <td>12.74</td>\n",
       "      <td>0.01</td>\n",
       "      <td>1.01</td>\n",
       "      <td>10.29</td>\n",
       "      <td>0.00</td>\n",
       "      <td>0.14</td>\n",
       "      <td>0.00</td>\n",
       "      <td>0.04</td>\n",
       "      <td>0.00</td>\n",
       "      <td>0.04</td>\n",
       "      <td>0.90</td>\n",
       "      <td>4.99</td>\n",
       "      <td>0</td>\n",
       "      <td>1</td>\n",
       "      <td>0</td>\n",
       "      <td>0</td>\n",
       "      <td>1</td>\n",
       "      <td>0</td>\n",
       "      <td>30.448996</td>\n",
       "      <td>0.173173</td>\n",
       "      <td>4</td>\n",
       "    </tr>\n",
       "    <tr>\n",
       "      <th>3</th>\n",
       "      <td>1fe8de6d-cd33-489e-a829-211f1f622eed</td>\n",
       "      <td>USD</td>\n",
       "      <td>2016-12-12</td>\n",
       "      <td>183797</td>\n",
       "      <td>4.004000e+07</td>\n",
       "      <td>2.0</td>\n",
       "      <td>7.0</td>\n",
       "      <td>1.0</td>\n",
       "      <td>1.0</td>\n",
       "      <td>0.46</td>\n",
       "      <td>4.0</td>\n",
       "      <td>9.0</td>\n",
       "      <td>-4.0</td>\n",
       "      <td>3.0</td>\n",
       "      <td>15.0</td>\n",
       "      <td>8.0</td>\n",
       "      <td>1.0</td>\n",
       "      <td>7.0</td>\n",
       "      <td>3.0</td>\n",
       "      <td>1.0</td>\n",
       "      <td>4.0</td>\n",
       "      <td>7.0</td>\n",
       "      <td>7.0</td>\n",
       "      <td>2.0</td>\n",
       "      <td>12.0</td>\n",
       "      <td>3.0</td>\n",
       "      <td>15.0</td>\n",
       "      <td>-3.0</td>\n",
       "      <td>0.0</td>\n",
       "      <td>7.0</td>\n",
       "      <td>1.0</td>\n",
       "      <td>4.0</td>\n",
       "      <td>40536.0</td>\n",
       "      <td>38.0</td>\n",
       "      <td>6.0</td>\n",
       "      <td>2.0</td>\n",
       "      <td>0.0</td>\n",
       "      <td>10.0</td>\n",
       "      <td>0.0</td>\n",
       "      <td>11.0</td>\n",
       "      <td>-5.0</td>\n",
       "      <td>10.0</td>\n",
       "      <td>-2.0</td>\n",
       "      <td>1.0</td>\n",
       "      <td>46.0</td>\n",
       "      <td>0.0</td>\n",
       "      <td>9.0</td>\n",
       "      <td>5.0</td>\n",
       "      <td>1.15</td>\n",
       "      <td>3.18</td>\n",
       "      <td>...</td>\n",
       "      <td>81.91</td>\n",
       "      <td>9.66</td>\n",
       "      <td>0.01</td>\n",
       "      <td>0.00</td>\n",
       "      <td>-0.00</td>\n",
       "      <td>0.01</td>\n",
       "      <td>0.01</td>\n",
       "      <td>0.94</td>\n",
       "      <td>6.57</td>\n",
       "      <td>0.94</td>\n",
       "      <td>0.55</td>\n",
       "      <td>-0.49</td>\n",
       "      <td>82.36</td>\n",
       "      <td>10.34</td>\n",
       "      <td>0.01</td>\n",
       "      <td>0.97</td>\n",
       "      <td>4.04</td>\n",
       "      <td>0.41</td>\n",
       "      <td>0.00</td>\n",
       "      <td>0.04</td>\n",
       "      <td>0.00</td>\n",
       "      <td>-0.00</td>\n",
       "      <td>0.01</td>\n",
       "      <td>0.06</td>\n",
       "      <td>4.58</td>\n",
       "      <td>0.94</td>\n",
       "      <td>0.96</td>\n",
       "      <td>-0.30</td>\n",
       "      <td>86.08</td>\n",
       "      <td>12.74</td>\n",
       "      <td>0.01</td>\n",
       "      <td>1.01</td>\n",
       "      <td>10.29</td>\n",
       "      <td>0.01</td>\n",
       "      <td>0.09</td>\n",
       "      <td>0.00</td>\n",
       "      <td>-0.00</td>\n",
       "      <td>0.01</td>\n",
       "      <td>0.08</td>\n",
       "      <td>0.90</td>\n",
       "      <td>9.23</td>\n",
       "      <td>1</td>\n",
       "      <td>0</td>\n",
       "      <td>0</td>\n",
       "      <td>1</td>\n",
       "      <td>0</td>\n",
       "      <td>0</td>\n",
       "      <td>22.771981</td>\n",
       "      <td>-0.633700</td>\n",
       "      <td>0</td>\n",
       "    </tr>\n",
       "    <tr>\n",
       "      <th>4</th>\n",
       "      <td>bd87a7a0-6ca5-4607-a0cf-d396ecd6037a</td>\n",
       "      <td>USD</td>\n",
       "      <td>1995-11-01</td>\n",
       "      <td>190232</td>\n",
       "      <td>5.340000e+09</td>\n",
       "      <td>0.0</td>\n",
       "      <td>17.0</td>\n",
       "      <td>16.0</td>\n",
       "      <td>7.0</td>\n",
       "      <td>1.06</td>\n",
       "      <td>10.0</td>\n",
       "      <td>15.0</td>\n",
       "      <td>-2.0</td>\n",
       "      <td>11.0</td>\n",
       "      <td>1.0</td>\n",
       "      <td>19.0</td>\n",
       "      <td>-2.0</td>\n",
       "      <td>17.0</td>\n",
       "      <td>9.0</td>\n",
       "      <td>2.0</td>\n",
       "      <td>36.0</td>\n",
       "      <td>17.0</td>\n",
       "      <td>16.0</td>\n",
       "      <td>8.0</td>\n",
       "      <td>28.0</td>\n",
       "      <td>11.0</td>\n",
       "      <td>29.0</td>\n",
       "      <td>10.0</td>\n",
       "      <td>0.0</td>\n",
       "      <td>16.0</td>\n",
       "      <td>0.0</td>\n",
       "      <td>-2.0</td>\n",
       "      <td>151311.0</td>\n",
       "      <td>99.0</td>\n",
       "      <td>3.0</td>\n",
       "      <td>4.0</td>\n",
       "      <td>-1.0</td>\n",
       "      <td>11.0</td>\n",
       "      <td>17.0</td>\n",
       "      <td>15.0</td>\n",
       "      <td>-2.0</td>\n",
       "      <td>35.0</td>\n",
       "      <td>4.0</td>\n",
       "      <td>2.0</td>\n",
       "      <td>0.0</td>\n",
       "      <td>0.0</td>\n",
       "      <td>16.0</td>\n",
       "      <td>34.0</td>\n",
       "      <td>1.69</td>\n",
       "      <td>0.77</td>\n",
       "      <td>...</td>\n",
       "      <td>75.79</td>\n",
       "      <td>13.68</td>\n",
       "      <td>0.01</td>\n",
       "      <td>17.37</td>\n",
       "      <td>0.01</td>\n",
       "      <td>0.01</td>\n",
       "      <td>0.01</td>\n",
       "      <td>0.84</td>\n",
       "      <td>15.35</td>\n",
       "      <td>0.86</td>\n",
       "      <td>0.89</td>\n",
       "      <td>0.96</td>\n",
       "      <td>80.13</td>\n",
       "      <td>13.86</td>\n",
       "      <td>0.01</td>\n",
       "      <td>1.11</td>\n",
       "      <td>10.86</td>\n",
       "      <td>1.09</td>\n",
       "      <td>0.01</td>\n",
       "      <td>0.10</td>\n",
       "      <td>12.84</td>\n",
       "      <td>-0.00</td>\n",
       "      <td>0.01</td>\n",
       "      <td>0.13</td>\n",
       "      <td>11.26</td>\n",
       "      <td>0.88</td>\n",
       "      <td>1.06</td>\n",
       "      <td>-0.46</td>\n",
       "      <td>83.12</td>\n",
       "      <td>14.80</td>\n",
       "      <td>0.01</td>\n",
       "      <td>1.06</td>\n",
       "      <td>14.78</td>\n",
       "      <td>0.01</td>\n",
       "      <td>0.15</td>\n",
       "      <td>16.15</td>\n",
       "      <td>-0.01</td>\n",
       "      <td>0.01</td>\n",
       "      <td>0.14</td>\n",
       "      <td>1.35</td>\n",
       "      <td>15.94</td>\n",
       "      <td>0</td>\n",
       "      <td>1</td>\n",
       "      <td>0</td>\n",
       "      <td>1</td>\n",
       "      <td>0</td>\n",
       "      <td>0</td>\n",
       "      <td>31.478424</td>\n",
       "      <td>0.059200</td>\n",
       "      <td>3</td>\n",
       "    </tr>\n",
       "  </tbody>\n",
       "</table>\n",
       "<p>5 rows × 131 columns</p>\n",
       "</div>"
      ],
      "text/plain": [
       "                                fund_id currency inception_date     tag  \\\n",
       "0  85a6edf9-db47-490c-981a-168ce90434bb      USD     1997-02-06   87272   \n",
       "1  654dac08-5e5d-4cf0-870e-3167087de7d2      USD     2005-03-31  160073   \n",
       "2  75214019-f876-42a9-a316-328b759ac4ba      USD     2011-09-29  166391   \n",
       "3  1fe8de6d-cd33-489e-a829-211f1f622eed      USD     2016-12-12  183797   \n",
       "4  bd87a7a0-6ca5-4607-a0cf-d396ecd6037a      USD     1995-11-01  190232   \n",
       "\n",
       "   total_assets  yield  return_ytd  years_up  years_down  \\\n",
       "0  3.362000e+08    3.0         3.0      18.0         3.0   \n",
       "1  3.330000e+09    2.0        12.0      11.0         2.0   \n",
       "2  3.100000e+09    4.0         2.0       6.0         1.0   \n",
       "3  4.004000e+07    2.0         7.0       1.0         1.0   \n",
       "4  5.340000e+09    0.0        17.0      16.0         7.0   \n",
       "\n",
       "   category_ratio_net_annual_expense  2014_category_return  \\\n",
       "0                               0.94                  10.0   \n",
       "1                               1.15                  17.0   \n",
       "2                               1.18                   1.0   \n",
       "3                               0.46                   4.0   \n",
       "4                               1.06                  10.0   \n",
       "\n",
       "   2012_return_category  2018_return_category  category_return_1year  \\\n",
       "0                   8.0                   1.0                    4.0   \n",
       "1                   7.0                   3.0                   17.0   \n",
       "2                   8.0                  -1.0                    2.0   \n",
       "3                   9.0                  -4.0                    3.0   \n",
       "4                  15.0                  -2.0                   11.0   \n",
       "\n",
       "   cash_percent_of_portfolio  pc_ratio  2011_return_category  ytd_return_fund  \\\n",
       "0                        0.0       0.0                  10.0              3.0   \n",
       "1                        4.0       7.0                  11.0             12.0   \n",
       "2                       10.0       1.0                  -1.0              2.0   \n",
       "3                       15.0       8.0                   1.0              7.0   \n",
       "4                        1.0      19.0                  -2.0             17.0   \n",
       "\n",
       "   2014_return_fund  category_return_1month  2013_return_fund  \\\n",
       "0              10.0                     1.0              -4.0   \n",
       "1              12.0                     3.0              19.0   \n",
       "2               3.0                     0.0               3.0   \n",
       "3               3.0                     1.0               4.0   \n",
       "4               9.0                     2.0              36.0   \n",
       "\n",
       "   fund_return_3months  ytd_return_category  pb_ratio  2017_category_return  \\\n",
       "0                  3.0                  2.0       0.0                   3.0   \n",
       "1                 12.0                 11.0       2.0                  12.0   \n",
       "2                  2.0                  3.0       3.0                   4.0   \n",
       "3                  7.0                  7.0       2.0                  12.0   \n",
       "4                 17.0                 16.0       8.0                  28.0   \n",
       "\n",
       "   1_year_return_fund  pe_ratio  2015_return_fund  portfolio_convertable  \\\n",
       "0                 5.0       0.0               3.0                    0.0   \n",
       "1                15.0      18.0             -15.0                    0.0   \n",
       "2                 3.0      16.0              -0.0                    0.0   \n",
       "3                 3.0      15.0              -3.0                    0.0   \n",
       "4                11.0      29.0              10.0                    0.0   \n",
       "\n",
       "   3_months_return_category  portfolio_others  2016_return_fund       mmc  \\\n",
       "0                       2.0               0.0               0.0       0.0   \n",
       "1                      11.0               0.0              11.0   23044.0   \n",
       "2                       3.0               0.0               4.0       0.0   \n",
       "3                       7.0               1.0               4.0   40536.0   \n",
       "4                      16.0               0.0              -2.0  151311.0   \n",
       "\n",
       "   stock_percent_of_portfolio  2016_return_category  ps_ratio  \\\n",
       "0                         0.0                   1.0       0.0   \n",
       "1                        95.0                  14.0       2.0   \n",
       "2                         0.0                   5.0       4.0   \n",
       "3                        38.0                   6.0       2.0   \n",
       "4                        99.0                   3.0       4.0   \n",
       "\n",
       "   2011_return_fund  2010_return_fund  fund_return_3years_x  2012_fund_return  \\\n",
       "0              10.0               3.0                   2.0               7.0   \n",
       "1               6.0              13.0                   9.0              12.0   \n",
       "2               2.0              13.0                   3.0              16.0   \n",
       "3               0.0              10.0                   0.0              11.0   \n",
       "4              -1.0              11.0                  17.0              15.0   \n",
       "\n",
       "   2018_return_fund  2017_return_fund  category_return_2015  \\\n",
       "0               1.0               4.0                   2.0   \n",
       "1               0.0              14.0                 -10.0   \n",
       "2               1.0               4.0                  -1.0   \n",
       "3              -5.0              10.0                  -2.0   \n",
       "4              -2.0              35.0                   4.0   \n",
       "\n",
       "   1_month_fund_return  bond_percentage_of_porfolio  portfolio_preferred  \\\n",
       "0                  1.0                        100.0                  0.0   \n",
       "1                  4.0                          0.0                  1.0   \n",
       "2                  1.0                         90.0                  0.0   \n",
       "3                  1.0                         46.0                  0.0   \n",
       "4                  2.0                          0.0                  0.0   \n",
       "\n",
       "   2010_return_category  2013_category_return  fund_ratio_net_annual_expense  \\\n",
       "0                   1.0                  -6.0                           0.66   \n",
       "1                   9.0                  18.0                           1.75   \n",
       "2                  10.0                   0.0                           1.04   \n",
       "3                   9.0                   5.0                           1.15   \n",
       "4                  16.0                  34.0                           1.69   \n",
       "\n",
       "   portfolio_communication_allocation  ...  3years_fund_r_squared  \\\n",
       "0                                0.00  ...                  97.77   \n",
       "1                               19.02  ...                  36.65   \n",
       "2                                0.00  ...                  36.49   \n",
       "3                                3.18  ...                  81.91   \n",
       "4                                0.77  ...                  75.79   \n",
       "\n",
       "   3years_fund_std  category_beta_3years  fund_return_3years_y  \\\n",
       "0             2.93                  0.01                  2.28   \n",
       "1             8.60                  0.00                  9.41   \n",
       "2             0.99                  0.00                  3.20   \n",
       "3             9.66                  0.01                  0.00   \n",
       "4            13.68                  0.01                 17.37   \n",
       "\n",
       "   3_years_alpha_category  3_years_return_mean_annual_category  \\\n",
       "0                   -0.01                                 0.00   \n",
       "1                    0.05                                 0.01   \n",
       "2                    0.02                                 0.00   \n",
       "3                   -0.00                                 0.01   \n",
       "4                    0.01                                 0.01   \n",
       "\n",
       "   3yrs_sharpe_ratio_category  3years_category_r_squared  \\\n",
       "0                        0.00                       0.95   \n",
       "1                        0.01                       0.13   \n",
       "2                        0.01                       0.14   \n",
       "3                        0.01                       0.94   \n",
       "4                        0.01                       0.84   \n",
       "\n",
       "   3_years_return_category  category_r_squared_5years 5yrs_sharpe_ratio_fund  \\\n",
       "0                     1.90                       0.92                   1.02   \n",
       "1                     9.39                       0.16                   0.41   \n",
       "2                     3.71                       0.12                   1.60   \n",
       "3                     6.57                       0.94                   0.55   \n",
       "4                    15.35                       0.86                   0.89   \n",
       "\n",
       "  5_years_alpha_fund 5years_fund_r_squared  5years_fund_std  \\\n",
       "0               0.19                 96.73             2.66   \n",
       "1               0.05                 53.49            10.75   \n",
       "2               1.26                 22.98             0.99   \n",
       "3              -0.49                 82.36            10.34   \n",
       "4               0.96                 80.13            13.86   \n",
       "\n",
       "   5yrs_sharpe_ratio_category  5_years_beta_fund  5yrs_treynor_ratio_fund  \\\n",
       "0                        0.01               0.87                     3.16   \n",
       "1                        0.01               0.71                     5.47   \n",
       "2                        0.01               0.17                     9.64   \n",
       "3                        0.01               0.97                     4.04   \n",
       "4                        0.01               1.11                    10.86   \n",
       "\n",
       "   5_years_return_mean_annual_fund  5_years_return_mean_annual_category  \\\n",
       "0                             0.29                                 0.00   \n",
       "1                             0.43                                 0.01   \n",
       "2                             0.20                                 0.00   \n",
       "3                             0.41                                 0.00   \n",
       "4                             1.09                                 0.01   \n",
       "\n",
       "   5yrs_treynor_ratio_category  5_years_return_fund  5_years_alpha_category  \\\n",
       "0                         0.03                 3.55                   -0.00   \n",
       "1                         0.25                 4.68                    0.06   \n",
       "2                        -0.13                 2.40                    0.01   \n",
       "3                         0.04                 0.00                   -0.00   \n",
       "4                         0.10                12.84                   -0.00   \n",
       "\n",
       "   5_years_beta_category  5years_category_std  5_years_return_category  \\\n",
       "0                   0.01                 0.03                     3.16   \n",
       "1                   0.00                 0.12                     8.87   \n",
       "2                  -0.00                 0.03                     2.04   \n",
       "3                   0.01                 0.06                     4.58   \n",
       "4                   0.01                 0.13                    11.26   \n",
       "\n",
       "   10years_category_r_squared  10yrs_sharpe_ratio_fund  10_years_alpha_fund  \\\n",
       "0                        0.92                     1.15                 0.12   \n",
       "1                        0.29                     0.97                 3.04   \n",
       "2                        0.07                     0.96                -0.30   \n",
       "3                        0.94                     0.96                -0.30   \n",
       "4                        0.88                     1.06                -0.46   \n",
       "\n",
       "   10years_fund_r_squared  10years_fund_std  10yrs_sharpe_ratio_category  \\\n",
       "0                   97.12              3.66                         0.01   \n",
       "1                   69.89             11.92                         0.01   \n",
       "2                   86.08             12.74                         0.01   \n",
       "3                   86.08             12.74                         0.01   \n",
       "4                   83.12             14.80                         0.01   \n",
       "\n",
       "   10_years_beta_fund  10yrs_treynor_ratio_fund  \\\n",
       "0                0.97                      4.40   \n",
       "1                0.72                     15.98   \n",
       "2                1.01                     10.29   \n",
       "3                1.01                     10.29   \n",
       "4                1.06                     14.78   \n",
       "\n",
       "   10_years_return_mean_annual_category  10yrs_treynor_ratio_category  \\\n",
       "0                                  0.00                          0.04   \n",
       "1                                  0.01                          0.30   \n",
       "2                                  0.00                          0.14   \n",
       "3                                  0.01                          0.09   \n",
       "4                                  0.01                          0.15   \n",
       "\n",
       "   10_years_return_fund  10_years_alpha_category  10_years_beta_category  \\\n",
       "0                  4.71                    -0.01                    0.01   \n",
       "1                 11.89                     0.07                    0.00   \n",
       "2                  0.00                     0.04                    0.00   \n",
       "3                  0.00                    -0.00                    0.01   \n",
       "4                 16.15                    -0.01                    0.01   \n",
       "\n",
       "   10years_category_std  10_years_return_mean_annual_fund  \\\n",
       "0                  0.04                              0.39   \n",
       "1                  0.11                              1.00   \n",
       "2                  0.04                              0.90   \n",
       "3                  0.08                              0.90   \n",
       "4                  0.14                              1.35   \n",
       "\n",
       "   10_years_return_category  investment_class_0.0  investment_class_1.0  \\\n",
       "0                      4.22                     1                     0   \n",
       "1                     12.25                     0                     0   \n",
       "2                      4.99                     0                     1   \n",
       "3                      9.23                     1                     0   \n",
       "4                     15.94                     0                     1   \n",
       "\n",
       "   investment_class_2.0  fund_size_0.0  fund_size_1.0  fund_size_2.0  \\\n",
       "0                     0              0              1              0   \n",
       "1                     1              1              0              0   \n",
       "2                     0              0              1              0   \n",
       "3                     0              1              0              0   \n",
       "4                     0              1              0              0   \n",
       "\n",
       "   total_assets_t  category_ratio_net_annual_expense_t  greatstone_rating  \n",
       "0       26.407641                            -0.060848                  4  \n",
       "1       30.583554                             0.145197                  2  \n",
       "2       30.448996                             0.173173                  4  \n",
       "3       22.771981                            -0.633700                  0  \n",
       "4       31.478424                             0.059200                  3  \n",
       "\n",
       "[5 rows x 131 columns]"
      ]
     },
     "execution_count": 1972,
     "metadata": {},
     "output_type": "execute_result"
    }
   ],
   "source": [
    "sample_sub.head()"
   ]
  },
  {
   "cell_type": "code",
   "execution_count": 1973,
   "metadata": {},
   "outputs": [],
   "source": [
    "##iter 6\n",
    "sample_sub[['fund_id','greatstone_rating']].to_csv('sample_submission_v6.csv',index=False)"
   ]
  },
  {
   "cell_type": "markdown",
   "metadata": {},
   "source": [
    "## LinearSVC"
   ]
  },
  {
   "cell_type": "code",
   "execution_count": null,
   "metadata": {},
   "outputs": [],
   "source": [
    "lsvc=LinearSVC(penalty='l2',multi_class='ovr',fit_intercept=False,random_state=123)\n",
    "\n",
    "lsvc.fit(X,y)"
   ]
  },
  {
   "cell_type": "code",
   "execution_count": null,
   "metadata": {},
   "outputs": [],
   "source": [
    "lsvc.coef_"
   ]
  },
  {
   "cell_type": "code",
   "execution_count": null,
   "metadata": {},
   "outputs": [],
   "source": [
    "lsvc_pred=lsvc.predict(sample_sub[cols])"
   ]
  },
  {
   "cell_type": "code",
   "execution_count": null,
   "metadata": {},
   "outputs": [],
   "source": [
    "lsvc_pred"
   ]
  },
  {
   "cell_type": "markdown",
   "metadata": {},
   "source": [
    "## RidgeClassifier"
   ]
  },
  {
   "cell_type": "code",
   "execution_count": null,
   "metadata": {},
   "outputs": [],
   "source": [
    "rc=RidgeClassifier()\n",
    "rc.fit(X,y)"
   ]
  },
  {
   "cell_type": "code",
   "execution_count": null,
   "metadata": {},
   "outputs": [],
   "source": [
    "sample_sub=pd.read_csv('sample_sub.csv')\n",
    "rc_pred=rc.predict(sample_sub[cols])"
   ]
  },
  {
   "cell_type": "code",
   "execution_count": null,
   "metadata": {},
   "outputs": [],
   "source": [
    "rc_pred"
   ]
  },
  {
   "cell_type": "code",
   "execution_count": null,
   "metadata": {},
   "outputs": [],
   "source": [
    "sample_sub.drop(['greatstone_rating_x','Unnamed: 0'],axis=1,inplace=True)\n",
    "sample_sub['greatstone_rating']=rc_pred"
   ]
  },
  {
   "cell_type": "code",
   "execution_count": null,
   "metadata": {},
   "outputs": [],
   "source": [
    "sample_sub.head()"
   ]
  },
  {
   "cell_type": "code",
   "execution_count": null,
   "metadata": {},
   "outputs": [],
   "source": [
    "##iter 8\n",
    "sample_sub[['fund_id','greatstone_rating']].to_csv('sample_submission_v8.csv',index=False)"
   ]
  },
  {
   "cell_type": "code",
   "execution_count": null,
   "metadata": {},
   "outputs": [],
   "source": [
    "### Transforming the variables ##\n",
    "pd.set_option('display.max_columns',150)\n",
    "master_df_train_test.head()"
   ]
  },
  {
   "cell_type": "code",
   "execution_count": null,
   "metadata": {},
   "outputs": [],
   "source": [
    "master_df_train_test.shape[0]"
   ]
  },
  {
   "cell_type": "code",
   "execution_count": null,
   "metadata": {},
   "outputs": [],
   "source": [
    "master_df_train_test[master_df_train_test['2018_return_category']>0][i].count()"
   ]
  },
  {
   "cell_type": "code",
   "execution_count": null,
   "metadata": {},
   "outputs": [],
   "source": [
    "## get all the columns with value>0\n",
    "pos_cols=[]\n",
    "for i in cols:\n",
    "    if master_df_train_test[master_df_train_test[i]>0][i].count()==master_df_train_test.shape[0]:\n",
    "        pos_cols.append(i)"
   ]
  },
  {
   "cell_type": "code",
   "execution_count": null,
   "metadata": {},
   "outputs": [],
   "source": [
    "display(len(cols))\n",
    "display(len(pos_cols))##5"
   ]
  },
  {
   "cell_type": "code",
   "execution_count": null,
   "metadata": {},
   "outputs": [],
   "source": [
    "pos_cols"
   ]
  },
  {
   "cell_type": "code",
   "execution_count": null,
   "metadata": {},
   "outputs": [],
   "source": [
    "display(sns.distplot(master_df_train_test['category_ratio_net_annual_expense'],kde=True))\n",
    "display(sns.distplot(sample_sub['category_ratio_net_annual_expense'],kde=True))"
   ]
  },
  {
   "cell_type": "code",
   "execution_count": null,
   "metadata": {},
   "outputs": [],
   "source": [
    "from scipy.stats import boxcox"
   ]
  },
  {
   "cell_type": "code",
   "execution_count": null,
   "metadata": {},
   "outputs": [],
   "source": [
    "## transform ##\n",
    "total_assets_t=boxcox(master_df_train_test['total_assets'])[0]\n",
    "category_ratio_net_annual_expense_t=boxcox(master_df_train_test['category_ratio_net_annual_expense'])[0]\n",
    "total_assets_sam_t=boxcox(sample_sub['total_assets'])[0]\n",
    "category_ratio_net_annual_expense_sam_t=boxcox(sample_sub['category_ratio_net_annual_expense'])[0]"
   ]
  },
  {
   "cell_type": "code",
   "execution_count": null,
   "metadata": {},
   "outputs": [],
   "source": [
    "total_assets_t[0]"
   ]
  },
  {
   "cell_type": "code",
   "execution_count": null,
   "metadata": {},
   "outputs": [],
   "source": [
    "sns.distplot(category_ratio_net_annual_expense_t,kde=True)"
   ]
  },
  {
   "cell_type": "code",
   "execution_count": null,
   "metadata": {},
   "outputs": [],
   "source": [
    "#master_df_train_test.shape\n",
    "sample_sub=pd.read_csv('sample_sub.csv')\n",
    "sample_sub.drop('Unnamed: 0',axis=1,inplace=True)"
   ]
  },
  {
   "cell_type": "code",
   "execution_count": null,
   "metadata": {},
   "outputs": [],
   "source": [
    "sample_sub.shape"
   ]
  },
  {
   "cell_type": "code",
   "execution_count": null,
   "metadata": {},
   "outputs": [],
   "source": [
    "## appending the tranformed variables ##\n",
    "master_df_train_test.insert(loc=129,column='total_assets_t',value=total_assets_t)\n",
    "master_df_train_test.insert(loc=130,column='category_ratio_net_annual_expense_t',value=category_ratio_net_annual_expense_t)\n",
    "sample_sub.insert(loc=128,column='total_assets_t',value=total_assets_sam_t)\n",
    "sample_sub.insert(loc=129,column='category_ratio_net_annual_expense_t',value=category_ratio_net_annual_expense_sam_t)"
   ]
  },
  {
   "cell_type": "code",
   "execution_count": null,
   "metadata": {},
   "outputs": [],
   "source": [
    "sample_sub.head()"
   ]
  },
  {
   "cell_type": "code",
   "execution_count": null,
   "metadata": {},
   "outputs": [],
   "source": [
    "sample_sub.to_csv('sample_sub.csv')"
   ]
  },
  {
   "cell_type": "markdown",
   "metadata": {},
   "source": [
    "## Decisiontree classifier "
   ]
  },
  {
   "cell_type": "code",
   "execution_count": null,
   "metadata": {},
   "outputs": [],
   "source": [
    "dt=DecisionTreeClassifier(random_state=123)\n",
    "dt.fit(X,y)"
   ]
  },
  {
   "cell_type": "code",
   "execution_count": null,
   "metadata": {},
   "outputs": [],
   "source": [
    "sample_sub=pd.read_csv('sample_sub.csv')\n",
    "dt_pred=dt.predict(sample_sub[cols])"
   ]
  },
  {
   "cell_type": "code",
   "execution_count": null,
   "metadata": {},
   "outputs": [],
   "source": [
    "dt_pred"
   ]
  },
  {
   "cell_type": "code",
   "execution_count": null,
   "metadata": {},
   "outputs": [],
   "source": [
    "sample_sub.drop(['Unnamed: 0'],axis=1,inplace=True)\n",
    "sample_sub['greatstone_rating']=dt_pred"
   ]
  },
  {
   "cell_type": "code",
   "execution_count": null,
   "metadata": {},
   "outputs": [],
   "source": [
    "sample_sub.head()"
   ]
  },
  {
   "cell_type": "code",
   "execution_count": null,
   "metadata": {},
   "outputs": [],
   "source": [
    "##iter 12\n",
    "sample_sub[['fund_id','greatstone_rating']].to_csv('sample_submission_v12.csv',index=False)"
   ]
  },
  {
   "cell_type": "markdown",
   "metadata": {},
   "source": [
    "## Xgboost"
   ]
  },
  {
   "cell_type": "code",
   "execution_count": null,
   "metadata": {},
   "outputs": [],
   "source": [
    "xgb=XGBClassifier()\n",
    "xgb.fit(X,y)"
   ]
  },
  {
   "cell_type": "code",
   "execution_count": null,
   "metadata": {},
   "outputs": [],
   "source": [
    "sample_sub=pd.read_csv('sample_sub.csv')\n",
    "xgb_pred=xgb.predict(sample_sub[cols])"
   ]
  },
  {
   "cell_type": "code",
   "execution_count": null,
   "metadata": {},
   "outputs": [],
   "source": [
    "xgb_pred"
   ]
  },
  {
   "cell_type": "code",
   "execution_count": null,
   "metadata": {},
   "outputs": [],
   "source": [
    "sample_sub.drop(['Unnamed: 0'],axis=1,inplace=True)\n",
    "sample_sub['greatstone_rating']=xgb_pred"
   ]
  },
  {
   "cell_type": "code",
   "execution_count": null,
   "metadata": {},
   "outputs": [],
   "source": [
    "sample_sub.head()"
   ]
  },
  {
   "cell_type": "code",
   "execution_count": null,
   "metadata": {},
   "outputs": [],
   "source": [
    "##iter 13\n",
    "sample_sub[['fund_id','greatstone_rating']].to_csv('sample_submission_v13.csv',index=False)"
   ]
  },
  {
   "cell_type": "markdown",
   "metadata": {},
   "source": [
    "## xgboost with tuning "
   ]
  },
  {
   "cell_type": "code",
   "execution_count": null,
   "metadata": {},
   "outputs": [],
   "source": [
    "column=['yield',\n",
    " 'return_ytd',\n",
    " 'years_up',\n",
    " 'years_down',\n",
    " '2014_category_return',\n",
    " '2012_return_category',\n",
    " '2018_return_category',\n",
    " 'category_return_1year',\n",
    " 'cash_percent_of_portfolio',\n",
    " 'pc_ratio',\n",
    " '2011_return_category',\n",
    " 'ytd_return_fund',\n",
    " '2014_return_fund',\n",
    " 'category_return_1month',\n",
    " '2013_return_fund',\n",
    " 'fund_return_3months',\n",
    " 'ytd_return_category',\n",
    " 'pb_ratio',\n",
    " '2017_category_return',\n",
    " '1_year_return_fund',\n",
    " 'pe_ratio',\n",
    " '2015_return_fund',\n",
    " 'portfolio_convertable',\n",
    " '3_months_return_category',\n",
    " 'portfolio_others',\n",
    " '2016_return_fund',\n",
    " 'mmc',\n",
    " 'stock_percent_of_portfolio',\n",
    " '2016_return_category',\n",
    " 'ps_ratio',\n",
    " '2011_return_fund',\n",
    " '2010_return_fund',\n",
    " 'fund_return_3years_x',\n",
    " '2012_fund_return',\n",
    " '2018_return_fund',\n",
    " '2017_return_fund',\n",
    " 'category_return_2015',\n",
    " '1_month_fund_return',\n",
    " 'bond_percentage_of_porfolio',\n",
    " 'portfolio_preferred',\n",
    " '2010_return_category',\n",
    " '2013_category_return',\n",
    " 'fund_ratio_net_annual_expense',\n",
    " 'portfolio_communication_allocation',\n",
    " 'portfolio_financial_services',\n",
    " 'portfolio_industrials_allocation',\n",
    " 'portfolio_tech_allocation',\n",
    " 'portfolio_materials_basic_allocation',\n",
    " 'portfolio_energy_allocation',\n",
    " 'portfolio_consumer_defence_allocation',\n",
    " 'portfolio_healthcare_allocation',\n",
    " 'portfolio_property_allocation',\n",
    " 'portfolio_utils_allocation',\n",
    " 'portfolio_cyclical_consumer_allocation',\n",
    " 'bb_rating',\n",
    " 'us_govt_bond_rating',\n",
    " 'below_b_rating',\n",
    " 'others_rating',\n",
    " 'maturity_bond',\n",
    " 'b_rating',\n",
    " 'a_rating',\n",
    " 'aaa_rating',\n",
    " 'aa_rating',\n",
    " 'bbb_rating',\n",
    " 'duration_bond',\n",
    " '3yrs_treynor_ratio_fund',\n",
    " '3_years_alpha_fund',\n",
    " '3years_category_std',\n",
    " '3yrs_sharpe_ratio_fund',\n",
    " '3yrs_treynor_ratio_category',\n",
    " '3_years_return_mean_annual_fund',\n",
    " 'fund_beta_3years',\n",
    " '3years_fund_r_squared',\n",
    " '3years_fund_std',\n",
    " 'category_beta_3years',\n",
    " 'fund_return_3years_y',\n",
    " '3_years_alpha_category',\n",
    " '3_years_return_mean_annual_category',\n",
    " '3yrs_sharpe_ratio_category',\n",
    " '3years_category_r_squared',\n",
    " '3_years_return_category',\n",
    " 'category_r_squared_5years',\n",
    " '5yrs_sharpe_ratio_fund',\n",
    " '5_years_alpha_fund',\n",
    " '5years_fund_r_squared',\n",
    " '5years_fund_std',\n",
    " '5yrs_sharpe_ratio_category',\n",
    " '5_years_beta_fund',\n",
    " '5yrs_treynor_ratio_fund',\n",
    " '5_years_return_mean_annual_fund',\n",
    " '5_years_return_mean_annual_category',\n",
    " '5yrs_treynor_ratio_category',\n",
    " '5_years_return_fund',\n",
    " '5_years_alpha_category',\n",
    " '5_years_beta_category',\n",
    " '5years_category_std',\n",
    " '5_years_return_category',\n",
    " '10years_category_r_squared',\n",
    " '10yrs_sharpe_ratio_fund',\n",
    " '10_years_alpha_fund',\n",
    " '10years_fund_r_squared',\n",
    " '10years_fund_std',\n",
    " '10yrs_sharpe_ratio_category',\n",
    " '10_years_beta_fund',\n",
    " '10yrs_treynor_ratio_fund',\n",
    " '10_years_return_mean_annual_category',\n",
    " '10yrs_treynor_ratio_category',\n",
    " '10_years_return_fund',\n",
    " '10_years_alpha_category',\n",
    " '10_years_beta_category',\n",
    " '10years_category_std',\n",
    " '10_years_return_mean_annual_fund',\n",
    " '10_years_return_category',\n",
    " 'investment_class_0.0',\n",
    " 'investment_class_1.0',\n",
    " 'investment_class_2.0',\n",
    " 'fund_size_0.0',\n",
    " 'fund_size_1.0',\n",
    " 'fund_size_2.0',\n",
    " 'total_assets',\n",
    " 'category_ratio_net_annual_expense','greatstone_rating']\n",
    "train=master_df_train_test[column]"
   ]
  },
  {
   "cell_type": "code",
   "execution_count": null,
   "metadata": {},
   "outputs": [],
   "source": [
    "train.columns"
   ]
  },
  {
   "cell_type": "code",
   "execution_count": null,
   "metadata": {},
   "outputs": [],
   "source": [
    "xgb1 = XGBClassifier(\n",
    " learning_rate =0.1,\n",
    " n_estimators=1000,\n",
    " max_depth=5,\n",
    " min_child_weight=1,\n",
    " gamma=0,\n",
    " subsample=0.8,\n",
    " colsample_bytree=0.8,\n",
    " objective= 'multi:softmax',\n",
    " nthread=4,\n",
    " seed=27,num_class=6)\n",
    "xgb1.fit(X,y)"
   ]
  },
  {
   "cell_type": "code",
   "execution_count": null,
   "metadata": {},
   "outputs": [],
   "source": [
    "sample_sub=pd.read_csv('sample_sub.csv')\n",
    "xgb1_pred=xgb1.predict(sample_sub[cols])"
   ]
  },
  {
   "cell_type": "code",
   "execution_count": null,
   "metadata": {},
   "outputs": [],
   "source": [
    "xgb1_pred"
   ]
  },
  {
   "cell_type": "code",
   "execution_count": null,
   "metadata": {},
   "outputs": [],
   "source": [
    "sample_sub.drop(['Unnamed: 0'],axis=1,inplace=True)\n",
    "sample_sub['greatstone_rating']=xgb1_pred"
   ]
  },
  {
   "cell_type": "code",
   "execution_count": null,
   "metadata": {},
   "outputs": [],
   "source": [
    "sample_sub.head()"
   ]
  },
  {
   "cell_type": "code",
   "execution_count": null,
   "metadata": {},
   "outputs": [],
   "source": [
    "##iter 14\n",
    "sample_sub[['fund_id','greatstone_rating']].to_csv('sample_submission_v14.csv',index=False)"
   ]
  },
  {
   "cell_type": "code",
   "execution_count": null,
   "metadata": {},
   "outputs": [],
   "source": [
    "### Tuning all params ##\n",
    "params={'max_depth':[3,6,9,12],\n",
    "        'gamma':[0,1],\n",
    "        'subsample':[0.2,0.4,0.6,0.8],\n",
    "        'colsample_bytree':[0.2,0.4,0.6,0.8],\n",
    "        'tree_method':['auto','hist'],\n",
    "        'min_child_weight':[0,1,2]\n",
    "}\n",
    "xgb2=XGBClassifier(learning_rate=0.1,n_estimators=1000,objective='multi:softmax',random_state=123,booster='gbtree',seed=1)\n",
    "xgb2_t=RandomizedSearchCV(xgb2,param_distributions=params,n_iter=50,cv=5,n_jobs=-1,verbose=1,random_state=123)"
   ]
  },
  {
   "cell_type": "code",
   "execution_count": null,
   "metadata": {},
   "outputs": [],
   "source": [
    "xgb2_t.fit(X,y)"
   ]
  },
  {
   "cell_type": "code",
   "execution_count": null,
   "metadata": {},
   "outputs": [],
   "source": [
    "xgb2_t.best_params_"
   ]
  },
  {
   "cell_type": "code",
   "execution_count": null,
   "metadata": {},
   "outputs": [],
   "source": [
    "xgb2=XGBClassifier()\n",
    "xgb2.fit(X,y)"
   ]
  },
  {
   "cell_type": "code",
   "execution_count": null,
   "metadata": {},
   "outputs": [],
   "source": [
    "sample_sub=pd.read_csv('sample_sub.csv')\n",
    "xgb2_pred=xgb2.predict(sample_sub[cols])"
   ]
  },
  {
   "cell_type": "code",
   "execution_count": null,
   "metadata": {},
   "outputs": [],
   "source": [
    "xgb2_pred"
   ]
  },
  {
   "cell_type": "code",
   "execution_count": null,
   "metadata": {},
   "outputs": [],
   "source": [
    "sample_sub.drop(['Unnamed: 0'],axis=1,inplace=True)\n",
    "sample_sub['greatstone_rating']=xgb2_pred"
   ]
  },
  {
   "cell_type": "code",
   "execution_count": null,
   "metadata": {},
   "outputs": [],
   "source": [
    "##iter 15\n",
    "sample_sub[['fund_id','greatstone_rating']].to_csv('sample_submission_v15.csv',index=False)"
   ]
  },
  {
   "cell_type": "markdown",
   "metadata": {},
   "source": [
    "## Lightgbm classifier"
   ]
  },
  {
   "cell_type": "code",
   "execution_count": null,
   "metadata": {},
   "outputs": [],
   "source": [
    "## changing n_estimators from 100 to 1000 to 2000 keeping learning_rate constant\n",
    "lgbm=LGBMClassifier(objective='LGBMClassifier',random_state=123,n_estimators=1500)\n",
    "lgbm.fit(X,y)"
   ]
  },
  {
   "cell_type": "code",
   "execution_count": null,
   "metadata": {},
   "outputs": [],
   "source": [
    "sample_sub=pd.read_csv('sample_sub.csv')\n",
    "lgbm_pred=lgbm.predict(sample_sub[cols])"
   ]
  },
  {
   "cell_type": "code",
   "execution_count": null,
   "metadata": {},
   "outputs": [],
   "source": [
    "lgbm_pred"
   ]
  },
  {
   "cell_type": "code",
   "execution_count": null,
   "metadata": {},
   "outputs": [],
   "source": [
    "sample_sub.drop(['Unnamed: 0'],axis=1,inplace=True)\n",
    "sample_sub['greatstone_rating']=lgbm_pred"
   ]
  },
  {
   "cell_type": "code",
   "execution_count": null,
   "metadata": {},
   "outputs": [],
   "source": [
    "##iter 16 : 1000\n",
    "#sample_sub[['fund_id','greatstone_rating']].to_csv('sample_submission_v16.csv',index=False)\n",
    "##iter 17 : 2000\n",
    "#sample_sub[['fund_id','greatstone_rating']].to_csv('sample_submission_v17.csv',index=False)\n",
    "##iter 18 : 1500\n",
    "sample_sub[['fund_id','greatstone_rating']].to_csv('sample_submission_v18.csv',index=False)"
   ]
  },
  {
   "cell_type": "code",
   "execution_count": null,
   "metadata": {},
   "outputs": [],
   "source": [
    "from sklearn.model_selection import train_test_split\n",
    "X_train,X_test,Y_train,Y_test=train_test_split(X,y,test_size=0.1,random_state=123)"
   ]
  },
  {
   "cell_type": "code",
   "execution_count": null,
   "metadata": {},
   "outputs": [],
   "source": [
    "fit_params={\"early_stopping_rounds\":30, \n",
    "            \"eval_metric\" : 'logloss', \n",
    "            \"eval_set\" : [(X_test,Y_test)],\n",
    "            'eval_names': ['valid'],\n",
    "            #'callbacks': [lgb.reset_parameter(learning_rate=learning_rate_010_decay_power_099)],\n",
    "            'verbose': 100,\n",
    "            'categorical_feature': 'auto'}"
   ]
  },
  {
   "cell_type": "code",
   "execution_count": null,
   "metadata": {},
   "outputs": [],
   "source": [
    "from scipy.stats import randint as sp_randint\n",
    "from scipy.stats import uniform as sp_uniform\n",
    "param_test ={'num_leaves': sp_randint(6, 50), \n",
    "             'min_child_samples': sp_randint(100, 500), \n",
    "             'min_child_weight': [1e-5, 1e-3, 1e-2, 1e-1, 1, 1e1, 1e2, 1e3, 1e4],\n",
    "             'subsample': sp_uniform(loc=0.2, scale=0.8), \n",
    "             'colsample_bytree': sp_uniform(loc=0.4, scale=0.6),\n",
    "             'reg_alpha': [0, 1e-1, 1, 2, 5, 7, 10, 50, 100],\n",
    "             'reg_lambda': [0, 1e-1, 1, 5, 10, 20, 50, 100]}"
   ]
  },
  {
   "cell_type": "code",
   "execution_count": null,
   "metadata": {},
   "outputs": [],
   "source": [
    "#n_estimators is set to a \"large value\". The actual number of trees build will depend on early stopping and 5000 define only the absolute maximum\n",
    "clf =LGBMClassifier(max_depth=-1, random_state=314, silent=True, metric='None', n_jobs=4, n_estimators=5000)\n",
    "gs = RandomizedSearchCV(\n",
    "    estimator=clf, param_distributions=param_test, \n",
    "    n_iter=100,\n",
    "    cv=3,\n",
    "    refit=True,\n",
    "    random_state=314,\n",
    "    verbose=True)"
   ]
  },
  {
   "cell_type": "code",
   "execution_count": null,
   "metadata": {},
   "outputs": [],
   "source": [
    "gs.fit(X_train, Y_train, **fit_params)"
   ]
  },
  {
   "cell_type": "code",
   "execution_count": 522,
   "metadata": {},
   "outputs": [
    {
     "data": {
      "text/plain": [
       "LGBMClassifier(boosting_type='gbdt', class_weight=None,\n",
       "               colsample_bytree=0.952164731370897, importance_type='split',\n",
       "               learning_rate=0.1, max_depth=-1, metric='None',\n",
       "               min_child_samples=111, min_child_weight=0.01, min_split_gain=0.0,\n",
       "               n_estimators=5000, n_jobs=4, num_leaves=38, objective=None,\n",
       "               random_state=314, reg_alpha=0, reg_lambda=0.1, silent=True,\n",
       "               subsample=0.3029313662262354, subsample_for_bin=200000,\n",
       "               subsample_freq=0)"
      ]
     },
     "execution_count": 522,
     "metadata": {},
     "output_type": "execute_result"
    }
   ],
   "source": [
    "gs.best_estimator_"
   ]
  },
  {
   "cell_type": "code",
   "execution_count": null,
   "metadata": {},
   "outputs": [],
   "source": [
    "## use the best params from the above search to fit the model on overall data ##\n",
    "params={'colsample_bytree': 0.9234, 'min_child_samples': 399, 'min_child_weight': 0.1,\n",
    "        'num_leaves': 13, 'reg_alpha': 2, 'reg_lambda': 5, 'subsample': 0.855}"
   ]
  },
  {
   "cell_type": "code",
   "execution_count": 514,
   "metadata": {},
   "outputs": [
    {
     "data": {
      "text/plain": [
       "{'boosting_type': 'gbdt',\n",
       " 'class_weight': None,\n",
       " 'colsample_bytree': 1.0,\n",
       " 'importance_type': 'split',\n",
       " 'learning_rate': 0.1,\n",
       " 'max_depth': -1,\n",
       " 'min_child_samples': 20,\n",
       " 'min_child_weight': 0.001,\n",
       " 'min_split_gain': 0.0,\n",
       " 'n_estimators': 5000,\n",
       " 'n_jobs': 4,\n",
       " 'num_leaves': 31,\n",
       " 'objective': None,\n",
       " 'random_state': 314,\n",
       " 'reg_alpha': 0.0,\n",
       " 'reg_lambda': 0.0,\n",
       " 'silent': True,\n",
       " 'subsample': 1.0,\n",
       " 'subsample_for_bin': 200000,\n",
       " 'subsample_freq': 0,\n",
       " 'metric': 'None'}"
      ]
     },
     "execution_count": 514,
     "metadata": {},
     "output_type": "execute_result"
    }
   ],
   "source": [
    "clf.get_params()"
   ]
  },
  {
   "cell_type": "code",
   "execution_count": 1975,
   "metadata": {},
   "outputs": [
    {
     "data": {
      "text/plain": [
       "LGBMClassifier(boosting_type='gbdt', class_weight=None, colsample_bytree=0.9234,\n",
       "               importance_type='split', learning_rate=0.04, max_depth=-1,\n",
       "               min_child_samples=399, min_child_weight=0.1, min_split_gain=0.0,\n",
       "               n_estimators=5000, n_jobs=-1, num_leaves=13,\n",
       "               objective='LGBMClassifier', random_state=123, reg_alpha=2,\n",
       "               reg_lambda=5, silent=True, subsample=0.855,\n",
       "               subsample_for_bin=200000, subsample_freq=0)"
      ]
     },
     "execution_count": 1975,
     "metadata": {},
     "output_type": "execute_result"
    }
   ],
   "source": [
    "lgbm_t=LGBMClassifier(learning_rate=0.04,n_estimators=5000,colsample_bytree=0.9234,min_child_samples=399, \n",
    "                      min_child_weight=0.1,num_leaves=13,reg_alpha=2,reg_lambda=5,subsample=0.855,random_state=123,\n",
    "                      objective='LGBMClassifier')\n",
    "lgbm_t.fit(X,y)"
   ]
  },
  {
   "cell_type": "code",
   "execution_count": 1978,
   "metadata": {},
   "outputs": [],
   "source": [
    "fi=lgbm_t.feature_importances_\n",
    "df_fi=pd.DataFrame({'columns':X.columns,'Imp':fi})"
   ]
  },
  {
   "cell_type": "code",
   "execution_count": 1981,
   "metadata": {},
   "outputs": [
    {
     "data": {
      "text/html": [
       "<div>\n",
       "<style scoped>\n",
       "    .dataframe tbody tr th:only-of-type {\n",
       "        vertical-align: middle;\n",
       "    }\n",
       "\n",
       "    .dataframe tbody tr th {\n",
       "        vertical-align: top;\n",
       "    }\n",
       "\n",
       "    .dataframe thead th {\n",
       "        text-align: right;\n",
       "    }\n",
       "</style>\n",
       "<table border=\"1\" class=\"dataframe\">\n",
       "  <thead>\n",
       "    <tr style=\"text-align: right;\">\n",
       "      <th></th>\n",
       "      <th>columns</th>\n",
       "      <th>Imp</th>\n",
       "    </tr>\n",
       "  </thead>\n",
       "  <tbody>\n",
       "    <tr>\n",
       "      <th>42</th>\n",
       "      <td>fund_ratio_net_annual_expense</td>\n",
       "      <td>13198</td>\n",
       "    </tr>\n",
       "    <tr>\n",
       "      <th>66</th>\n",
       "      <td>3_years_alpha_fund</td>\n",
       "      <td>11346</td>\n",
       "    </tr>\n",
       "    <tr>\n",
       "      <th>2</th>\n",
       "      <td>years_up</td>\n",
       "      <td>10863</td>\n",
       "    </tr>\n",
       "    <tr>\n",
       "      <th>83</th>\n",
       "      <td>5_years_alpha_fund</td>\n",
       "      <td>8713</td>\n",
       "    </tr>\n",
       "    <tr>\n",
       "      <th>107</th>\n",
       "      <td>10_years_return_fund</td>\n",
       "      <td>8697</td>\n",
       "    </tr>\n",
       "    <tr>\n",
       "      <th>75</th>\n",
       "      <td>fund_return_3years_y</td>\n",
       "      <td>8541</td>\n",
       "    </tr>\n",
       "    <tr>\n",
       "      <th>92</th>\n",
       "      <td>5_years_return_fund</td>\n",
       "      <td>8537</td>\n",
       "    </tr>\n",
       "    <tr>\n",
       "      <th>119</th>\n",
       "      <td>total_assets</td>\n",
       "      <td>8276</td>\n",
       "    </tr>\n",
       "    <tr>\n",
       "      <th>82</th>\n",
       "      <td>5yrs_sharpe_ratio_fund</td>\n",
       "      <td>7548</td>\n",
       "    </tr>\n",
       "    <tr>\n",
       "      <th>96</th>\n",
       "      <td>5_years_return_category</td>\n",
       "      <td>7168</td>\n",
       "    </tr>\n",
       "    <tr>\n",
       "      <th>68</th>\n",
       "      <td>3yrs_sharpe_ratio_fund</td>\n",
       "      <td>6756</td>\n",
       "    </tr>\n",
       "    <tr>\n",
       "      <th>99</th>\n",
       "      <td>10_years_alpha_fund</td>\n",
       "      <td>6377</td>\n",
       "    </tr>\n",
       "    <tr>\n",
       "      <th>98</th>\n",
       "      <td>10yrs_sharpe_ratio_fund</td>\n",
       "      <td>5163</td>\n",
       "    </tr>\n",
       "    <tr>\n",
       "      <th>88</th>\n",
       "      <td>5yrs_treynor_ratio_fund</td>\n",
       "      <td>4849</td>\n",
       "    </tr>\n",
       "    <tr>\n",
       "      <th>72</th>\n",
       "      <td>3years_fund_r_squared</td>\n",
       "      <td>4532</td>\n",
       "    </tr>\n",
       "    <tr>\n",
       "      <th>89</th>\n",
       "      <td>5_years_return_mean_annual_fund</td>\n",
       "      <td>4493</td>\n",
       "    </tr>\n",
       "    <tr>\n",
       "      <th>65</th>\n",
       "      <td>3yrs_treynor_ratio_fund</td>\n",
       "      <td>4467</td>\n",
       "    </tr>\n",
       "    <tr>\n",
       "      <th>71</th>\n",
       "      <td>fund_beta_3years</td>\n",
       "      <td>4218</td>\n",
       "    </tr>\n",
       "    <tr>\n",
       "      <th>31</th>\n",
       "      <td>2010_return_fund</td>\n",
       "      <td>4173</td>\n",
       "    </tr>\n",
       "    <tr>\n",
       "      <th>70</th>\n",
       "      <td>3_years_return_mean_annual_fund</td>\n",
       "      <td>4086</td>\n",
       "    </tr>\n",
       "    <tr>\n",
       "      <th>33</th>\n",
       "      <td>2012_fund_return</td>\n",
       "      <td>4028</td>\n",
       "    </tr>\n",
       "    <tr>\n",
       "      <th>3</th>\n",
       "      <td>years_down</td>\n",
       "      <td>4016</td>\n",
       "    </tr>\n",
       "    <tr>\n",
       "      <th>111</th>\n",
       "      <td>10_years_return_mean_annual_fund</td>\n",
       "      <td>4013</td>\n",
       "    </tr>\n",
       "    <tr>\n",
       "      <th>12</th>\n",
       "      <td>2014_return_fund</td>\n",
       "      <td>3915</td>\n",
       "    </tr>\n",
       "    <tr>\n",
       "      <th>80</th>\n",
       "      <td>3_years_return_category</td>\n",
       "      <td>3826</td>\n",
       "    </tr>\n",
       "    <tr>\n",
       "      <th>21</th>\n",
       "      <td>2015_return_fund</td>\n",
       "      <td>3625</td>\n",
       "    </tr>\n",
       "    <tr>\n",
       "      <th>30</th>\n",
       "      <td>2011_return_fund</td>\n",
       "      <td>3570</td>\n",
       "    </tr>\n",
       "    <tr>\n",
       "      <th>84</th>\n",
       "      <td>5years_fund_r_squared</td>\n",
       "      <td>3564</td>\n",
       "    </tr>\n",
       "    <tr>\n",
       "      <th>104</th>\n",
       "      <td>10yrs_treynor_ratio_fund</td>\n",
       "      <td>3509</td>\n",
       "    </tr>\n",
       "    <tr>\n",
       "      <th>25</th>\n",
       "      <td>2016_return_fund</td>\n",
       "      <td>3388</td>\n",
       "    </tr>\n",
       "    <tr>\n",
       "      <th>47</th>\n",
       "      <td>portfolio_materials_basic_allocation</td>\n",
       "      <td>3298</td>\n",
       "    </tr>\n",
       "    <tr>\n",
       "      <th>26</th>\n",
       "      <td>mmc</td>\n",
       "      <td>3223</td>\n",
       "    </tr>\n",
       "    <tr>\n",
       "      <th>8</th>\n",
       "      <td>cash_percent_of_portfolio</td>\n",
       "      <td>3188</td>\n",
       "    </tr>\n",
       "    <tr>\n",
       "      <th>73</th>\n",
       "      <td>3years_fund_std</td>\n",
       "      <td>3115</td>\n",
       "    </tr>\n",
       "    <tr>\n",
       "      <th>112</th>\n",
       "      <td>10_years_return_category</td>\n",
       "      <td>3096</td>\n",
       "    </tr>\n",
       "    <tr>\n",
       "      <th>5</th>\n",
       "      <td>2012_return_category</td>\n",
       "      <td>3094</td>\n",
       "    </tr>\n",
       "    <tr>\n",
       "      <th>19</th>\n",
       "      <td>1_year_return_fund</td>\n",
       "      <td>3068</td>\n",
       "    </tr>\n",
       "    <tr>\n",
       "      <th>87</th>\n",
       "      <td>5_years_beta_fund</td>\n",
       "      <td>3026</td>\n",
       "    </tr>\n",
       "    <tr>\n",
       "      <th>4</th>\n",
       "      <td>2014_category_return</td>\n",
       "      <td>2991</td>\n",
       "    </tr>\n",
       "    <tr>\n",
       "      <th>103</th>\n",
       "      <td>10_years_beta_fund</td>\n",
       "      <td>2921</td>\n",
       "    </tr>\n",
       "    <tr>\n",
       "      <th>18</th>\n",
       "      <td>2017_category_return</td>\n",
       "      <td>2909</td>\n",
       "    </tr>\n",
       "    <tr>\n",
       "      <th>45</th>\n",
       "      <td>portfolio_industrials_allocation</td>\n",
       "      <td>2878</td>\n",
       "    </tr>\n",
       "    <tr>\n",
       "      <th>101</th>\n",
       "      <td>10years_fund_std</td>\n",
       "      <td>2869</td>\n",
       "    </tr>\n",
       "    <tr>\n",
       "      <th>53</th>\n",
       "      <td>portfolio_cyclical_consumer_allocation</td>\n",
       "      <td>2764</td>\n",
       "    </tr>\n",
       "    <tr>\n",
       "      <th>48</th>\n",
       "      <td>portfolio_energy_allocation</td>\n",
       "      <td>2710</td>\n",
       "    </tr>\n",
       "    <tr>\n",
       "      <th>49</th>\n",
       "      <td>portfolio_consumer_defence_allocation</td>\n",
       "      <td>2704</td>\n",
       "    </tr>\n",
       "    <tr>\n",
       "      <th>50</th>\n",
       "      <td>portfolio_healthcare_allocation</td>\n",
       "      <td>2701</td>\n",
       "    </tr>\n",
       "    <tr>\n",
       "      <th>44</th>\n",
       "      <td>portfolio_financial_services</td>\n",
       "      <td>2649</td>\n",
       "    </tr>\n",
       "    <tr>\n",
       "      <th>14</th>\n",
       "      <td>2013_return_fund</td>\n",
       "      <td>2537</td>\n",
       "    </tr>\n",
       "    <tr>\n",
       "      <th>43</th>\n",
       "      <td>portfolio_communication_allocation</td>\n",
       "      <td>2520</td>\n",
       "    </tr>\n",
       "    <tr>\n",
       "      <th>76</th>\n",
       "      <td>3_years_alpha_category</td>\n",
       "      <td>2519</td>\n",
       "    </tr>\n",
       "    <tr>\n",
       "      <th>51</th>\n",
       "      <td>portfolio_property_allocation</td>\n",
       "      <td>2505</td>\n",
       "    </tr>\n",
       "    <tr>\n",
       "      <th>120</th>\n",
       "      <td>category_ratio_net_annual_expense</td>\n",
       "      <td>2491</td>\n",
       "    </tr>\n",
       "    <tr>\n",
       "      <th>35</th>\n",
       "      <td>2017_return_fund</td>\n",
       "      <td>2484</td>\n",
       "    </tr>\n",
       "    <tr>\n",
       "      <th>46</th>\n",
       "      <td>portfolio_tech_allocation</td>\n",
       "      <td>2444</td>\n",
       "    </tr>\n",
       "    <tr>\n",
       "      <th>52</th>\n",
       "      <td>portfolio_utils_allocation</td>\n",
       "      <td>2329</td>\n",
       "    </tr>\n",
       "    <tr>\n",
       "      <th>85</th>\n",
       "      <td>5years_fund_std</td>\n",
       "      <td>2280</td>\n",
       "    </tr>\n",
       "    <tr>\n",
       "      <th>34</th>\n",
       "      <td>2018_return_fund</td>\n",
       "      <td>2261</td>\n",
       "    </tr>\n",
       "    <tr>\n",
       "      <th>100</th>\n",
       "      <td>10years_fund_r_squared</td>\n",
       "      <td>2152</td>\n",
       "    </tr>\n",
       "    <tr>\n",
       "      <th>63</th>\n",
       "      <td>bbb_rating</td>\n",
       "      <td>1986</td>\n",
       "    </tr>\n",
       "    <tr>\n",
       "      <th>64</th>\n",
       "      <td>duration_bond</td>\n",
       "      <td>1962</td>\n",
       "    </tr>\n",
       "    <tr>\n",
       "      <th>58</th>\n",
       "      <td>maturity_bond</td>\n",
       "      <td>1924</td>\n",
       "    </tr>\n",
       "    <tr>\n",
       "      <th>40</th>\n",
       "      <td>2010_return_category</td>\n",
       "      <td>1810</td>\n",
       "    </tr>\n",
       "    <tr>\n",
       "      <th>57</th>\n",
       "      <td>others_rating</td>\n",
       "      <td>1805</td>\n",
       "    </tr>\n",
       "    <tr>\n",
       "      <th>62</th>\n",
       "      <td>aa_rating</td>\n",
       "      <td>1672</td>\n",
       "    </tr>\n",
       "    <tr>\n",
       "      <th>61</th>\n",
       "      <td>aaa_rating</td>\n",
       "      <td>1654</td>\n",
       "    </tr>\n",
       "    <tr>\n",
       "      <th>20</th>\n",
       "      <td>pe_ratio</td>\n",
       "      <td>1637</td>\n",
       "    </tr>\n",
       "    <tr>\n",
       "      <th>41</th>\n",
       "      <td>2013_category_return</td>\n",
       "      <td>1599</td>\n",
       "    </tr>\n",
       "    <tr>\n",
       "      <th>60</th>\n",
       "      <td>a_rating</td>\n",
       "      <td>1537</td>\n",
       "    </tr>\n",
       "    <tr>\n",
       "      <th>27</th>\n",
       "      <td>stock_percent_of_portfolio</td>\n",
       "      <td>1477</td>\n",
       "    </tr>\n",
       "    <tr>\n",
       "      <th>56</th>\n",
       "      <td>below_b_rating</td>\n",
       "      <td>1475</td>\n",
       "    </tr>\n",
       "    <tr>\n",
       "      <th>67</th>\n",
       "      <td>3years_category_std</td>\n",
       "      <td>1451</td>\n",
       "    </tr>\n",
       "    <tr>\n",
       "      <th>36</th>\n",
       "      <td>category_return_2015</td>\n",
       "      <td>1401</td>\n",
       "    </tr>\n",
       "    <tr>\n",
       "      <th>93</th>\n",
       "      <td>5_years_alpha_category</td>\n",
       "      <td>1399</td>\n",
       "    </tr>\n",
       "    <tr>\n",
       "      <th>97</th>\n",
       "      <td>10years_category_r_squared</td>\n",
       "      <td>1386</td>\n",
       "    </tr>\n",
       "    <tr>\n",
       "      <th>79</th>\n",
       "      <td>3years_category_r_squared</td>\n",
       "      <td>1366</td>\n",
       "    </tr>\n",
       "    <tr>\n",
       "      <th>0</th>\n",
       "      <td>yield</td>\n",
       "      <td>1360</td>\n",
       "    </tr>\n",
       "    <tr>\n",
       "      <th>7</th>\n",
       "      <td>category_return_1year</td>\n",
       "      <td>1341</td>\n",
       "    </tr>\n",
       "    <tr>\n",
       "      <th>81</th>\n",
       "      <td>category_r_squared_5years</td>\n",
       "      <td>1277</td>\n",
       "    </tr>\n",
       "    <tr>\n",
       "      <th>91</th>\n",
       "      <td>5yrs_treynor_ratio_category</td>\n",
       "      <td>1268</td>\n",
       "    </tr>\n",
       "    <tr>\n",
       "      <th>54</th>\n",
       "      <td>bb_rating</td>\n",
       "      <td>1246</td>\n",
       "    </tr>\n",
       "    <tr>\n",
       "      <th>10</th>\n",
       "      <td>2011_return_category</td>\n",
       "      <td>1146</td>\n",
       "    </tr>\n",
       "    <tr>\n",
       "      <th>28</th>\n",
       "      <td>2016_return_category</td>\n",
       "      <td>1144</td>\n",
       "    </tr>\n",
       "    <tr>\n",
       "      <th>15</th>\n",
       "      <td>fund_return_3months</td>\n",
       "      <td>1129</td>\n",
       "    </tr>\n",
       "    <tr>\n",
       "      <th>1</th>\n",
       "      <td>return_ytd</td>\n",
       "      <td>1101</td>\n",
       "    </tr>\n",
       "    <tr>\n",
       "      <th>9</th>\n",
       "      <td>pc_ratio</td>\n",
       "      <td>1077</td>\n",
       "    </tr>\n",
       "    <tr>\n",
       "      <th>11</th>\n",
       "      <td>ytd_return_fund</td>\n",
       "      <td>1058</td>\n",
       "    </tr>\n",
       "    <tr>\n",
       "      <th>6</th>\n",
       "      <td>2018_return_category</td>\n",
       "      <td>1057</td>\n",
       "    </tr>\n",
       "    <tr>\n",
       "      <th>108</th>\n",
       "      <td>10_years_alpha_category</td>\n",
       "      <td>1030</td>\n",
       "    </tr>\n",
       "    <tr>\n",
       "      <th>86</th>\n",
       "      <td>5yrs_sharpe_ratio_category</td>\n",
       "      <td>981</td>\n",
       "    </tr>\n",
       "    <tr>\n",
       "      <th>37</th>\n",
       "      <td>1_month_fund_return</td>\n",
       "      <td>893</td>\n",
       "    </tr>\n",
       "    <tr>\n",
       "      <th>38</th>\n",
       "      <td>bond_percentage_of_porfolio</td>\n",
       "      <td>867</td>\n",
       "    </tr>\n",
       "    <tr>\n",
       "      <th>59</th>\n",
       "      <td>b_rating</td>\n",
       "      <td>828</td>\n",
       "    </tr>\n",
       "    <tr>\n",
       "      <th>69</th>\n",
       "      <td>3yrs_treynor_ratio_category</td>\n",
       "      <td>771</td>\n",
       "    </tr>\n",
       "    <tr>\n",
       "      <th>106</th>\n",
       "      <td>10yrs_treynor_ratio_category</td>\n",
       "      <td>756</td>\n",
       "    </tr>\n",
       "    <tr>\n",
       "      <th>32</th>\n",
       "      <td>fund_return_3years_x</td>\n",
       "      <td>709</td>\n",
       "    </tr>\n",
       "    <tr>\n",
       "      <th>110</th>\n",
       "      <td>10years_category_std</td>\n",
       "      <td>504</td>\n",
       "    </tr>\n",
       "    <tr>\n",
       "      <th>24</th>\n",
       "      <td>portfolio_others</td>\n",
       "      <td>457</td>\n",
       "    </tr>\n",
       "    <tr>\n",
       "      <th>78</th>\n",
       "      <td>3yrs_sharpe_ratio_category</td>\n",
       "      <td>394</td>\n",
       "    </tr>\n",
       "    <tr>\n",
       "      <th>95</th>\n",
       "      <td>5years_category_std</td>\n",
       "      <td>364</td>\n",
       "    </tr>\n",
       "    <tr>\n",
       "      <th>16</th>\n",
       "      <td>ytd_return_category</td>\n",
       "      <td>341</td>\n",
       "    </tr>\n",
       "    <tr>\n",
       "      <th>115</th>\n",
       "      <td>investment_class_2.0</td>\n",
       "      <td>322</td>\n",
       "    </tr>\n",
       "    <tr>\n",
       "      <th>114</th>\n",
       "      <td>investment_class_1.0</td>\n",
       "      <td>317</td>\n",
       "    </tr>\n",
       "    <tr>\n",
       "      <th>29</th>\n",
       "      <td>ps_ratio</td>\n",
       "      <td>256</td>\n",
       "    </tr>\n",
       "    <tr>\n",
       "      <th>13</th>\n",
       "      <td>category_return_1month</td>\n",
       "      <td>254</td>\n",
       "    </tr>\n",
       "    <tr>\n",
       "      <th>22</th>\n",
       "      <td>portfolio_convertable</td>\n",
       "      <td>225</td>\n",
       "    </tr>\n",
       "    <tr>\n",
       "      <th>39</th>\n",
       "      <td>portfolio_preferred</td>\n",
       "      <td>223</td>\n",
       "    </tr>\n",
       "    <tr>\n",
       "      <th>17</th>\n",
       "      <td>pb_ratio</td>\n",
       "      <td>214</td>\n",
       "    </tr>\n",
       "    <tr>\n",
       "      <th>117</th>\n",
       "      <td>fund_size_1.0</td>\n",
       "      <td>145</td>\n",
       "    </tr>\n",
       "    <tr>\n",
       "      <th>113</th>\n",
       "      <td>investment_class_0.0</td>\n",
       "      <td>126</td>\n",
       "    </tr>\n",
       "    <tr>\n",
       "      <th>118</th>\n",
       "      <td>fund_size_2.0</td>\n",
       "      <td>105</td>\n",
       "    </tr>\n",
       "    <tr>\n",
       "      <th>90</th>\n",
       "      <td>5_years_return_mean_annual_category</td>\n",
       "      <td>49</td>\n",
       "    </tr>\n",
       "    <tr>\n",
       "      <th>116</th>\n",
       "      <td>fund_size_0.0</td>\n",
       "      <td>36</td>\n",
       "    </tr>\n",
       "    <tr>\n",
       "      <th>77</th>\n",
       "      <td>3_years_return_mean_annual_category</td>\n",
       "      <td>33</td>\n",
       "    </tr>\n",
       "    <tr>\n",
       "      <th>105</th>\n",
       "      <td>10_years_return_mean_annual_category</td>\n",
       "      <td>19</td>\n",
       "    </tr>\n",
       "    <tr>\n",
       "      <th>23</th>\n",
       "      <td>3_months_return_category</td>\n",
       "      <td>19</td>\n",
       "    </tr>\n",
       "    <tr>\n",
       "      <th>109</th>\n",
       "      <td>10_years_beta_category</td>\n",
       "      <td>9</td>\n",
       "    </tr>\n",
       "    <tr>\n",
       "      <th>102</th>\n",
       "      <td>10yrs_sharpe_ratio_category</td>\n",
       "      <td>5</td>\n",
       "    </tr>\n",
       "    <tr>\n",
       "      <th>94</th>\n",
       "      <td>5_years_beta_category</td>\n",
       "      <td>2</td>\n",
       "    </tr>\n",
       "    <tr>\n",
       "      <th>74</th>\n",
       "      <td>category_beta_3years</td>\n",
       "      <td>1</td>\n",
       "    </tr>\n",
       "    <tr>\n",
       "      <th>55</th>\n",
       "      <td>us_govt_bond_rating</td>\n",
       "      <td>0</td>\n",
       "    </tr>\n",
       "  </tbody>\n",
       "</table>\n",
       "</div>"
      ],
      "text/plain": [
       "                                    columns    Imp\n",
       "42            fund_ratio_net_annual_expense  13198\n",
       "66                       3_years_alpha_fund  11346\n",
       "2                                  years_up  10863\n",
       "83                       5_years_alpha_fund   8713\n",
       "107                    10_years_return_fund   8697\n",
       "75                     fund_return_3years_y   8541\n",
       "92                      5_years_return_fund   8537\n",
       "119                            total_assets   8276\n",
       "82                   5yrs_sharpe_ratio_fund   7548\n",
       "96                  5_years_return_category   7168\n",
       "68                   3yrs_sharpe_ratio_fund   6756\n",
       "99                      10_years_alpha_fund   6377\n",
       "98                  10yrs_sharpe_ratio_fund   5163\n",
       "88                  5yrs_treynor_ratio_fund   4849\n",
       "72                    3years_fund_r_squared   4532\n",
       "89          5_years_return_mean_annual_fund   4493\n",
       "65                  3yrs_treynor_ratio_fund   4467\n",
       "71                         fund_beta_3years   4218\n",
       "31                         2010_return_fund   4173\n",
       "70          3_years_return_mean_annual_fund   4086\n",
       "33                         2012_fund_return   4028\n",
       "3                                years_down   4016\n",
       "111        10_years_return_mean_annual_fund   4013\n",
       "12                         2014_return_fund   3915\n",
       "80                  3_years_return_category   3826\n",
       "21                         2015_return_fund   3625\n",
       "30                         2011_return_fund   3570\n",
       "84                    5years_fund_r_squared   3564\n",
       "104                10yrs_treynor_ratio_fund   3509\n",
       "25                         2016_return_fund   3388\n",
       "47     portfolio_materials_basic_allocation   3298\n",
       "26                                      mmc   3223\n",
       "8                 cash_percent_of_portfolio   3188\n",
       "73                          3years_fund_std   3115\n",
       "112                10_years_return_category   3096\n",
       "5                      2012_return_category   3094\n",
       "19                       1_year_return_fund   3068\n",
       "87                        5_years_beta_fund   3026\n",
       "4                      2014_category_return   2991\n",
       "103                      10_years_beta_fund   2921\n",
       "18                     2017_category_return   2909\n",
       "45         portfolio_industrials_allocation   2878\n",
       "101                        10years_fund_std   2869\n",
       "53   portfolio_cyclical_consumer_allocation   2764\n",
       "48              portfolio_energy_allocation   2710\n",
       "49    portfolio_consumer_defence_allocation   2704\n",
       "50          portfolio_healthcare_allocation   2701\n",
       "44             portfolio_financial_services   2649\n",
       "14                         2013_return_fund   2537\n",
       "43       portfolio_communication_allocation   2520\n",
       "76                   3_years_alpha_category   2519\n",
       "51            portfolio_property_allocation   2505\n",
       "120       category_ratio_net_annual_expense   2491\n",
       "35                         2017_return_fund   2484\n",
       "46                portfolio_tech_allocation   2444\n",
       "52               portfolio_utils_allocation   2329\n",
       "85                          5years_fund_std   2280\n",
       "34                         2018_return_fund   2261\n",
       "100                  10years_fund_r_squared   2152\n",
       "63                               bbb_rating   1986\n",
       "64                            duration_bond   1962\n",
       "58                            maturity_bond   1924\n",
       "40                     2010_return_category   1810\n",
       "57                            others_rating   1805\n",
       "62                                aa_rating   1672\n",
       "61                               aaa_rating   1654\n",
       "20                                 pe_ratio   1637\n",
       "41                     2013_category_return   1599\n",
       "60                                 a_rating   1537\n",
       "27               stock_percent_of_portfolio   1477\n",
       "56                           below_b_rating   1475\n",
       "67                      3years_category_std   1451\n",
       "36                     category_return_2015   1401\n",
       "93                   5_years_alpha_category   1399\n",
       "97               10years_category_r_squared   1386\n",
       "79                3years_category_r_squared   1366\n",
       "0                                     yield   1360\n",
       "7                     category_return_1year   1341\n",
       "81                category_r_squared_5years   1277\n",
       "91              5yrs_treynor_ratio_category   1268\n",
       "54                                bb_rating   1246\n",
       "10                     2011_return_category   1146\n",
       "28                     2016_return_category   1144\n",
       "15                      fund_return_3months   1129\n",
       "1                                return_ytd   1101\n",
       "9                                  pc_ratio   1077\n",
       "11                          ytd_return_fund   1058\n",
       "6                      2018_return_category   1057\n",
       "108                 10_years_alpha_category   1030\n",
       "86               5yrs_sharpe_ratio_category    981\n",
       "37                      1_month_fund_return    893\n",
       "38              bond_percentage_of_porfolio    867\n",
       "59                                 b_rating    828\n",
       "69              3yrs_treynor_ratio_category    771\n",
       "106            10yrs_treynor_ratio_category    756\n",
       "32                     fund_return_3years_x    709\n",
       "110                    10years_category_std    504\n",
       "24                         portfolio_others    457\n",
       "78               3yrs_sharpe_ratio_category    394\n",
       "95                      5years_category_std    364\n",
       "16                      ytd_return_category    341\n",
       "115                    investment_class_2.0    322\n",
       "114                    investment_class_1.0    317\n",
       "29                                 ps_ratio    256\n",
       "13                   category_return_1month    254\n",
       "22                    portfolio_convertable    225\n",
       "39                      portfolio_preferred    223\n",
       "17                                 pb_ratio    214\n",
       "117                           fund_size_1.0    145\n",
       "113                    investment_class_0.0    126\n",
       "118                           fund_size_2.0    105\n",
       "90      5_years_return_mean_annual_category     49\n",
       "116                           fund_size_0.0     36\n",
       "77      3_years_return_mean_annual_category     33\n",
       "105    10_years_return_mean_annual_category     19\n",
       "23                 3_months_return_category     19\n",
       "109                  10_years_beta_category      9\n",
       "102             10yrs_sharpe_ratio_category      5\n",
       "94                    5_years_beta_category      2\n",
       "74                     category_beta_3years      1\n",
       "55                      us_govt_bond_rating      0"
      ]
     },
     "execution_count": 1981,
     "metadata": {},
     "output_type": "execute_result"
    }
   ],
   "source": [
    "df_fi.sort_values(by='Imp',ascending=False)"
   ]
  },
  {
   "cell_type": "code",
   "execution_count": 558,
   "metadata": {},
   "outputs": [],
   "source": [
    "sample_sub=pd.read_csv('sample_sub.csv')\n",
    "lgbm_t_pred=lgbm_t.predict(sample_sub[cols])"
   ]
  },
  {
   "cell_type": "code",
   "execution_count": 577,
   "metadata": {},
   "outputs": [
    {
     "data": {
      "text/plain": [
       "numpy.ndarray"
      ]
     },
     "execution_count": 577,
     "metadata": {},
     "output_type": "execute_result"
    }
   ],
   "source": [
    "type(lgbm_t_pred)"
   ]
  },
  {
   "cell_type": "code",
   "execution_count": 560,
   "metadata": {},
   "outputs": [],
   "source": [
    "sample_sub.drop(['Unnamed: 0'],axis=1,inplace=True)\n",
    "sample_sub['greatstone_rating']=lgbm_t_pred"
   ]
  },
  {
   "cell_type": "code",
   "execution_count": 561,
   "metadata": {},
   "outputs": [],
   "source": [
    "##iter 20 : tuned learning rate and n estimators\n",
    "#sample_sub[['fund_id','greatstone_rating']].to_csv('sample_submission_v20.csv',index=False)\n",
    "##iter 21 : tuned other params while keeping nestimator and learning rate fix\n",
    "sample_sub[['fund_id','greatstone_rating']].to_csv('sample_submission_v21.csv',index=False)"
   ]
  },
  {
   "cell_type": "code",
   "execution_count": null,
   "metadata": {},
   "outputs": [],
   "source": [
    "## Lightgbm with tuning \n",
    "params={'learning_rate':[0.05,0.08,0.1]}\n",
    "lgbm=LGBMClassifier(objective='LGBMClassifier',random_state=123)\n",
    "gs=GridSearchCV(lgbm,param_grid=params,n_jobs=-1,cv=5,verbose=1)"
   ]
  },
  {
   "cell_type": "code",
   "execution_count": null,
   "metadata": {},
   "outputs": [],
   "source": [
    "gs.fit(X,y)"
   ]
  },
  {
   "cell_type": "code",
   "execution_count": null,
   "metadata": {},
   "outputs": [],
   "source": [
    "gs.best_params_"
   ]
  },
  {
   "cell_type": "code",
   "execution_count": 1946,
   "metadata": {},
   "outputs": [
    {
     "data": {
      "text/plain": [
       "LGBMClassifier(boosting_type='dart', class_weight=None, colsample_bytree=1.0,\n",
       "               importance_type='split', learning_rate=0.05, max_depth=-1,\n",
       "               min_child_samples=30, min_child_weight=0.001, min_split_gain=0.0,\n",
       "               n_estimators=2500, n_jobs=-1, num_leaves=31,\n",
       "               objective='LGBMClassifier', random_state=1111, reg_alpha=0.0,\n",
       "               reg_lambda=0.2, silent=True, subsample=1.0,\n",
       "               subsample_for_bin=200000, subsample_freq=0)"
      ]
     },
     "execution_count": 1946,
     "metadata": {},
     "output_type": "execute_result"
    }
   ],
   "source": [
    "# learning rate tuning \n",
    "lgbm_t=LGBMClassifier(boosting_type='dart',learning_rate=0.05,n_estimators=2500,\n",
    "                      objective='LGBMClassifier',reg_lambda=0.2,min_child_samples=30,\n",
    "                      max_depth=-1,random_state=1111)\n",
    "lgbm_t.fit(X,y)"
   ]
  },
  {
   "cell_type": "code",
   "execution_count": 1947,
   "metadata": {},
   "outputs": [],
   "source": [
    "sample_sub=pd.read_csv('sample_sub.csv')\n",
    "lgbm_t_pred=lgbm_t.predict(sample_sub[cols])"
   ]
  },
  {
   "cell_type": "code",
   "execution_count": 1948,
   "metadata": {},
   "outputs": [
    {
     "data": {
      "text/plain": [
       "array([4, 2, 4, ..., 4, 4, 4])"
      ]
     },
     "execution_count": 1948,
     "metadata": {},
     "output_type": "execute_result"
    }
   ],
   "source": [
    "lgbm_t_pred"
   ]
  },
  {
   "cell_type": "code",
   "execution_count": 1949,
   "metadata": {},
   "outputs": [],
   "source": [
    "sample_sub.drop(['Unnamed: 0'],axis=1,inplace=True)\n",
    "sample_sub['greatstone_rating']=lgbm_t_pred"
   ]
  },
  {
   "cell_type": "code",
   "execution_count": 1950,
   "metadata": {},
   "outputs": [],
   "source": [
    "##iter 19 : tuned learning rate and n estimators\n",
    "sample_sub[['fund_id','greatstone_rating']].to_csv('sample_submission_v19.csv',index=False)"
   ]
  },
  {
   "cell_type": "markdown",
   "metadata": {},
   "source": [
    "## Catboost "
   ]
  },
  {
   "cell_type": "code",
   "execution_count": 563,
   "metadata": {},
   "outputs": [],
   "source": [
    "import catboost"
   ]
  },
  {
   "cell_type": "code",
   "execution_count": 564,
   "metadata": {},
   "outputs": [],
   "source": [
    "from catboost import CatBoostClassifier, Pool"
   ]
  },
  {
   "cell_type": "code",
   "execution_count": 732,
   "metadata": {},
   "outputs": [],
   "source": [
    "cbc=CatBoostClassifier(iterations=4000,random_state=123,learning_rate=0.1,depth=6,l2_leaf_reg=4.0)"
   ]
  },
  {
   "cell_type": "code",
   "execution_count": 733,
   "metadata": {},
   "outputs": [
    {
     "name": "stdout",
     "output_type": "stream",
     "text": [
      "0:\tlearn: 1.6941354\ttotal: 197ms\tremaining: 13m 9s\n",
      "10:\tlearn: 1.2669061\ttotal: 984ms\tremaining: 5m 56s\n",
      "20:\tlearn: 1.1112486\ttotal: 2.39s\tremaining: 7m 32s\n",
      "30:\tlearn: 1.0290487\ttotal: 3.39s\tremaining: 7m 14s\n",
      "40:\tlearn: 0.9760620\ttotal: 4.44s\tremaining: 7m 8s\n",
      "50:\tlearn: 0.9295663\ttotal: 4.95s\tremaining: 6m 23s\n",
      "60:\tlearn: 0.8938604\ttotal: 5.45s\tremaining: 5m 52s\n",
      "70:\tlearn: 0.8686736\ttotal: 5.94s\tremaining: 5m 28s\n",
      "80:\tlearn: 0.8456598\ttotal: 6.43s\tremaining: 5m 11s\n",
      "90:\tlearn: 0.8227940\ttotal: 6.97s\tremaining: 4m 59s\n",
      "100:\tlearn: 0.8034826\ttotal: 7.48s\tremaining: 4m 48s\n",
      "110:\tlearn: 0.7842113\ttotal: 7.99s\tremaining: 4m 39s\n",
      "120:\tlearn: 0.7683787\ttotal: 8.53s\tremaining: 4m 33s\n",
      "130:\tlearn: 0.7525870\ttotal: 9.06s\tremaining: 4m 27s\n",
      "140:\tlearn: 0.7356182\ttotal: 9.62s\tremaining: 4m 23s\n",
      "150:\tlearn: 0.7210051\ttotal: 10.2s\tremaining: 4m 19s\n",
      "160:\tlearn: 0.7072998\ttotal: 10.7s\tremaining: 4m 15s\n",
      "170:\tlearn: 0.6954464\ttotal: 11.3s\tremaining: 4m 12s\n",
      "180:\tlearn: 0.6853024\ttotal: 11.9s\tremaining: 4m 10s\n",
      "190:\tlearn: 0.6745728\ttotal: 12.5s\tremaining: 4m 8s\n",
      "200:\tlearn: 0.6656924\ttotal: 13s\tremaining: 4m 6s\n",
      "210:\tlearn: 0.6566687\ttotal: 13.6s\tremaining: 4m 3s\n",
      "220:\tlearn: 0.6483052\ttotal: 14.1s\tremaining: 4m 1s\n",
      "230:\tlearn: 0.6418545\ttotal: 14.7s\tremaining: 3m 59s\n",
      "240:\tlearn: 0.6333308\ttotal: 15.3s\tremaining: 3m 58s\n",
      "250:\tlearn: 0.6251467\ttotal: 15.9s\tremaining: 3m 56s\n",
      "260:\tlearn: 0.6172813\ttotal: 16.4s\tremaining: 3m 55s\n",
      "270:\tlearn: 0.6111941\ttotal: 17s\tremaining: 3m 53s\n",
      "280:\tlearn: 0.6043938\ttotal: 17.6s\tremaining: 3m 52s\n",
      "290:\tlearn: 0.5985441\ttotal: 18.2s\tremaining: 3m 51s\n",
      "300:\tlearn: 0.5938780\ttotal: 18.7s\tremaining: 3m 50s\n",
      "310:\tlearn: 0.5866823\ttotal: 19.3s\tremaining: 3m 49s\n",
      "320:\tlearn: 0.5823660\ttotal: 19.9s\tremaining: 3m 47s\n",
      "330:\tlearn: 0.5764181\ttotal: 20.5s\tremaining: 3m 47s\n",
      "340:\tlearn: 0.5718078\ttotal: 21.1s\tremaining: 3m 46s\n",
      "350:\tlearn: 0.5660868\ttotal: 21.7s\tremaining: 3m 45s\n",
      "360:\tlearn: 0.5609588\ttotal: 22.3s\tremaining: 3m 45s\n",
      "370:\tlearn: 0.5565976\ttotal: 22.9s\tremaining: 3m 44s\n",
      "380:\tlearn: 0.5517794\ttotal: 23.6s\tremaining: 3m 44s\n",
      "390:\tlearn: 0.5470716\ttotal: 24.4s\tremaining: 3m 45s\n",
      "400:\tlearn: 0.5428432\ttotal: 25.6s\tremaining: 3m 49s\n",
      "410:\tlearn: 0.5379239\ttotal: 27.1s\tremaining: 3m 56s\n",
      "420:\tlearn: 0.5344567\ttotal: 28s\tremaining: 3m 57s\n",
      "430:\tlearn: 0.5285442\ttotal: 29.7s\tremaining: 4m 6s\n",
      "440:\tlearn: 0.5241094\ttotal: 31.2s\tremaining: 4m 11s\n",
      "450:\tlearn: 0.5201918\ttotal: 32.5s\tremaining: 4m 15s\n",
      "460:\tlearn: 0.5158525\ttotal: 34.1s\tremaining: 4m 21s\n",
      "470:\tlearn: 0.5118533\ttotal: 34.7s\tremaining: 4m 20s\n",
      "480:\tlearn: 0.5072878\ttotal: 35.6s\tremaining: 4m 20s\n",
      "490:\tlearn: 0.5043728\ttotal: 36.2s\tremaining: 4m 18s\n",
      "500:\tlearn: 0.5004626\ttotal: 37s\tremaining: 4m 18s\n",
      "510:\tlearn: 0.4972192\ttotal: 37.8s\tremaining: 4m 18s\n",
      "520:\tlearn: 0.4938847\ttotal: 38.6s\tremaining: 4m 18s\n",
      "530:\tlearn: 0.4906622\ttotal: 39.3s\tremaining: 4m 16s\n",
      "540:\tlearn: 0.4866373\ttotal: 40.1s\tremaining: 4m 16s\n",
      "550:\tlearn: 0.4829381\ttotal: 40.9s\tremaining: 4m 15s\n",
      "560:\tlearn: 0.4801436\ttotal: 41.4s\tremaining: 4m 14s\n",
      "570:\tlearn: 0.4767183\ttotal: 42s\tremaining: 4m 12s\n",
      "580:\tlearn: 0.4741357\ttotal: 42.6s\tremaining: 4m 10s\n",
      "590:\tlearn: 0.4713454\ttotal: 43.1s\tremaining: 4m 8s\n",
      "600:\tlearn: 0.4681715\ttotal: 43.7s\tremaining: 4m 7s\n",
      "610:\tlearn: 0.4648927\ttotal: 44.3s\tremaining: 4m 5s\n",
      "620:\tlearn: 0.4620169\ttotal: 44.8s\tremaining: 4m 3s\n",
      "630:\tlearn: 0.4594461\ttotal: 45.4s\tremaining: 4m 2s\n",
      "640:\tlearn: 0.4566361\ttotal: 45.9s\tremaining: 4m\n",
      "650:\tlearn: 0.4542427\ttotal: 46.4s\tremaining: 3m 58s\n",
      "660:\tlearn: 0.4518366\ttotal: 47s\tremaining: 3m 57s\n",
      "670:\tlearn: 0.4492727\ttotal: 47.5s\tremaining: 3m 55s\n",
      "680:\tlearn: 0.4469489\ttotal: 48.2s\tremaining: 3m 54s\n",
      "690:\tlearn: 0.4444218\ttotal: 48.8s\tremaining: 3m 53s\n",
      "700:\tlearn: 0.4413961\ttotal: 49.5s\tremaining: 3m 52s\n",
      "710:\tlearn: 0.4388335\ttotal: 50.1s\tremaining: 3m 51s\n",
      "720:\tlearn: 0.4365656\ttotal: 50.8s\tremaining: 3m 51s\n",
      "730:\tlearn: 0.4345084\ttotal: 51.5s\tremaining: 3m 50s\n",
      "740:\tlearn: 0.4319333\ttotal: 52.5s\tremaining: 3m 50s\n",
      "750:\tlearn: 0.4298138\ttotal: 54.1s\tremaining: 3m 54s\n",
      "760:\tlearn: 0.4272065\ttotal: 55.3s\tremaining: 3m 55s\n",
      "770:\tlearn: 0.4251187\ttotal: 55.9s\tremaining: 3m 54s\n",
      "780:\tlearn: 0.4224932\ttotal: 56.4s\tremaining: 3m 52s\n",
      "790:\tlearn: 0.4202908\ttotal: 57s\tremaining: 3m 51s\n",
      "800:\tlearn: 0.4183909\ttotal: 57.6s\tremaining: 3m 49s\n",
      "810:\tlearn: 0.4165096\ttotal: 58.3s\tremaining: 3m 49s\n",
      "820:\tlearn: 0.4143356\ttotal: 58.9s\tremaining: 3m 47s\n",
      "830:\tlearn: 0.4128574\ttotal: 59.8s\tremaining: 3m 47s\n",
      "840:\tlearn: 0.4108180\ttotal: 1m\tremaining: 3m 48s\n",
      "850:\tlearn: 0.4090331\ttotal: 1m 1s\tremaining: 3m 48s\n",
      "860:\tlearn: 0.4061300\ttotal: 1m 2s\tremaining: 3m 47s\n",
      "870:\tlearn: 0.4036896\ttotal: 1m 2s\tremaining: 3m 46s\n",
      "880:\tlearn: 0.4016557\ttotal: 1m 3s\tremaining: 3m 45s\n",
      "890:\tlearn: 0.3997439\ttotal: 1m 4s\tremaining: 3m 43s\n",
      "900:\tlearn: 0.3975615\ttotal: 1m 5s\tremaining: 3m 44s\n",
      "910:\tlearn: 0.3955430\ttotal: 1m 6s\tremaining: 3m 44s\n",
      "920:\tlearn: 0.3934662\ttotal: 1m 6s\tremaining: 3m 43s\n",
      "930:\tlearn: 0.3914424\ttotal: 1m 7s\tremaining: 3m 42s\n",
      "940:\tlearn: 0.3896262\ttotal: 1m 8s\tremaining: 3m 41s\n",
      "950:\tlearn: 0.3878093\ttotal: 1m 8s\tremaining: 3m 40s\n",
      "960:\tlearn: 0.3855970\ttotal: 1m 9s\tremaining: 3m 39s\n",
      "970:\tlearn: 0.3835531\ttotal: 1m 9s\tremaining: 3m 38s\n",
      "980:\tlearn: 0.3817197\ttotal: 1m 10s\tremaining: 3m 37s\n",
      "990:\tlearn: 0.3798723\ttotal: 1m 11s\tremaining: 3m 35s\n",
      "1000:\tlearn: 0.3782358\ttotal: 1m 11s\tremaining: 3m 34s\n",
      "1010:\tlearn: 0.3766388\ttotal: 1m 12s\tremaining: 3m 33s\n",
      "1020:\tlearn: 0.3749117\ttotal: 1m 12s\tremaining: 3m 32s\n",
      "1030:\tlearn: 0.3734832\ttotal: 1m 13s\tremaining: 3m 31s\n",
      "1040:\tlearn: 0.3719931\ttotal: 1m 14s\tremaining: 3m 30s\n",
      "1050:\tlearn: 0.3702813\ttotal: 1m 14s\tremaining: 3m 29s\n",
      "1060:\tlearn: 0.3689256\ttotal: 1m 15s\tremaining: 3m 28s\n",
      "1070:\tlearn: 0.3670453\ttotal: 1m 16s\tremaining: 3m 28s\n",
      "1080:\tlearn: 0.3652071\ttotal: 1m 16s\tremaining: 3m 27s\n",
      "1090:\tlearn: 0.3634562\ttotal: 1m 17s\tremaining: 3m 26s\n",
      "1100:\tlearn: 0.3615950\ttotal: 1m 18s\tremaining: 3m 25s\n",
      "1110:\tlearn: 0.3598916\ttotal: 1m 18s\tremaining: 3m 24s\n",
      "1120:\tlearn: 0.3579888\ttotal: 1m 19s\tremaining: 3m 23s\n",
      "1130:\tlearn: 0.3563837\ttotal: 1m 20s\tremaining: 3m 24s\n",
      "1140:\tlearn: 0.3549340\ttotal: 1m 21s\tremaining: 3m 24s\n",
      "1150:\tlearn: 0.3533472\ttotal: 1m 22s\tremaining: 3m 23s\n",
      "1160:\tlearn: 0.3517277\ttotal: 1m 22s\tremaining: 3m 22s\n",
      "1170:\tlearn: 0.3498595\ttotal: 1m 23s\tremaining: 3m 21s\n",
      "1180:\tlearn: 0.3484841\ttotal: 1m 23s\tremaining: 3m 20s\n",
      "1190:\tlearn: 0.3466731\ttotal: 1m 24s\tremaining: 3m 19s\n",
      "1200:\tlearn: 0.3452199\ttotal: 1m 25s\tremaining: 3m 20s\n",
      "1210:\tlearn: 0.3440021\ttotal: 1m 26s\tremaining: 3m 19s\n",
      "1220:\tlearn: 0.3423723\ttotal: 1m 27s\tremaining: 3m 18s\n",
      "1230:\tlearn: 0.3409807\ttotal: 1m 27s\tremaining: 3m 17s\n",
      "1240:\tlearn: 0.3399134\ttotal: 1m 28s\tremaining: 3m 16s\n",
      "1250:\tlearn: 0.3382349\ttotal: 1m 29s\tremaining: 3m 15s\n",
      "1260:\tlearn: 0.3366132\ttotal: 1m 29s\tremaining: 3m 14s\n",
      "1270:\tlearn: 0.3351790\ttotal: 1m 30s\tremaining: 3m 13s\n",
      "1280:\tlearn: 0.3338685\ttotal: 1m 30s\tremaining: 3m 13s\n",
      "1290:\tlearn: 0.3322850\ttotal: 1m 31s\tremaining: 3m 12s\n",
      "1300:\tlearn: 0.3306178\ttotal: 1m 32s\tremaining: 3m 11s\n",
      "1310:\tlearn: 0.3293816\ttotal: 1m 32s\tremaining: 3m 10s\n",
      "1320:\tlearn: 0.3283531\ttotal: 1m 33s\tremaining: 3m 9s\n",
      "1330:\tlearn: 0.3271732\ttotal: 1m 34s\tremaining: 3m 8s\n",
      "1340:\tlearn: 0.3260017\ttotal: 1m 34s\tremaining: 3m 7s\n",
      "1350:\tlearn: 0.3246128\ttotal: 1m 35s\tremaining: 3m 7s\n",
      "1360:\tlearn: 0.3230702\ttotal: 1m 36s\tremaining: 3m 6s\n",
      "1370:\tlearn: 0.3217788\ttotal: 1m 36s\tremaining: 3m 5s\n",
      "1380:\tlearn: 0.3205025\ttotal: 1m 37s\tremaining: 3m 4s\n",
      "1390:\tlearn: 0.3191966\ttotal: 1m 37s\tremaining: 3m 3s\n",
      "1400:\tlearn: 0.3180249\ttotal: 1m 38s\tremaining: 3m 2s\n",
      "1410:\tlearn: 0.3169177\ttotal: 1m 39s\tremaining: 3m 1s\n",
      "1420:\tlearn: 0.3154899\ttotal: 1m 39s\tremaining: 3m 1s\n",
      "1430:\tlearn: 0.3142383\ttotal: 1m 40s\tremaining: 3m\n",
      "1440:\tlearn: 0.3131824\ttotal: 1m 41s\tremaining: 2m 59s\n",
      "1450:\tlearn: 0.3121657\ttotal: 1m 41s\tremaining: 2m 58s\n",
      "1460:\tlearn: 0.3108074\ttotal: 1m 42s\tremaining: 2m 57s\n",
      "1470:\tlearn: 0.3095210\ttotal: 1m 42s\tremaining: 2m 56s\n",
      "1480:\tlearn: 0.3082584\ttotal: 1m 43s\tremaining: 2m 56s\n",
      "1490:\tlearn: 0.3071776\ttotal: 1m 44s\tremaining: 2m 55s\n",
      "1500:\tlearn: 0.3063032\ttotal: 1m 44s\tremaining: 2m 54s\n",
      "1510:\tlearn: 0.3052906\ttotal: 1m 45s\tremaining: 2m 53s\n",
      "1520:\tlearn: 0.3041367\ttotal: 1m 45s\tremaining: 2m 52s\n",
      "1530:\tlearn: 0.3030164\ttotal: 1m 46s\tremaining: 2m 51s\n"
     ]
    },
    {
     "name": "stdout",
     "output_type": "stream",
     "text": [
      "1540:\tlearn: 0.3018672\ttotal: 1m 47s\tremaining: 2m 51s\n",
      "1550:\tlearn: 0.3005213\ttotal: 1m 47s\tremaining: 2m 50s\n",
      "1560:\tlearn: 0.2995215\ttotal: 1m 48s\tremaining: 2m 49s\n",
      "1570:\tlearn: 0.2983356\ttotal: 1m 49s\tremaining: 2m 48s\n",
      "1580:\tlearn: 0.2970219\ttotal: 1m 49s\tremaining: 2m 47s\n",
      "1590:\tlearn: 0.2957012\ttotal: 1m 50s\tremaining: 2m 47s\n",
      "1600:\tlearn: 0.2947584\ttotal: 1m 51s\tremaining: 2m 46s\n",
      "1610:\tlearn: 0.2935504\ttotal: 1m 51s\tremaining: 2m 45s\n",
      "1620:\tlearn: 0.2926299\ttotal: 1m 52s\tremaining: 2m 45s\n",
      "1630:\tlearn: 0.2917280\ttotal: 1m 53s\tremaining: 2m 44s\n",
      "1640:\tlearn: 0.2909457\ttotal: 1m 53s\tremaining: 2m 43s\n",
      "1650:\tlearn: 0.2900404\ttotal: 1m 54s\tremaining: 2m 42s\n",
      "1660:\tlearn: 0.2890863\ttotal: 1m 55s\tremaining: 2m 42s\n",
      "1670:\tlearn: 0.2882304\ttotal: 1m 55s\tremaining: 2m 41s\n",
      "1680:\tlearn: 0.2872585\ttotal: 1m 56s\tremaining: 2m 40s\n",
      "1690:\tlearn: 0.2862061\ttotal: 1m 57s\tremaining: 2m 39s\n",
      "1700:\tlearn: 0.2852244\ttotal: 1m 57s\tremaining: 2m 38s\n",
      "1710:\tlearn: 0.2842577\ttotal: 1m 58s\tremaining: 2m 38s\n",
      "1720:\tlearn: 0.2830875\ttotal: 1m 58s\tremaining: 2m 37s\n",
      "1730:\tlearn: 0.2820209\ttotal: 1m 59s\tremaining: 2m 36s\n",
      "1740:\tlearn: 0.2806946\ttotal: 2m\tremaining: 2m 35s\n",
      "1750:\tlearn: 0.2796245\ttotal: 2m\tremaining: 2m 35s\n",
      "1760:\tlearn: 0.2786021\ttotal: 2m 1s\tremaining: 2m 34s\n",
      "1770:\tlearn: 0.2776409\ttotal: 2m 2s\tremaining: 2m 33s\n",
      "1780:\tlearn: 0.2766257\ttotal: 2m 2s\tremaining: 2m 32s\n",
      "1790:\tlearn: 0.2758370\ttotal: 2m 3s\tremaining: 2m 31s\n",
      "1800:\tlearn: 0.2746810\ttotal: 2m 3s\tremaining: 2m 31s\n",
      "1810:\tlearn: 0.2736375\ttotal: 2m 4s\tremaining: 2m 30s\n",
      "1820:\tlearn: 0.2725822\ttotal: 2m 5s\tremaining: 2m 29s\n",
      "1830:\tlearn: 0.2715904\ttotal: 2m 5s\tremaining: 2m 28s\n",
      "1840:\tlearn: 0.2708381\ttotal: 2m 6s\tremaining: 2m 28s\n",
      "1850:\tlearn: 0.2699897\ttotal: 2m 6s\tremaining: 2m 27s\n",
      "1860:\tlearn: 0.2689238\ttotal: 2m 7s\tremaining: 2m 26s\n",
      "1870:\tlearn: 0.2681367\ttotal: 2m 8s\tremaining: 2m 25s\n",
      "1880:\tlearn: 0.2673688\ttotal: 2m 8s\tremaining: 2m 25s\n",
      "1890:\tlearn: 0.2664259\ttotal: 2m 9s\tremaining: 2m 24s\n",
      "1900:\tlearn: 0.2655210\ttotal: 2m 10s\tremaining: 2m 23s\n",
      "1910:\tlearn: 0.2647220\ttotal: 2m 10s\tremaining: 2m 22s\n",
      "1920:\tlearn: 0.2637801\ttotal: 2m 11s\tremaining: 2m 22s\n",
      "1930:\tlearn: 0.2627823\ttotal: 2m 11s\tremaining: 2m 21s\n",
      "1940:\tlearn: 0.2620053\ttotal: 2m 12s\tremaining: 2m 20s\n",
      "1950:\tlearn: 0.2611876\ttotal: 2m 13s\tremaining: 2m 19s\n",
      "1960:\tlearn: 0.2601625\ttotal: 2m 13s\tremaining: 2m 19s\n",
      "1970:\tlearn: 0.2594698\ttotal: 2m 14s\tremaining: 2m 18s\n",
      "1980:\tlearn: 0.2587623\ttotal: 2m 15s\tremaining: 2m 17s\n",
      "1990:\tlearn: 0.2579521\ttotal: 2m 15s\tremaining: 2m 16s\n",
      "2000:\tlearn: 0.2569369\ttotal: 2m 16s\tremaining: 2m 16s\n",
      "2010:\tlearn: 0.2560742\ttotal: 2m 16s\tremaining: 2m 15s\n",
      "2020:\tlearn: 0.2553534\ttotal: 2m 17s\tremaining: 2m 14s\n",
      "2030:\tlearn: 0.2545525\ttotal: 2m 18s\tremaining: 2m 13s\n",
      "2040:\tlearn: 0.2535335\ttotal: 2m 18s\tremaining: 2m 13s\n",
      "2050:\tlearn: 0.2526534\ttotal: 2m 19s\tremaining: 2m 12s\n",
      "2060:\tlearn: 0.2515266\ttotal: 2m 20s\tremaining: 2m 11s\n",
      "2070:\tlearn: 0.2508440\ttotal: 2m 20s\tremaining: 2m 11s\n",
      "2080:\tlearn: 0.2497231\ttotal: 2m 21s\tremaining: 2m 10s\n",
      "2090:\tlearn: 0.2491287\ttotal: 2m 22s\tremaining: 2m 9s\n",
      "2100:\tlearn: 0.2482484\ttotal: 2m 22s\tremaining: 2m 8s\n",
      "2110:\tlearn: 0.2474852\ttotal: 2m 23s\tremaining: 2m 8s\n",
      "2120:\tlearn: 0.2466729\ttotal: 2m 23s\tremaining: 2m 7s\n",
      "2130:\tlearn: 0.2458803\ttotal: 2m 24s\tremaining: 2m 6s\n",
      "2140:\tlearn: 0.2452328\ttotal: 2m 25s\tremaining: 2m 6s\n",
      "2150:\tlearn: 0.2445659\ttotal: 2m 26s\tremaining: 2m 5s\n",
      "2160:\tlearn: 0.2437895\ttotal: 2m 26s\tremaining: 2m 5s\n",
      "2170:\tlearn: 0.2428095\ttotal: 2m 27s\tremaining: 2m 4s\n",
      "2180:\tlearn: 0.2421799\ttotal: 2m 28s\tremaining: 2m 3s\n",
      "2190:\tlearn: 0.2412440\ttotal: 2m 28s\tremaining: 2m 2s\n",
      "2200:\tlearn: 0.2403988\ttotal: 2m 29s\tremaining: 2m 2s\n",
      "2210:\tlearn: 0.2395299\ttotal: 2m 30s\tremaining: 2m 1s\n",
      "2220:\tlearn: 0.2386765\ttotal: 2m 30s\tremaining: 2m\n",
      "2230:\tlearn: 0.2379216\ttotal: 2m 31s\tremaining: 1m 59s\n",
      "2240:\tlearn: 0.2372014\ttotal: 2m 31s\tremaining: 1m 59s\n",
      "2250:\tlearn: 0.2365975\ttotal: 2m 32s\tremaining: 1m 58s\n",
      "2260:\tlearn: 0.2359712\ttotal: 2m 33s\tremaining: 1m 57s\n",
      "2270:\tlearn: 0.2351730\ttotal: 2m 33s\tremaining: 1m 57s\n",
      "2280:\tlearn: 0.2343352\ttotal: 2m 34s\tremaining: 1m 56s\n",
      "2290:\tlearn: 0.2336354\ttotal: 2m 35s\tremaining: 1m 55s\n",
      "2300:\tlearn: 0.2327620\ttotal: 2m 36s\tremaining: 1m 55s\n",
      "2310:\tlearn: 0.2320998\ttotal: 2m 36s\tremaining: 1m 54s\n",
      "2320:\tlearn: 0.2312292\ttotal: 2m 37s\tremaining: 1m 53s\n",
      "2330:\tlearn: 0.2306998\ttotal: 2m 38s\tremaining: 1m 53s\n",
      "2340:\tlearn: 0.2298118\ttotal: 2m 38s\tremaining: 1m 52s\n",
      "2350:\tlearn: 0.2291305\ttotal: 2m 39s\tremaining: 1m 51s\n",
      "2360:\tlearn: 0.2286014\ttotal: 2m 40s\tremaining: 1m 51s\n",
      "2370:\tlearn: 0.2279149\ttotal: 2m 40s\tremaining: 1m 50s\n",
      "2380:\tlearn: 0.2272626\ttotal: 2m 41s\tremaining: 1m 49s\n",
      "2390:\tlearn: 0.2265098\ttotal: 2m 42s\tremaining: 1m 49s\n",
      "2400:\tlearn: 0.2256624\ttotal: 2m 42s\tremaining: 1m 48s\n",
      "2410:\tlearn: 0.2250206\ttotal: 2m 44s\tremaining: 1m 48s\n",
      "2420:\tlearn: 0.2243109\ttotal: 2m 45s\tremaining: 1m 47s\n",
      "2430:\tlearn: 0.2237728\ttotal: 2m 46s\tremaining: 1m 47s\n",
      "2440:\tlearn: 0.2230895\ttotal: 2m 47s\tremaining: 1m 47s\n",
      "2450:\tlearn: 0.2223436\ttotal: 2m 48s\tremaining: 1m 46s\n",
      "2460:\tlearn: 0.2218424\ttotal: 2m 49s\tremaining: 1m 46s\n",
      "2470:\tlearn: 0.2212927\ttotal: 2m 50s\tremaining: 1m 45s\n",
      "2480:\tlearn: 0.2206086\ttotal: 2m 51s\tremaining: 1m 44s\n",
      "2490:\tlearn: 0.2200149\ttotal: 2m 51s\tremaining: 1m 44s\n",
      "2500:\tlearn: 0.2192858\ttotal: 2m 52s\tremaining: 1m 43s\n",
      "2510:\tlearn: 0.2187045\ttotal: 2m 53s\tremaining: 1m 42s\n",
      "2520:\tlearn: 0.2181325\ttotal: 2m 53s\tremaining: 1m 41s\n",
      "2530:\tlearn: 0.2173866\ttotal: 2m 54s\tremaining: 1m 41s\n",
      "2540:\tlearn: 0.2168092\ttotal: 2m 55s\tremaining: 1m 40s\n",
      "2550:\tlearn: 0.2161256\ttotal: 2m 55s\tremaining: 1m 39s\n",
      "2560:\tlearn: 0.2155806\ttotal: 2m 56s\tremaining: 1m 39s\n",
      "2570:\tlearn: 0.2147528\ttotal: 2m 56s\tremaining: 1m 38s\n",
      "2580:\tlearn: 0.2142192\ttotal: 2m 57s\tremaining: 1m 37s\n",
      "2590:\tlearn: 0.2136505\ttotal: 2m 58s\tremaining: 1m 36s\n",
      "2600:\tlearn: 0.2130711\ttotal: 2m 58s\tremaining: 1m 36s\n",
      "2610:\tlearn: 0.2124396\ttotal: 2m 59s\tremaining: 1m 35s\n",
      "2620:\tlearn: 0.2118708\ttotal: 3m\tremaining: 1m 35s\n",
      "2630:\tlearn: 0.2111700\ttotal: 3m 1s\tremaining: 1m 34s\n",
      "2640:\tlearn: 0.2104687\ttotal: 3m 2s\tremaining: 1m 34s\n",
      "2650:\tlearn: 0.2096917\ttotal: 3m 3s\tremaining: 1m 33s\n",
      "2660:\tlearn: 0.2091100\ttotal: 3m 4s\tremaining: 1m 32s\n",
      "2670:\tlearn: 0.2085131\ttotal: 3m 5s\tremaining: 1m 32s\n",
      "2680:\tlearn: 0.2079161\ttotal: 3m 6s\tremaining: 1m 31s\n",
      "2690:\tlearn: 0.2074242\ttotal: 3m 7s\tremaining: 1m 31s\n",
      "2700:\tlearn: 0.2069129\ttotal: 3m 7s\tremaining: 1m 30s\n",
      "2710:\tlearn: 0.2064501\ttotal: 3m 8s\tremaining: 1m 29s\n",
      "2720:\tlearn: 0.2056896\ttotal: 3m 9s\tremaining: 1m 29s\n",
      "2730:\tlearn: 0.2051246\ttotal: 3m 10s\tremaining: 1m 28s\n",
      "2740:\tlearn: 0.2047127\ttotal: 3m 11s\tremaining: 1m 27s\n",
      "2750:\tlearn: 0.2040981\ttotal: 3m 12s\tremaining: 1m 27s\n",
      "2760:\tlearn: 0.2036152\ttotal: 3m 12s\tremaining: 1m 26s\n",
      "2770:\tlearn: 0.2032129\ttotal: 3m 13s\tremaining: 1m 25s\n",
      "2780:\tlearn: 0.2027296\ttotal: 3m 14s\tremaining: 1m 25s\n",
      "2790:\tlearn: 0.2022070\ttotal: 3m 14s\tremaining: 1m 24s\n",
      "2800:\tlearn: 0.2016297\ttotal: 3m 15s\tremaining: 1m 23s\n",
      "2810:\tlearn: 0.2010879\ttotal: 3m 16s\tremaining: 1m 22s\n",
      "2820:\tlearn: 0.2005604\ttotal: 3m 16s\tremaining: 1m 22s\n",
      "2830:\tlearn: 0.1998813\ttotal: 3m 17s\tremaining: 1m 21s\n",
      "2840:\tlearn: 0.1993434\ttotal: 3m 18s\tremaining: 1m 20s\n",
      "2850:\tlearn: 0.1987469\ttotal: 3m 18s\tremaining: 1m 20s\n",
      "2860:\tlearn: 0.1982564\ttotal: 3m 19s\tremaining: 1m 19s\n",
      "2870:\tlearn: 0.1977261\ttotal: 3m 20s\tremaining: 1m 18s\n",
      "2880:\tlearn: 0.1971973\ttotal: 3m 20s\tremaining: 1m 18s\n",
      "2890:\tlearn: 0.1965828\ttotal: 3m 21s\tremaining: 1m 17s\n",
      "2900:\tlearn: 0.1961501\ttotal: 3m 22s\tremaining: 1m 16s\n",
      "2910:\tlearn: 0.1954499\ttotal: 3m 22s\tremaining: 1m 15s\n",
      "2920:\tlearn: 0.1948683\ttotal: 3m 23s\tremaining: 1m 15s\n",
      "2930:\tlearn: 0.1944355\ttotal: 3m 24s\tremaining: 1m 14s\n",
      "2940:\tlearn: 0.1939017\ttotal: 3m 24s\tremaining: 1m 13s\n",
      "2950:\tlearn: 0.1933576\ttotal: 3m 25s\tremaining: 1m 13s\n",
      "2960:\tlearn: 0.1928642\ttotal: 3m 26s\tremaining: 1m 12s\n",
      "2970:\tlearn: 0.1923696\ttotal: 3m 26s\tremaining: 1m 11s\n",
      "2980:\tlearn: 0.1918949\ttotal: 3m 27s\tremaining: 1m 10s\n",
      "2990:\tlearn: 0.1913237\ttotal: 3m 28s\tremaining: 1m 10s\n",
      "3000:\tlearn: 0.1908481\ttotal: 3m 28s\tremaining: 1m 9s\n",
      "3010:\tlearn: 0.1904346\ttotal: 3m 29s\tremaining: 1m 8s\n",
      "3020:\tlearn: 0.1897858\ttotal: 3m 30s\tremaining: 1m 8s\n",
      "3030:\tlearn: 0.1893605\ttotal: 3m 30s\tremaining: 1m 7s\n"
     ]
    },
    {
     "name": "stdout",
     "output_type": "stream",
     "text": [
      "3040:\tlearn: 0.1889182\ttotal: 3m 31s\tremaining: 1m 6s\n",
      "3050:\tlearn: 0.1884191\ttotal: 3m 32s\tremaining: 1m 6s\n",
      "3060:\tlearn: 0.1879633\ttotal: 3m 33s\tremaining: 1m 5s\n",
      "3070:\tlearn: 0.1875501\ttotal: 3m 34s\tremaining: 1m 4s\n",
      "3080:\tlearn: 0.1872006\ttotal: 3m 35s\tremaining: 1m 4s\n",
      "3090:\tlearn: 0.1867593\ttotal: 3m 36s\tremaining: 1m 3s\n",
      "3100:\tlearn: 0.1861869\ttotal: 3m 37s\tremaining: 1m 3s\n",
      "3110:\tlearn: 0.1856360\ttotal: 3m 38s\tremaining: 1m 2s\n",
      "3120:\tlearn: 0.1851270\ttotal: 3m 38s\tremaining: 1m 1s\n",
      "3130:\tlearn: 0.1848005\ttotal: 3m 39s\tremaining: 1m 1s\n",
      "3140:\tlearn: 0.1843377\ttotal: 3m 40s\tremaining: 1m\n",
      "3150:\tlearn: 0.1838030\ttotal: 3m 41s\tremaining: 59.7s\n",
      "3160:\tlearn: 0.1833103\ttotal: 3m 42s\tremaining: 59.1s\n",
      "3170:\tlearn: 0.1828854\ttotal: 3m 43s\tremaining: 58.4s\n",
      "3180:\tlearn: 0.1823120\ttotal: 3m 44s\tremaining: 57.7s\n",
      "3190:\tlearn: 0.1818143\ttotal: 3m 44s\tremaining: 57s\n",
      "3200:\tlearn: 0.1815028\ttotal: 3m 45s\tremaining: 56.3s\n",
      "3210:\tlearn: 0.1809472\ttotal: 3m 46s\tremaining: 55.6s\n",
      "3220:\tlearn: 0.1804645\ttotal: 3m 46s\tremaining: 54.9s\n",
      "3230:\tlearn: 0.1801492\ttotal: 3m 47s\tremaining: 54.2s\n",
      "3240:\tlearn: 0.1797027\ttotal: 3m 48s\tremaining: 53.6s\n",
      "3250:\tlearn: 0.1793372\ttotal: 3m 49s\tremaining: 52.9s\n",
      "3260:\tlearn: 0.1788344\ttotal: 3m 50s\tremaining: 52.2s\n",
      "3270:\tlearn: 0.1783750\ttotal: 3m 51s\tremaining: 51.5s\n",
      "3280:\tlearn: 0.1778795\ttotal: 3m 51s\tremaining: 50.8s\n",
      "3290:\tlearn: 0.1774462\ttotal: 3m 52s\tremaining: 50.1s\n",
      "3300:\tlearn: 0.1769849\ttotal: 3m 53s\tremaining: 49.4s\n",
      "3310:\tlearn: 0.1764643\ttotal: 3m 53s\tremaining: 48.7s\n",
      "3320:\tlearn: 0.1760083\ttotal: 3m 54s\tremaining: 47.9s\n",
      "3330:\tlearn: 0.1755429\ttotal: 3m 55s\tremaining: 47.2s\n",
      "3340:\tlearn: 0.1751198\ttotal: 3m 55s\tremaining: 46.5s\n",
      "3350:\tlearn: 0.1747886\ttotal: 3m 56s\tremaining: 45.8s\n",
      "3360:\tlearn: 0.1742721\ttotal: 3m 57s\tremaining: 45.1s\n",
      "3370:\tlearn: 0.1738721\ttotal: 3m 57s\tremaining: 44.4s\n",
      "3380:\tlearn: 0.1733962\ttotal: 3m 58s\tremaining: 43.7s\n",
      "3390:\tlearn: 0.1730521\ttotal: 3m 59s\tremaining: 43s\n",
      "3400:\tlearn: 0.1726405\ttotal: 4m\tremaining: 42.4s\n",
      "3410:\tlearn: 0.1721472\ttotal: 4m 3s\tremaining: 42s\n",
      "3420:\tlearn: 0.1717755\ttotal: 4m 4s\tremaining: 41.4s\n",
      "3430:\tlearn: 0.1714360\ttotal: 4m 5s\tremaining: 40.7s\n",
      "3440:\tlearn: 0.1708483\ttotal: 4m 6s\tremaining: 40s\n",
      "3450:\tlearn: 0.1703462\ttotal: 4m 7s\tremaining: 39.3s\n",
      "3460:\tlearn: 0.1699115\ttotal: 4m 7s\tremaining: 38.6s\n",
      "3470:\tlearn: 0.1695416\ttotal: 4m 9s\tremaining: 38s\n",
      "3480:\tlearn: 0.1691582\ttotal: 4m 10s\tremaining: 37.4s\n",
      "3490:\tlearn: 0.1686833\ttotal: 4m 11s\tremaining: 36.7s\n",
      "3500:\tlearn: 0.1682607\ttotal: 4m 12s\tremaining: 36s\n",
      "3510:\tlearn: 0.1678655\ttotal: 4m 13s\tremaining: 35.3s\n",
      "3520:\tlearn: 0.1674933\ttotal: 4m 14s\tremaining: 34.6s\n",
      "3530:\tlearn: 0.1670611\ttotal: 4m 14s\tremaining: 33.8s\n",
      "3540:\tlearn: 0.1666019\ttotal: 4m 15s\tremaining: 33.1s\n",
      "3550:\tlearn: 0.1660413\ttotal: 4m 16s\tremaining: 32.4s\n",
      "3560:\tlearn: 0.1657146\ttotal: 4m 16s\tremaining: 31.7s\n",
      "3570:\tlearn: 0.1653680\ttotal: 4m 17s\tremaining: 30.9s\n",
      "3580:\tlearn: 0.1649713\ttotal: 4m 18s\tremaining: 30.2s\n",
      "3590:\tlearn: 0.1645896\ttotal: 4m 18s\tremaining: 29.5s\n",
      "3600:\tlearn: 0.1642691\ttotal: 4m 19s\tremaining: 28.7s\n",
      "3610:\tlearn: 0.1638119\ttotal: 4m 20s\tremaining: 28s\n",
      "3620:\tlearn: 0.1634195\ttotal: 4m 20s\tremaining: 27.3s\n",
      "3630:\tlearn: 0.1629893\ttotal: 4m 21s\tremaining: 26.6s\n",
      "3640:\tlearn: 0.1626769\ttotal: 4m 22s\tremaining: 25.8s\n",
      "3650:\tlearn: 0.1621907\ttotal: 4m 22s\tremaining: 25.1s\n",
      "3660:\tlearn: 0.1617878\ttotal: 4m 23s\tremaining: 24.4s\n",
      "3670:\tlearn: 0.1614894\ttotal: 4m 24s\tremaining: 23.7s\n",
      "3680:\tlearn: 0.1610825\ttotal: 4m 24s\tremaining: 23s\n",
      "3690:\tlearn: 0.1606992\ttotal: 4m 25s\tremaining: 22.2s\n",
      "3700:\tlearn: 0.1603516\ttotal: 4m 26s\tremaining: 21.5s\n",
      "3710:\tlearn: 0.1599726\ttotal: 4m 26s\tremaining: 20.8s\n",
      "3720:\tlearn: 0.1596551\ttotal: 4m 27s\tremaining: 20.1s\n",
      "3730:\tlearn: 0.1592612\ttotal: 4m 28s\tremaining: 19.3s\n",
      "3740:\tlearn: 0.1589072\ttotal: 4m 28s\tremaining: 18.6s\n",
      "3750:\tlearn: 0.1584812\ttotal: 4m 29s\tremaining: 17.9s\n",
      "3760:\tlearn: 0.1581233\ttotal: 4m 31s\tremaining: 17.2s\n",
      "3770:\tlearn: 0.1577298\ttotal: 4m 32s\tremaining: 16.5s\n",
      "3780:\tlearn: 0.1574082\ttotal: 4m 33s\tremaining: 15.8s\n",
      "3790:\tlearn: 0.1571070\ttotal: 4m 34s\tremaining: 15.1s\n",
      "3800:\tlearn: 0.1566996\ttotal: 4m 34s\tremaining: 14.4s\n",
      "3810:\tlearn: 0.1564474\ttotal: 4m 35s\tremaining: 13.7s\n",
      "3820:\tlearn: 0.1561089\ttotal: 4m 37s\tremaining: 13s\n",
      "3830:\tlearn: 0.1557866\ttotal: 4m 38s\tremaining: 12.3s\n",
      "3840:\tlearn: 0.1553561\ttotal: 4m 39s\tremaining: 11.6s\n",
      "3850:\tlearn: 0.1549241\ttotal: 4m 40s\tremaining: 10.9s\n",
      "3860:\tlearn: 0.1546398\ttotal: 4m 41s\tremaining: 10.1s\n",
      "3870:\tlearn: 0.1543103\ttotal: 4m 42s\tremaining: 9.4s\n",
      "3880:\tlearn: 0.1538877\ttotal: 4m 42s\tremaining: 8.68s\n",
      "3890:\tlearn: 0.1535296\ttotal: 4m 43s\tremaining: 7.95s\n",
      "3900:\tlearn: 0.1532239\ttotal: 4m 44s\tremaining: 7.22s\n",
      "3910:\tlearn: 0.1528478\ttotal: 4m 45s\tremaining: 6.5s\n",
      "3920:\tlearn: 0.1524426\ttotal: 4m 46s\tremaining: 5.77s\n",
      "3930:\tlearn: 0.1521532\ttotal: 4m 47s\tremaining: 5.04s\n",
      "3940:\tlearn: 0.1517607\ttotal: 4m 48s\tremaining: 4.31s\n",
      "3950:\tlearn: 0.1513901\ttotal: 4m 48s\tremaining: 3.58s\n",
      "3960:\tlearn: 0.1509302\ttotal: 4m 49s\tremaining: 2.85s\n",
      "3970:\tlearn: 0.1505912\ttotal: 4m 50s\tremaining: 2.12s\n",
      "3980:\tlearn: 0.1501867\ttotal: 4m 51s\tremaining: 1.39s\n",
      "3990:\tlearn: 0.1498299\ttotal: 4m 52s\tremaining: 659ms\n",
      "3999:\tlearn: 0.1494767\ttotal: 4m 52s\tremaining: 0us\n"
     ]
    },
    {
     "data": {
      "text/plain": [
       "<catboost.core.CatBoostClassifier at 0x1a244e60b8>"
      ]
     },
     "execution_count": 733,
     "metadata": {},
     "output_type": "execute_result"
    }
   ],
   "source": [
    "cbc.fit(X,y,verbose=10)"
   ]
  },
  {
   "cell_type": "code",
   "execution_count": 734,
   "metadata": {},
   "outputs": [],
   "source": [
    "sample_sub=pd.read_csv('sample_sub.csv')\n",
    "cbc_pred=cbc.predict(sample_sub[cols],prediction_type='Class')"
   ]
  },
  {
   "cell_type": "code",
   "execution_count": 735,
   "metadata": {},
   "outputs": [
    {
     "data": {
      "text/plain": [
       "array([4., 2., 4., ..., 4., 4., 4.])"
      ]
     },
     "execution_count": 735,
     "metadata": {},
     "output_type": "execute_result"
    }
   ],
   "source": [
    "cbc_pred.reshape(5000,)"
   ]
  },
  {
   "cell_type": "code",
   "execution_count": 736,
   "metadata": {},
   "outputs": [],
   "source": [
    "cbc_pred=cbc_pred.astype('int').reshape(5000,)"
   ]
  },
  {
   "cell_type": "code",
   "execution_count": 661,
   "metadata": {},
   "outputs": [
    {
     "data": {
      "text/plain": [
       "array([4, 2, 4, ..., 4, 4, 4])"
      ]
     },
     "execution_count": 661,
     "metadata": {},
     "output_type": "execute_result"
    }
   ],
   "source": [
    "cbc_pred"
   ]
  },
  {
   "cell_type": "code",
   "execution_count": 737,
   "metadata": {},
   "outputs": [],
   "source": [
    "sample_sub.drop(['Unnamed: 0'],axis=1,inplace=True)\n",
    "sample_sub['greatstone_rating']=cbc_pred"
   ]
  },
  {
   "cell_type": "code",
   "execution_count": null,
   "metadata": {},
   "outputs": [],
   "source": [
    "sample_sub"
   ]
  },
  {
   "cell_type": "code",
   "execution_count": 738,
   "metadata": {},
   "outputs": [],
   "source": [
    "##iter 28\n",
    "sample_sub[['fund_id','greatstone_rating']].to_csv('sample_submission_v28.csv',index=False)"
   ]
  },
  {
   "cell_type": "markdown",
   "metadata": {},
   "source": [
    "### ADA boost"
   ]
  },
  {
   "cell_type": "code",
   "execution_count": 764,
   "metadata": {},
   "outputs": [
    {
     "data": {
      "text/plain": [
       "AdaBoostClassifier(algorithm='SAMME', base_estimator=None, learning_rate=0.1,\n",
       "                   n_estimators=300, random_state=123)"
      ]
     },
     "execution_count": 764,
     "metadata": {},
     "output_type": "execute_result"
    }
   ],
   "source": [
    "ada=AdaBoostClassifier(algorithm='SAMME',n_estimators=100, learning_rate=0.1,random_state=123)\n",
    "ada.fit(X,y)"
   ]
  },
  {
   "cell_type": "code",
   "execution_count": 765,
   "metadata": {},
   "outputs": [],
   "source": [
    "sample_sub=pd.read_csv('sample_sub.csv')\n",
    "ada_pred=ada.predict(sample_sub[cols])"
   ]
  },
  {
   "cell_type": "code",
   "execution_count": 766,
   "metadata": {},
   "outputs": [
    {
     "data": {
      "text/plain": [
       "array([4, 3, 4, ..., 3, 4, 3])"
      ]
     },
     "execution_count": 766,
     "metadata": {},
     "output_type": "execute_result"
    }
   ],
   "source": [
    "ada_pred"
   ]
  },
  {
   "cell_type": "code",
   "execution_count": 767,
   "metadata": {},
   "outputs": [],
   "source": [
    "sample_sub.drop(['Unnamed: 0'],axis=1,inplace=True)\n",
    "sample_sub['greatstone_rating']=ada_pred"
   ]
  },
  {
   "cell_type": "code",
   "execution_count": 768,
   "metadata": {},
   "outputs": [],
   "source": [
    "##iter 29\n",
    "sample_sub[['fund_id','greatstone_rating']].to_csv('sample_submission_v29.csv',index=False)"
   ]
  },
  {
   "cell_type": "markdown",
   "metadata": {},
   "source": [
    "## SVC with hyper parameter tuning "
   ]
  },
  {
   "cell_type": "code",
   "execution_count": 805,
   "metadata": {},
   "outputs": [
    {
     "name": "stdout",
     "output_type": "stream",
     "text": [
      "Fitting 3 folds for each of 10 candidates, totalling 30 fits\n",
      "[CV] C=9.404958943724859, degree=4, gamma=0.03452700165615626, kernel=rbf \n"
     ]
    },
    {
     "name": "stderr",
     "output_type": "stream",
     "text": [
      "[Parallel(n_jobs=1)]: Using backend SequentialBackend with 1 concurrent workers.\n"
     ]
    },
    {
     "name": "stdout",
     "output_type": "stream",
     "text": [
      "[CV]  C=9.404958943724859, degree=4, gamma=0.03452700165615626, kernel=rbf, total=  41.7s\n",
      "[CV] C=9.404958943724859, degree=4, gamma=0.03452700165615626, kernel=rbf \n"
     ]
    },
    {
     "name": "stderr",
     "output_type": "stream",
     "text": [
      "[Parallel(n_jobs=1)]: Done   1 out of   1 | elapsed:   41.7s remaining:    0.0s\n"
     ]
    },
    {
     "name": "stdout",
     "output_type": "stream",
     "text": [
      "[CV]  C=9.404958943724859, degree=4, gamma=0.03452700165615626, kernel=rbf, total=  42.0s\n",
      "[CV] C=9.404958943724859, degree=4, gamma=0.03452700165615626, kernel=rbf \n",
      "[CV]  C=9.404958943724859, degree=4, gamma=0.03452700165615626, kernel=rbf, total=  39.4s\n",
      "[CV] C=8.668067953996793, degree=3, gamma=0.007401951622404129, kernel=poly \n",
      "[CV]  C=8.668067953996793, degree=3, gamma=0.007401951622404129, kernel=poly, total=  32.7s\n",
      "[CV] C=8.668067953996793, degree=3, gamma=0.007401951622404129, kernel=poly \n",
      "[CV]  C=8.668067953996793, degree=3, gamma=0.007401951622404129, kernel=poly, total=  34.2s\n",
      "[CV] C=8.668067953996793, degree=3, gamma=0.007401951622404129, kernel=poly \n",
      "[CV]  C=8.668067953996793, degree=3, gamma=0.007401951622404129, kernel=poly, total=  33.7s\n",
      "[CV] C=10.73533501241148, degree=5, gamma=0.023026097031103754, kernel=sigmoid \n",
      "[CV]  C=10.73533501241148, degree=5, gamma=0.023026097031103754, kernel=sigmoid, total=  38.2s\n",
      "[CV] C=10.73533501241148, degree=5, gamma=0.023026097031103754, kernel=sigmoid \n",
      "[CV]  C=10.73533501241148, degree=5, gamma=0.023026097031103754, kernel=sigmoid, total=  38.9s\n",
      "[CV] C=10.73533501241148, degree=5, gamma=0.023026097031103754, kernel=sigmoid \n",
      "[CV]  C=10.73533501241148, degree=5, gamma=0.023026097031103754, kernel=sigmoid, total=  37.1s\n",
      "[CV] C=5.308478684512477, degree=6, gamma=0.04608801676468595, kernel=poly \n",
      "[CV]  C=5.308478684512477, degree=6, gamma=0.04608801676468595, kernel=poly, total=  32.2s\n",
      "[CV] C=5.308478684512477, degree=6, gamma=0.04608801676468595, kernel=poly \n",
      "[CV]  C=5.308478684512477, degree=6, gamma=0.04608801676468595, kernel=poly, total=  31.3s\n",
      "[CV] C=5.308478684512477, degree=6, gamma=0.04608801676468595, kernel=poly \n",
      "[CV]  C=5.308478684512477, degree=6, gamma=0.04608801676468595, kernel=poly, total=  31.3s\n",
      "[CV] C=4.257352371489422, degree=4, gamma=0.07099964161691068, kernel=sigmoid \n",
      "[CV]  C=4.257352371489422, degree=4, gamma=0.07099964161691068, kernel=sigmoid, total=  51.4s\n",
      "[CV] C=4.257352371489422, degree=4, gamma=0.07099964161691068, kernel=sigmoid \n",
      "[CV]  C=4.257352371489422, degree=4, gamma=0.07099964161691068, kernel=sigmoid, total=  52.3s\n",
      "[CV] C=4.257352371489422, degree=4, gamma=0.07099964161691068, kernel=sigmoid \n",
      "[CV]  C=4.257352371489422, degree=4, gamma=0.07099964161691068, kernel=sigmoid, total=  51.1s\n",
      "[CV] C=4.12130053389234, degree=6, gamma=0.0028689011750755266, kernel=rbf \n",
      "[CV]  C=4.12130053389234, degree=6, gamma=0.0028689011750755266, kernel=rbf, total=  33.4s\n",
      "[CV] C=4.12130053389234, degree=6, gamma=0.0028689011750755266, kernel=rbf \n",
      "[CV]  C=4.12130053389234, degree=6, gamma=0.0028689011750755266, kernel=rbf, total=  33.2s\n",
      "[CV] C=4.12130053389234, degree=6, gamma=0.0028689011750755266, kernel=rbf \n",
      "[CV]  C=4.12130053389234, degree=6, gamma=0.0028689011750755266, kernel=rbf, total=  35.6s\n",
      "[CV] C=3.4688916899071236, degree=3, gamma=0.009864526561071278, kernel=sigmoid \n",
      "[CV]  C=3.4688916899071236, degree=3, gamma=0.009864526561071278, kernel=sigmoid, total=  31.5s\n",
      "[CV] C=3.4688916899071236, degree=3, gamma=0.009864526561071278, kernel=sigmoid \n",
      "[CV]  C=3.4688916899071236, degree=3, gamma=0.009864526561071278, kernel=sigmoid, total=  30.0s\n",
      "[CV] C=3.4688916899071236, degree=3, gamma=0.009864526561071278, kernel=sigmoid \n",
      "[CV]  C=3.4688916899071236, degree=3, gamma=0.009864526561071278, kernel=sigmoid, total=  30.8s\n",
      "[CV] C=5.230658164711504, degree=4, gamma=0.031309493579928314, kernel=rbf \n",
      "[CV]  C=5.230658164711504, degree=4, gamma=0.031309493579928314, kernel=rbf, total=  38.8s\n",
      "[CV] C=5.230658164711504, degree=4, gamma=0.031309493579928314, kernel=rbf \n",
      "[CV]  C=5.230658164711504, degree=4, gamma=0.031309493579928314, kernel=rbf, total=  39.1s\n",
      "[CV] C=5.230658164711504, degree=4, gamma=0.031309493579928314, kernel=rbf \n",
      "[CV]  C=5.230658164711504, degree=4, gamma=0.031309493579928314, kernel=rbf, total=  39.0s\n",
      "[CV] C=6.5327219195531, degree=5, gamma=0.0028759685184416035, kernel=rbf \n",
      "[CV]  C=6.5327219195531, degree=5, gamma=0.0028759685184416035, kernel=rbf, total=  31.1s\n",
      "[CV] C=6.5327219195531, degree=5, gamma=0.0028759685184416035, kernel=rbf \n",
      "[CV]  C=6.5327219195531, degree=5, gamma=0.0028759685184416035, kernel=rbf, total=  31.0s\n",
      "[CV] C=6.5327219195531, degree=5, gamma=0.0028759685184416035, kernel=rbf \n",
      "[CV]  C=6.5327219195531, degree=5, gamma=0.0028759685184416035, kernel=rbf, total=  32.0s\n",
      "[CV] C=6.255000608921687, degree=5, gamma=0.012805410033990099, kernel=poly \n",
      "[CV]  C=6.255000608921687, degree=5, gamma=0.012805410033990099, kernel=poly, total=  33.9s\n",
      "[CV] C=6.255000608921687, degree=5, gamma=0.012805410033990099, kernel=poly \n",
      "[CV]  C=6.255000608921687, degree=5, gamma=0.012805410033990099, kernel=poly, total=  34.1s\n",
      "[CV] C=6.255000608921687, degree=5, gamma=0.012805410033990099, kernel=poly \n",
      "[CV]  C=6.255000608921687, degree=5, gamma=0.012805410033990099, kernel=poly, total=  34.4s\n"
     ]
    },
    {
     "name": "stderr",
     "output_type": "stream",
     "text": [
      "[Parallel(n_jobs=1)]: Done  30 out of  30 | elapsed: 18.3min finished\n"
     ]
    },
    {
     "data": {
      "text/plain": [
       "RandomizedSearchCV(cv=3, error_score=nan,\n",
       "                   estimator=SVC(C=1.0, break_ties=False, cache_size=200,\n",
       "                                 class_weight=None, coef0=0.0,\n",
       "                                 decision_function_shape='ovr', degree=3,\n",
       "                                 gamma='scale', kernel='rbf', max_iter=-1,\n",
       "                                 probability=False, random_state=123,\n",
       "                                 shrinking=True, tol=0.001, verbose=False),\n",
       "                   iid='deprecated', n_iter=10, n_jobs=None,\n",
       "                   param_distributions={'C': <scipy.stats._distn_infrastructure.rv_frozen object at 0x1a76182668>,\n",
       "                                        'degree': [3, 4, 5, 6],\n",
       "                                        'gamma': <scipy.stats._distn_infrastructure.rv_frozen object at 0x1a659664a8>,\n",
       "                                        'kernel': ['rbf', 'poly', 'sigmoid']},\n",
       "                   pre_dispatch='2*n_jobs', random_state=None, refit=True,\n",
       "                   return_train_score=False, scoring=None, verbose=2)"
      ]
     },
     "execution_count": 805,
     "metadata": {},
     "output_type": "execute_result"
    }
   ],
   "source": [
    "## Scale the whole data ##\n",
    "scaler = StandardScaler()\n",
    "X_scaled= scaler.fit_transform(X)\n",
    "\n",
    "from scipy.stats import reciprocal, uniform\n",
    "param_distributions = {\"gamma\": reciprocal(0.001, 0.1), \"C\": uniform(1, 10),\"kernel\":['rbf','poly','sigmoid'],\"degree\":[3,4,5,6]}\n",
    "\n",
    "svc=SVC(gamma='scale',random_state=123)\n",
    "rs = RandomizedSearchCV(svc, param_distributions, n_iter=10, verbose=2, cv=3)\n",
    "rs.fit(X_scaled,y)"
   ]
  },
  {
   "cell_type": "code",
   "execution_count": 806,
   "metadata": {},
   "outputs": [
    {
     "data": {
      "text/plain": [
       "SVC(C=9.404958943724859, break_ties=False, cache_size=200, class_weight=None,\n",
       "    coef0=0.0, decision_function_shape='ovr', degree=4,\n",
       "    gamma=0.03452700165615626, kernel='rbf', max_iter=-1, probability=False,\n",
       "    random_state=123, shrinking=True, tol=0.001, verbose=False)"
      ]
     },
     "execution_count": 806,
     "metadata": {},
     "output_type": "execute_result"
    }
   ],
   "source": [
    "rs.best_estimator_"
   ]
  },
  {
   "cell_type": "code",
   "execution_count": 807,
   "metadata": {},
   "outputs": [
    {
     "data": {
      "text/plain": [
       "0.7437502037289375"
      ]
     },
     "execution_count": 807,
     "metadata": {},
     "output_type": "execute_result"
    }
   ],
   "source": [
    "rs.best_score_"
   ]
  },
  {
   "cell_type": "code",
   "execution_count": 808,
   "metadata": {},
   "outputs": [
    {
     "data": {
      "text/plain": [
       "SVC(C=9.404958943724859, break_ties=False, cache_size=200, class_weight=None,\n",
       "    coef0=0.0, decision_function_shape='ovr', degree=4,\n",
       "    gamma=0.03452700165615626, kernel='rbf', max_iter=-1, probability=False,\n",
       "    random_state=123, shrinking=True, tol=0.001, verbose=False)"
      ]
     },
     "execution_count": 808,
     "metadata": {},
     "output_type": "execute_result"
    }
   ],
   "source": [
    "rs.best_estimator_.fit(X_scaled,y)"
   ]
  },
  {
   "cell_type": "code",
   "execution_count": 809,
   "metadata": {},
   "outputs": [],
   "source": [
    "sample_sub=pd.read_csv('sample_sub.csv')\n",
    "sample_sub_scaler=scaler.transform(sample_sub[cols])\n",
    "svc_pred=rs.best_estimator_.predict(sample_sub_scaler)"
   ]
  },
  {
   "cell_type": "code",
   "execution_count": 801,
   "metadata": {},
   "outputs": [
    {
     "data": {
      "text/plain": [
       "array([4, 2, 4, ..., 4, 4, 4])"
      ]
     },
     "execution_count": 801,
     "metadata": {},
     "output_type": "execute_result"
    }
   ],
   "source": [
    "svc_pred"
   ]
  },
  {
   "cell_type": "code",
   "execution_count": 810,
   "metadata": {},
   "outputs": [],
   "source": [
    "sample_sub.drop(['Unnamed: 0'],axis=1,inplace=True)\n",
    "sample_sub['greatstone_rating']=svc_pred"
   ]
  },
  {
   "cell_type": "code",
   "execution_count": 811,
   "metadata": {},
   "outputs": [
    {
     "data": {
      "text/plain": [
       "array([4, 3, 0, 2, 5, 1])"
      ]
     },
     "execution_count": 811,
     "metadata": {},
     "output_type": "execute_result"
    }
   ],
   "source": [
    "sample_sub['greatstone_rating'].unique()"
   ]
  },
  {
   "cell_type": "code",
   "execution_count": 812,
   "metadata": {},
   "outputs": [],
   "source": [
    "##iter 30\n",
    "sample_sub[['fund_id','greatstone_rating']].to_csv('sample_submission_v30.csv',index=False)"
   ]
  },
  {
   "cell_type": "markdown",
   "metadata": {},
   "source": [
    "## hist GBC "
   ]
  },
  {
   "cell_type": "code",
   "execution_count": 1040,
   "metadata": {},
   "outputs": [],
   "source": [
    "hgbc=HistGradientBoostingClassifier(loss='categorical_crossentropy',\n",
    "                                    max_iter=1000,\n",
    "                                    learning_rate=0.08,\n",
    "                                    max_bins=200,\n",
    "                                    random_state=123)\n",
    "hgb=hgbc.fit(X,y)"
   ]
  },
  {
   "cell_type": "code",
   "execution_count": 1042,
   "metadata": {},
   "outputs": [
    {
     "name": "stdout",
     "output_type": "stream",
     "text": [
      "Fitting 3 folds for each of 100 candidates, totalling 300 fits\n",
      "[CV] min_samples_leaf=40, max_iter=100, max_depth=6, loss=categorical_crossentropy, learning_rate=0.1, l2_regularization=0 \n"
     ]
    },
    {
     "name": "stderr",
     "output_type": "stream",
     "text": [
      "[Parallel(n_jobs=1)]: Using backend SequentialBackend with 1 concurrent workers.\n"
     ]
    },
    {
     "name": "stdout",
     "output_type": "stream",
     "text": [
      "[CV]  min_samples_leaf=40, max_iter=100, max_depth=6, loss=categorical_crossentropy, learning_rate=0.1, l2_regularization=0, score=0.762, total=  20.9s\n",
      "[CV] min_samples_leaf=40, max_iter=100, max_depth=6, loss=categorical_crossentropy, learning_rate=0.1, l2_regularization=0 \n"
     ]
    },
    {
     "name": "stderr",
     "output_type": "stream",
     "text": [
      "[Parallel(n_jobs=1)]: Done   1 out of   1 | elapsed:   20.9s remaining:    0.0s\n"
     ]
    },
    {
     "name": "stdout",
     "output_type": "stream",
     "text": [
      "[CV]  min_samples_leaf=40, max_iter=100, max_depth=6, loss=categorical_crossentropy, learning_rate=0.1, l2_regularization=0, score=0.766, total=  16.9s\n",
      "[CV] min_samples_leaf=40, max_iter=100, max_depth=6, loss=categorical_crossentropy, learning_rate=0.1, l2_regularization=0 \n"
     ]
    },
    {
     "name": "stderr",
     "output_type": "stream",
     "text": [
      "[Parallel(n_jobs=1)]: Done   2 out of   2 | elapsed:   37.8s remaining:    0.0s\n"
     ]
    },
    {
     "name": "stdout",
     "output_type": "stream",
     "text": [
      "[CV]  min_samples_leaf=40, max_iter=100, max_depth=6, loss=categorical_crossentropy, learning_rate=0.1, l2_regularization=0, score=0.775, total=  17.4s\n",
      "[CV] min_samples_leaf=20, max_iter=500, max_depth=3, loss=auto, learning_rate=0.15, l2_regularization=0.2 \n"
     ]
    },
    {
     "name": "stderr",
     "output_type": "stream",
     "text": [
      "[Parallel(n_jobs=1)]: Done   3 out of   3 | elapsed:   55.2s remaining:    0.0s\n"
     ]
    },
    {
     "name": "stdout",
     "output_type": "stream",
     "text": [
      "[CV]  min_samples_leaf=20, max_iter=500, max_depth=3, loss=auto, learning_rate=0.15, l2_regularization=0.2, score=0.724, total=  11.8s\n",
      "[CV] min_samples_leaf=20, max_iter=500, max_depth=3, loss=auto, learning_rate=0.15, l2_regularization=0.2 \n"
     ]
    },
    {
     "name": "stderr",
     "output_type": "stream",
     "text": [
      "[Parallel(n_jobs=1)]: Done   4 out of   4 | elapsed:  1.1min remaining:    0.0s\n"
     ]
    },
    {
     "name": "stdout",
     "output_type": "stream",
     "text": [
      "[CV]  min_samples_leaf=20, max_iter=500, max_depth=3, loss=auto, learning_rate=0.15, l2_regularization=0.2, score=0.735, total=  11.5s\n",
      "[CV] min_samples_leaf=20, max_iter=500, max_depth=3, loss=auto, learning_rate=0.15, l2_regularization=0.2 \n"
     ]
    },
    {
     "name": "stderr",
     "output_type": "stream",
     "text": [
      "[Parallel(n_jobs=1)]: Done   5 out of   5 | elapsed:  1.3min remaining:    0.0s\n"
     ]
    },
    {
     "name": "stdout",
     "output_type": "stream",
     "text": [
      "[CV]  min_samples_leaf=20, max_iter=500, max_depth=3, loss=auto, learning_rate=0.15, l2_regularization=0.2, score=0.739, total=  11.9s\n",
      "[CV] min_samples_leaf=20, max_iter=100, max_depth=6, loss=auto, learning_rate=0.05, l2_regularization=0 \n"
     ]
    },
    {
     "name": "stderr",
     "output_type": "stream",
     "text": [
      "[Parallel(n_jobs=1)]: Done   6 out of   6 | elapsed:  1.5min remaining:    0.0s\n"
     ]
    },
    {
     "name": "stdout",
     "output_type": "stream",
     "text": [
      "[CV]  min_samples_leaf=20, max_iter=100, max_depth=6, loss=auto, learning_rate=0.05, l2_regularization=0, score=0.749, total=  18.3s\n",
      "[CV] min_samples_leaf=20, max_iter=100, max_depth=6, loss=auto, learning_rate=0.05, l2_regularization=0 \n"
     ]
    },
    {
     "name": "stderr",
     "output_type": "stream",
     "text": [
      "[Parallel(n_jobs=1)]: Done   7 out of   7 | elapsed:  1.8min remaining:    0.0s\n"
     ]
    },
    {
     "name": "stdout",
     "output_type": "stream",
     "text": [
      "[CV]  min_samples_leaf=20, max_iter=100, max_depth=6, loss=auto, learning_rate=0.05, l2_regularization=0, score=0.750, total=  17.8s\n",
      "[CV] min_samples_leaf=20, max_iter=100, max_depth=6, loss=auto, learning_rate=0.05, l2_regularization=0 \n"
     ]
    },
    {
     "name": "stderr",
     "output_type": "stream",
     "text": [
      "[Parallel(n_jobs=1)]: Done   8 out of   8 | elapsed:  2.1min remaining:    0.0s\n"
     ]
    },
    {
     "name": "stdout",
     "output_type": "stream",
     "text": [
      "[CV]  min_samples_leaf=20, max_iter=100, max_depth=6, loss=auto, learning_rate=0.05, l2_regularization=0, score=0.762, total=  18.8s\n",
      "[CV] min_samples_leaf=60, max_iter=1000, max_depth=6, loss=auto, learning_rate=0.05, l2_regularization=0.4 \n"
     ]
    },
    {
     "name": "stderr",
     "output_type": "stream",
     "text": [
      "[Parallel(n_jobs=1)]: Done   9 out of   9 | elapsed:  2.4min remaining:    0.0s\n"
     ]
    },
    {
     "name": "stdout",
     "output_type": "stream",
     "text": [
      "[CV]  min_samples_leaf=60, max_iter=1000, max_depth=6, loss=auto, learning_rate=0.05, l2_regularization=0.4, score=0.766, total= 1.0min\n",
      "[CV] min_samples_leaf=60, max_iter=1000, max_depth=6, loss=auto, learning_rate=0.05, l2_regularization=0.4 \n",
      "[CV]  min_samples_leaf=60, max_iter=1000, max_depth=6, loss=auto, learning_rate=0.05, l2_regularization=0.4, score=0.759, total=  35.3s\n",
      "[CV] min_samples_leaf=60, max_iter=1000, max_depth=6, loss=auto, learning_rate=0.05, l2_regularization=0.4 \n",
      "[CV]  min_samples_leaf=60, max_iter=1000, max_depth=6, loss=auto, learning_rate=0.05, l2_regularization=0.4, score=0.773, total=  42.0s\n",
      "[CV] min_samples_leaf=60, max_iter=1000, max_depth=3, loss=auto, learning_rate=0.15, l2_regularization=0 \n",
      "[CV]  min_samples_leaf=60, max_iter=1000, max_depth=3, loss=auto, learning_rate=0.15, l2_regularization=0, score=0.742, total=  19.5s\n",
      "[CV] min_samples_leaf=60, max_iter=1000, max_depth=3, loss=auto, learning_rate=0.15, l2_regularization=0 \n",
      "[CV]  min_samples_leaf=60, max_iter=1000, max_depth=3, loss=auto, learning_rate=0.15, l2_regularization=0, score=0.740, total=  12.6s\n",
      "[CV] min_samples_leaf=60, max_iter=1000, max_depth=3, loss=auto, learning_rate=0.15, l2_regularization=0 \n",
      "[CV]  min_samples_leaf=60, max_iter=1000, max_depth=3, loss=auto, learning_rate=0.15, l2_regularization=0, score=0.767, total=  30.1s\n",
      "[CV] min_samples_leaf=60, max_iter=100, max_depth=6, loss=auto, learning_rate=0.1, l2_regularization=0.2 \n",
      "[CV]  min_samples_leaf=60, max_iter=100, max_depth=6, loss=auto, learning_rate=0.1, l2_regularization=0.2, score=0.757, total=  15.7s\n",
      "[CV] min_samples_leaf=60, max_iter=100, max_depth=6, loss=auto, learning_rate=0.1, l2_regularization=0.2 \n",
      "[CV]  min_samples_leaf=60, max_iter=100, max_depth=6, loss=auto, learning_rate=0.1, l2_regularization=0.2, score=0.761, total=  16.2s\n",
      "[CV] min_samples_leaf=60, max_iter=100, max_depth=6, loss=auto, learning_rate=0.1, l2_regularization=0.2 \n",
      "[CV]  min_samples_leaf=60, max_iter=100, max_depth=6, loss=auto, learning_rate=0.1, l2_regularization=0.2, score=0.775, total=  16.1s\n",
      "[CV] min_samples_leaf=40, max_iter=100, max_depth=9, loss=auto, learning_rate=0.15, l2_regularization=0 \n",
      "[CV]  min_samples_leaf=40, max_iter=100, max_depth=9, loss=auto, learning_rate=0.15, l2_regularization=0, score=0.772, total=11.2min\n",
      "[CV] min_samples_leaf=40, max_iter=100, max_depth=9, loss=auto, learning_rate=0.15, l2_regularization=0 \n",
      "[CV]  min_samples_leaf=40, max_iter=100, max_depth=9, loss=auto, learning_rate=0.15, l2_regularization=0, score=0.771, total=  15.7s\n",
      "[CV] min_samples_leaf=40, max_iter=100, max_depth=9, loss=auto, learning_rate=0.15, l2_regularization=0 \n",
      "[CV]  min_samples_leaf=40, max_iter=100, max_depth=9, loss=auto, learning_rate=0.15, l2_regularization=0, score=0.783, total=  20.3s\n",
      "[CV] min_samples_leaf=60, max_iter=500, max_depth=9, loss=categorical_crossentropy, learning_rate=0.1, l2_regularization=0.2 \n",
      "[CV]  min_samples_leaf=60, max_iter=500, max_depth=9, loss=categorical_crossentropy, learning_rate=0.1, l2_regularization=0.2, score=0.768, total=  23.0s\n",
      "[CV] min_samples_leaf=60, max_iter=500, max_depth=9, loss=categorical_crossentropy, learning_rate=0.1, l2_regularization=0.2 \n",
      "[CV]  min_samples_leaf=60, max_iter=500, max_depth=9, loss=categorical_crossentropy, learning_rate=0.1, l2_regularization=0.2, score=0.782, total=  28.1s\n",
      "[CV] min_samples_leaf=60, max_iter=500, max_depth=9, loss=categorical_crossentropy, learning_rate=0.1, l2_regularization=0.2 \n",
      "[CV]  min_samples_leaf=60, max_iter=500, max_depth=9, loss=categorical_crossentropy, learning_rate=0.1, l2_regularization=0.2, score=0.784, total=  38.1s\n",
      "[CV] min_samples_leaf=20, max_iter=500, max_depth=3, loss=auto, learning_rate=0.1, l2_regularization=0.4 \n",
      "[CV]  min_samples_leaf=20, max_iter=500, max_depth=3, loss=auto, learning_rate=0.1, l2_regularization=0.4, score=0.726, total=  20.1s\n",
      "[CV] min_samples_leaf=20, max_iter=500, max_depth=3, loss=auto, learning_rate=0.1, l2_regularization=0.4 \n",
      "[CV]  min_samples_leaf=20, max_iter=500, max_depth=3, loss=auto, learning_rate=0.1, l2_regularization=0.4, score=0.726, total=  17.3s\n",
      "[CV] min_samples_leaf=20, max_iter=500, max_depth=3, loss=auto, learning_rate=0.1, l2_regularization=0.4 \n",
      "[CV]  min_samples_leaf=20, max_iter=500, max_depth=3, loss=auto, learning_rate=0.1, l2_regularization=0.4, score=0.736, total=  17.3s\n",
      "[CV] min_samples_leaf=40, max_iter=100, max_depth=6, loss=auto, learning_rate=0.15, l2_regularization=0.4 \n",
      "[CV]  min_samples_leaf=40, max_iter=100, max_depth=6, loss=auto, learning_rate=0.15, l2_regularization=0.4, score=0.765, total=  16.3s\n",
      "[CV] min_samples_leaf=40, max_iter=100, max_depth=6, loss=auto, learning_rate=0.15, l2_regularization=0.4 \n",
      "[CV]  min_samples_leaf=40, max_iter=100, max_depth=6, loss=auto, learning_rate=0.15, l2_regularization=0.4, score=0.769, total=  13.2s\n",
      "[CV] min_samples_leaf=40, max_iter=100, max_depth=6, loss=auto, learning_rate=0.15, l2_regularization=0.4 \n",
      "[CV]  min_samples_leaf=40, max_iter=100, max_depth=6, loss=auto, learning_rate=0.15, l2_regularization=0.4, score=0.782, total=  16.0s\n",
      "[CV] min_samples_leaf=20, max_iter=1200, max_depth=9, loss=auto, learning_rate=0.05, l2_regularization=0.2 \n",
      "[CV]  min_samples_leaf=20, max_iter=1200, max_depth=9, loss=auto, learning_rate=0.05, l2_regularization=0.2, score=0.773, total=  53.1s\n",
      "[CV] min_samples_leaf=20, max_iter=1200, max_depth=9, loss=auto, learning_rate=0.05, l2_regularization=0.2 \n",
      "[CV]  min_samples_leaf=20, max_iter=1200, max_depth=9, loss=auto, learning_rate=0.05, l2_regularization=0.2, score=0.746, total=  17.9s\n",
      "[CV] min_samples_leaf=20, max_iter=1200, max_depth=9, loss=auto, learning_rate=0.05, l2_regularization=0.2 \n",
      "[CV]  min_samples_leaf=20, max_iter=1200, max_depth=9, loss=auto, learning_rate=0.05, l2_regularization=0.2, score=0.780, total=  35.1s\n",
      "[CV] min_samples_leaf=60, max_iter=1200, max_depth=6, loss=auto, learning_rate=0.05, l2_regularization=0.2 \n",
      "[CV]  min_samples_leaf=60, max_iter=1200, max_depth=6, loss=auto, learning_rate=0.05, l2_regularization=0.2, score=0.765, total=  56.9s\n",
      "[CV] min_samples_leaf=60, max_iter=1200, max_depth=6, loss=auto, learning_rate=0.05, l2_regularization=0.2 \n",
      "[CV]  min_samples_leaf=60, max_iter=1200, max_depth=6, loss=auto, learning_rate=0.05, l2_regularization=0.2, score=0.756, total=  35.3s\n",
      "[CV] min_samples_leaf=60, max_iter=1200, max_depth=6, loss=auto, learning_rate=0.05, l2_regularization=0.2 \n",
      "[CV]  min_samples_leaf=60, max_iter=1200, max_depth=6, loss=auto, learning_rate=0.05, l2_regularization=0.2, score=0.776, total=  42.6s\n",
      "[CV] min_samples_leaf=20, max_iter=500, max_depth=6, loss=auto, learning_rate=0.05, l2_regularization=0.2 \n",
      "[CV]  min_samples_leaf=20, max_iter=500, max_depth=6, loss=auto, learning_rate=0.05, l2_regularization=0.2, score=0.758, total=  36.2s\n",
      "[CV] min_samples_leaf=20, max_iter=500, max_depth=6, loss=auto, learning_rate=0.05, l2_regularization=0.2 \n",
      "[CV]  min_samples_leaf=20, max_iter=500, max_depth=6, loss=auto, learning_rate=0.05, l2_regularization=0.2, score=0.767, total=  37.3s\n",
      "[CV] min_samples_leaf=20, max_iter=500, max_depth=6, loss=auto, learning_rate=0.05, l2_regularization=0.2 \n",
      "[CV]  min_samples_leaf=20, max_iter=500, max_depth=6, loss=auto, learning_rate=0.05, l2_regularization=0.2, score=0.769, total=  24.7s\n",
      "[CV] min_samples_leaf=20, max_iter=100, max_depth=6, loss=categorical_crossentropy, learning_rate=0.15, l2_regularization=0 \n",
      "[CV]  min_samples_leaf=20, max_iter=100, max_depth=6, loss=categorical_crossentropy, learning_rate=0.15, l2_regularization=0, score=0.770, total=  17.6s\n",
      "[CV] min_samples_leaf=20, max_iter=100, max_depth=6, loss=categorical_crossentropy, learning_rate=0.15, l2_regularization=0 \n",
      "[CV]  min_samples_leaf=20, max_iter=100, max_depth=6, loss=categorical_crossentropy, learning_rate=0.15, l2_regularization=0, score=0.776, total=  17.0s\n",
      "[CV] min_samples_leaf=20, max_iter=100, max_depth=6, loss=categorical_crossentropy, learning_rate=0.15, l2_regularization=0 \n",
      "[CV]  min_samples_leaf=20, max_iter=100, max_depth=6, loss=categorical_crossentropy, learning_rate=0.15, l2_regularization=0, score=0.785, total=  17.4s\n",
      "[CV] min_samples_leaf=20, max_iter=500, max_depth=6, loss=auto, learning_rate=0.15, l2_regularization=0.4 \n"
     ]
    },
    {
     "name": "stdout",
     "output_type": "stream",
     "text": [
      "[CV]  min_samples_leaf=20, max_iter=500, max_depth=6, loss=auto, learning_rate=0.15, l2_regularization=0.4, score=0.773, total=  21.0s\n",
      "[CV] min_samples_leaf=20, max_iter=500, max_depth=6, loss=auto, learning_rate=0.15, l2_regularization=0.4 \n",
      "[CV]  min_samples_leaf=20, max_iter=500, max_depth=6, loss=auto, learning_rate=0.15, l2_regularization=0.4, score=0.774, total=  17.9s\n",
      "[CV] min_samples_leaf=20, max_iter=500, max_depth=6, loss=auto, learning_rate=0.15, l2_regularization=0.4 \n",
      "[CV]  min_samples_leaf=20, max_iter=500, max_depth=6, loss=auto, learning_rate=0.15, l2_regularization=0.4, score=0.789, total=  34.7s\n",
      "[CV] min_samples_leaf=60, max_iter=1200, max_depth=9, loss=categorical_crossentropy, learning_rate=0.15, l2_regularization=0.2 \n",
      "[CV]  min_samples_leaf=60, max_iter=1200, max_depth=9, loss=categorical_crossentropy, learning_rate=0.15, l2_regularization=0.2, score=0.775, total=  42.5s\n",
      "[CV] min_samples_leaf=60, max_iter=1200, max_depth=9, loss=categorical_crossentropy, learning_rate=0.15, l2_regularization=0.2 \n",
      "[CV]  min_samples_leaf=60, max_iter=1200, max_depth=9, loss=categorical_crossentropy, learning_rate=0.15, l2_regularization=0.2, score=0.781, total=  32.6s\n",
      "[CV] min_samples_leaf=60, max_iter=1200, max_depth=9, loss=categorical_crossentropy, learning_rate=0.15, l2_regularization=0.2 \n",
      "[CV]  min_samples_leaf=60, max_iter=1200, max_depth=9, loss=categorical_crossentropy, learning_rate=0.15, l2_regularization=0.2, score=0.786, total=  27.0s\n",
      "[CV] min_samples_leaf=40, max_iter=1000, max_depth=3, loss=categorical_crossentropy, learning_rate=0.1, l2_regularization=0 \n",
      "[CV]  min_samples_leaf=40, max_iter=1000, max_depth=3, loss=categorical_crossentropy, learning_rate=0.1, l2_regularization=0, score=0.742, total=  43.2s\n",
      "[CV] min_samples_leaf=40, max_iter=1000, max_depth=3, loss=categorical_crossentropy, learning_rate=0.1, l2_regularization=0 \n",
      "[CV]  min_samples_leaf=40, max_iter=1000, max_depth=3, loss=categorical_crossentropy, learning_rate=0.1, l2_regularization=0, score=0.711, total=  10.7s\n",
      "[CV] min_samples_leaf=40, max_iter=1000, max_depth=3, loss=categorical_crossentropy, learning_rate=0.1, l2_regularization=0 \n",
      "[CV]  min_samples_leaf=40, max_iter=1000, max_depth=3, loss=categorical_crossentropy, learning_rate=0.1, l2_regularization=0, score=0.765, total=  48.3s\n",
      "[CV] min_samples_leaf=60, max_iter=1200, max_depth=3, loss=categorical_crossentropy, learning_rate=0.15, l2_regularization=0 \n",
      "[CV]  min_samples_leaf=60, max_iter=1200, max_depth=3, loss=categorical_crossentropy, learning_rate=0.15, l2_regularization=0, score=0.742, total=  19.9s\n",
      "[CV] min_samples_leaf=60, max_iter=1200, max_depth=3, loss=categorical_crossentropy, learning_rate=0.15, l2_regularization=0 \n",
      "[CV]  min_samples_leaf=60, max_iter=1200, max_depth=3, loss=categorical_crossentropy, learning_rate=0.15, l2_regularization=0, score=0.740, total=  13.2s\n",
      "[CV] min_samples_leaf=60, max_iter=1200, max_depth=3, loss=categorical_crossentropy, learning_rate=0.15, l2_regularization=0 \n",
      "[CV]  min_samples_leaf=60, max_iter=1200, max_depth=3, loss=categorical_crossentropy, learning_rate=0.15, l2_regularization=0, score=0.767, total=  33.4s\n",
      "[CV] min_samples_leaf=20, max_iter=1000, max_depth=3, loss=auto, learning_rate=0.15, l2_regularization=0.2 \n",
      "[CV]  min_samples_leaf=20, max_iter=1000, max_depth=3, loss=auto, learning_rate=0.15, l2_regularization=0.2, score=0.724, total=  11.8s\n",
      "[CV] min_samples_leaf=20, max_iter=1000, max_depth=3, loss=auto, learning_rate=0.15, l2_regularization=0.2 \n",
      "[CV]  min_samples_leaf=20, max_iter=1000, max_depth=3, loss=auto, learning_rate=0.15, l2_regularization=0.2, score=0.735, total=  11.6s\n",
      "[CV] min_samples_leaf=20, max_iter=1000, max_depth=3, loss=auto, learning_rate=0.15, l2_regularization=0.2 \n",
      "[CV]  min_samples_leaf=20, max_iter=1000, max_depth=3, loss=auto, learning_rate=0.15, l2_regularization=0.2, score=0.739, total=  12.3s\n",
      "[CV] min_samples_leaf=20, max_iter=1200, max_depth=6, loss=auto, learning_rate=0.1, l2_regularization=0.2 \n",
      "[CV]  min_samples_leaf=20, max_iter=1200, max_depth=6, loss=auto, learning_rate=0.1, l2_regularization=0.2, score=0.767, total=  30.6s\n",
      "[CV] min_samples_leaf=20, max_iter=1200, max_depth=6, loss=auto, learning_rate=0.1, l2_regularization=0.2 \n",
      "[CV]  min_samples_leaf=20, max_iter=1200, max_depth=6, loss=auto, learning_rate=0.1, l2_regularization=0.2, score=0.764, total=  13.6s\n",
      "[CV] min_samples_leaf=20, max_iter=1200, max_depth=6, loss=auto, learning_rate=0.1, l2_regularization=0.2 \n",
      "[CV]  min_samples_leaf=20, max_iter=1200, max_depth=6, loss=auto, learning_rate=0.1, l2_regularization=0.2, score=0.790, total=  25.5s\n",
      "[CV] min_samples_leaf=40, max_iter=1000, max_depth=3, loss=auto, learning_rate=0.1, l2_regularization=0.2 \n",
      "[CV]  min_samples_leaf=40, max_iter=1000, max_depth=3, loss=auto, learning_rate=0.1, l2_regularization=0.2, score=0.729, total=  25.4s\n",
      "[CV] min_samples_leaf=40, max_iter=1000, max_depth=3, loss=auto, learning_rate=0.1, l2_regularization=0.2 \n",
      "[CV]  min_samples_leaf=40, max_iter=1000, max_depth=3, loss=auto, learning_rate=0.1, l2_regularization=0.2, score=0.725, total=  16.4s\n",
      "[CV] min_samples_leaf=40, max_iter=1000, max_depth=3, loss=auto, learning_rate=0.1, l2_regularization=0.2 \n",
      "[CV]  min_samples_leaf=40, max_iter=1000, max_depth=3, loss=auto, learning_rate=0.1, l2_regularization=0.2, score=0.763, total=  51.5s\n",
      "[CV] min_samples_leaf=40, max_iter=1200, max_depth=3, loss=categorical_crossentropy, learning_rate=0.15, l2_regularization=0.2 \n",
      "[CV]  min_samples_leaf=40, max_iter=1200, max_depth=3, loss=categorical_crossentropy, learning_rate=0.15, l2_regularization=0.2, score=0.738, total=  24.1s\n",
      "[CV] min_samples_leaf=40, max_iter=1200, max_depth=3, loss=categorical_crossentropy, learning_rate=0.15, l2_regularization=0.2 \n",
      "[CV]  min_samples_leaf=40, max_iter=1200, max_depth=3, loss=categorical_crossentropy, learning_rate=0.15, l2_regularization=0.2, score=0.754, total=  30.0s\n",
      "[CV] min_samples_leaf=40, max_iter=1200, max_depth=3, loss=categorical_crossentropy, learning_rate=0.15, l2_regularization=0.2 \n",
      "[CV]  min_samples_leaf=40, max_iter=1200, max_depth=3, loss=categorical_crossentropy, learning_rate=0.15, l2_regularization=0.2, score=0.771, total=  47.8s\n",
      "[CV] min_samples_leaf=40, max_iter=1200, max_depth=3, loss=categorical_crossentropy, learning_rate=0.05, l2_regularization=0.2 \n",
      "[CV]  min_samples_leaf=40, max_iter=1200, max_depth=3, loss=categorical_crossentropy, learning_rate=0.05, l2_regularization=0.2, score=0.662, total=   8.7s\n",
      "[CV] min_samples_leaf=40, max_iter=1200, max_depth=3, loss=categorical_crossentropy, learning_rate=0.05, l2_regularization=0.2 \n",
      "[CV]  min_samples_leaf=40, max_iter=1200, max_depth=3, loss=categorical_crossentropy, learning_rate=0.05, l2_regularization=0.2, score=0.689, total=  21.1s\n",
      "[CV] min_samples_leaf=40, max_iter=1200, max_depth=3, loss=categorical_crossentropy, learning_rate=0.05, l2_regularization=0.2 \n",
      "[CV]  min_samples_leaf=40, max_iter=1200, max_depth=3, loss=categorical_crossentropy, learning_rate=0.05, l2_regularization=0.2, score=0.747, total= 1.6min\n",
      "[CV] min_samples_leaf=20, max_iter=1000, max_depth=9, loss=categorical_crossentropy, learning_rate=0.05, l2_regularization=0.4 \n",
      "[CV]  min_samples_leaf=20, max_iter=1000, max_depth=9, loss=categorical_crossentropy, learning_rate=0.05, l2_regularization=0.4, score=0.772, total= 1.5min\n",
      "[CV] min_samples_leaf=20, max_iter=1000, max_depth=9, loss=categorical_crossentropy, learning_rate=0.05, l2_regularization=0.4 \n",
      "[CV]  min_samples_leaf=20, max_iter=1000, max_depth=9, loss=categorical_crossentropy, learning_rate=0.05, l2_regularization=0.4, score=0.765, total=  43.8s\n",
      "[CV] min_samples_leaf=20, max_iter=1000, max_depth=9, loss=categorical_crossentropy, learning_rate=0.05, l2_regularization=0.4 \n",
      "[CV]  min_samples_leaf=20, max_iter=1000, max_depth=9, loss=categorical_crossentropy, learning_rate=0.05, l2_regularization=0.4, score=0.792, total= 1.1min\n",
      "[CV] min_samples_leaf=40, max_iter=1200, max_depth=3, loss=categorical_crossentropy, learning_rate=0.15, l2_regularization=0.4 \n",
      "[CV]  min_samples_leaf=40, max_iter=1200, max_depth=3, loss=categorical_crossentropy, learning_rate=0.15, l2_regularization=0.4, score=0.738, total=  20.6s\n",
      "[CV] min_samples_leaf=40, max_iter=1200, max_depth=3, loss=categorical_crossentropy, learning_rate=0.15, l2_regularization=0.4 \n"
     ]
    },
    {
     "name": "stdout",
     "output_type": "stream",
     "text": [
      "[CV]  min_samples_leaf=40, max_iter=1200, max_depth=3, loss=categorical_crossentropy, learning_rate=0.15, l2_regularization=0.4, score=0.736, total=  15.6s\n",
      "[CV] min_samples_leaf=40, max_iter=1200, max_depth=3, loss=categorical_crossentropy, learning_rate=0.15, l2_regularization=0.4 \n",
      "[CV]  min_samples_leaf=40, max_iter=1200, max_depth=3, loss=categorical_crossentropy, learning_rate=0.15, l2_regularization=0.4, score=0.753, total=  22.7s\n",
      "[CV] min_samples_leaf=20, max_iter=1000, max_depth=6, loss=auto, learning_rate=0.05, l2_regularization=0 \n",
      "[CV]  min_samples_leaf=20, max_iter=1000, max_depth=6, loss=auto, learning_rate=0.05, l2_regularization=0, score=0.763, total=  42.9s\n",
      "[CV] min_samples_leaf=20, max_iter=1000, max_depth=6, loss=auto, learning_rate=0.05, l2_regularization=0 \n",
      "[CV]  min_samples_leaf=20, max_iter=1000, max_depth=6, loss=auto, learning_rate=0.05, l2_regularization=0, score=0.770, total= 1.5min\n",
      "[CV] min_samples_leaf=20, max_iter=1000, max_depth=6, loss=auto, learning_rate=0.05, l2_regularization=0 \n",
      "[CV]  min_samples_leaf=20, max_iter=1000, max_depth=6, loss=auto, learning_rate=0.05, l2_regularization=0, score=0.787, total= 1.1min\n",
      "[CV] min_samples_leaf=60, max_iter=1200, max_depth=3, loss=categorical_crossentropy, learning_rate=0.1, l2_regularization=0.2 \n",
      "[CV]  min_samples_leaf=60, max_iter=1200, max_depth=3, loss=categorical_crossentropy, learning_rate=0.1, l2_regularization=0.2, score=0.724, total=  21.4s\n",
      "[CV] min_samples_leaf=60, max_iter=1200, max_depth=3, loss=categorical_crossentropy, learning_rate=0.1, l2_regularization=0.2 \n",
      "[CV]  min_samples_leaf=60, max_iter=1200, max_depth=3, loss=categorical_crossentropy, learning_rate=0.1, l2_regularization=0.2, score=0.718, total=  21.4s\n",
      "[CV] min_samples_leaf=60, max_iter=1200, max_depth=3, loss=categorical_crossentropy, learning_rate=0.1, l2_regularization=0.2 \n",
      "[CV]  min_samples_leaf=60, max_iter=1200, max_depth=3, loss=categorical_crossentropy, learning_rate=0.1, l2_regularization=0.2, score=0.763, total=  48.0s\n",
      "[CV] min_samples_leaf=40, max_iter=1000, max_depth=3, loss=categorical_crossentropy, learning_rate=0.15, l2_regularization=0 \n",
      "[CV]  min_samples_leaf=40, max_iter=1000, max_depth=3, loss=categorical_crossentropy, learning_rate=0.15, l2_regularization=0, score=0.741, total=  21.7s\n",
      "[CV] min_samples_leaf=40, max_iter=1000, max_depth=3, loss=categorical_crossentropy, learning_rate=0.15, l2_regularization=0 \n",
      "[CV]  min_samples_leaf=40, max_iter=1000, max_depth=3, loss=categorical_crossentropy, learning_rate=0.15, l2_regularization=0, score=0.739, total=  18.2s\n",
      "[CV] min_samples_leaf=40, max_iter=1000, max_depth=3, loss=categorical_crossentropy, learning_rate=0.15, l2_regularization=0 \n",
      "[CV]  min_samples_leaf=40, max_iter=1000, max_depth=3, loss=categorical_crossentropy, learning_rate=0.15, l2_regularization=0, score=0.740, total=  11.4s\n",
      "[CV] min_samples_leaf=40, max_iter=500, max_depth=6, loss=categorical_crossentropy, learning_rate=0.05, l2_regularization=0.4 \n",
      "[CV]  min_samples_leaf=40, max_iter=500, max_depth=6, loss=categorical_crossentropy, learning_rate=0.05, l2_regularization=0.4, score=0.766, total= 1.1min\n",
      "[CV] min_samples_leaf=40, max_iter=500, max_depth=6, loss=categorical_crossentropy, learning_rate=0.05, l2_regularization=0.4 \n",
      "[CV]  min_samples_leaf=40, max_iter=500, max_depth=6, loss=categorical_crossentropy, learning_rate=0.05, l2_regularization=0.4, score=0.770, total= 1.5min\n",
      "[CV] min_samples_leaf=40, max_iter=500, max_depth=6, loss=categorical_crossentropy, learning_rate=0.05, l2_regularization=0.4 \n",
      "[CV]  min_samples_leaf=40, max_iter=500, max_depth=6, loss=categorical_crossentropy, learning_rate=0.05, l2_regularization=0.4, score=0.766, total=  44.2s\n",
      "[CV] min_samples_leaf=40, max_iter=1000, max_depth=3, loss=categorical_crossentropy, learning_rate=0.15, l2_regularization=0.2 \n",
      "[CV]  min_samples_leaf=40, max_iter=1000, max_depth=3, loss=categorical_crossentropy, learning_rate=0.15, l2_regularization=0.2, score=0.738, total=  30.0s\n",
      "[CV] min_samples_leaf=40, max_iter=1000, max_depth=3, loss=categorical_crossentropy, learning_rate=0.15, l2_regularization=0.2 \n",
      "[CV]  min_samples_leaf=40, max_iter=1000, max_depth=3, loss=categorical_crossentropy, learning_rate=0.15, l2_regularization=0.2, score=0.754, total=  42.7s\n",
      "[CV] min_samples_leaf=40, max_iter=1000, max_depth=3, loss=categorical_crossentropy, learning_rate=0.15, l2_regularization=0.2 \n",
      "[CV]  min_samples_leaf=40, max_iter=1000, max_depth=3, loss=categorical_crossentropy, learning_rate=0.15, l2_regularization=0.2, score=0.771, total= 1.0min\n",
      "[CV] min_samples_leaf=20, max_iter=1200, max_depth=6, loss=auto, learning_rate=0.15, l2_regularization=0.2 \n",
      "[CV]  min_samples_leaf=20, max_iter=1200, max_depth=6, loss=auto, learning_rate=0.15, l2_regularization=0.2, score=0.769, total=  31.4s\n",
      "[CV] min_samples_leaf=20, max_iter=1200, max_depth=6, loss=auto, learning_rate=0.15, l2_regularization=0.2 \n",
      "[CV]  min_samples_leaf=20, max_iter=1200, max_depth=6, loss=auto, learning_rate=0.15, l2_regularization=0.2, score=0.768, total=  20.4s\n",
      "[CV] min_samples_leaf=20, max_iter=1200, max_depth=6, loss=auto, learning_rate=0.15, l2_regularization=0.2 \n",
      "[CV]  min_samples_leaf=20, max_iter=1200, max_depth=6, loss=auto, learning_rate=0.15, l2_regularization=0.2, score=0.793, total=  42.9s\n",
      "[CV] min_samples_leaf=60, max_iter=1200, max_depth=3, loss=categorical_crossentropy, learning_rate=0.05, l2_regularization=0 \n",
      "[CV]  min_samples_leaf=60, max_iter=1200, max_depth=3, loss=categorical_crossentropy, learning_rate=0.05, l2_regularization=0, score=0.724, total= 1.6min\n",
      "[CV] min_samples_leaf=60, max_iter=1200, max_depth=3, loss=categorical_crossentropy, learning_rate=0.05, l2_regularization=0 \n",
      "[CV]  min_samples_leaf=60, max_iter=1200, max_depth=3, loss=categorical_crossentropy, learning_rate=0.05, l2_regularization=0, score=0.702, total=  44.3s\n",
      "[CV] min_samples_leaf=60, max_iter=1200, max_depth=3, loss=categorical_crossentropy, learning_rate=0.05, l2_regularization=0 \n",
      "[CV]  min_samples_leaf=60, max_iter=1200, max_depth=3, loss=categorical_crossentropy, learning_rate=0.05, l2_regularization=0, score=0.719, total=  46.3s\n",
      "[CV] min_samples_leaf=40, max_iter=1000, max_depth=3, loss=auto, learning_rate=0.05, l2_regularization=0 \n",
      "[CV]  min_samples_leaf=40, max_iter=1000, max_depth=3, loss=auto, learning_rate=0.05, l2_regularization=0, score=0.718, total= 1.3min\n",
      "[CV] min_samples_leaf=40, max_iter=1000, max_depth=3, loss=auto, learning_rate=0.05, l2_regularization=0 \n",
      "[CV]  min_samples_leaf=40, max_iter=1000, max_depth=3, loss=auto, learning_rate=0.05, l2_regularization=0, score=0.706, total=  33.3s\n",
      "[CV] min_samples_leaf=40, max_iter=1000, max_depth=3, loss=auto, learning_rate=0.05, l2_regularization=0 \n",
      "[CV]  min_samples_leaf=40, max_iter=1000, max_depth=3, loss=auto, learning_rate=0.05, l2_regularization=0, score=0.698, total=  20.6s\n",
      "[CV] min_samples_leaf=60, max_iter=1200, max_depth=3, loss=auto, learning_rate=0.1, l2_regularization=0 \n",
      "[CV]  min_samples_leaf=60, max_iter=1200, max_depth=3, loss=auto, learning_rate=0.1, l2_regularization=0, score=0.718, total=  34.1s\n",
      "[CV] min_samples_leaf=60, max_iter=1200, max_depth=3, loss=auto, learning_rate=0.1, l2_regularization=0 \n",
      "[CV]  min_samples_leaf=60, max_iter=1200, max_depth=3, loss=auto, learning_rate=0.1, l2_regularization=0, score=0.731, total=  41.3s\n",
      "[CV] min_samples_leaf=60, max_iter=1200, max_depth=3, loss=auto, learning_rate=0.1, l2_regularization=0 \n",
      "[CV]  min_samples_leaf=60, max_iter=1200, max_depth=3, loss=auto, learning_rate=0.1, l2_regularization=0, score=0.743, total=  48.7s\n",
      "[CV] min_samples_leaf=40, max_iter=1200, max_depth=3, loss=categorical_crossentropy, learning_rate=0.1, l2_regularization=0 \n",
      "[CV]  min_samples_leaf=40, max_iter=1200, max_depth=3, loss=categorical_crossentropy, learning_rate=0.1, l2_regularization=0, score=0.742, total=  59.5s\n",
      "[CV] min_samples_leaf=40, max_iter=1200, max_depth=3, loss=categorical_crossentropy, learning_rate=0.1, l2_regularization=0 \n",
      "[CV]  min_samples_leaf=40, max_iter=1200, max_depth=3, loss=categorical_crossentropy, learning_rate=0.1, l2_regularization=0, score=0.711, total=  16.4s\n",
      "[CV] min_samples_leaf=40, max_iter=1200, max_depth=3, loss=categorical_crossentropy, learning_rate=0.1, l2_regularization=0 \n"
     ]
    },
    {
     "name": "stdout",
     "output_type": "stream",
     "text": [
      "[CV]  min_samples_leaf=40, max_iter=1200, max_depth=3, loss=categorical_crossentropy, learning_rate=0.1, l2_regularization=0, score=0.765, total= 1.1min\n",
      "[CV] min_samples_leaf=60, max_iter=1000, max_depth=6, loss=categorical_crossentropy, learning_rate=0.05, l2_regularization=0.2 \n",
      "[CV]  min_samples_leaf=60, max_iter=1000, max_depth=6, loss=categorical_crossentropy, learning_rate=0.05, l2_regularization=0.2, score=0.765, total= 1.0min\n",
      "[CV] min_samples_leaf=60, max_iter=1000, max_depth=6, loss=categorical_crossentropy, learning_rate=0.05, l2_regularization=0.2 \n",
      "[CV]  min_samples_leaf=60, max_iter=1000, max_depth=6, loss=categorical_crossentropy, learning_rate=0.05, l2_regularization=0.2, score=0.756, total=  39.5s\n",
      "[CV] min_samples_leaf=60, max_iter=1000, max_depth=6, loss=categorical_crossentropy, learning_rate=0.05, l2_regularization=0.2 \n",
      "[CV]  min_samples_leaf=60, max_iter=1000, max_depth=6, loss=categorical_crossentropy, learning_rate=0.05, l2_regularization=0.2, score=0.776, total= 1.1min\n",
      "[CV] min_samples_leaf=20, max_iter=100, max_depth=6, loss=auto, learning_rate=0.15, l2_regularization=0 \n",
      "[CV]  min_samples_leaf=20, max_iter=100, max_depth=6, loss=auto, learning_rate=0.15, l2_regularization=0, score=0.770, total=  26.7s\n",
      "[CV] min_samples_leaf=20, max_iter=100, max_depth=6, loss=auto, learning_rate=0.15, l2_regularization=0 \n",
      "[CV]  min_samples_leaf=20, max_iter=100, max_depth=6, loss=auto, learning_rate=0.15, l2_regularization=0, score=0.776, total=  23.9s\n",
      "[CV] min_samples_leaf=20, max_iter=100, max_depth=6, loss=auto, learning_rate=0.15, l2_regularization=0 \n",
      "[CV]  min_samples_leaf=20, max_iter=100, max_depth=6, loss=auto, learning_rate=0.15, l2_regularization=0, score=0.785, total=  20.9s\n",
      "[CV] min_samples_leaf=60, max_iter=1200, max_depth=9, loss=auto, learning_rate=0.1, l2_regularization=0.4 \n",
      "[CV]  min_samples_leaf=60, max_iter=1200, max_depth=9, loss=auto, learning_rate=0.1, l2_regularization=0.4, score=0.771, total=  29.2s\n",
      "[CV] min_samples_leaf=60, max_iter=1200, max_depth=9, loss=auto, learning_rate=0.1, l2_regularization=0.4 \n",
      "[CV]  min_samples_leaf=60, max_iter=1200, max_depth=9, loss=auto, learning_rate=0.1, l2_regularization=0.4, score=0.767, total=  29.5s\n",
      "[CV] min_samples_leaf=60, max_iter=1200, max_depth=9, loss=auto, learning_rate=0.1, l2_regularization=0.4 \n",
      "[CV]  min_samples_leaf=60, max_iter=1200, max_depth=9, loss=auto, learning_rate=0.1, l2_regularization=0.4, score=0.780, total=  21.6s\n",
      "[CV] min_samples_leaf=60, max_iter=500, max_depth=3, loss=categorical_crossentropy, learning_rate=0.05, l2_regularization=0.4 \n",
      "[CV]  min_samples_leaf=60, max_iter=500, max_depth=3, loss=categorical_crossentropy, learning_rate=0.05, l2_regularization=0.4, score=0.715, total=  55.3s\n",
      "[CV] min_samples_leaf=60, max_iter=500, max_depth=3, loss=categorical_crossentropy, learning_rate=0.05, l2_regularization=0.4 \n",
      "[CV]  min_samples_leaf=60, max_iter=500, max_depth=3, loss=categorical_crossentropy, learning_rate=0.05, l2_regularization=0.4, score=0.697, total=  27.6s\n",
      "[CV] min_samples_leaf=60, max_iter=500, max_depth=3, loss=categorical_crossentropy, learning_rate=0.05, l2_regularization=0.4 \n",
      "[CV]  min_samples_leaf=60, max_iter=500, max_depth=3, loss=categorical_crossentropy, learning_rate=0.05, l2_regularization=0.4, score=0.719, total=  41.8s\n",
      "[CV] min_samples_leaf=40, max_iter=1200, max_depth=3, loss=auto, learning_rate=0.15, l2_regularization=0 \n",
      "[CV]  min_samples_leaf=40, max_iter=1200, max_depth=3, loss=auto, learning_rate=0.15, l2_regularization=0, score=0.741, total=  20.9s\n",
      "[CV] min_samples_leaf=40, max_iter=1200, max_depth=3, loss=auto, learning_rate=0.15, l2_regularization=0 \n",
      "[CV]  min_samples_leaf=40, max_iter=1200, max_depth=3, loss=auto, learning_rate=0.15, l2_regularization=0, score=0.739, total=  19.7s\n",
      "[CV] min_samples_leaf=40, max_iter=1200, max_depth=3, loss=auto, learning_rate=0.15, l2_regularization=0 \n",
      "[CV]  min_samples_leaf=40, max_iter=1200, max_depth=3, loss=auto, learning_rate=0.15, l2_regularization=0, score=0.740, total=  12.4s\n",
      "[CV] min_samples_leaf=40, max_iter=1200, max_depth=3, loss=categorical_crossentropy, learning_rate=0.1, l2_regularization=0.4 \n",
      "[CV]  min_samples_leaf=40, max_iter=1200, max_depth=3, loss=categorical_crossentropy, learning_rate=0.1, l2_regularization=0.4, score=0.716, total=  20.4s\n",
      "[CV] min_samples_leaf=40, max_iter=1200, max_depth=3, loss=categorical_crossentropy, learning_rate=0.1, l2_regularization=0.4 \n",
      "[CV]  min_samples_leaf=40, max_iter=1200, max_depth=3, loss=categorical_crossentropy, learning_rate=0.1, l2_regularization=0.4, score=0.710, total=  13.9s\n",
      "[CV] min_samples_leaf=40, max_iter=1200, max_depth=3, loss=categorical_crossentropy, learning_rate=0.1, l2_regularization=0.4 \n",
      "[CV]  min_samples_leaf=40, max_iter=1200, max_depth=3, loss=categorical_crossentropy, learning_rate=0.1, l2_regularization=0.4, score=0.754, total=  39.0s\n",
      "[CV] min_samples_leaf=40, max_iter=1000, max_depth=6, loss=auto, learning_rate=0.15, l2_regularization=0.2 \n",
      "[CV]  min_samples_leaf=40, max_iter=1000, max_depth=6, loss=auto, learning_rate=0.15, l2_regularization=0.2, score=0.773, total=  28.1s\n",
      "[CV] min_samples_leaf=40, max_iter=1000, max_depth=6, loss=auto, learning_rate=0.15, l2_regularization=0.2 \n",
      "[CV]  min_samples_leaf=40, max_iter=1000, max_depth=6, loss=auto, learning_rate=0.15, l2_regularization=0.2, score=0.776, total=  33.4s\n",
      "[CV] min_samples_leaf=40, max_iter=1000, max_depth=6, loss=auto, learning_rate=0.15, l2_regularization=0.2 \n",
      "[CV]  min_samples_leaf=40, max_iter=1000, max_depth=6, loss=auto, learning_rate=0.15, l2_regularization=0.2, score=0.781, total=  19.1s\n",
      "[CV] min_samples_leaf=40, max_iter=500, max_depth=9, loss=categorical_crossentropy, learning_rate=0.1, l2_regularization=0.4 \n",
      "[CV]  min_samples_leaf=40, max_iter=500, max_depth=9, loss=categorical_crossentropy, learning_rate=0.1, l2_regularization=0.4, score=0.770, total=  26.8s\n",
      "[CV] min_samples_leaf=40, max_iter=500, max_depth=9, loss=categorical_crossentropy, learning_rate=0.1, l2_regularization=0.4 \n",
      "[CV]  min_samples_leaf=40, max_iter=500, max_depth=9, loss=categorical_crossentropy, learning_rate=0.1, l2_regularization=0.4, score=0.773, total=  29.5s\n",
      "[CV] min_samples_leaf=40, max_iter=500, max_depth=9, loss=categorical_crossentropy, learning_rate=0.1, l2_regularization=0.4 \n",
      "[CV]  min_samples_leaf=40, max_iter=500, max_depth=9, loss=categorical_crossentropy, learning_rate=0.1, l2_regularization=0.4, score=0.790, total=  39.2s\n",
      "[CV] min_samples_leaf=40, max_iter=500, max_depth=9, loss=auto, learning_rate=0.05, l2_regularization=0.2 \n",
      "[CV]  min_samples_leaf=40, max_iter=500, max_depth=9, loss=auto, learning_rate=0.05, l2_regularization=0.2, score=0.772, total= 1.5min\n",
      "[CV] min_samples_leaf=40, max_iter=500, max_depth=9, loss=auto, learning_rate=0.05, l2_regularization=0.2 \n",
      "[CV]  min_samples_leaf=40, max_iter=500, max_depth=9, loss=auto, learning_rate=0.05, l2_regularization=0.2, score=0.769, total=  55.3s\n",
      "[CV] min_samples_leaf=40, max_iter=500, max_depth=9, loss=auto, learning_rate=0.05, l2_regularization=0.2 \n",
      "[CV]  min_samples_leaf=40, max_iter=500, max_depth=9, loss=auto, learning_rate=0.05, l2_regularization=0.2, score=0.791, total= 1.6min\n",
      "[CV] min_samples_leaf=20, max_iter=1200, max_depth=6, loss=categorical_crossentropy, learning_rate=0.15, l2_regularization=0.4 \n",
      "[CV]  min_samples_leaf=20, max_iter=1200, max_depth=6, loss=categorical_crossentropy, learning_rate=0.15, l2_regularization=0.4, score=0.773, total=  25.5s\n",
      "[CV] min_samples_leaf=20, max_iter=1200, max_depth=6, loss=categorical_crossentropy, learning_rate=0.15, l2_regularization=0.4 \n",
      "[CV]  min_samples_leaf=20, max_iter=1200, max_depth=6, loss=categorical_crossentropy, learning_rate=0.15, l2_regularization=0.4, score=0.774, total=  22.9s\n",
      "[CV] min_samples_leaf=20, max_iter=1200, max_depth=6, loss=categorical_crossentropy, learning_rate=0.15, l2_regularization=0.4 \n",
      "[CV]  min_samples_leaf=20, max_iter=1200, max_depth=6, loss=categorical_crossentropy, learning_rate=0.15, l2_regularization=0.4, score=0.789, total=  42.1s\n",
      "[CV] min_samples_leaf=40, max_iter=1000, max_depth=6, loss=categorical_crossentropy, learning_rate=0.1, l2_regularization=0.4 \n",
      "[CV]  min_samples_leaf=40, max_iter=1000, max_depth=6, loss=categorical_crossentropy, learning_rate=0.1, l2_regularization=0.4, score=0.764, total=  25.0s\n",
      "[CV] min_samples_leaf=40, max_iter=1000, max_depth=6, loss=categorical_crossentropy, learning_rate=0.1, l2_regularization=0.4 \n"
     ]
    },
    {
     "name": "stdout",
     "output_type": "stream",
     "text": [
      "[CV]  min_samples_leaf=40, max_iter=1000, max_depth=6, loss=categorical_crossentropy, learning_rate=0.1, l2_regularization=0.4, score=0.768, total=  19.3s\n",
      "[CV] min_samples_leaf=40, max_iter=1000, max_depth=6, loss=categorical_crossentropy, learning_rate=0.1, l2_regularization=0.4 \n",
      "[CV]  min_samples_leaf=40, max_iter=1000, max_depth=6, loss=categorical_crossentropy, learning_rate=0.1, l2_regularization=0.4, score=0.786, total=  29.0s\n",
      "[CV] min_samples_leaf=20, max_iter=1200, max_depth=6, loss=auto, learning_rate=0.05, l2_regularization=0 \n",
      "[CV]  min_samples_leaf=20, max_iter=1200, max_depth=6, loss=auto, learning_rate=0.05, l2_regularization=0, score=0.763, total=  44.3s\n",
      "[CV] min_samples_leaf=20, max_iter=1200, max_depth=6, loss=auto, learning_rate=0.05, l2_regularization=0 \n",
      "[CV]  min_samples_leaf=20, max_iter=1200, max_depth=6, loss=auto, learning_rate=0.05, l2_regularization=0, score=0.770, total=  51.7s\n",
      "[CV] min_samples_leaf=20, max_iter=1200, max_depth=6, loss=auto, learning_rate=0.05, l2_regularization=0 \n",
      "[CV]  min_samples_leaf=20, max_iter=1200, max_depth=6, loss=auto, learning_rate=0.05, l2_regularization=0, score=0.787, total= 1.2min\n",
      "[CV] min_samples_leaf=40, max_iter=500, max_depth=6, loss=auto, learning_rate=0.15, l2_regularization=0 \n",
      "[CV]  min_samples_leaf=40, max_iter=500, max_depth=6, loss=auto, learning_rate=0.15, l2_regularization=0, score=0.772, total=  27.9s\n",
      "[CV] min_samples_leaf=40, max_iter=500, max_depth=6, loss=auto, learning_rate=0.15, l2_regularization=0 \n",
      "[CV]  min_samples_leaf=40, max_iter=500, max_depth=6, loss=auto, learning_rate=0.15, l2_regularization=0, score=0.769, total=  16.8s\n",
      "[CV] min_samples_leaf=40, max_iter=500, max_depth=6, loss=auto, learning_rate=0.15, l2_regularization=0 \n",
      "[CV]  min_samples_leaf=40, max_iter=500, max_depth=6, loss=auto, learning_rate=0.15, l2_regularization=0, score=0.786, total=  39.5s\n",
      "[CV] min_samples_leaf=20, max_iter=1000, max_depth=3, loss=categorical_crossentropy, learning_rate=0.1, l2_regularization=0 \n",
      "[CV]  min_samples_leaf=20, max_iter=1000, max_depth=3, loss=categorical_crossentropy, learning_rate=0.1, l2_regularization=0, score=0.739, total=  38.2s\n",
      "[CV] min_samples_leaf=20, max_iter=1000, max_depth=3, loss=categorical_crossentropy, learning_rate=0.1, l2_regularization=0 \n",
      "[CV]  min_samples_leaf=20, max_iter=1000, max_depth=3, loss=categorical_crossentropy, learning_rate=0.1, l2_regularization=0, score=0.717, total=  15.3s\n",
      "[CV] min_samples_leaf=20, max_iter=1000, max_depth=3, loss=categorical_crossentropy, learning_rate=0.1, l2_regularization=0 \n",
      "[CV]  min_samples_leaf=20, max_iter=1000, max_depth=3, loss=categorical_crossentropy, learning_rate=0.1, l2_regularization=0, score=0.743, total=  25.8s\n",
      "[CV] min_samples_leaf=40, max_iter=1000, max_depth=9, loss=auto, learning_rate=0.15, l2_regularization=0.2 \n",
      "[CV]  min_samples_leaf=40, max_iter=1000, max_depth=9, loss=auto, learning_rate=0.15, l2_regularization=0.2, score=0.775, total=  49.4s\n",
      "[CV] min_samples_leaf=40, max_iter=1000, max_depth=9, loss=auto, learning_rate=0.15, l2_regularization=0.2 \n",
      "[CV]  min_samples_leaf=40, max_iter=1000, max_depth=9, loss=auto, learning_rate=0.15, l2_regularization=0.2, score=0.783, total=  37.5s\n",
      "[CV] min_samples_leaf=40, max_iter=1000, max_depth=9, loss=auto, learning_rate=0.15, l2_regularization=0.2 \n",
      "[CV]  min_samples_leaf=40, max_iter=1000, max_depth=9, loss=auto, learning_rate=0.15, l2_regularization=0.2, score=0.789, total=  35.3s\n",
      "[CV] min_samples_leaf=20, max_iter=100, max_depth=6, loss=auto, learning_rate=0.05, l2_regularization=0.2 \n",
      "[CV]  min_samples_leaf=20, max_iter=100, max_depth=6, loss=auto, learning_rate=0.05, l2_regularization=0.2, score=0.741, total=  22.1s\n",
      "[CV] min_samples_leaf=20, max_iter=100, max_depth=6, loss=auto, learning_rate=0.05, l2_regularization=0.2 \n",
      "[CV]  min_samples_leaf=20, max_iter=100, max_depth=6, loss=auto, learning_rate=0.05, l2_regularization=0.2, score=0.748, total=  20.8s\n",
      "[CV] min_samples_leaf=20, max_iter=100, max_depth=6, loss=auto, learning_rate=0.05, l2_regularization=0.2 \n",
      "[CV]  min_samples_leaf=20, max_iter=100, max_depth=6, loss=auto, learning_rate=0.05, l2_regularization=0.2, score=0.758, total=  21.2s\n",
      "[CV] min_samples_leaf=60, max_iter=100, max_depth=3, loss=auto, learning_rate=0.15, l2_regularization=0.2 \n",
      "[CV]  min_samples_leaf=60, max_iter=100, max_depth=3, loss=auto, learning_rate=0.15, l2_regularization=0.2, score=0.713, total=   8.6s\n",
      "[CV] min_samples_leaf=60, max_iter=100, max_depth=3, loss=auto, learning_rate=0.15, l2_regularization=0.2 \n",
      "[CV]  min_samples_leaf=60, max_iter=100, max_depth=3, loss=auto, learning_rate=0.15, l2_regularization=0.2, score=0.714, total=   9.1s\n",
      "[CV] min_samples_leaf=60, max_iter=100, max_depth=3, loss=auto, learning_rate=0.15, l2_regularization=0.2 \n",
      "[CV]  min_samples_leaf=60, max_iter=100, max_depth=3, loss=auto, learning_rate=0.15, l2_regularization=0.2, score=0.728, total=   9.2s\n",
      "[CV] min_samples_leaf=40, max_iter=1200, max_depth=6, loss=categorical_crossentropy, learning_rate=0.15, l2_regularization=0 \n",
      "[CV]  min_samples_leaf=40, max_iter=1200, max_depth=6, loss=categorical_crossentropy, learning_rate=0.15, l2_regularization=0, score=0.772, total=  29.0s\n",
      "[CV] min_samples_leaf=40, max_iter=1200, max_depth=6, loss=categorical_crossentropy, learning_rate=0.15, l2_regularization=0 \n",
      "[CV]  min_samples_leaf=40, max_iter=1200, max_depth=6, loss=categorical_crossentropy, learning_rate=0.15, l2_regularization=0, score=0.769, total=  16.8s\n",
      "[CV] min_samples_leaf=40, max_iter=1200, max_depth=6, loss=categorical_crossentropy, learning_rate=0.15, l2_regularization=0 \n",
      "[CV]  min_samples_leaf=40, max_iter=1200, max_depth=6, loss=categorical_crossentropy, learning_rate=0.15, l2_regularization=0, score=0.786, total=  42.2s\n",
      "[CV] min_samples_leaf=60, max_iter=1000, max_depth=3, loss=auto, learning_rate=0.1, l2_regularization=0.4 \n",
      "[CV]  min_samples_leaf=60, max_iter=1000, max_depth=3, loss=auto, learning_rate=0.1, l2_regularization=0.4, score=0.713, total=  16.1s\n",
      "[CV] min_samples_leaf=60, max_iter=1000, max_depth=3, loss=auto, learning_rate=0.1, l2_regularization=0.4 \n",
      "[CV]  min_samples_leaf=60, max_iter=1000, max_depth=3, loss=auto, learning_rate=0.1, l2_regularization=0.4, score=0.740, total=  38.1s\n",
      "[CV] min_samples_leaf=60, max_iter=1000, max_depth=3, loss=auto, learning_rate=0.1, l2_regularization=0.4 \n",
      "[CV]  min_samples_leaf=60, max_iter=1000, max_depth=3, loss=auto, learning_rate=0.1, l2_regularization=0.4, score=0.763, total= 1.1min\n",
      "[CV] min_samples_leaf=40, max_iter=1200, max_depth=9, loss=auto, learning_rate=0.1, l2_regularization=0.4 \n",
      "[CV]  min_samples_leaf=40, max_iter=1200, max_depth=9, loss=auto, learning_rate=0.1, l2_regularization=0.4, score=0.770, total=  27.1s\n",
      "[CV] min_samples_leaf=40, max_iter=1200, max_depth=9, loss=auto, learning_rate=0.1, l2_regularization=0.4 \n",
      "[CV]  min_samples_leaf=40, max_iter=1200, max_depth=9, loss=auto, learning_rate=0.1, l2_regularization=0.4, score=0.773, total=  48.1s\n",
      "[CV] min_samples_leaf=40, max_iter=1200, max_depth=9, loss=auto, learning_rate=0.1, l2_regularization=0.4 \n",
      "[CV]  min_samples_leaf=40, max_iter=1200, max_depth=9, loss=auto, learning_rate=0.1, l2_regularization=0.4, score=0.790, total=  42.0s\n",
      "[CV] min_samples_leaf=60, max_iter=100, max_depth=3, loss=categorical_crossentropy, learning_rate=0.15, l2_regularization=0.2 \n",
      "[CV]  min_samples_leaf=60, max_iter=100, max_depth=3, loss=categorical_crossentropy, learning_rate=0.15, l2_regularization=0.2, score=0.713, total=   9.5s\n",
      "[CV] min_samples_leaf=60, max_iter=100, max_depth=3, loss=categorical_crossentropy, learning_rate=0.15, l2_regularization=0.2 \n",
      "[CV]  min_samples_leaf=60, max_iter=100, max_depth=3, loss=categorical_crossentropy, learning_rate=0.15, l2_regularization=0.2, score=0.714, total=   8.8s\n",
      "[CV] min_samples_leaf=60, max_iter=100, max_depth=3, loss=categorical_crossentropy, learning_rate=0.15, l2_regularization=0.2 \n",
      "[CV]  min_samples_leaf=60, max_iter=100, max_depth=3, loss=categorical_crossentropy, learning_rate=0.15, l2_regularization=0.2, score=0.728, total=   8.9s\n",
      "[CV] min_samples_leaf=60, max_iter=1000, max_depth=3, loss=auto, learning_rate=0.05, l2_regularization=0.4 \n",
      "[CV]  min_samples_leaf=60, max_iter=1000, max_depth=3, loss=auto, learning_rate=0.05, l2_regularization=0.4, score=0.715, total= 1.0min\n",
      "[CV] min_samples_leaf=60, max_iter=1000, max_depth=3, loss=auto, learning_rate=0.05, l2_regularization=0.4 \n"
     ]
    },
    {
     "name": "stdout",
     "output_type": "stream",
     "text": [
      "[CV]  min_samples_leaf=60, max_iter=1000, max_depth=3, loss=auto, learning_rate=0.05, l2_regularization=0.4, score=0.697, total=  29.1s\n",
      "[CV] min_samples_leaf=60, max_iter=1000, max_depth=3, loss=auto, learning_rate=0.05, l2_regularization=0.4 \n",
      "[CV]  min_samples_leaf=60, max_iter=1000, max_depth=3, loss=auto, learning_rate=0.05, l2_regularization=0.4, score=0.719, total=  44.3s\n",
      "[CV] min_samples_leaf=60, max_iter=100, max_depth=9, loss=auto, learning_rate=0.05, l2_regularization=0.4 \n",
      "[CV]  min_samples_leaf=60, max_iter=100, max_depth=9, loss=auto, learning_rate=0.05, l2_regularization=0.4, score=0.748, total=  28.7s\n",
      "[CV] min_samples_leaf=60, max_iter=100, max_depth=9, loss=auto, learning_rate=0.05, l2_regularization=0.4 \n",
      "[CV]  min_samples_leaf=60, max_iter=100, max_depth=9, loss=auto, learning_rate=0.05, l2_regularization=0.4, score=0.751, total=  26.3s\n",
      "[CV] min_samples_leaf=60, max_iter=100, max_depth=9, loss=auto, learning_rate=0.05, l2_regularization=0.4 \n",
      "[CV]  min_samples_leaf=60, max_iter=100, max_depth=9, loss=auto, learning_rate=0.05, l2_regularization=0.4, score=0.760, total=  27.4s\n",
      "[CV] min_samples_leaf=60, max_iter=1000, max_depth=6, loss=auto, learning_rate=0.1, l2_regularization=0.2 \n",
      "[CV]  min_samples_leaf=60, max_iter=1000, max_depth=6, loss=auto, learning_rate=0.1, l2_regularization=0.2, score=0.767, total=  33.4s\n",
      "[CV] min_samples_leaf=60, max_iter=1000, max_depth=6, loss=auto, learning_rate=0.1, l2_regularization=0.2 \n",
      "[CV]  min_samples_leaf=60, max_iter=1000, max_depth=6, loss=auto, learning_rate=0.1, l2_regularization=0.2, score=0.772, total=  35.7s\n",
      "[CV] min_samples_leaf=60, max_iter=1000, max_depth=6, loss=auto, learning_rate=0.1, l2_regularization=0.2 \n",
      "[CV]  min_samples_leaf=60, max_iter=1000, max_depth=6, loss=auto, learning_rate=0.1, l2_regularization=0.2, score=0.778, total=  28.4s\n",
      "[CV] min_samples_leaf=20, max_iter=500, max_depth=6, loss=categorical_crossentropy, learning_rate=0.15, l2_regularization=0.2 \n",
      "[CV]  min_samples_leaf=20, max_iter=500, max_depth=6, loss=categorical_crossentropy, learning_rate=0.15, l2_regularization=0.2, score=0.769, total=  29.4s\n",
      "[CV] min_samples_leaf=20, max_iter=500, max_depth=6, loss=categorical_crossentropy, learning_rate=0.15, l2_regularization=0.2 \n",
      "[CV]  min_samples_leaf=20, max_iter=500, max_depth=6, loss=categorical_crossentropy, learning_rate=0.15, l2_regularization=0.2, score=0.768, total=  17.7s\n",
      "[CV] min_samples_leaf=20, max_iter=500, max_depth=6, loss=categorical_crossentropy, learning_rate=0.15, l2_regularization=0.2 \n",
      "[CV]  min_samples_leaf=20, max_iter=500, max_depth=6, loss=categorical_crossentropy, learning_rate=0.15, l2_regularization=0.2, score=0.793, total=  40.8s\n",
      "[CV] min_samples_leaf=60, max_iter=500, max_depth=3, loss=auto, learning_rate=0.1, l2_regularization=0.2 \n",
      "[CV]  min_samples_leaf=60, max_iter=500, max_depth=3, loss=auto, learning_rate=0.1, l2_regularization=0.2, score=0.724, total=  25.4s\n",
      "[CV] min_samples_leaf=60, max_iter=500, max_depth=3, loss=auto, learning_rate=0.1, l2_regularization=0.2 \n",
      "[CV]  min_samples_leaf=60, max_iter=500, max_depth=3, loss=auto, learning_rate=0.1, l2_regularization=0.2, score=0.718, total=  18.8s\n",
      "[CV] min_samples_leaf=60, max_iter=500, max_depth=3, loss=auto, learning_rate=0.1, l2_regularization=0.2 \n",
      "[CV]  min_samples_leaf=60, max_iter=500, max_depth=3, loss=auto, learning_rate=0.1, l2_regularization=0.2, score=0.763, total=  55.3s\n",
      "[CV] min_samples_leaf=60, max_iter=500, max_depth=3, loss=categorical_crossentropy, learning_rate=0.05, l2_regularization=0 \n",
      "[CV]  min_samples_leaf=60, max_iter=500, max_depth=3, loss=categorical_crossentropy, learning_rate=0.05, l2_regularization=0, score=0.724, total= 1.4min\n",
      "[CV] min_samples_leaf=60, max_iter=500, max_depth=3, loss=categorical_crossentropy, learning_rate=0.05, l2_regularization=0 \n",
      "[CV]  min_samples_leaf=60, max_iter=500, max_depth=3, loss=categorical_crossentropy, learning_rate=0.05, l2_regularization=0, score=0.702, total=  33.1s\n",
      "[CV] min_samples_leaf=60, max_iter=500, max_depth=3, loss=categorical_crossentropy, learning_rate=0.05, l2_regularization=0 \n",
      "[CV]  min_samples_leaf=60, max_iter=500, max_depth=3, loss=categorical_crossentropy, learning_rate=0.05, l2_regularization=0, score=0.719, total=  41.7s\n",
      "[CV] min_samples_leaf=40, max_iter=1000, max_depth=3, loss=categorical_crossentropy, learning_rate=0.05, l2_regularization=0.4 \n",
      "[CV]  min_samples_leaf=40, max_iter=1000, max_depth=3, loss=categorical_crossentropy, learning_rate=0.05, l2_regularization=0.4, score=0.721, total= 1.2min\n",
      "[CV] min_samples_leaf=40, max_iter=1000, max_depth=3, loss=categorical_crossentropy, learning_rate=0.05, l2_regularization=0.4 \n",
      "[CV]  min_samples_leaf=40, max_iter=1000, max_depth=3, loss=categorical_crossentropy, learning_rate=0.05, l2_regularization=0.4, score=0.696, total=  27.6s\n",
      "[CV] min_samples_leaf=40, max_iter=1000, max_depth=3, loss=categorical_crossentropy, learning_rate=0.05, l2_regularization=0.4 \n",
      "[CV]  min_samples_leaf=40, max_iter=1000, max_depth=3, loss=categorical_crossentropy, learning_rate=0.05, l2_regularization=0.4, score=0.732, total= 1.1min\n",
      "[CV] min_samples_leaf=60, max_iter=1200, max_depth=9, loss=categorical_crossentropy, learning_rate=0.15, l2_regularization=0.4 \n",
      "[CV]  min_samples_leaf=60, max_iter=1200, max_depth=9, loss=categorical_crossentropy, learning_rate=0.15, l2_regularization=0.4, score=0.776, total=  34.3s\n",
      "[CV] min_samples_leaf=60, max_iter=1200, max_depth=9, loss=categorical_crossentropy, learning_rate=0.15, l2_regularization=0.4 \n",
      "[CV]  min_samples_leaf=60, max_iter=1200, max_depth=9, loss=categorical_crossentropy, learning_rate=0.15, l2_regularization=0.4, score=0.781, total=  36.5s\n",
      "[CV] min_samples_leaf=60, max_iter=1200, max_depth=9, loss=categorical_crossentropy, learning_rate=0.15, l2_regularization=0.4 \n",
      "[CV]  min_samples_leaf=60, max_iter=1200, max_depth=9, loss=categorical_crossentropy, learning_rate=0.15, l2_regularization=0.4, score=0.788, total=  56.5s\n",
      "[CV] min_samples_leaf=60, max_iter=100, max_depth=6, loss=categorical_crossentropy, learning_rate=0.05, l2_regularization=0.4 \n",
      "[CV]  min_samples_leaf=60, max_iter=100, max_depth=6, loss=categorical_crossentropy, learning_rate=0.05, l2_regularization=0.4, score=0.734, total=  20.9s\n",
      "[CV] min_samples_leaf=60, max_iter=100, max_depth=6, loss=categorical_crossentropy, learning_rate=0.05, l2_regularization=0.4 \n",
      "[CV]  min_samples_leaf=60, max_iter=100, max_depth=6, loss=categorical_crossentropy, learning_rate=0.05, l2_regularization=0.4, score=0.738, total=  21.5s\n",
      "[CV] min_samples_leaf=60, max_iter=100, max_depth=6, loss=categorical_crossentropy, learning_rate=0.05, l2_regularization=0.4 \n",
      "[CV]  min_samples_leaf=60, max_iter=100, max_depth=6, loss=categorical_crossentropy, learning_rate=0.05, l2_regularization=0.4, score=0.746, total=  20.1s\n",
      "[CV] min_samples_leaf=40, max_iter=1200, max_depth=3, loss=auto, learning_rate=0.05, l2_regularization=0.4 \n",
      "[CV]  min_samples_leaf=40, max_iter=1200, max_depth=3, loss=auto, learning_rate=0.05, l2_regularization=0.4, score=0.721, total= 1.1min\n",
      "[CV] min_samples_leaf=40, max_iter=1200, max_depth=3, loss=auto, learning_rate=0.05, l2_regularization=0.4 \n",
      "[CV]  min_samples_leaf=40, max_iter=1200, max_depth=3, loss=auto, learning_rate=0.05, l2_regularization=0.4, score=0.696, total=  28.5s\n",
      "[CV] min_samples_leaf=40, max_iter=1200, max_depth=3, loss=auto, learning_rate=0.05, l2_regularization=0.4 \n",
      "[CV]  min_samples_leaf=40, max_iter=1200, max_depth=3, loss=auto, learning_rate=0.05, l2_regularization=0.4, score=0.732, total= 1.0min\n",
      "[CV] min_samples_leaf=20, max_iter=500, max_depth=6, loss=categorical_crossentropy, learning_rate=0.15, l2_regularization=0 \n",
      "[CV]  min_samples_leaf=20, max_iter=500, max_depth=6, loss=categorical_crossentropy, learning_rate=0.15, l2_regularization=0, score=0.773, total=  26.9s\n",
      "[CV] min_samples_leaf=20, max_iter=500, max_depth=6, loss=categorical_crossentropy, learning_rate=0.15, l2_regularization=0 \n",
      "[CV]  min_samples_leaf=20, max_iter=500, max_depth=6, loss=categorical_crossentropy, learning_rate=0.15, l2_regularization=0, score=0.776, total=  24.9s\n",
      "[CV] min_samples_leaf=20, max_iter=500, max_depth=6, loss=categorical_crossentropy, learning_rate=0.15, l2_regularization=0 \n"
     ]
    },
    {
     "name": "stdout",
     "output_type": "stream",
     "text": [
      "[CV]  min_samples_leaf=20, max_iter=500, max_depth=6, loss=categorical_crossentropy, learning_rate=0.15, l2_regularization=0, score=0.785, total=  24.0s\n",
      "[CV] min_samples_leaf=40, max_iter=1000, max_depth=9, loss=auto, learning_rate=0.15, l2_regularization=0.4 \n",
      "[CV]  min_samples_leaf=40, max_iter=1000, max_depth=9, loss=auto, learning_rate=0.15, l2_regularization=0.4, score=0.778, total=  35.4s\n",
      "[CV] min_samples_leaf=40, max_iter=1000, max_depth=9, loss=auto, learning_rate=0.15, l2_regularization=0.4 \n",
      "[CV]  min_samples_leaf=40, max_iter=1000, max_depth=9, loss=auto, learning_rate=0.15, l2_regularization=0.4, score=0.783, total=  37.2s\n",
      "[CV] min_samples_leaf=40, max_iter=1000, max_depth=9, loss=auto, learning_rate=0.15, l2_regularization=0.4 \n",
      "[CV]  min_samples_leaf=40, max_iter=1000, max_depth=9, loss=auto, learning_rate=0.15, l2_regularization=0.4, score=0.784, total=  24.6s\n",
      "[CV] min_samples_leaf=20, max_iter=1200, max_depth=3, loss=categorical_crossentropy, learning_rate=0.15, l2_regularization=0.2 \n",
      "[CV]  min_samples_leaf=20, max_iter=1200, max_depth=3, loss=categorical_crossentropy, learning_rate=0.15, l2_regularization=0.2, score=0.724, total=  16.8s\n",
      "[CV] min_samples_leaf=20, max_iter=1200, max_depth=3, loss=categorical_crossentropy, learning_rate=0.15, l2_regularization=0.2 \n",
      "[CV]  min_samples_leaf=20, max_iter=1200, max_depth=3, loss=categorical_crossentropy, learning_rate=0.15, l2_regularization=0.2, score=0.735, total=  13.8s\n",
      "[CV] min_samples_leaf=20, max_iter=1200, max_depth=3, loss=categorical_crossentropy, learning_rate=0.15, l2_regularization=0.2 \n",
      "[CV]  min_samples_leaf=20, max_iter=1200, max_depth=3, loss=categorical_crossentropy, learning_rate=0.15, l2_regularization=0.2, score=0.739, total=  16.4s\n",
      "[CV] min_samples_leaf=60, max_iter=500, max_depth=6, loss=auto, learning_rate=0.15, l2_regularization=0.2 \n",
      "[CV]  min_samples_leaf=60, max_iter=500, max_depth=6, loss=auto, learning_rate=0.15, l2_regularization=0.2, score=0.775, total=  31.9s\n",
      "[CV] min_samples_leaf=60, max_iter=500, max_depth=6, loss=auto, learning_rate=0.15, l2_regularization=0.2 \n",
      "[CV]  min_samples_leaf=60, max_iter=500, max_depth=6, loss=auto, learning_rate=0.15, l2_regularization=0.2, score=0.777, total=  28.4s\n",
      "[CV] min_samples_leaf=60, max_iter=500, max_depth=6, loss=auto, learning_rate=0.15, l2_regularization=0.2 \n",
      "[CV]  min_samples_leaf=60, max_iter=500, max_depth=6, loss=auto, learning_rate=0.15, l2_regularization=0.2, score=0.779, total=  20.9s\n",
      "[CV] min_samples_leaf=20, max_iter=100, max_depth=9, loss=categorical_crossentropy, learning_rate=0.05, l2_regularization=0.4 \n",
      "[CV]  min_samples_leaf=20, max_iter=100, max_depth=9, loss=categorical_crossentropy, learning_rate=0.05, l2_regularization=0.4, score=0.752, total=  29.5s\n",
      "[CV] min_samples_leaf=20, max_iter=100, max_depth=9, loss=categorical_crossentropy, learning_rate=0.05, l2_regularization=0.4 \n",
      "[CV]  min_samples_leaf=20, max_iter=100, max_depth=9, loss=categorical_crossentropy, learning_rate=0.05, l2_regularization=0.4, score=0.759, total=  28.4s\n",
      "[CV] min_samples_leaf=20, max_iter=100, max_depth=9, loss=categorical_crossentropy, learning_rate=0.05, l2_regularization=0.4 \n",
      "[CV]  min_samples_leaf=20, max_iter=100, max_depth=9, loss=categorical_crossentropy, learning_rate=0.05, l2_regularization=0.4, score=0.776, total=  30.6s\n",
      "[CV] min_samples_leaf=40, max_iter=1200, max_depth=6, loss=auto, learning_rate=0.1, l2_regularization=0.4 \n",
      "[CV]  min_samples_leaf=40, max_iter=1200, max_depth=6, loss=auto, learning_rate=0.1, l2_regularization=0.4, score=0.764, total=  27.6s\n",
      "[CV] min_samples_leaf=40, max_iter=1200, max_depth=6, loss=auto, learning_rate=0.1, l2_regularization=0.4 \n",
      "[CV]  min_samples_leaf=40, max_iter=1200, max_depth=6, loss=auto, learning_rate=0.1, l2_regularization=0.4, score=0.768, total=  30.0s\n",
      "[CV] min_samples_leaf=40, max_iter=1200, max_depth=6, loss=auto, learning_rate=0.1, l2_regularization=0.4 \n",
      "[CV]  min_samples_leaf=40, max_iter=1200, max_depth=6, loss=auto, learning_rate=0.1, l2_regularization=0.4, score=0.786, total=  55.8s\n",
      "[CV] min_samples_leaf=60, max_iter=100, max_depth=3, loss=auto, learning_rate=0.15, l2_regularization=0.4 \n",
      "[CV]  min_samples_leaf=60, max_iter=100, max_depth=3, loss=auto, learning_rate=0.15, l2_regularization=0.4, score=0.712, total=  11.9s\n",
      "[CV] min_samples_leaf=60, max_iter=100, max_depth=3, loss=auto, learning_rate=0.15, l2_regularization=0.4 \n",
      "[CV]  min_samples_leaf=60, max_iter=100, max_depth=3, loss=auto, learning_rate=0.15, l2_regularization=0.4, score=0.717, total=  12.3s\n",
      "[CV] min_samples_leaf=60, max_iter=100, max_depth=3, loss=auto, learning_rate=0.15, l2_regularization=0.4 \n",
      "[CV]  min_samples_leaf=60, max_iter=100, max_depth=3, loss=auto, learning_rate=0.15, l2_regularization=0.4, score=0.724, total=  14.5s\n",
      "[CV] min_samples_leaf=60, max_iter=1200, max_depth=9, loss=categorical_crossentropy, learning_rate=0.05, l2_regularization=0 \n",
      "[CV]  min_samples_leaf=60, max_iter=1200, max_depth=9, loss=categorical_crossentropy, learning_rate=0.05, l2_regularization=0, score=0.768, total= 1.4min\n",
      "[CV] min_samples_leaf=60, max_iter=1200, max_depth=9, loss=categorical_crossentropy, learning_rate=0.05, l2_regularization=0 \n",
      "[CV]  min_samples_leaf=60, max_iter=1200, max_depth=9, loss=categorical_crossentropy, learning_rate=0.05, l2_regularization=0, score=0.768, total=  59.8s\n",
      "[CV] min_samples_leaf=60, max_iter=1200, max_depth=9, loss=categorical_crossentropy, learning_rate=0.05, l2_regularization=0 \n",
      "[CV]  min_samples_leaf=60, max_iter=1200, max_depth=9, loss=categorical_crossentropy, learning_rate=0.05, l2_regularization=0, score=0.774, total= 1.1min\n",
      "[CV] min_samples_leaf=20, max_iter=100, max_depth=9, loss=auto, learning_rate=0.1, l2_regularization=0 \n",
      "[CV]  min_samples_leaf=20, max_iter=100, max_depth=9, loss=auto, learning_rate=0.1, l2_regularization=0, score=0.765, total=  41.5s\n",
      "[CV] min_samples_leaf=20, max_iter=100, max_depth=9, loss=auto, learning_rate=0.1, l2_regularization=0 \n",
      "[CV]  min_samples_leaf=20, max_iter=100, max_depth=9, loss=auto, learning_rate=0.1, l2_regularization=0, score=0.773, total=  40.1s\n",
      "[CV] min_samples_leaf=20, max_iter=100, max_depth=9, loss=auto, learning_rate=0.1, l2_regularization=0 \n",
      "[CV]  min_samples_leaf=20, max_iter=100, max_depth=9, loss=auto, learning_rate=0.1, l2_regularization=0, score=0.790, total=  41.5s\n",
      "[CV] min_samples_leaf=20, max_iter=1000, max_depth=3, loss=categorical_crossentropy, learning_rate=0.1, l2_regularization=0.2 \n",
      "[CV]  min_samples_leaf=20, max_iter=1000, max_depth=3, loss=categorical_crossentropy, learning_rate=0.1, l2_regularization=0.2, score=0.716, total=  21.9s\n",
      "[CV] min_samples_leaf=20, max_iter=1000, max_depth=3, loss=categorical_crossentropy, learning_rate=0.1, l2_regularization=0.2 \n",
      "[CV]  min_samples_leaf=20, max_iter=1000, max_depth=3, loss=categorical_crossentropy, learning_rate=0.1, l2_regularization=0.2, score=0.742, total=  43.3s\n",
      "[CV] min_samples_leaf=20, max_iter=1000, max_depth=3, loss=categorical_crossentropy, learning_rate=0.1, l2_regularization=0.2 \n",
      "[CV]  min_samples_leaf=20, max_iter=1000, max_depth=3, loss=categorical_crossentropy, learning_rate=0.1, l2_regularization=0.2, score=0.754, total= 1.2min\n",
      "[CV] min_samples_leaf=60, max_iter=500, max_depth=3, loss=categorical_crossentropy, learning_rate=0.05, l2_regularization=0.2 \n",
      "[CV]  min_samples_leaf=60, max_iter=500, max_depth=3, loss=categorical_crossentropy, learning_rate=0.05, l2_regularization=0.2, score=0.715, total= 1.5min\n",
      "[CV] min_samples_leaf=60, max_iter=500, max_depth=3, loss=categorical_crossentropy, learning_rate=0.05, l2_regularization=0.2 \n",
      "[CV]  min_samples_leaf=60, max_iter=500, max_depth=3, loss=categorical_crossentropy, learning_rate=0.05, l2_regularization=0.2, score=0.709, total=  57.9s\n",
      "[CV] min_samples_leaf=60, max_iter=500, max_depth=3, loss=categorical_crossentropy, learning_rate=0.05, l2_regularization=0.2 \n",
      "[CV]  min_samples_leaf=60, max_iter=500, max_depth=3, loss=categorical_crossentropy, learning_rate=0.05, l2_regularization=0.2, score=0.704, total=  32.2s\n",
      "[CV] min_samples_leaf=60, max_iter=1000, max_depth=3, loss=auto, learning_rate=0.05, l2_regularization=0.2 \n",
      "[CV]  min_samples_leaf=60, max_iter=1000, max_depth=3, loss=auto, learning_rate=0.05, l2_regularization=0.2, score=0.715, total= 1.5min\n",
      "[CV] min_samples_leaf=60, max_iter=1000, max_depth=3, loss=auto, learning_rate=0.05, l2_regularization=0.2 \n"
     ]
    },
    {
     "name": "stdout",
     "output_type": "stream",
     "text": [
      "[CV]  min_samples_leaf=60, max_iter=1000, max_depth=3, loss=auto, learning_rate=0.05, l2_regularization=0.2, score=0.709, total= 1.0min\n",
      "[CV] min_samples_leaf=60, max_iter=1000, max_depth=3, loss=auto, learning_rate=0.05, l2_regularization=0.2 \n",
      "[CV]  min_samples_leaf=60, max_iter=1000, max_depth=3, loss=auto, learning_rate=0.05, l2_regularization=0.2, score=0.704, total=  41.1s\n",
      "[CV] min_samples_leaf=60, max_iter=100, max_depth=6, loss=categorical_crossentropy, learning_rate=0.05, l2_regularization=0.2 \n",
      "[CV]  min_samples_leaf=60, max_iter=100, max_depth=6, loss=categorical_crossentropy, learning_rate=0.05, l2_regularization=0.2, score=0.735, total=  26.8s\n",
      "[CV] min_samples_leaf=60, max_iter=100, max_depth=6, loss=categorical_crossentropy, learning_rate=0.05, l2_regularization=0.2 \n",
      "[CV]  min_samples_leaf=60, max_iter=100, max_depth=6, loss=categorical_crossentropy, learning_rate=0.05, l2_regularization=0.2, score=0.734, total=  20.3s\n",
      "[CV] min_samples_leaf=60, max_iter=100, max_depth=6, loss=categorical_crossentropy, learning_rate=0.05, l2_regularization=0.2 \n",
      "[CV]  min_samples_leaf=60, max_iter=100, max_depth=6, loss=categorical_crossentropy, learning_rate=0.05, l2_regularization=0.2, score=0.750, total=  20.8s\n",
      "[CV] min_samples_leaf=60, max_iter=500, max_depth=6, loss=categorical_crossentropy, learning_rate=0.1, l2_regularization=0.4 \n",
      "[CV]  min_samples_leaf=60, max_iter=500, max_depth=6, loss=categorical_crossentropy, learning_rate=0.1, l2_regularization=0.4, score=0.771, total=  42.3s\n",
      "[CV] min_samples_leaf=60, max_iter=500, max_depth=6, loss=categorical_crossentropy, learning_rate=0.1, l2_regularization=0.4 \n",
      "[CV]  min_samples_leaf=60, max_iter=500, max_depth=6, loss=categorical_crossentropy, learning_rate=0.1, l2_regularization=0.4, score=0.771, total=  29.8s\n",
      "[CV] min_samples_leaf=60, max_iter=500, max_depth=6, loss=categorical_crossentropy, learning_rate=0.1, l2_regularization=0.4 \n",
      "[CV]  min_samples_leaf=60, max_iter=500, max_depth=6, loss=categorical_crossentropy, learning_rate=0.1, l2_regularization=0.4, score=0.782, total=  32.5s\n",
      "[CV] min_samples_leaf=60, max_iter=100, max_depth=9, loss=categorical_crossentropy, learning_rate=0.15, l2_regularization=0 \n",
      "[CV]  min_samples_leaf=60, max_iter=100, max_depth=9, loss=categorical_crossentropy, learning_rate=0.15, l2_regularization=0, score=0.771, total=  22.8s\n",
      "[CV] min_samples_leaf=60, max_iter=100, max_depth=9, loss=categorical_crossentropy, learning_rate=0.15, l2_regularization=0 \n",
      "[CV]  min_samples_leaf=60, max_iter=100, max_depth=9, loss=categorical_crossentropy, learning_rate=0.15, l2_regularization=0, score=0.775, total=  26.5s\n",
      "[CV] min_samples_leaf=60, max_iter=100, max_depth=9, loss=categorical_crossentropy, learning_rate=0.15, l2_regularization=0 \n",
      "[CV]  min_samples_leaf=60, max_iter=100, max_depth=9, loss=categorical_crossentropy, learning_rate=0.15, l2_regularization=0, score=0.784, total=  28.2s\n",
      "[CV] min_samples_leaf=20, max_iter=100, max_depth=6, loss=auto, learning_rate=0.1, l2_regularization=0 \n",
      "[CV]  min_samples_leaf=20, max_iter=100, max_depth=6, loss=auto, learning_rate=0.1, l2_regularization=0, score=0.762, total=  18.9s\n",
      "[CV] min_samples_leaf=20, max_iter=100, max_depth=6, loss=auto, learning_rate=0.1, l2_regularization=0 \n",
      "[CV]  min_samples_leaf=20, max_iter=100, max_depth=6, loss=auto, learning_rate=0.1, l2_regularization=0, score=0.760, total=  13.5s\n",
      "[CV] min_samples_leaf=20, max_iter=100, max_depth=6, loss=auto, learning_rate=0.1, l2_regularization=0 \n",
      "[CV]  min_samples_leaf=20, max_iter=100, max_depth=6, loss=auto, learning_rate=0.1, l2_regularization=0, score=0.780, total=  22.4s\n",
      "[CV] min_samples_leaf=20, max_iter=500, max_depth=9, loss=categorical_crossentropy, learning_rate=0.15, l2_regularization=0 \n",
      "[CV]  min_samples_leaf=20, max_iter=500, max_depth=9, loss=categorical_crossentropy, learning_rate=0.15, l2_regularization=0, score=0.778, total=  37.8s\n",
      "[CV] min_samples_leaf=20, max_iter=500, max_depth=9, loss=categorical_crossentropy, learning_rate=0.15, l2_regularization=0 \n",
      "[CV]  min_samples_leaf=20, max_iter=500, max_depth=9, loss=categorical_crossentropy, learning_rate=0.15, l2_regularization=0, score=0.776, total=  25.6s\n",
      "[CV] min_samples_leaf=20, max_iter=500, max_depth=9, loss=categorical_crossentropy, learning_rate=0.15, l2_regularization=0 \n",
      "[CV]  min_samples_leaf=20, max_iter=500, max_depth=9, loss=categorical_crossentropy, learning_rate=0.15, l2_regularization=0, score=0.788, total=  35.7s\n",
      "[CV] min_samples_leaf=20, max_iter=1200, max_depth=3, loss=categorical_crossentropy, learning_rate=0.05, l2_regularization=0 \n",
      "[CV]  min_samples_leaf=20, max_iter=1200, max_depth=3, loss=categorical_crossentropy, learning_rate=0.05, l2_regularization=0, score=0.721, total= 1.2min\n",
      "[CV] min_samples_leaf=20, max_iter=1200, max_depth=3, loss=categorical_crossentropy, learning_rate=0.05, l2_regularization=0 \n",
      "[CV]  min_samples_leaf=20, max_iter=1200, max_depth=3, loss=categorical_crossentropy, learning_rate=0.05, l2_regularization=0, score=0.714, total=  44.3s\n",
      "[CV] min_samples_leaf=20, max_iter=1200, max_depth=3, loss=categorical_crossentropy, learning_rate=0.05, l2_regularization=0 \n",
      "[CV]  min_samples_leaf=20, max_iter=1200, max_depth=3, loss=categorical_crossentropy, learning_rate=0.05, l2_regularization=0, score=0.737, total= 1.2min\n",
      "[CV] min_samples_leaf=60, max_iter=1200, max_depth=9, loss=categorical_crossentropy, learning_rate=0.1, l2_regularization=0 \n",
      "[CV]  min_samples_leaf=60, max_iter=1200, max_depth=9, loss=categorical_crossentropy, learning_rate=0.1, l2_regularization=0, score=0.769, total=  33.4s\n",
      "[CV] min_samples_leaf=60, max_iter=1200, max_depth=9, loss=categorical_crossentropy, learning_rate=0.1, l2_regularization=0 \n",
      "[CV]  min_samples_leaf=60, max_iter=1200, max_depth=9, loss=categorical_crossentropy, learning_rate=0.1, l2_regularization=0, score=0.778, total= 1.3min\n",
      "[CV] min_samples_leaf=60, max_iter=1200, max_depth=9, loss=categorical_crossentropy, learning_rate=0.1, l2_regularization=0 \n",
      "[CV]  min_samples_leaf=60, max_iter=1200, max_depth=9, loss=categorical_crossentropy, learning_rate=0.1, l2_regularization=0, score=0.788, total= 1.2min\n",
      "[CV] min_samples_leaf=60, max_iter=1200, max_depth=3, loss=auto, learning_rate=0.15, l2_regularization=0.4 \n",
      "[CV]  min_samples_leaf=60, max_iter=1200, max_depth=3, loss=auto, learning_rate=0.15, l2_regularization=0.4, score=0.735, total=  18.7s\n",
      "[CV] min_samples_leaf=60, max_iter=1200, max_depth=3, loss=auto, learning_rate=0.15, l2_regularization=0.4 \n",
      "[CV]  min_samples_leaf=60, max_iter=1200, max_depth=3, loss=auto, learning_rate=0.15, l2_regularization=0.4, score=0.721, total=   9.5s\n",
      "[CV] min_samples_leaf=60, max_iter=1200, max_depth=3, loss=auto, learning_rate=0.15, l2_regularization=0.4 \n",
      "[CV]  min_samples_leaf=60, max_iter=1200, max_depth=3, loss=auto, learning_rate=0.15, l2_regularization=0.4, score=0.758, total=  23.7s\n",
      "[CV] min_samples_leaf=20, max_iter=1200, max_depth=6, loss=auto, learning_rate=0.1, l2_regularization=0.4 \n",
      "[CV]  min_samples_leaf=20, max_iter=1200, max_depth=6, loss=auto, learning_rate=0.1, l2_regularization=0.4, score=0.769, total=  24.7s\n",
      "[CV] min_samples_leaf=20, max_iter=1200, max_depth=6, loss=auto, learning_rate=0.1, l2_regularization=0.4 \n",
      "[CV]  min_samples_leaf=20, max_iter=1200, max_depth=6, loss=auto, learning_rate=0.1, l2_regularization=0.4, score=0.776, total=  25.3s\n",
      "[CV] min_samples_leaf=20, max_iter=1200, max_depth=6, loss=auto, learning_rate=0.1, l2_regularization=0.4 \n",
      "[CV]  min_samples_leaf=20, max_iter=1200, max_depth=6, loss=auto, learning_rate=0.1, l2_regularization=0.4, score=0.785, total=  24.5s\n",
      "[CV] min_samples_leaf=60, max_iter=1000, max_depth=9, loss=auto, learning_rate=0.15, l2_regularization=0 \n",
      "[CV]  min_samples_leaf=60, max_iter=1000, max_depth=9, loss=auto, learning_rate=0.15, l2_regularization=0, score=0.771, total=  17.1s\n",
      "[CV] min_samples_leaf=60, max_iter=1000, max_depth=9, loss=auto, learning_rate=0.15, l2_regularization=0 \n",
      "[CV]  min_samples_leaf=60, max_iter=1000, max_depth=9, loss=auto, learning_rate=0.15, l2_regularization=0, score=0.777, total=  30.3s\n",
      "[CV] min_samples_leaf=60, max_iter=1000, max_depth=9, loss=auto, learning_rate=0.15, l2_regularization=0 \n",
      "[CV]  min_samples_leaf=60, max_iter=1000, max_depth=9, loss=auto, learning_rate=0.15, l2_regularization=0, score=0.784, total=  33.6s\n",
      "[CV] min_samples_leaf=40, max_iter=1200, max_depth=9, loss=auto, learning_rate=0.1, l2_regularization=0 \n"
     ]
    },
    {
     "name": "stdout",
     "output_type": "stream",
     "text": [
      "[CV]  min_samples_leaf=40, max_iter=1200, max_depth=9, loss=auto, learning_rate=0.1, l2_regularization=0, score=0.773, total=  29.5s\n",
      "[CV] min_samples_leaf=40, max_iter=1200, max_depth=9, loss=auto, learning_rate=0.1, l2_regularization=0 \n",
      "[CV]  min_samples_leaf=40, max_iter=1200, max_depth=9, loss=auto, learning_rate=0.1, l2_regularization=0, score=0.777, total=  31.3s\n",
      "[CV] min_samples_leaf=40, max_iter=1200, max_depth=9, loss=auto, learning_rate=0.1, l2_regularization=0 \n",
      "[CV]  min_samples_leaf=40, max_iter=1200, max_depth=9, loss=auto, learning_rate=0.1, l2_regularization=0, score=0.783, total=  31.2s\n",
      "[CV] min_samples_leaf=40, max_iter=1000, max_depth=9, loss=auto, learning_rate=0.05, l2_regularization=0.4 \n",
      "[CV]  min_samples_leaf=40, max_iter=1000, max_depth=9, loss=auto, learning_rate=0.05, l2_regularization=0.4, score=0.766, total=  41.9s\n",
      "[CV] min_samples_leaf=40, max_iter=1000, max_depth=9, loss=auto, learning_rate=0.05, l2_regularization=0.4 \n",
      "[CV]  min_samples_leaf=40, max_iter=1000, max_depth=9, loss=auto, learning_rate=0.05, l2_regularization=0.4, score=0.766, total=  33.2s\n",
      "[CV] min_samples_leaf=40, max_iter=1000, max_depth=9, loss=auto, learning_rate=0.05, l2_regularization=0.4 \n",
      "[CV]  min_samples_leaf=40, max_iter=1000, max_depth=9, loss=auto, learning_rate=0.05, l2_regularization=0.4, score=0.785, total= 1.1min\n",
      "[CV] min_samples_leaf=20, max_iter=1200, max_depth=6, loss=categorical_crossentropy, learning_rate=0.15, l2_regularization=0.2 \n",
      "[CV]  min_samples_leaf=20, max_iter=1200, max_depth=6, loss=categorical_crossentropy, learning_rate=0.15, l2_regularization=0.2, score=0.769, total=  23.7s\n",
      "[CV] min_samples_leaf=20, max_iter=1200, max_depth=6, loss=categorical_crossentropy, learning_rate=0.15, l2_regularization=0.2 \n",
      "[CV]  min_samples_leaf=20, max_iter=1200, max_depth=6, loss=categorical_crossentropy, learning_rate=0.15, l2_regularization=0.2, score=0.768, total=  16.0s\n",
      "[CV] min_samples_leaf=20, max_iter=1200, max_depth=6, loss=categorical_crossentropy, learning_rate=0.15, l2_regularization=0.2 \n",
      "[CV]  min_samples_leaf=20, max_iter=1200, max_depth=6, loss=categorical_crossentropy, learning_rate=0.15, l2_regularization=0.2, score=0.793, total=  33.6s\n",
      "[CV] min_samples_leaf=20, max_iter=1000, max_depth=9, loss=auto, learning_rate=0.15, l2_regularization=0 \n",
      "[CV]  min_samples_leaf=20, max_iter=1000, max_depth=9, loss=auto, learning_rate=0.15, l2_regularization=0, score=0.778, total=  30.7s\n",
      "[CV] min_samples_leaf=20, max_iter=1000, max_depth=9, loss=auto, learning_rate=0.15, l2_regularization=0 \n",
      "[CV]  min_samples_leaf=20, max_iter=1000, max_depth=9, loss=auto, learning_rate=0.15, l2_regularization=0, score=0.776, total=  21.9s\n",
      "[CV] min_samples_leaf=20, max_iter=1000, max_depth=9, loss=auto, learning_rate=0.15, l2_regularization=0 \n",
      "[CV]  min_samples_leaf=20, max_iter=1000, max_depth=9, loss=auto, learning_rate=0.15, l2_regularization=0, score=0.788, total=  34.1s\n",
      "[CV] min_samples_leaf=60, max_iter=1200, max_depth=6, loss=auto, learning_rate=0.05, l2_regularization=0 \n",
      "[CV]  min_samples_leaf=60, max_iter=1200, max_depth=6, loss=auto, learning_rate=0.05, l2_regularization=0, score=0.755, total=  42.1s\n",
      "[CV] min_samples_leaf=60, max_iter=1200, max_depth=6, loss=auto, learning_rate=0.05, l2_regularization=0 \n",
      "[CV]  min_samples_leaf=60, max_iter=1200, max_depth=6, loss=auto, learning_rate=0.05, l2_regularization=0, score=0.758, total=  50.9s\n",
      "[CV] min_samples_leaf=60, max_iter=1200, max_depth=6, loss=auto, learning_rate=0.05, l2_regularization=0 \n",
      "[CV]  min_samples_leaf=60, max_iter=1200, max_depth=6, loss=auto, learning_rate=0.05, l2_regularization=0, score=0.784, total= 1.6min\n",
      "[CV] min_samples_leaf=40, max_iter=100, max_depth=6, loss=categorical_crossentropy, learning_rate=0.1, l2_regularization=0.4 \n",
      "[CV]  min_samples_leaf=40, max_iter=100, max_depth=6, loss=categorical_crossentropy, learning_rate=0.1, l2_regularization=0.4, score=0.760, total=  19.7s\n",
      "[CV] min_samples_leaf=40, max_iter=100, max_depth=6, loss=categorical_crossentropy, learning_rate=0.1, l2_regularization=0.4 \n",
      "[CV]  min_samples_leaf=40, max_iter=100, max_depth=6, loss=categorical_crossentropy, learning_rate=0.1, l2_regularization=0.4, score=0.768, total=  29.4s\n",
      "[CV] min_samples_leaf=40, max_iter=100, max_depth=6, loss=categorical_crossentropy, learning_rate=0.1, l2_regularization=0.4 \n",
      "[CV]  min_samples_leaf=40, max_iter=100, max_depth=6, loss=categorical_crossentropy, learning_rate=0.1, l2_regularization=0.4, score=0.779, total=  28.4s\n",
      "[CV] min_samples_leaf=20, max_iter=1200, max_depth=6, loss=auto, learning_rate=0.05, l2_regularization=0.2 \n",
      "[CV]  min_samples_leaf=20, max_iter=1200, max_depth=6, loss=auto, learning_rate=0.05, l2_regularization=0.2, score=0.758, total= 1.1min\n",
      "[CV] min_samples_leaf=20, max_iter=1200, max_depth=6, loss=auto, learning_rate=0.05, l2_regularization=0.2 \n",
      "[CV]  min_samples_leaf=20, max_iter=1200, max_depth=6, loss=auto, learning_rate=0.05, l2_regularization=0.2, score=0.767, total=  50.6s\n",
      "[CV] min_samples_leaf=20, max_iter=1200, max_depth=6, loss=auto, learning_rate=0.05, l2_regularization=0.2 \n",
      "[CV]  min_samples_leaf=20, max_iter=1200, max_depth=6, loss=auto, learning_rate=0.05, l2_regularization=0.2, score=0.769, total=  34.8s\n",
      "[CV] min_samples_leaf=40, max_iter=1000, max_depth=9, loss=categorical_crossentropy, learning_rate=0.05, l2_regularization=0 \n",
      "[CV]  min_samples_leaf=40, max_iter=1000, max_depth=9, loss=categorical_crossentropy, learning_rate=0.05, l2_regularization=0, score=0.767, total= 1.2min\n",
      "[CV] min_samples_leaf=40, max_iter=1000, max_depth=9, loss=categorical_crossentropy, learning_rate=0.05, l2_regularization=0 \n",
      "[CV]  min_samples_leaf=40, max_iter=1000, max_depth=9, loss=categorical_crossentropy, learning_rate=0.05, l2_regularization=0, score=0.768, total=  52.4s\n",
      "[CV] min_samples_leaf=40, max_iter=1000, max_depth=9, loss=categorical_crossentropy, learning_rate=0.05, l2_regularization=0 \n",
      "[CV]  min_samples_leaf=40, max_iter=1000, max_depth=9, loss=categorical_crossentropy, learning_rate=0.05, l2_regularization=0, score=0.789, total= 2.5min\n",
      "[CV] min_samples_leaf=60, max_iter=1200, max_depth=6, loss=auto, learning_rate=0.1, l2_regularization=0 \n",
      "[CV]  min_samples_leaf=60, max_iter=1200, max_depth=6, loss=auto, learning_rate=0.1, l2_regularization=0, score=0.771, total=  43.4s\n",
      "[CV] min_samples_leaf=60, max_iter=1200, max_depth=6, loss=auto, learning_rate=0.1, l2_regularization=0 \n",
      "[CV]  min_samples_leaf=60, max_iter=1200, max_depth=6, loss=auto, learning_rate=0.1, l2_regularization=0, score=0.777, total=  48.8s\n",
      "[CV] min_samples_leaf=60, max_iter=1200, max_depth=6, loss=auto, learning_rate=0.1, l2_regularization=0 \n",
      "[CV]  min_samples_leaf=60, max_iter=1200, max_depth=6, loss=auto, learning_rate=0.1, l2_regularization=0, score=0.782, total=  39.4s\n",
      "[CV] min_samples_leaf=20, max_iter=100, max_depth=6, loss=auto, learning_rate=0.1, l2_regularization=0.4 \n",
      "[CV]  min_samples_leaf=20, max_iter=100, max_depth=6, loss=auto, learning_rate=0.1, l2_regularization=0.4, score=0.764, total=  24.4s\n",
      "[CV] min_samples_leaf=20, max_iter=100, max_depth=6, loss=auto, learning_rate=0.1, l2_regularization=0.4 \n",
      "[CV]  min_samples_leaf=20, max_iter=100, max_depth=6, loss=auto, learning_rate=0.1, l2_regularization=0.4, score=0.772, total=  24.9s\n",
      "[CV] min_samples_leaf=20, max_iter=100, max_depth=6, loss=auto, learning_rate=0.1, l2_regularization=0.4 \n",
      "[CV]  min_samples_leaf=20, max_iter=100, max_depth=6, loss=auto, learning_rate=0.1, l2_regularization=0.4, score=0.777, total=  26.6s\n",
      "[CV] min_samples_leaf=40, max_iter=1200, max_depth=6, loss=auto, learning_rate=0.05, l2_regularization=0.2 \n",
      "[CV]  min_samples_leaf=40, max_iter=1200, max_depth=6, loss=auto, learning_rate=0.05, l2_regularization=0.2, score=0.762, total=  56.8s\n",
      "[CV] min_samples_leaf=40, max_iter=1200, max_depth=6, loss=auto, learning_rate=0.05, l2_regularization=0.2 \n",
      "[CV]  min_samples_leaf=40, max_iter=1200, max_depth=6, loss=auto, learning_rate=0.05, l2_regularization=0.2, score=0.763, total=  56.4s\n",
      "[CV] min_samples_leaf=40, max_iter=1200, max_depth=6, loss=auto, learning_rate=0.05, l2_regularization=0.2 \n",
      "[CV]  min_samples_leaf=40, max_iter=1200, max_depth=6, loss=auto, learning_rate=0.05, l2_regularization=0.2, score=0.758, total=  56.5s\n",
      "[CV] min_samples_leaf=60, max_iter=500, max_depth=3, loss=auto, learning_rate=0.15, l2_regularization=0 \n"
     ]
    },
    {
     "name": "stdout",
     "output_type": "stream",
     "text": [
      "[CV]  min_samples_leaf=60, max_iter=500, max_depth=3, loss=auto, learning_rate=0.15, l2_regularization=0, score=0.742, total=  41.6s\n",
      "[CV] min_samples_leaf=60, max_iter=500, max_depth=3, loss=auto, learning_rate=0.15, l2_regularization=0 \n",
      "[CV]  min_samples_leaf=60, max_iter=500, max_depth=3, loss=auto, learning_rate=0.15, l2_regularization=0, score=0.740, total=  20.5s\n",
      "[CV] min_samples_leaf=60, max_iter=500, max_depth=3, loss=auto, learning_rate=0.15, l2_regularization=0 \n",
      "[CV]  min_samples_leaf=60, max_iter=500, max_depth=3, loss=auto, learning_rate=0.15, l2_regularization=0, score=0.767, total=  56.7s\n"
     ]
    },
    {
     "name": "stderr",
     "output_type": "stream",
     "text": [
      "[Parallel(n_jobs=1)]: Done 300 out of 300 | elapsed: 187.3min finished\n"
     ]
    },
    {
     "data": {
      "text/plain": [
       "RandomizedSearchCV(cv=3, error_score=nan,\n",
       "                   estimator=HistGradientBoostingClassifier(l2_regularization=0.0,\n",
       "                                                            learning_rate=0.1,\n",
       "                                                            loss='auto',\n",
       "                                                            max_bins=255,\n",
       "                                                            max_depth=None,\n",
       "                                                            max_iter=100,\n",
       "                                                            max_leaf_nodes=31,\n",
       "                                                            min_samples_leaf=20,\n",
       "                                                            n_iter_no_change=20,\n",
       "                                                            random_state=123,\n",
       "                                                            scoring=None,\n",
       "                                                            tol=1e-07,\n",
       "                                                            validation_fraction=0.1,\n",
       "                                                            verbose=0,\n",
       "                                                            warm_start=False),\n",
       "                   iid='deprecated', n_iter=100, n_jobs=None,\n",
       "                   param_distributions={'l2_regularization': [0, 0.2, 0.4],\n",
       "                                        'learning_rate': [0.05, 0.1, 0.15],\n",
       "                                        'loss': ['categorical_crossentropy',\n",
       "                                                 'auto'],\n",
       "                                        'max_depth': [3, 6, 9],\n",
       "                                        'max_iter': [100, 500, 1000, 1200],\n",
       "                                        'min_samples_leaf': [20, 40, 60]},\n",
       "                   pre_dispatch='2*n_jobs', random_state=123, refit=True,\n",
       "                   return_train_score=False, scoring=None, verbose=10)"
      ]
     },
     "execution_count": 1042,
     "metadata": {},
     "output_type": "execute_result"
    }
   ],
   "source": [
    "params={'loss':['categorical_crossentropy','auto'],\n",
    "        'learning_rate':[0.05,0.1,0.15],\n",
    "        'max_iter':[100,500,1000,1200],\n",
    "        'max_depth':[3,6,9],\n",
    "        'min_samples_leaf':[20,40,60],\n",
    "        'l2_regularization':[0,0.2,0.4]}\n",
    "hgbc=HistGradientBoostingClassifier(random_state=123,validation_fraction=0.1,n_iter_no_change=20)\n",
    "rs=RandomizedSearchCV(hgbc,param_distributions=params,n_iter=100,cv=3,verbose=10,random_state=123)\n",
    "rs.fit(X,y)"
   ]
  },
  {
   "cell_type": "code",
   "execution_count": 1044,
   "metadata": {},
   "outputs": [
    {
     "data": {
      "text/plain": [
       "{'min_samples_leaf': 40,\n",
       " 'max_iter': 1000,\n",
       " 'max_depth': 9,\n",
       " 'loss': 'auto',\n",
       " 'learning_rate': 0.15,\n",
       " 'l2_regularization': 0.2}"
      ]
     },
     "execution_count": 1044,
     "metadata": {},
     "output_type": "execute_result"
    }
   ],
   "source": [
    "rs.best_params_"
   ]
  },
  {
   "cell_type": "code",
   "execution_count": 1045,
   "metadata": {},
   "outputs": [
    {
     "data": {
      "text/plain": [
       "HistGradientBoostingClassifier(l2_regularization=0.2, learning_rate=0.15,\n",
       "                               loss='auto', max_bins=255, max_depth=9,\n",
       "                               max_iter=1000, max_leaf_nodes=31,\n",
       "                               min_samples_leaf=40, n_iter_no_change=None,\n",
       "                               random_state=123, scoring=None, tol=1e-07,\n",
       "                               validation_fraction=0.1, verbose=0,\n",
       "                               warm_start=False)"
      ]
     },
     "execution_count": 1045,
     "metadata": {},
     "output_type": "execute_result"
    }
   ],
   "source": [
    "hgbc_t=HistGradientBoostingClassifier(random_state=123,min_samples_leaf=40,max_iter=1000,max_depth=9,\n",
    "                                    loss='auto',learning_rate=0.15,l2_regularization=0.2)\n",
    "hgbc_t.fit(X,y)"
   ]
  },
  {
   "cell_type": "code",
   "execution_count": 1050,
   "metadata": {},
   "outputs": [],
   "source": [
    "sample_sub=pd.read_csv('sample_sub.csv')\n",
    "hgbc_t_pred=hgbc_t.predict(sample_sub[cols])"
   ]
  },
  {
   "cell_type": "code",
   "execution_count": 1051,
   "metadata": {},
   "outputs": [
    {
     "data": {
      "text/plain": [
       "array([4, 2, 4, ..., 4, 4, 4])"
      ]
     },
     "execution_count": 1051,
     "metadata": {},
     "output_type": "execute_result"
    }
   ],
   "source": [
    "hgbc_t_pred"
   ]
  },
  {
   "cell_type": "code",
   "execution_count": 1052,
   "metadata": {},
   "outputs": [],
   "source": [
    "sample_sub.drop(['Unnamed: 0'],axis=1,inplace=True)\n",
    "sample_sub['greatstone_rating']=hgbc_t_pred"
   ]
  },
  {
   "cell_type": "code",
   "execution_count": 1053,
   "metadata": {},
   "outputs": [],
   "source": [
    "##iter 31\n",
    "sample_sub[['fund_id','greatstone_rating']].to_csv('sample_submission_v31.csv',index=False)"
   ]
  },
  {
   "cell_type": "markdown",
   "metadata": {},
   "source": [
    "## Voting Classifier "
   ]
  },
  {
   "cell_type": "code",
   "execution_count": 1961,
   "metadata": {},
   "outputs": [
    {
     "data": {
      "text/plain": [
       "VotingClassifier(estimators=[('lgbm',\n",
       "                              LGBMClassifier(boosting_type='gbdt',\n",
       "                                             class_weight=None,\n",
       "                                             colsample_bytree=1.0,\n",
       "                                             importance_type='split',\n",
       "                                             learning_rate=0.1, max_depth=-1,\n",
       "                                             min_child_samples=20,\n",
       "                                             min_child_weight=0.001,\n",
       "                                             min_split_gain=0.0,\n",
       "                                             n_estimators=1200, n_jobs=-1,\n",
       "                                             num_leaves=31,\n",
       "                                             objective='LGBMClassifier',\n",
       "                                             random_state=456, reg_alpha=0.0,\n",
       "                                             reg_lambda=0.6, silen...\n",
       "                                            colsample_bynode=1,\n",
       "                                            colsample_bytree=1, gamma=0,\n",
       "                                            learning_rate=0.1, max_delta_step=0,\n",
       "                                            max_depth=3, min_child_weight=1,\n",
       "                                            missing=None, n_estimators=4000,\n",
       "                                            n_jobs=1, nthread=None,\n",
       "                                            objective='binary:logistic',\n",
       "                                            random_state=123, reg_alpha=0,\n",
       "                                            reg_lambda=0.6, scale_pos_weight=1,\n",
       "                                            seed=None, silent=None, subsample=1,\n",
       "                                            verbosity=1))],\n",
       "                 flatten_transform=True, n_jobs=None, voting='soft',\n",
       "                 weights=None)"
      ]
     },
     "execution_count": 1961,
     "metadata": {},
     "output_type": "execute_result"
    }
   ],
   "source": [
    "#rf=RandomForestClassifier(n_estimators=100,random_state=123)\n",
    "lgbm_t=LGBMClassifier(boosting_type='dart',learning_rate=0.05,n_estimators=2500,\n",
    "                      objective='LGBMClassifier',reg_lambda=0.2,min_child_samples=30,\n",
    "                      max_depth=-1,random_state=1111)\n",
    "xgb=XGBClassifier(learning_rate=0.1,n_estimators=4000,reg_lambda=0.6,random_state=123)\n",
    "#cb=CatBoostClassifier(iterations=4000,learning_rate=0.009,l2_leaf_reg=4,random_state=123)\n",
    "vc=VotingClassifier([('lgbm',lgbm),('xgb',xgb)],voting='soft')\n",
    "vc.fit(X,y)"
   ]
  },
  {
   "cell_type": "code",
   "execution_count": 1962,
   "metadata": {},
   "outputs": [],
   "source": [
    "sample_sub=pd.read_csv('sample_sub.csv')\n",
    "vc_pred=vc.predict(sample_sub[cols])"
   ]
  },
  {
   "cell_type": "code",
   "execution_count": 1963,
   "metadata": {},
   "outputs": [
    {
     "data": {
      "text/plain": [
       "array([4, 2, 4, ..., 4, 4, 4])"
      ]
     },
     "execution_count": 1963,
     "metadata": {},
     "output_type": "execute_result"
    }
   ],
   "source": [
    "vc_pred"
   ]
  },
  {
   "cell_type": "code",
   "execution_count": 1964,
   "metadata": {},
   "outputs": [],
   "source": [
    "sample_sub.drop(['Unnamed: 0'],axis=1,inplace=True)\n",
    "sample_sub['greatstone_rating']=vc_pred"
   ]
  },
  {
   "cell_type": "code",
   "execution_count": 1965,
   "metadata": {},
   "outputs": [],
   "source": [
    "##iter 32\n",
    "sample_sub[['fund_id','greatstone_rating']].to_csv('sample_submission_v32.csv',index=False)"
   ]
  },
  {
   "cell_type": "code",
   "execution_count": null,
   "metadata": {},
   "outputs": [],
   "source": []
  }
 ],
 "metadata": {
  "kernelspec": {
   "display_name": "Python 3",
   "language": "python",
   "name": "python3"
  },
  "language_info": {
   "codemirror_mode": {
    "name": "ipython",
    "version": 3
   },
   "file_extension": ".py",
   "mimetype": "text/x-python",
   "name": "python",
   "nbconvert_exporter": "python",
   "pygments_lexer": "ipython3",
   "version": "3.6.8"
  }
 },
 "nbformat": 4,
 "nbformat_minor": 2
}
