{
 "cells": [
  {
   "cell_type": "markdown",
   "metadata": {},
   "source": [
    "# Predicting Greatstone Rating for Mutual Funds "
   ]
  },
  {
   "cell_type": "code",
   "execution_count": null,
   "metadata": {},
   "outputs": [],
   "source": [
    "## Import library\n",
    "import pandas as pd\n",
    "import numpy as np\n",
    "import seaborn as sns\n",
    "import matplotlib.pyplot as plt\n",
    "%matplotlib inline\n",
    "import warnings\n",
    "warnings.simplefilter('ignore')\n",
    "\n",
    "import os\n",
    "pd.set_option('display.max_columns',100)\n",
    "pd.set_option('display.max_rows',200)\n",
    "\n",
    "from sklearn.metrics import make_scorer,accuracy_score,average_precision_score\n",
    "\n",
    "from sklearn.preprocessing import OrdinalEncoder\n",
    "from sklearn.impute import KNNImputer\n",
    "\n",
    "from sklearn.preprocessing import StandardScaler\n",
    "from sklearn.ensemble import RandomForestClassifier\n",
    "from sklearn.model_selection import train_test_split\n",
    "from sklearn.ensemble import ExtraTreesClassifier\n",
    "from sklearn.ensemble import GradientBoostingClassifier\n",
    "from sklearn.model_selection import RandomizedSearchCV\n",
    "from sklearn.model_selection import GridSearchCV\n",
    "from sklearn.multiclass import OneVsRestClassifier\n",
    "from sklearn.svm import LinearSVC\n",
    "import xgboost as xgb\n",
    "from xgboost.sklearn import XGBClassifier\n",
    "from sklearn.linear_model import *\n",
    "from sklearn.tree import *\n",
    "import lightgbm as lgbm\n",
    "from lightgbm.sklearn import LGBMClassifier\n",
    "import catboost\n",
    "from catboost import CatBoostClassifier\n",
    "from sklearn.ensemble import AdaBoostClassifier\n",
    "from sklearn.svm import SVC\n",
    "\n",
    "# explicitly require this experimental feature\n",
    "from sklearn.experimental import enable_hist_gradient_boosting  \n",
    "# now you can import normally from ensemble\n",
    "from sklearn.ensemble import HistGradientBoostingClassifier\n",
    "\n",
    "from sklearn.ensemble import VotingClassifier"
   ]
  },
  {
   "cell_type": "code",
   "execution_count": null,
   "metadata": {},
   "outputs": [],
   "source": [
    "display(os.getcwd())\n",
    "os.chdir('/Users/ankitpatel/Downloads/external/')"
   ]
  },
  {
   "cell_type": "code",
   "execution_count": null,
   "metadata": {},
   "outputs": [],
   "source": [
    "os.listdir()"
   ]
  },
  {
   "cell_type": "code",
   "execution_count": null,
   "metadata": {},
   "outputs": [],
   "source": [
    "## read data ##\n",
    "rt_3yr=pd.read_csv('return_3year.csv')\n",
    "rt_5yr=pd.read_csv('return_5year.csv')\n",
    "rt_10yr=pd.read_csv('return_10year.csv')\n",
    "fund_allo=pd.read_csv('fund_allocations.csv')\n",
    "fund_conf=pd.read_csv('fund_config.csv')\n",
    "fund_specs=pd.read_csv('fund_specs.csv')\n",
    "other_specs=pd.read_csv('other_specs.csv')\n",
    "bond_ratings=pd.read_csv('bond_ratings.csv')\n",
    "fund_ratios=pd.read_csv('fund_ratios.csv')\n",
    "sample_sub=pd.read_csv('sample_submission.csv')"
   ]
  },
  {
   "cell_type": "code",
   "execution_count": null,
   "metadata": {},
   "outputs": [],
   "source": [
    "display(rt_3yr.shape)\n",
    "display(rt_5yr.shape)\n",
    "display(rt_10yr.shape)\n",
    "display(fund_allo.shape)\n",
    "display(fund_conf.shape)\n",
    "display(fund_specs.shape)\n",
    "display(other_specs.shape)\n",
    "display(bond_ratings.shape)\n",
    "display(fund_ratios.shape)\n",
    "display(sample_sub.shape)"
   ]
  },
  {
   "cell_type": "markdown",
   "metadata": {},
   "source": [
    "## Data Frame :: rt_3yr"
   ]
  },
  {
   "cell_type": "code",
   "execution_count": null,
   "metadata": {},
   "outputs": [],
   "source": [
    "## Analyze data one by one ##\n",
    "rt_3yr.info()"
   ]
  },
  {
   "cell_type": "code",
   "execution_count": null,
   "metadata": {},
   "outputs": [],
   "source": [
    "## convert 3yrs_treynor_ratio_fund to float ##\n",
    "rt_3yr['3yrs_treynor_ratio_fund']=rt_3yr['3yrs_treynor_ratio_fund'].str.replace(\",\",\"\")"
   ]
  },
  {
   "cell_type": "code",
   "execution_count": null,
   "metadata": {},
   "outputs": [],
   "source": [
    "rt_3yr['3yrs_treynor_ratio_fund'].unique()"
   ]
  },
  {
   "cell_type": "code",
   "execution_count": null,
   "metadata": {},
   "outputs": [],
   "source": [
    "rt_3yr.isna().sum()"
   ]
  },
  {
   "cell_type": "code",
   "execution_count": null,
   "metadata": {},
   "outputs": [],
   "source": [
    "rt_3yr['3yrs_treynor_ratio_fund']=rt_3yr['3yrs_treynor_ratio_fund'].astype(float)"
   ]
  },
  {
   "cell_type": "code",
   "execution_count": null,
   "metadata": {},
   "outputs": [],
   "source": [
    "## impute nulls ##\n",
    "\n",
    "cols=['3yrs_treynor_ratio_fund','3_years_alpha_fund','3years_category_std','3yrs_sharpe_ratio_fund','3yrs_treynor_ratio_category',\\\n",
    "     '3_years_return_mean_annual_fund','fund_beta_3years','3years_fund_r_squared','3years_fund_std','category_beta_3years',\\\n",
    "     'fund_return_3years','3_years_alpha_category','3_years_return_mean_annual_category','3yrs_sharpe_ratio_category',\\\n",
    "     '3years_category_r_squared','3_years_return_category']\n",
    "\n",
    "from sklearn.impute import SimpleImputer\n",
    "mp = SimpleImputer(missing_values=np.nan, strategy='median')\n",
    "mp.fit(rt_3yr[cols])"
   ]
  },
  {
   "cell_type": "code",
   "execution_count": null,
   "metadata": {},
   "outputs": [],
   "source": [
    "rt_3yr_imputed=pd.DataFrame(mp.fit_transform(rt_3yr[cols]),columns=cols)"
   ]
  },
  {
   "cell_type": "code",
   "execution_count": null,
   "metadata": {},
   "outputs": [],
   "source": [
    "rt_3yr"
   ]
  },
  {
   "cell_type": "code",
   "execution_count": null,
   "metadata": {},
   "outputs": [],
   "source": [
    "rt_3yr_imputed"
   ]
  },
  {
   "cell_type": "code",
   "execution_count": null,
   "metadata": {},
   "outputs": [],
   "source": [
    "## drop the columns\n",
    "rt_3yr.drop(cols,axis=1,inplace=True)"
   ]
  },
  {
   "cell_type": "code",
   "execution_count": null,
   "metadata": {},
   "outputs": [],
   "source": [
    "rt_3yr_imputed=pd.concat([rt_3yr,rt_3yr_imputed],axis=1)"
   ]
  },
  {
   "cell_type": "code",
   "execution_count": null,
   "metadata": {},
   "outputs": [],
   "source": [
    "rt_3yr_imputed.head(10)"
   ]
  },
  {
   "cell_type": "code",
   "execution_count": null,
   "metadata": {},
   "outputs": [],
   "source": [
    "display(rt_3yr_imputed.isna().sum())\n",
    "display(rt_3yr_imputed.info())"
   ]
  },
  {
   "cell_type": "markdown",
   "metadata": {},
   "source": [
    "## Data Frame :: rt_5yr"
   ]
  },
  {
   "cell_type": "code",
   "execution_count": null,
   "metadata": {},
   "outputs": [],
   "source": [
    "## Analyze data one by one ##\n",
    "rt_5yr.info()"
   ]
  },
  {
   "cell_type": "code",
   "execution_count": null,
   "metadata": {},
   "outputs": [],
   "source": [
    "rt_5yr.head()"
   ]
  },
  {
   "cell_type": "code",
   "execution_count": null,
   "metadata": {},
   "outputs": [],
   "source": [
    "## convert 5yrs_treynor_ratio_fund to float ##\n",
    "rt_5yr['5yrs_treynor_ratio_fund']=rt_5yr['5yrs_treynor_ratio_fund'].str.replace(\",\",\"\")\n",
    "rt_5yr['5yrs_treynor_ratio_fund']=rt_5yr['5yrs_treynor_ratio_fund'].astype(float)"
   ]
  },
  {
   "cell_type": "code",
   "execution_count": null,
   "metadata": {},
   "outputs": [],
   "source": [
    "rt_5yr.columns"
   ]
  },
  {
   "cell_type": "code",
   "execution_count": null,
   "metadata": {},
   "outputs": [],
   "source": [
    "## impute nulls ##\n",
    "\n",
    "cols=['category_r_squared_5years', '5yrs_sharpe_ratio_fund',\n",
    "       '5_years_alpha_fund', '5years_fund_r_squared', '5years_fund_std',\n",
    "       '5yrs_sharpe_ratio_category', '5_years_beta_fund',\n",
    "       '5yrs_treynor_ratio_fund', '5_years_return_mean_annual_fund',\n",
    "       '5_years_return_mean_annual_category', '5yrs_treynor_ratio_category',\n",
    "       '5_years_return_fund', '5_years_alpha_category',\n",
    "       '5_years_beta_category', '5years_category_std',\n",
    "       '5_years_return_category']\n",
    "\n",
    "from sklearn.impute import SimpleImputer\n",
    "mp = SimpleImputer(missing_values=np.nan, strategy='median')\n",
    "mp.fit(rt_5yr[cols])"
   ]
  },
  {
   "cell_type": "code",
   "execution_count": null,
   "metadata": {},
   "outputs": [],
   "source": [
    "rt_5yr_imputed=pd.DataFrame(mp.fit_transform(rt_5yr[cols]),columns=cols)"
   ]
  },
  {
   "cell_type": "code",
   "execution_count": null,
   "metadata": {},
   "outputs": [],
   "source": [
    "## drop the columns\n",
    "rt_5yr.drop(cols,axis=1,inplace=True)"
   ]
  },
  {
   "cell_type": "code",
   "execution_count": null,
   "metadata": {},
   "outputs": [],
   "source": [
    "rt_5yr_imputed=pd.concat([rt_5yr,rt_5yr_imputed],axis=1)"
   ]
  },
  {
   "cell_type": "code",
   "execution_count": null,
   "metadata": {},
   "outputs": [],
   "source": [
    "display(rt_5yr.head(10))\n",
    "display(rt_5yr_imputed.head(10))\n",
    "display(rt_5yr_imputed.isna().sum())\n",
    "display(rt_5yr_imputed.info())"
   ]
  },
  {
   "cell_type": "markdown",
   "metadata": {},
   "source": [
    "## DataFrame :: rt_10yr"
   ]
  },
  {
   "cell_type": "code",
   "execution_count": null,
   "metadata": {},
   "outputs": [],
   "source": [
    "## Analyze data one by one ##\n",
    "rt_10yr.info()"
   ]
  },
  {
   "cell_type": "code",
   "execution_count": null,
   "metadata": {},
   "outputs": [],
   "source": [
    "rt_10yr.head(10)"
   ]
  },
  {
   "cell_type": "code",
   "execution_count": null,
   "metadata": {},
   "outputs": [],
   "source": [
    "## convert 10yrs_treynor_ratio_fund to float ##\n",
    "rt_10yr['10yrs_treynor_ratio_fund']=rt_10yr['10yrs_treynor_ratio_fund'].str.replace(\",\",\"\")\n",
    "rt_10yr['10yrs_treynor_ratio_fund']=rt_10yr['10yrs_treynor_ratio_fund'].astype(float)"
   ]
  },
  {
   "cell_type": "code",
   "execution_count": null,
   "metadata": {},
   "outputs": [],
   "source": [
    "rt_10yr.columns"
   ]
  },
  {
   "cell_type": "code",
   "execution_count": null,
   "metadata": {},
   "outputs": [],
   "source": [
    "## impute nulls ##\n",
    "\n",
    "cols=['10years_category_r_squared', '10yrs_sharpe_ratio_fund',\n",
    "       '10_years_alpha_fund', '10years_fund_r_squared', '10years_fund_std',\n",
    "       '10yrs_sharpe_ratio_category', '10_years_beta_fund',\n",
    "       '10yrs_treynor_ratio_fund',\n",
    "       '10_years_return_mean_annual_category', '10yrs_treynor_ratio_category',\n",
    "       '10_years_return_fund', '10_years_alpha_category',\n",
    "       '10_years_beta_category', '10years_category_std',\n",
    "       '10_years_return_mean_annual_fund', '10_years_return_category']\n",
    "\n",
    "from sklearn.impute import SimpleImputer\n",
    "mp = SimpleImputer(missing_values=np.nan, strategy='median')\n",
    "mp.fit(rt_10yr[cols])"
   ]
  },
  {
   "cell_type": "code",
   "execution_count": null,
   "metadata": {},
   "outputs": [],
   "source": [
    "rt_10yr_imputed=pd.DataFrame(mp.fit_transform(rt_10yr[cols]),columns=cols)"
   ]
  },
  {
   "cell_type": "code",
   "execution_count": null,
   "metadata": {},
   "outputs": [],
   "source": [
    "## drop the columns\n",
    "rt_10yr.drop(cols,axis=1,inplace=True)"
   ]
  },
  {
   "cell_type": "code",
   "execution_count": null,
   "metadata": {},
   "outputs": [],
   "source": [
    "rt_10yr_imputed=pd.concat([rt_10yr,rt_10yr_imputed],axis=1)"
   ]
  },
  {
   "cell_type": "code",
   "execution_count": null,
   "metadata": {},
   "outputs": [],
   "source": [
    "display(rt_10yr.head(10))\n",
    "display(rt_10yr_imputed.head(10))\n",
    "display(rt_10yr_imputed.isna().sum())\n",
    "display(rt_10yr_imputed.info())"
   ]
  },
  {
   "cell_type": "markdown",
   "metadata": {},
   "source": [
    "## DataFrame :: fund_allo"
   ]
  },
  {
   "cell_type": "code",
   "execution_count": null,
   "metadata": {},
   "outputs": [],
   "source": [
    "fund_allo.info()"
   ]
  },
  {
   "cell_type": "code",
   "execution_count": null,
   "metadata": {},
   "outputs": [],
   "source": [
    "fund_allo.head()"
   ]
  },
  {
   "cell_type": "code",
   "execution_count": null,
   "metadata": {},
   "outputs": [],
   "source": [
    "fund_allo[fund_allo.isna()].head(20)"
   ]
  },
  {
   "cell_type": "code",
   "execution_count": null,
   "metadata": {},
   "outputs": [],
   "source": [
    "fund_specs['tag'].nunique()"
   ]
  },
  {
   "cell_type": "code",
   "execution_count": null,
   "metadata": {},
   "outputs": [],
   "source": [
    "## No Need to impute as ID's are also null ##"
   ]
  },
  {
   "cell_type": "markdown",
   "metadata": {},
   "source": [
    "## DataFrame :: fund_conf"
   ]
  },
  {
   "cell_type": "code",
   "execution_count": null,
   "metadata": {},
   "outputs": [],
   "source": [
    "fund_conf.info()"
   ]
  },
  {
   "cell_type": "code",
   "execution_count": null,
   "metadata": {},
   "outputs": [],
   "source": [
    "fund_conf.head()"
   ]
  },
  {
   "cell_type": "code",
   "execution_count": null,
   "metadata": {},
   "outputs": [],
   "source": [
    "## No need to impute ##"
   ]
  },
  {
   "cell_type": "markdown",
   "metadata": {},
   "source": [
    "## DataFrame :: bond_ratings"
   ]
  },
  {
   "cell_type": "code",
   "execution_count": null,
   "metadata": {},
   "outputs": [],
   "source": [
    "bond_ratings.info(verbose=True,null_counts=True)\n",
    "#bond_ratings.info(verbose=True)"
   ]
  },
  {
   "cell_type": "code",
   "execution_count": null,
   "metadata": {},
   "outputs": [],
   "source": [
    "bond_ratings.head()"
   ]
  },
  {
   "cell_type": "code",
   "execution_count": null,
   "metadata": {},
   "outputs": [],
   "source": [
    "bond_ratings['maturity_bond'].unique()"
   ]
  },
  {
   "cell_type": "code",
   "execution_count": null,
   "metadata": {},
   "outputs": [],
   "source": [
    "bond_ratings[bond_ratings['bb_rating'].isna()]"
   ]
  },
  {
   "cell_type": "code",
   "execution_count": null,
   "metadata": {},
   "outputs": [],
   "source": [
    "## Drop the records with Tag available and all other records as null ##\n",
    "bond_ratings.index=bond_ratings['tag']"
   ]
  },
  {
   "cell_type": "code",
   "execution_count": null,
   "metadata": {},
   "outputs": [],
   "source": [
    "bond_ratings.drop('tag',axis=1,inplace=True)"
   ]
  },
  {
   "cell_type": "code",
   "execution_count": null,
   "metadata": {},
   "outputs": [],
   "source": [
    "bond_ratings.dropna(axis=0,inplace=True,how=\"all\")"
   ]
  },
  {
   "cell_type": "code",
   "execution_count": null,
   "metadata": {},
   "outputs": [],
   "source": [
    "bond_ratings.shape"
   ]
  },
  {
   "cell_type": "code",
   "execution_count": null,
   "metadata": {},
   "outputs": [],
   "source": [
    "bond_ratings.isna().sum()"
   ]
  },
  {
   "cell_type": "code",
   "execution_count": null,
   "metadata": {},
   "outputs": [],
   "source": [
    "## check the distribution of maturity_bond & duration_bond\n",
    "sns.scatterplot(x='maturity_bond',y='duration_bond',data=bond_ratings)"
   ]
  },
  {
   "cell_type": "code",
   "execution_count": null,
   "metadata": {},
   "outputs": [],
   "source": [
    "## Using KNN imputer ##\n",
    "from sklearn.impute import KNNImputer"
   ]
  },
  {
   "cell_type": "code",
   "execution_count": null,
   "metadata": {},
   "outputs": [],
   "source": [
    "bond_ratings.columns"
   ]
  },
  {
   "cell_type": "code",
   "execution_count": null,
   "metadata": {},
   "outputs": [],
   "source": [
    "cols=['bb_rating', 'us_govt_bond_rating', 'below_b_rating', 'others_rating',\n",
    "       'maturity_bond', 'b_rating', 'a_rating', 'aaa_rating', 'aa_rating',\n",
    "       'bbb_rating', 'duration_bond']\n",
    "knnimputer = KNNImputer(n_neighbors=2, weights=\"uniform\")\n",
    "knnimputer.fit(bond_ratings[cols])"
   ]
  },
  {
   "cell_type": "code",
   "execution_count": null,
   "metadata": {},
   "outputs": [],
   "source": [
    "bond_ratings_imputed=pd.DataFrame(knnimputer.fit_transform(bond_ratings[cols]),columns=cols)"
   ]
  },
  {
   "cell_type": "code",
   "execution_count": null,
   "metadata": {},
   "outputs": [],
   "source": [
    "bond_ratings_imputed"
   ]
  },
  {
   "cell_type": "code",
   "execution_count": null,
   "metadata": {},
   "outputs": [],
   "source": [
    "bond_ratings['tag']=bond_ratings.index"
   ]
  },
  {
   "cell_type": "code",
   "execution_count": null,
   "metadata": {},
   "outputs": [],
   "source": [
    "bond_ratings.reset_index(inplace=True,drop=True)"
   ]
  },
  {
   "cell_type": "code",
   "execution_count": null,
   "metadata": {},
   "outputs": [],
   "source": [
    "bond_ratings"
   ]
  },
  {
   "cell_type": "code",
   "execution_count": null,
   "metadata": {},
   "outputs": [],
   "source": [
    "## drop the columns\n",
    "bond_ratings.drop(cols,axis=1,inplace=True)"
   ]
  },
  {
   "cell_type": "code",
   "execution_count": null,
   "metadata": {},
   "outputs": [],
   "source": [
    "bond_ratings_imputed=pd.concat([bond_ratings,bond_ratings_imputed],axis=1)"
   ]
  },
  {
   "cell_type": "code",
   "execution_count": null,
   "metadata": {},
   "outputs": [],
   "source": [
    "display(bond_ratings_imputed.head(10))\n",
    "display(bond_ratings_imputed.isna().sum())"
   ]
  },
  {
   "cell_type": "markdown",
   "metadata": {},
   "source": [
    "## DataFrame :: fund_ratios"
   ]
  },
  {
   "cell_type": "code",
   "execution_count": null,
   "metadata": {},
   "outputs": [],
   "source": [
    "fund_ratios.info()"
   ]
  },
  {
   "cell_type": "code",
   "execution_count": null,
   "metadata": {},
   "outputs": [],
   "source": [
    "fund_ratios['tag'].nunique()"
   ]
  },
  {
   "cell_type": "code",
   "execution_count": null,
   "metadata": {},
   "outputs": [],
   "source": [
    "fund_ratios.head(100)"
   ]
  },
  {
   "cell_type": "code",
   "execution_count": null,
   "metadata": {},
   "outputs": [],
   "source": [
    "fund_ratios['mmc']=fund_ratios['mmc'].str.replace(',','')"
   ]
  },
  {
   "cell_type": "code",
   "execution_count": null,
   "metadata": {},
   "outputs": [],
   "source": [
    "fund_ratios['mmc']=fund_ratios['mmc'].astype(float)"
   ]
  },
  {
   "cell_type": "code",
   "execution_count": null,
   "metadata": {},
   "outputs": [],
   "source": [
    "fund_ratios['ps_ratio']=fund_ratios['ps_ratio'].str.replace(',','')\n",
    "fund_ratios['ps_ratio']=fund_ratios['ps_ratio'].astype(float)\n",
    "fund_ratios['pc_ratio']=fund_ratios['pc_ratio'].str.replace(',','')\n",
    "fund_ratios['pc_ratio']=fund_ratios['pc_ratio'].astype(float)\n",
    "fund_ratios['pe_ratio']=fund_ratios['pe_ratio'].str.replace(',','')\n",
    "fund_ratios['pe_ratio']=fund_ratios['pe_ratio'].astype(float)"
   ]
  },
  {
   "cell_type": "code",
   "execution_count": null,
   "metadata": {},
   "outputs": [],
   "source": [
    "fund_ratios[fund_ratios['pb_ratio'].isna()]"
   ]
  },
  {
   "cell_type": "markdown",
   "metadata": {},
   "source": [
    "## DataFrame :: fund_specs"
   ]
  },
  {
   "cell_type": "code",
   "execution_count": null,
   "metadata": {},
   "outputs": [],
   "source": [
    "fund_specs.info()"
   ]
  },
  {
   "cell_type": "code",
   "execution_count": null,
   "metadata": {},
   "outputs": [],
   "source": [
    "fund_specs[fund_specs['tag']==202562].head()"
   ]
  },
  {
   "cell_type": "code",
   "execution_count": null,
   "metadata": {},
   "outputs": [],
   "source": [
    "fund_specs['fund_size'].unique()"
   ]
  },
  {
   "cell_type": "code",
   "execution_count": null,
   "metadata": {},
   "outputs": [],
   "source": [
    "## List of categorical variable ##\n",
    "var=['investment_class','fund_size']\n",
    "encoder = OrdinalEncoder()\n",
    "imputer = KNNImputer()\n",
    "\n",
    "def encode(data):\n",
    "    '''function to encode non-null data and replace it in the original data'''\n",
    "    #retains only non-null values\n",
    "    nonulls = np.array(data.dropna())\n",
    "    #reshapes the data for encoding\n",
    "    impute_reshape = nonulls.reshape(-1,1)\n",
    "    #encode date\n",
    "    impute_ordinal = encoder.fit_transform(impute_reshape)\n",
    "    #Assign back encoded values to non-null values\n",
    "    data.loc[data.notnull()] = np.squeeze(impute_ordinal)\n",
    "    return data\n",
    "\n",
    "#create a for loop to iterate through each column in the data\n",
    "for columns in var:\n",
    "    encode(fund_specs[columns])"
   ]
  },
  {
   "cell_type": "code",
   "execution_count": null,
   "metadata": {},
   "outputs": [],
   "source": [
    "fund_specs"
   ]
  },
  {
   "cell_type": "code",
   "execution_count": null,
   "metadata": {},
   "outputs": [],
   "source": [
    "cols=['investment_class','total_assets','yield','fund_size','return_ytd']\n",
    "# impute data and convert \n",
    "encode_data = pd.DataFrame(np.round(imputer.fit_transform(fund_specs[cols])),columns = cols)"
   ]
  },
  {
   "cell_type": "code",
   "execution_count": null,
   "metadata": {},
   "outputs": [],
   "source": [
    "encode_data"
   ]
  },
  {
   "cell_type": "code",
   "execution_count": null,
   "metadata": {},
   "outputs": [],
   "source": [
    "## drop columns from main table \n",
    "fund_specs.drop(['investment_class','total_assets','yield','fund_size','return_ytd'],axis=1,inplace=True)"
   ]
  },
  {
   "cell_type": "code",
   "execution_count": null,
   "metadata": {},
   "outputs": [],
   "source": [
    "fund_specs_imputed=pd.concat([fund_specs,encode_data],axis=1)"
   ]
  },
  {
   "cell_type": "code",
   "execution_count": null,
   "metadata": {},
   "outputs": [],
   "source": [
    "fund_specs_imputed"
   ]
  },
  {
   "cell_type": "code",
   "execution_count": null,
   "metadata": {},
   "outputs": [],
   "source": [
    "fund_specs_imputed.isna().sum()"
   ]
  },
  {
   "cell_type": "markdown",
   "metadata": {},
   "source": [
    "## DataFrame :: other_specs"
   ]
  },
  {
   "cell_type": "code",
   "execution_count": null,
   "metadata": {},
   "outputs": [],
   "source": [
    "other_specs.info()"
   ]
  },
  {
   "cell_type": "code",
   "execution_count": null,
   "metadata": {},
   "outputs": [],
   "source": [
    "## convert object to float ##\n",
    "other_specs['pc_ratio']=other_specs['pc_ratio'].str.replace(',','')\n",
    "other_specs['pe_ratio']=other_specs['pe_ratio'].str.replace(',','')\n",
    "other_specs['mmc']=other_specs['mmc'].str.replace(',','')\n",
    "other_specs['ps_ratio']=other_specs['ps_ratio'].str.replace(',','')"
   ]
  },
  {
   "cell_type": "code",
   "execution_count": null,
   "metadata": {},
   "outputs": [],
   "source": [
    "other_specs['pc_ratio']=other_specs['pc_ratio'].astype(float)\n",
    "other_specs['pe_ratio']=other_specs['pe_ratio'].astype(float)\n",
    "other_specs['mmc']=other_specs['mmc'].astype(float)\n",
    "other_specs['ps_ratio']=other_specs['ps_ratio'].astype(float)"
   ]
  },
  {
   "cell_type": "code",
   "execution_count": null,
   "metadata": {},
   "outputs": [],
   "source": [
    "other_specs['tag'].nunique()"
   ]
  },
  {
   "cell_type": "code",
   "execution_count": null,
   "metadata": {},
   "outputs": [],
   "source": [
    "other_specs.head()"
   ]
  },
  {
   "cell_type": "code",
   "execution_count": null,
   "metadata": {},
   "outputs": [],
   "source": [
    "## categorical variables \n",
    "## Assumptions : years_down: number of years the mutual fund was down\n",
    "other_specs['years_down'].unique()"
   ]
  },
  {
   "cell_type": "code",
   "execution_count": null,
   "metadata": {},
   "outputs": [],
   "source": [
    "other_specs['years_down'].isna().sum()"
   ]
  },
  {
   "cell_type": "code",
   "execution_count": null,
   "metadata": {},
   "outputs": [],
   "source": [
    "## Assumptions : years_up: number of years the mutual fund was up\n",
    "other_specs['years_up'].unique()"
   ]
  },
  {
   "cell_type": "code",
   "execution_count": null,
   "metadata": {},
   "outputs": [],
   "source": [
    "other_specs['years_up'].isna().sum()"
   ]
  },
  {
   "cell_type": "code",
   "execution_count": null,
   "metadata": {},
   "outputs": [],
   "source": [
    "other_specs['portfolio_convertable'].unique()"
   ]
  },
  {
   "cell_type": "code",
   "execution_count": null,
   "metadata": {},
   "outputs": [],
   "source": [
    "### Replace all nan in years_doen and years_up with 0\n",
    "other_specs['years_up']=other_specs['years_up'].replace(np.nan,0)"
   ]
  },
  {
   "cell_type": "code",
   "execution_count": null,
   "metadata": {},
   "outputs": [],
   "source": [
    "other_specs['years_down']=other_specs['years_down'].replace(np.nan,0)"
   ]
  },
  {
   "cell_type": "code",
   "execution_count": null,
   "metadata": {},
   "outputs": [],
   "source": [
    "other_specs.columns"
   ]
  },
  {
   "cell_type": "code",
   "execution_count": null,
   "metadata": {},
   "outputs": [],
   "source": [
    "## Impute all the other columns ##\n",
    "cols=['2014_category_return', '2012_return_category',\n",
    "       '2018_return_category', 'category_return_1year',\n",
    "       'cash_percent_of_portfolio', 'pc_ratio', '2011_return_category',\n",
    "       'ytd_return_fund', '2014_return_fund',\n",
    "       'category_return_1month', '2013_return_fund', 'fund_return_3months',\n",
    "       'ytd_return_category', 'pb_ratio', '2017_category_return',\n",
    "       '1_year_return_fund', 'pe_ratio', '2015_return_fund',\n",
    "       'portfolio_convertable', '3_months_return_category', 'portfolio_others',\n",
    "       '2016_return_fund', 'mmc', 'stock_percent_of_portfolio',\n",
    "       '2016_return_category', 'ps_ratio', '2011_return_fund',\n",
    "       '2010_return_fund', 'fund_return_3years', '2012_fund_return',\n",
    "       '2018_return_fund', '2017_return_fund',\n",
    "        'category_return_2015',\n",
    "       '1_month_fund_return', 'bond_percentage_of_porfolio',\n",
    "       'portfolio_preferred', '2010_return_category', '2013_category_return']\n",
    "imputer = KNNImputer()\n",
    "# impute data and convert \n",
    "other_specs_imputed = pd.DataFrame(np.round(imputer.fit_transform(other_specs[cols])),columns = cols)"
   ]
  },
  {
   "cell_type": "code",
   "execution_count": null,
   "metadata": {},
   "outputs": [],
   "source": [
    "other_specs_imputed"
   ]
  },
  {
   "cell_type": "code",
   "execution_count": null,
   "metadata": {},
   "outputs": [],
   "source": [
    "## drop columns from main table \n",
    "other_specs.drop(cols,axis=1,inplace=True)"
   ]
  },
  {
   "cell_type": "code",
   "execution_count": null,
   "metadata": {},
   "outputs": [],
   "source": [
    "other_specs"
   ]
  },
  {
   "cell_type": "code",
   "execution_count": null,
   "metadata": {},
   "outputs": [],
   "source": [
    "other_specs_imputed=pd.concat([other_specs,other_specs_imputed],axis=1)"
   ]
  },
  {
   "cell_type": "code",
   "execution_count": null,
   "metadata": {},
   "outputs": [],
   "source": [
    "other_specs_imputed.info()"
   ]
  },
  {
   "cell_type": "markdown",
   "metadata": {},
   "source": [
    "## Merging of the data"
   ]
  },
  {
   "cell_type": "code",
   "execution_count": null,
   "metadata": {},
   "outputs": [],
   "source": [
    "## Final List of tables after imputation ##\n",
    "#1)rt_3yr_imputed\n",
    "#2)rt_5yr_imputed\n",
    "#3)rt_10yr_imputed\n",
    "#4)fund_allo\n",
    "#5)fund_conf\n",
    "#6)bond_ratings_imputed\n",
    "#7)fund_ratios\n",
    "#8)fund_specs_imputed\n",
    "#9)other_specs_imputed"
   ]
  },
  {
   "cell_type": "code",
   "execution_count": null,
   "metadata": {},
   "outputs": [],
   "source": [
    "display(other_specs_imputed.columns)\n",
    "display(fund_specs_imputed.columns)"
   ]
  },
  {
   "cell_type": "code",
   "execution_count": null,
   "metadata": {},
   "outputs": [],
   "source": [
    "## Merging other_specs with funds_specs\n",
    "## Join fund_spaecs and Other_specs on Tag ##\n",
    "master_df = fund_specs_imputed.merge(other_specs_imputed,left_on='tag', right_on='tag', how='left',suffixes=['_x','_y'])\n",
    "pd.set_option('display.max_columns',1000)\n",
    "display(master_df)"
   ]
  },
  {
   "cell_type": "code",
   "execution_count": null,
   "metadata": {},
   "outputs": [],
   "source": [
    "## Drop the common column ##\n",
    "master_df.drop('greatstone_rating_y',axis=1,inplace=True)"
   ]
  },
  {
   "cell_type": "code",
   "execution_count": null,
   "metadata": {},
   "outputs": [],
   "source": [
    "master_df.info()"
   ]
  },
  {
   "cell_type": "code",
   "execution_count": null,
   "metadata": {},
   "outputs": [],
   "source": [
    "# Rename column\n",
    "master_df.rename(columns={'greatstone_rating_x':'greatstone_rating'},inplace=True)"
   ]
  },
  {
   "cell_type": "code",
   "execution_count": null,
   "metadata": {},
   "outputs": [],
   "source": [
    "fund_ratios.columns"
   ]
  },
  {
   "cell_type": "code",
   "execution_count": null,
   "metadata": {},
   "outputs": [],
   "source": [
    "## Join master_df and fund_ratios on tag ##\n",
    "master_df = master_df.merge(fund_ratios,left_on='tag', right_on='tag', how='left',suffixes=['_x','_y'])\n",
    "pd.set_option('display.max_columns',1000)\n",
    "display(master_df)\n",
    "display(master_df.shape)"
   ]
  },
  {
   "cell_type": "code",
   "execution_count": null,
   "metadata": {},
   "outputs": [],
   "source": [
    "## drop duplicate columns \n",
    "master_df.drop(['pc_ratio_y','pb_ratio_y','pe_ratio_y','ps_ratio_y','mmc_y'],axis=1,inplace=True)"
   ]
  },
  {
   "cell_type": "code",
   "execution_count": null,
   "metadata": {},
   "outputs": [],
   "source": [
    "master_df.info()"
   ]
  },
  {
   "cell_type": "code",
   "execution_count": null,
   "metadata": {},
   "outputs": [],
   "source": [
    "# rename the columns #\n",
    "master_df.rename(columns={'pc_ratio_x':'pc_ratio','pb_ratio_x':'pb_ratio','pe_ratio_x':'pe_ratio','ps_ratio_x':'ps_ratio'},\\\n",
    "                inplace=True)"
   ]
  },
  {
   "cell_type": "code",
   "execution_count": null,
   "metadata": {},
   "outputs": [],
   "source": [
    "fund_allo.columns"
   ]
  },
  {
   "cell_type": "code",
   "execution_count": null,
   "metadata": {},
   "outputs": [],
   "source": [
    "## Join master_df and fund_allot_df on tag ##\n",
    "master_df = master_df.merge(fund_allo,left_on='tag', right_on='id', how='left',suffixes=['_x','_y'])\n",
    "pd.set_option('display.max_columns',1000)\n",
    "display(master_df)\n",
    "display(master_df.shape)"
   ]
  },
  {
   "cell_type": "code",
   "execution_count": null,
   "metadata": {},
   "outputs": [],
   "source": [
    "## Drop ID column \n",
    "master_df.drop('id',axis=1,inplace=True)"
   ]
  },
  {
   "cell_type": "code",
   "execution_count": null,
   "metadata": {},
   "outputs": [],
   "source": [
    "master_df.info()"
   ]
  },
  {
   "cell_type": "code",
   "execution_count": null,
   "metadata": {},
   "outputs": [],
   "source": [
    "## rename mmc_x to mmc\n",
    "master_df.rename(columns={'mmc_x':'mmc'},inplace=True)"
   ]
  },
  {
   "cell_type": "code",
   "execution_count": null,
   "metadata": {},
   "outputs": [],
   "source": [
    "fund_conf.columns"
   ]
  },
  {
   "cell_type": "code",
   "execution_count": null,
   "metadata": {},
   "outputs": [],
   "source": [
    "## Join master_df and fund_config_df on tag ##\n",
    "master_df = master_df.merge(fund_conf,left_on='fund_id', right_on='fund_id', how='left',suffixes=['_x','_y'])\n",
    "pd.set_option('display.max_columns',1000)\n",
    "display(master_df)\n",
    "display(master_df.shape)"
   ]
  },
  {
   "cell_type": "code",
   "execution_count": null,
   "metadata": {},
   "outputs": [],
   "source": [
    "master_df.info()"
   ]
  },
  {
   "cell_type": "code",
   "execution_count": null,
   "metadata": {},
   "outputs": [],
   "source": [
    "bond_ratings_imputed.columns"
   ]
  },
  {
   "cell_type": "code",
   "execution_count": null,
   "metadata": {},
   "outputs": [],
   "source": [
    "## Join master_df and bond_rating_df on tag ##\n",
    "master_df = master_df.merge(bond_ratings_imputed,left_on='tag', right_on='tag', how='left',suffixes=['_x','_y'])\n",
    "pd.set_option('display.max_columns',1000)\n",
    "display(master_df)\n",
    "display(master_df.shape)"
   ]
  },
  {
   "cell_type": "code",
   "execution_count": null,
   "metadata": {},
   "outputs": [],
   "source": [
    "rt_3yr_imputed.columns"
   ]
  },
  {
   "cell_type": "code",
   "execution_count": null,
   "metadata": {},
   "outputs": [],
   "source": [
    "## Join master_df and return_3_df on tag ##\n",
    "master_df = master_df.merge(rt_3yr_imputed,left_on='tag', right_on='tag', how='left',suffixes=['_x','_y'])\n",
    "pd.set_option('display.max_columns',1000)\n",
    "display(master_df)\n",
    "display(master_df.shape)"
   ]
  },
  {
   "cell_type": "code",
   "execution_count": null,
   "metadata": {},
   "outputs": [],
   "source": [
    "master_df.info()"
   ]
  },
  {
   "cell_type": "code",
   "execution_count": null,
   "metadata": {},
   "outputs": [],
   "source": [
    "rt_5yr_imputed.columns"
   ]
  },
  {
   "cell_type": "code",
   "execution_count": null,
   "metadata": {},
   "outputs": [],
   "source": [
    "## Join master_df and return_5_df on tag ##\n",
    "master_df = master_df.merge(rt_5yr_imputed,left_on='tag', right_on='tag', how='left',suffixes=['_x','_y'])\n",
    "pd.set_option('display.max_columns',1000)\n",
    "display(master_df)\n",
    "display(master_df.shape)"
   ]
  },
  {
   "cell_type": "code",
   "execution_count": null,
   "metadata": {},
   "outputs": [],
   "source": [
    "master_df.info(verbose=True)"
   ]
  },
  {
   "cell_type": "code",
   "execution_count": null,
   "metadata": {},
   "outputs": [],
   "source": [
    "rt_10yr_imputed.columns"
   ]
  },
  {
   "cell_type": "code",
   "execution_count": null,
   "metadata": {},
   "outputs": [],
   "source": [
    "## Join master_df and return_10_df on tag ##\n",
    "master_df = master_df.merge(rt_10yr_imputed,left_on='fund_id', right_on='fund_id', how='left',suffixes=['_x','_y'])\n",
    "pd.set_option('display.max_columns',1000)\n",
    "display(master_df)\n",
    "display(master_df.shape)"
   ]
  },
  {
   "cell_type": "code",
   "execution_count": null,
   "metadata": {},
   "outputs": [],
   "source": [
    "list(master_df)"
   ]
  },
  {
   "cell_type": "markdown",
   "metadata": {},
   "source": [
    "## Check on the columns "
   ]
  },
  {
   "cell_type": "code",
   "execution_count": null,
   "metadata": {},
   "outputs": [],
   "source": [
    "master_df.isna().sum()"
   ]
  },
  {
   "cell_type": "code",
   "execution_count": null,
   "metadata": {},
   "outputs": [],
   "source": [
    "master_df[master_df['portfolio_financial_services'].isna()]"
   ]
  },
  {
   "cell_type": "code",
   "execution_count": null,
   "metadata": {},
   "outputs": [],
   "source": [
    "### Columns : 'portfolio_communication_allocation',\n",
    " #'portfolio_financial_services',\n",
    " #'portfolio_industrials_allocation',\n",
    " #'portfolio_tech_allocation',\n",
    " #'portfolio_materials_basic_allocation',\n",
    " #'portfolio_energy_allocation',\n",
    " #'portfolio_consumer_defence_allocation',\n",
    " #'portfolio_healthcare_allocation',\n",
    " #'portfolio_property_allocation',\n",
    " #'portfolio_utils_allocation',\n",
    " #'portfolio_cyclical_consumer_allocation'\n",
    " #'portfolio_communication_allocation'\n",
    "#posses nulls bcoz of their master file having tag null"
   ]
  },
  {
   "cell_type": "code",
   "execution_count": null,
   "metadata": {},
   "outputs": [],
   "source": [
    "master_df['portfolio_financial_services'].isna().sum()"
   ]
  },
  {
   "cell_type": "code",
   "execution_count": null,
   "metadata": {},
   "outputs": [],
   "source": [
    "## Replacing the na's in the above columns with 0 \n",
    "master_df['portfolio_financial_services'].replace(np.nan,0,inplace=True)\n",
    "master_df['portfolio_industrials_allocation'].replace(np.nan,0,inplace=True)\n",
    "master_df['portfolio_tech_allocation'].replace(np.nan,0,inplace=True)\n",
    "master_df['portfolio_materials_basic_allocation'].replace(np.nan,0,inplace=True)\n",
    "master_df['portfolio_energy_allocation'].replace(np.nan,0,inplace=True)\n",
    "master_df['portfolio_consumer_defence_allocation'].replace(np.nan,0,inplace=True)\n",
    "master_df['portfolio_healthcare_allocation'].replace(np.nan,0,inplace=True)\n",
    "master_df['portfolio_property_allocation'].replace(np.nan,0,inplace=True)\n",
    "master_df['portfolio_utils_allocation'].replace(np.nan,0,inplace=True)\n",
    "master_df['portfolio_cyclical_consumer_allocation'].replace(np.nan,0,inplace=True)\n",
    "master_df['portfolio_communication_allocation'].replace(np.nan,0,inplace=True)"
   ]
  },
  {
   "cell_type": "code",
   "execution_count": null,
   "metadata": {},
   "outputs": [],
   "source": [
    "master_df.to_csv('Master_hack.csv')"
   ]
  },
  {
   "cell_type": "code",
   "execution_count": null,
   "metadata": {},
   "outputs": [],
   "source": [
    "master_df.head()"
   ]
  },
  {
   "cell_type": "code",
   "execution_count": null,
   "metadata": {},
   "outputs": [],
   "source": [
    "## Rename the column with investmentclass and fundsize\n",
    "display(master_df['investment_class'].unique())\n",
    "#0:Blend\n",
    "#1:Growth\n",
    "#2:Value\n",
    "\n",
    "display(master_df['fund_size'].unique())\n",
    "#0:Large\n",
    "#1:Medium\n",
    "#2:Small\n",
    "\n",
    "display(master_df['category'].nunique())\n",
    "display(master_df['parent_company'].nunique())\n",
    "display(master_df['fund_name'].nunique())"
   ]
  },
  {
   "cell_type": "code",
   "execution_count": null,
   "metadata": {},
   "outputs": [],
   "source": [
    "master_df.info()"
   ]
  },
  {
   "cell_type": "code",
   "execution_count": null,
   "metadata": {},
   "outputs": [],
   "source": [
    "master_df['investment_class']=master_df['investment_class'].astype('object')\n",
    "master_df['fund_size']=master_df['fund_size'].astype('object')"
   ]
  },
  {
   "cell_type": "code",
   "execution_count": null,
   "metadata": {},
   "outputs": [],
   "source": [
    "cols=['investment_class','fund_size']"
   ]
  },
  {
   "cell_type": "code",
   "execution_count": null,
   "metadata": {},
   "outputs": [],
   "source": [
    "dummies=pd.get_dummies(master_df[cols],prefix_sep='_')"
   ]
  },
  {
   "cell_type": "code",
   "execution_count": null,
   "metadata": {},
   "outputs": [],
   "source": [
    "## append the dummies column to the master_df\n",
    "master_df=pd.concat([master_df,dummies],axis=1)"
   ]
  },
  {
   "cell_type": "code",
   "execution_count": null,
   "metadata": {},
   "outputs": [],
   "source": [
    "master_df.info(verbose=True)"
   ]
  },
  {
   "cell_type": "code",
   "execution_count": null,
   "metadata": {},
   "outputs": [],
   "source": [
    "##droping 'investment_class','fund_size'\n",
    "master_df.drop(['investment_class','fund_size'],axis=1,inplace=True)"
   ]
  },
  {
   "cell_type": "code",
   "execution_count": null,
   "metadata": {},
   "outputs": [],
   "source": [
    "## Import submission data and separating out the submission data from master_Df\n",
    "sample_sub.head()"
   ]
  },
  {
   "cell_type": "code",
   "execution_count": null,
   "metadata": {},
   "outputs": [],
   "source": [
    "master_df_train_test=master_df[master_df['greatstone_rating'].notna()]"
   ]
  },
  {
   "cell_type": "code",
   "execution_count": null,
   "metadata": {},
   "outputs": [],
   "source": [
    "master_df_train_test.shape"
   ]
  },
  {
   "cell_type": "code",
   "execution_count": null,
   "metadata": {},
   "outputs": [],
   "source": [
    "master_df_train_test['greatstone_rating'].isna().sum()"
   ]
  },
  {
   "cell_type": "code",
   "execution_count": null,
   "metadata": {},
   "outputs": [],
   "source": [
    "master_df_sub=master_df[master_df['greatstone_rating'].isna()]"
   ]
  },
  {
   "cell_type": "code",
   "execution_count": null,
   "metadata": {},
   "outputs": [],
   "source": [
    "master_df_sub.shape"
   ]
  },
  {
   "cell_type": "code",
   "execution_count": null,
   "metadata": {},
   "outputs": [],
   "source": [
    "## Validating the submission file with master_df_sub\n",
    "sample_sub=sample_sub.merge(master_df_sub,left_on='fund_id',right_on='fund_id',how='left')"
   ]
  },
  {
   "cell_type": "code",
   "execution_count": null,
   "metadata": {},
   "outputs": [],
   "source": [
    "sample_sub.shape"
   ]
  },
  {
   "cell_type": "code",
   "execution_count": null,
   "metadata": {},
   "outputs": [],
   "source": [
    "sample_sub.head()"
   ]
  },
  {
   "cell_type": "code",
   "execution_count": null,
   "metadata": {},
   "outputs": [],
   "source": [
    "## Dropping duplicate column#\n",
    "sample_sub.drop('greatstone_rating_y',axis=1,inplace=True)"
   ]
  },
  {
   "cell_type": "code",
   "execution_count": null,
   "metadata": {},
   "outputs": [],
   "source": [
    "sample_sub.to_csv('sample_sub.csv')\n",
    "master_df_train_test.to_csv('master_df_train_test.csv')"
   ]
  },
  {
   "cell_type": "code",
   "execution_count": null,
   "metadata": {},
   "outputs": [],
   "source": [
    "os.getcwd()"
   ]
  },
  {
   "cell_type": "code",
   "execution_count": null,
   "metadata": {},
   "outputs": [],
   "source": [
    "os.listdir()"
   ]
  },
  {
   "cell_type": "markdown",
   "metadata": {},
   "source": [
    "## Data Exploration "
   ]
  },
  {
   "cell_type": "code",
   "execution_count": null,
   "metadata": {},
   "outputs": [],
   "source": [
    "master_df_train_test=pd.read_csv('master_df_train_test.csv')"
   ]
  },
  {
   "cell_type": "code",
   "execution_count": null,
   "metadata": {},
   "outputs": [],
   "source": [
    "master_df_train_test.drop('Unnamed: 0',axis=1,inplace=True)"
   ]
  },
  {
   "cell_type": "code",
   "execution_count": null,
   "metadata": {},
   "outputs": [],
   "source": [
    "master_df_train_test.info(verbose=True)"
   ]
  },
  {
   "cell_type": "code",
   "execution_count": null,
   "metadata": {},
   "outputs": [],
   "source": [
    "master_df_train_test['greatstone_rating']=master_df_train_test['greatstone_rating'].astype('int')"
   ]
  },
  {
   "cell_type": "code",
   "execution_count": null,
   "metadata": {},
   "outputs": [],
   "source": [
    "list(master_df_train_test.columns)"
   ]
  },
  {
   "cell_type": "markdown",
   "metadata": {},
   "source": [
    "## Build a benchmark model :with default hyperparameters Random forest "
   ]
  },
  {
   "cell_type": "code",
   "execution_count": null,
   "metadata": {},
   "outputs": [],
   "source": [
    "master_df_train_test.head(10)"
   ]
  },
  {
   "cell_type": "code",
   "execution_count": null,
   "metadata": {},
   "outputs": [],
   "source": [
    "cols=['yield',\n",
    " 'return_ytd',\n",
    " 'years_up',\n",
    " 'years_down',\n",
    " '2014_category_return',\n",
    " '2012_return_category',\n",
    " '2018_return_category',\n",
    " 'category_return_1year',\n",
    " 'cash_percent_of_portfolio',\n",
    " 'pc_ratio',\n",
    " '2011_return_category',\n",
    " 'ytd_return_fund',\n",
    " '2014_return_fund',\n",
    " 'category_return_1month',\n",
    " '2013_return_fund',\n",
    " 'fund_return_3months',\n",
    " 'ytd_return_category',\n",
    " 'pb_ratio',\n",
    " '2017_category_return',\n",
    " '1_year_return_fund',\n",
    " 'pe_ratio',\n",
    " '2015_return_fund',\n",
    " 'portfolio_convertable',\n",
    " '3_months_return_category',\n",
    " 'portfolio_others',\n",
    " '2016_return_fund',\n",
    " 'mmc',\n",
    " 'stock_percent_of_portfolio',\n",
    " '2016_return_category',\n",
    " 'ps_ratio',\n",
    " '2011_return_fund',\n",
    " '2010_return_fund',\n",
    " 'fund_return_3years_x',\n",
    " '2012_fund_return',\n",
    " '2018_return_fund',\n",
    " '2017_return_fund',\n",
    " 'category_return_2015',\n",
    " '1_month_fund_return',\n",
    " 'bond_percentage_of_porfolio',\n",
    " 'portfolio_preferred',\n",
    " '2010_return_category',\n",
    " '2013_category_return',\n",
    " 'fund_ratio_net_annual_expense',\n",
    " 'portfolio_communication_allocation',\n",
    " 'portfolio_financial_services',\n",
    " 'portfolio_industrials_allocation',\n",
    " 'portfolio_tech_allocation',\n",
    " 'portfolio_materials_basic_allocation',\n",
    " 'portfolio_energy_allocation',\n",
    " 'portfolio_consumer_defence_allocation',\n",
    " 'portfolio_healthcare_allocation',\n",
    " 'portfolio_property_allocation',\n",
    " 'portfolio_utils_allocation',\n",
    " 'portfolio_cyclical_consumer_allocation',\n",
    " 'bb_rating',\n",
    " 'us_govt_bond_rating',\n",
    " 'below_b_rating',\n",
    " 'others_rating',\n",
    " 'maturity_bond',\n",
    " 'b_rating',\n",
    " 'a_rating',\n",
    " 'aaa_rating',\n",
    " 'aa_rating',\n",
    " 'bbb_rating',\n",
    " 'duration_bond',\n",
    " '3yrs_treynor_ratio_fund',\n",
    " '3_years_alpha_fund',\n",
    " '3years_category_std',\n",
    " '3yrs_sharpe_ratio_fund',\n",
    " '3yrs_treynor_ratio_category',\n",
    " '3_years_return_mean_annual_fund',\n",
    " 'fund_beta_3years',\n",
    " '3years_fund_r_squared',\n",
    " '3years_fund_std',\n",
    " 'category_beta_3years',\n",
    " 'fund_return_3years_y',\n",
    " '3_years_alpha_category',\n",
    " '3_years_return_mean_annual_category',\n",
    " '3yrs_sharpe_ratio_category',\n",
    " '3years_category_r_squared',\n",
    " '3_years_return_category',\n",
    " 'category_r_squared_5years',\n",
    " '5yrs_sharpe_ratio_fund',\n",
    " '5_years_alpha_fund',\n",
    " '5years_fund_r_squared',\n",
    " '5years_fund_std',\n",
    " '5yrs_sharpe_ratio_category',\n",
    " '5_years_beta_fund',\n",
    " '5yrs_treynor_ratio_fund',\n",
    " '5_years_return_mean_annual_fund',\n",
    " '5_years_return_mean_annual_category',\n",
    " '5yrs_treynor_ratio_category',\n",
    " '5_years_return_fund',\n",
    " '5_years_alpha_category',\n",
    " '5_years_beta_category',\n",
    " '5years_category_std',\n",
    " '5_years_return_category',\n",
    " '10years_category_r_squared',\n",
    " '10yrs_sharpe_ratio_fund',\n",
    " '10_years_alpha_fund',\n",
    " '10years_fund_r_squared',\n",
    " '10years_fund_std',\n",
    " '10yrs_sharpe_ratio_category',\n",
    " '10_years_beta_fund',\n",
    " '10yrs_treynor_ratio_fund',\n",
    " '10_years_return_mean_annual_category',\n",
    " '10yrs_treynor_ratio_category',\n",
    " '10_years_return_fund',\n",
    " '10_years_alpha_category',\n",
    " '10_years_beta_category',\n",
    " '10years_category_std',\n",
    " '10_years_return_mean_annual_fund',\n",
    " '10_years_return_category',\n",
    " 'investment_class_0.0',\n",
    " 'investment_class_1.0',\n",
    " 'investment_class_2.0',\n",
    " 'fund_size_0.0',\n",
    " 'fund_size_1.0',\n",
    " 'fund_size_2.0',\n",
    " 'total_assets',\n",
    " 'category_ratio_net_annual_expense']"
   ]
  },
  {
   "cell_type": "code",
   "execution_count": null,
   "metadata": {},
   "outputs": [],
   "source": [
    "master_df_train_test.info(verbose=True)"
   ]
  },
  {
   "cell_type": "code",
   "execution_count": null,
   "metadata": {},
   "outputs": [],
   "source": [
    "master_df_train_test['greatstone_rating'].unique()"
   ]
  },
  {
   "cell_type": "code",
   "execution_count": null,
   "metadata": {},
   "outputs": [],
   "source": [
    "X=master_df_train_test[cols]\n",
    "y=master_df_train_test['greatstone_rating']"
   ]
  },
  {
   "cell_type": "code",
   "execution_count": null,
   "metadata": {},
   "outputs": [],
   "source": [
    "display(X.shape)\n",
    "display(y.shape)"
   ]
  },
  {
   "cell_type": "code",
   "execution_count": null,
   "metadata": {},
   "outputs": [],
   "source": [
    "pd.set_option('display.max_columns',150)\n",
    "X.head(2)"
   ]
  },
  {
   "cell_type": "code",
   "execution_count": null,
   "metadata": {},
   "outputs": [],
   "source": [
    "## Scale the whole data ##\n",
    "scaler = StandardScaler()\n",
    "X= scaler.fit_transform(X)"
   ]
  },
  {
   "cell_type": "code",
   "execution_count": null,
   "metadata": {},
   "outputs": [],
   "source": [
    "## split into train and test \n",
    "X_train,X_test,y_train,y_test=train_test_split(X,y,test_size=0.2,random_state=123)\n",
    "# Feature Scaling\n",
    "scaler = StandardScaler()\n",
    "X_train = scaler.fit_transform(X_train)\n",
    "X_test = scaler.transform(X_test)"
   ]
  },
  {
   "cell_type": "code",
   "execution_count": null,
   "metadata": {},
   "outputs": [],
   "source": [
    "rf=RandomForestClassifier(n_estimators=100)"
   ]
  },
  {
   "cell_type": "code",
   "execution_count": null,
   "metadata": {},
   "outputs": [],
   "source": [
    "display(X_train.shape)\n",
    "display(X_test.shape)\n",
    "display(y_train.shape)\n",
    "display(y_test.shape)"
   ]
  },
  {
   "cell_type": "code",
   "execution_count": null,
   "metadata": {},
   "outputs": [],
   "source": [
    "rf.fit(X_train,y_train)"
   ]
  },
  {
   "cell_type": "code",
   "execution_count": null,
   "metadata": {},
   "outputs": [],
   "source": [
    "rf.fit(X,y)"
   ]
  },
  {
   "cell_type": "code",
   "execution_count": null,
   "metadata": {},
   "outputs": [],
   "source": [
    "feat_imp=rf.feature_importances_\n",
    "fi=pd.DataFrame({'Feature':cols,'imp':feat_imp})"
   ]
  },
  {
   "cell_type": "code",
   "execution_count": null,
   "metadata": {},
   "outputs": [],
   "source": [
    "fi"
   ]
  },
  {
   "cell_type": "code",
   "execution_count": null,
   "metadata": {},
   "outputs": [],
   "source": [
    "fi.sort_values(by=['imp'],ascending=False)"
   ]
  },
  {
   "cell_type": "code",
   "execution_count": null,
   "metadata": {},
   "outputs": [],
   "source": [
    "## predict on Y_test\n",
    "pred=rf.predict(X_test)"
   ]
  },
  {
   "cell_type": "code",
   "execution_count": null,
   "metadata": {},
   "outputs": [],
   "source": [
    "## Predict on sample_sub\n",
    "pred_rf=rf.predict(sample_sub[cols])"
   ]
  },
  {
   "cell_type": "code",
   "execution_count": null,
   "metadata": {},
   "outputs": [],
   "source": [
    "pred"
   ]
  },
  {
   "cell_type": "code",
   "execution_count": null,
   "metadata": {},
   "outputs": [],
   "source": [
    "pred_rf"
   ]
  },
  {
   "cell_type": "code",
   "execution_count": null,
   "metadata": {},
   "outputs": [],
   "source": [
    "print(rf.score(X_test,y_test))"
   ]
  },
  {
   "cell_type": "code",
   "execution_count": null,
   "metadata": {},
   "outputs": [],
   "source": [
    "from sklearn.metrics import confusion_matrix\n",
    "from sklearn.metrics import classification_report"
   ]
  },
  {
   "cell_type": "code",
   "execution_count": null,
   "metadata": {},
   "outputs": [],
   "source": [
    "print(confusion_matrix(y_test,pred))\n",
    "print(classification_report(y_test,pred))"
   ]
  },
  {
   "cell_type": "markdown",
   "metadata": {},
   "source": [
    "## predict on submission data "
   ]
  },
  {
   "cell_type": "code",
   "execution_count": null,
   "metadata": {},
   "outputs": [],
   "source": [
    "sample_sub=pd.read_csv('sample_sub.csv')"
   ]
  },
  {
   "cell_type": "code",
   "execution_count": null,
   "metadata": {
    "scrolled": true
   },
   "outputs": [],
   "source": [
    "sample_sub.columns"
   ]
  },
  {
   "cell_type": "code",
   "execution_count": null,
   "metadata": {},
   "outputs": [],
   "source": [
    "sample_sub.drop(['Unnamed: 0'],axis=1,inplace=True)"
   ]
  },
  {
   "cell_type": "code",
   "execution_count": null,
   "metadata": {},
   "outputs": [],
   "source": [
    "pred_rf=rf.predict(sample_sub[cols])"
   ]
  },
  {
   "cell_type": "code",
   "execution_count": null,
   "metadata": {},
   "outputs": [],
   "source": [
    "pred_rf"
   ]
  },
  {
   "cell_type": "code",
   "execution_count": null,
   "metadata": {},
   "outputs": [],
   "source": [
    "##Random forest\n",
    "#sample_sub['greatstone_rating']=pred_rf\n",
    "##Extra tree classifier\n",
    "#sample_sub['greatstone_rating']=pred_etc\n",
    "## gbc\n",
    "#sample_sub['greatstone_rating']=pred_gbc\n",
    "## gbc with tuning \n",
    "#sample_sub['greatstone_rating']=pred_gbc_t\n",
    "## random forest w/o tuning \n",
    "sample_sub['greatstone_rating']=pred_rf"
   ]
  },
  {
   "cell_type": "code",
   "execution_count": null,
   "metadata": {},
   "outputs": [],
   "source": [
    "sample_sub.head()"
   ]
  },
  {
   "cell_type": "code",
   "execution_count": null,
   "metadata": {},
   "outputs": [],
   "source": [
    "##iter 1\n",
    "#sample_sub[['fund_id','greatstone_rating']].to_csv('sample_submission_v1.csv',index=False)\n",
    "##iter 2\n",
    "#sample_sub[['fund_id','greatstone_rating']].to_csv('sample_submission_v2.csv',index=False)\n",
    "##iter 3\n",
    "#sample_sub[['fund_id','greatstone_rating']].to_csv('sample_submission_v3.csv',index=False)\n",
    "##iter 4\n",
    "#sample_sub[['fund_id','greatstone_rating']].to_csv('sample_submission_v4.csv',index=False)\n",
    "##iter 5\n",
    "#sample_sub[['fund_id','greatstone_rating']].to_csv('sample_submission_v5.csv',index=False)\n",
    "##iter 8\n",
    "#sample_sub[['fund_id','greatstone_rating']].to_csv('sample_submission_v8.csv',index=False)\n",
    "##iter 9\n",
    "#sample_sub[['fund_id','greatstone_rating']].to_csv('sample_submission_v9.csv',index=False)\n",
    "##iter 10\n",
    "#sample_sub[['fund_id','greatstone_rating']].to_csv('sample_submission_v10.csv',index=False)\n",
    "##iter 10\n",
    "sample_sub[['fund_id','greatstone_rating']].to_csv('sample_submission_v11.csv',index=False)"
   ]
  },
  {
   "cell_type": "markdown",
   "metadata": {},
   "source": [
    "## Random Forest with tuning "
   ]
  },
  {
   "cell_type": "code",
   "execution_count": null,
   "metadata": {},
   "outputs": [],
   "source": [
    "params={'n_estimators':[100,200,300,400],\n",
    "        'max_depth':[4,6,8,10],\n",
    "        'min_samples_split':[0.1,0.2,0.3,0.4,0.5],\n",
    "        'min_samples_leaf':[0.1,0.2,0.3,0.4,0.5],\n",
    "        'max_features':['auto','sqrt','log2']}\n",
    "#score=make_scorer(score_func=average_precision_score)\n",
    "\n",
    "rf=RandomForestClassifier(oob_score=True,n_jobs=-1,random_state=123)\n",
    "rf_t=GridSearchCV(rf,param_grid=params,cv=5,n_jobs=-1,verbose=1)"
   ]
  },
  {
   "cell_type": "code",
   "execution_count": null,
   "metadata": {},
   "outputs": [],
   "source": [
    "rf_t.fit(X,y)"
   ]
  },
  {
   "cell_type": "code",
   "execution_count": null,
   "metadata": {},
   "outputs": [],
   "source": [
    "rf_t.best_params_"
   ]
  },
  {
   "cell_type": "code",
   "execution_count": null,
   "metadata": {},
   "outputs": [],
   "source": [
    "rf_t_best=RandomForestClassifier(n_estimators=400,max_depth=4,min_samples_split=0.1,\n",
    "                                 min_samples_leaf=0.1,max_features='auto',\n",
    "                                 oob_score=True,n_jobs=-1,random_state=123)\n",
    "rf_t_best.fit(X,y)"
   ]
  },
  {
   "cell_type": "code",
   "execution_count": null,
   "metadata": {},
   "outputs": [],
   "source": [
    "feat_imp=rf_t_best.feature_importances_\n",
    "fi=pd.DataFrame({'Feature':cols,'imp':feat_imp})\n",
    "display(fi.sort_values(by='imp',ascending=False).head(150))"
   ]
  },
  {
   "cell_type": "code",
   "execution_count": null,
   "metadata": {},
   "outputs": [],
   "source": [
    "sample_sub=pd.read_csv('sample_sub.csv')"
   ]
  },
  {
   "cell_type": "code",
   "execution_count": null,
   "metadata": {},
   "outputs": [],
   "source": [
    "rf_t_pred=rf_t_best.predict(sample_sub[cols])"
   ]
  },
  {
   "cell_type": "code",
   "execution_count": null,
   "metadata": {},
   "outputs": [],
   "source": [
    "rf_t_pred"
   ]
  },
  {
   "cell_type": "code",
   "execution_count": null,
   "metadata": {},
   "outputs": [],
   "source": [
    "sample_sub.drop(['greatstone_rating_x','Unnamed: 0'],axis=1,inplace=True)\n",
    "sample_sub['greatstone_rating']=rf_t_pred"
   ]
  },
  {
   "cell_type": "code",
   "execution_count": null,
   "metadata": {},
   "outputs": [],
   "source": [
    "sample_sub.head()"
   ]
  },
  {
   "cell_type": "code",
   "execution_count": null,
   "metadata": {},
   "outputs": [],
   "source": [
    "##iter 7\n",
    "sample_sub[['fund_id','greatstone_rating']].to_csv('sample_submission_v7.csv',index=False)"
   ]
  },
  {
   "cell_type": "markdown",
   "metadata": {},
   "source": [
    "## ExtraTreeClassifier "
   ]
  },
  {
   "cell_type": "code",
   "execution_count": null,
   "metadata": {},
   "outputs": [],
   "source": [
    "etc=ExtraTreesClassifier(n_estimators=100,random_state=123)"
   ]
  },
  {
   "cell_type": "code",
   "execution_count": null,
   "metadata": {},
   "outputs": [],
   "source": [
    "etc.fit(X,y)"
   ]
  },
  {
   "cell_type": "code",
   "execution_count": null,
   "metadata": {},
   "outputs": [],
   "source": [
    "pred_etc=etc.predict(sample_sub[cols])"
   ]
  },
  {
   "cell_type": "code",
   "execution_count": null,
   "metadata": {},
   "outputs": [],
   "source": [
    "pred_etc"
   ]
  },
  {
   "cell_type": "markdown",
   "metadata": {},
   "source": [
    "## Gradient Boosting Classifier"
   ]
  },
  {
   "cell_type": "markdown",
   "metadata": {},
   "source": [
    "### Hyperparameter tuning "
   ]
  },
  {
   "cell_type": "code",
   "execution_count": null,
   "metadata": {},
   "outputs": [],
   "source": [
    "params={'n_estimators':[100,200,500,1000],\n",
    "        'learning_rate':[0.05,0.1,0.2,0.3,0.4,0.5],\n",
    "        'min_samples_split':[0.2,0.4,0.6,0.8],\n",
    "        'min_samples_leaf':[0.2,0.4,0.6,0.8],\n",
    "        'max_depth':[5,10,15,20],\n",
    "        'max_features':['auto','log2','sqrt']}\n",
    "gbc=GradientBoostingClassifier(n_iter_no_change=10,validation_fraction=0.2,random_state=123)"
   ]
  },
  {
   "cell_type": "code",
   "execution_count": null,
   "metadata": {},
   "outputs": [],
   "source": [
    "rs=RandomizedSearchCV(gbc,param_distributions=params,n_iter=100,cv=5,n_jobs=-1,verbose=1,random_state=123)\n",
    "rs.fit(X,y)"
   ]
  },
  {
   "cell_type": "code",
   "execution_count": null,
   "metadata": {},
   "outputs": [],
   "source": [
    "rs.best_params_"
   ]
  },
  {
   "cell_type": "code",
   "execution_count": null,
   "metadata": {},
   "outputs": [],
   "source": [
    "## fit with best params ##\n",
    "rs_gbc=GradientBoostingClassifier(n_estimators=500,min_samples_split=0.4,\\\n",
    "                                  min_samples_leaf=0.2,max_features='auto',\\\n",
    "                                  max_depth=20,learning_rate=0.5,\\\n",
    "                                  random_state=123)\n",
    "rs_gbc.fit(X,y)"
   ]
  },
  {
   "cell_type": "code",
   "execution_count": null,
   "metadata": {},
   "outputs": [],
   "source": [
    "#### Fitted without hyperparamater tuning ####\n",
    "gbc.fit(X,y)"
   ]
  },
  {
   "cell_type": "code",
   "execution_count": null,
   "metadata": {},
   "outputs": [],
   "source": [
    "#pred_gbc=gbc.predict(sample_sub[cols])\n",
    "## tunning\n",
    "pred_gbc_t=rs_gbc.predict(sample_sub[cols])"
   ]
  },
  {
   "cell_type": "code",
   "execution_count": null,
   "metadata": {},
   "outputs": [],
   "source": [
    "pred_gbc_t"
   ]
  },
  {
   "cell_type": "markdown",
   "metadata": {},
   "source": [
    "## OnevsrestClassifier"
   ]
  },
  {
   "cell_type": "code",
   "execution_count": null,
   "metadata": {},
   "outputs": [],
   "source": [
    "#rf=RandomForestClassifier(n_estimators=100)\n",
    "lgbm_t=LGBMClassifier(boosting_type='dart',learning_rate=0.05,n_estimators=2500\n",
    "                      ,reg_lambda=0.2,min_child_samples=30,\n",
    "                      max_depth=-1,random_state=1111)\n",
    "ovr=OneVsRestClassifier(estimator=lgbm_t,n_jobs=-1)\n",
    "ovr.fit(X,y)"
   ]
  },
  {
   "cell_type": "code",
   "execution_count": null,
   "metadata": {},
   "outputs": [],
   "source": [
    "sample_sub=pd.read_csv('sample_sub.csv')\n",
    "ovr_pred=ovr.predict(sample_sub[cols])"
   ]
  },
  {
   "cell_type": "code",
   "execution_count": null,
   "metadata": {},
   "outputs": [],
   "source": [
    "ovr_pred"
   ]
  },
  {
   "cell_type": "code",
   "execution_count": null,
   "metadata": {},
   "outputs": [],
   "source": [
    "sample_sub.drop(['Unnamed: 0'],axis=1,inplace=True)\n",
    "sample_sub['greatstone_rating']=ovr_pred"
   ]
  },
  {
   "cell_type": "code",
   "execution_count": null,
   "metadata": {},
   "outputs": [],
   "source": [
    "sample_sub.head()"
   ]
  },
  {
   "cell_type": "code",
   "execution_count": null,
   "metadata": {},
   "outputs": [],
   "source": [
    "##iter 6\n",
    "sample_sub[['fund_id','greatstone_rating']].to_csv('sample_submission_v6.csv',index=False)"
   ]
  },
  {
   "cell_type": "markdown",
   "metadata": {},
   "source": [
    "## LinearSVC"
   ]
  },
  {
   "cell_type": "code",
   "execution_count": null,
   "metadata": {},
   "outputs": [],
   "source": [
    "lsvc=LinearSVC(penalty='l2',multi_class='ovr',fit_intercept=False,random_state=123)\n",
    "\n",
    "lsvc.fit(X,y)"
   ]
  },
  {
   "cell_type": "code",
   "execution_count": null,
   "metadata": {},
   "outputs": [],
   "source": [
    "lsvc.coef_"
   ]
  },
  {
   "cell_type": "code",
   "execution_count": null,
   "metadata": {},
   "outputs": [],
   "source": [
    "lsvc_pred=lsvc.predict(sample_sub[cols])"
   ]
  },
  {
   "cell_type": "code",
   "execution_count": null,
   "metadata": {},
   "outputs": [],
   "source": [
    "lsvc_pred"
   ]
  },
  {
   "cell_type": "markdown",
   "metadata": {},
   "source": [
    "## RidgeClassifier"
   ]
  },
  {
   "cell_type": "code",
   "execution_count": null,
   "metadata": {},
   "outputs": [],
   "source": [
    "rc=RidgeClassifier()\n",
    "rc.fit(X,y)"
   ]
  },
  {
   "cell_type": "code",
   "execution_count": null,
   "metadata": {},
   "outputs": [],
   "source": [
    "sample_sub=pd.read_csv('sample_sub.csv')\n",
    "rc_pred=rc.predict(sample_sub[cols])"
   ]
  },
  {
   "cell_type": "code",
   "execution_count": null,
   "metadata": {},
   "outputs": [],
   "source": [
    "rc_pred"
   ]
  },
  {
   "cell_type": "code",
   "execution_count": null,
   "metadata": {},
   "outputs": [],
   "source": [
    "sample_sub.drop(['greatstone_rating_x','Unnamed: 0'],axis=1,inplace=True)\n",
    "sample_sub['greatstone_rating']=rc_pred"
   ]
  },
  {
   "cell_type": "code",
   "execution_count": null,
   "metadata": {},
   "outputs": [],
   "source": [
    "sample_sub.head()"
   ]
  },
  {
   "cell_type": "code",
   "execution_count": null,
   "metadata": {},
   "outputs": [],
   "source": [
    "##iter 8\n",
    "sample_sub[['fund_id','greatstone_rating']].to_csv('sample_submission_v8.csv',index=False)"
   ]
  },
  {
   "cell_type": "code",
   "execution_count": null,
   "metadata": {},
   "outputs": [],
   "source": [
    "### Transforming the variables ##\n",
    "pd.set_option('display.max_columns',150)\n",
    "master_df_train_test.head()"
   ]
  },
  {
   "cell_type": "code",
   "execution_count": null,
   "metadata": {},
   "outputs": [],
   "source": [
    "master_df_train_test.shape[0]"
   ]
  },
  {
   "cell_type": "code",
   "execution_count": null,
   "metadata": {},
   "outputs": [],
   "source": [
    "master_df_train_test[master_df_train_test['2018_return_category']>0][i].count()"
   ]
  },
  {
   "cell_type": "code",
   "execution_count": null,
   "metadata": {},
   "outputs": [],
   "source": [
    "## get all the columns with value>0\n",
    "pos_cols=[]\n",
    "for i in cols:\n",
    "    if master_df_train_test[master_df_train_test[i]>0][i].count()==master_df_train_test.shape[0]:\n",
    "        pos_cols.append(i)"
   ]
  },
  {
   "cell_type": "code",
   "execution_count": null,
   "metadata": {},
   "outputs": [],
   "source": [
    "display(len(cols))\n",
    "display(len(pos_cols))##5"
   ]
  },
  {
   "cell_type": "code",
   "execution_count": null,
   "metadata": {},
   "outputs": [],
   "source": [
    "pos_cols"
   ]
  },
  {
   "cell_type": "code",
   "execution_count": null,
   "metadata": {},
   "outputs": [],
   "source": [
    "display(sns.distplot(master_df_train_test['category_ratio_net_annual_expense'],kde=True))\n",
    "display(sns.distplot(sample_sub['category_ratio_net_annual_expense'],kde=True))"
   ]
  },
  {
   "cell_type": "code",
   "execution_count": null,
   "metadata": {},
   "outputs": [],
   "source": [
    "from scipy.stats import boxcox"
   ]
  },
  {
   "cell_type": "code",
   "execution_count": null,
   "metadata": {},
   "outputs": [],
   "source": [
    "## transform ##\n",
    "total_assets_t=boxcox(master_df_train_test['total_assets'])[0]\n",
    "category_ratio_net_annual_expense_t=boxcox(master_df_train_test['category_ratio_net_annual_expense'])[0]\n",
    "total_assets_sam_t=boxcox(sample_sub['total_assets'])[0]\n",
    "category_ratio_net_annual_expense_sam_t=boxcox(sample_sub['category_ratio_net_annual_expense'])[0]"
   ]
  },
  {
   "cell_type": "code",
   "execution_count": null,
   "metadata": {},
   "outputs": [],
   "source": [
    "total_assets_t[0]"
   ]
  },
  {
   "cell_type": "code",
   "execution_count": null,
   "metadata": {},
   "outputs": [],
   "source": [
    "sns.distplot(category_ratio_net_annual_expense_t,kde=True)"
   ]
  },
  {
   "cell_type": "code",
   "execution_count": null,
   "metadata": {},
   "outputs": [],
   "source": [
    "#master_df_train_test.shape\n",
    "sample_sub=pd.read_csv('sample_sub.csv')\n",
    "sample_sub.drop('Unnamed: 0',axis=1,inplace=True)"
   ]
  },
  {
   "cell_type": "code",
   "execution_count": null,
   "metadata": {},
   "outputs": [],
   "source": [
    "sample_sub.shape"
   ]
  },
  {
   "cell_type": "code",
   "execution_count": null,
   "metadata": {},
   "outputs": [],
   "source": [
    "## appending the tranformed variables ##\n",
    "master_df_train_test.insert(loc=129,column='total_assets_t',value=total_assets_t)\n",
    "master_df_train_test.insert(loc=130,column='category_ratio_net_annual_expense_t',value=category_ratio_net_annual_expense_t)\n",
    "sample_sub.insert(loc=128,column='total_assets_t',value=total_assets_sam_t)\n",
    "sample_sub.insert(loc=129,column='category_ratio_net_annual_expense_t',value=category_ratio_net_annual_expense_sam_t)"
   ]
  },
  {
   "cell_type": "code",
   "execution_count": null,
   "metadata": {},
   "outputs": [],
   "source": [
    "sample_sub.head()"
   ]
  },
  {
   "cell_type": "code",
   "execution_count": null,
   "metadata": {},
   "outputs": [],
   "source": [
    "sample_sub.to_csv('sample_sub.csv')"
   ]
  },
  {
   "cell_type": "markdown",
   "metadata": {},
   "source": [
    "## Decisiontree classifier "
   ]
  },
  {
   "cell_type": "code",
   "execution_count": null,
   "metadata": {},
   "outputs": [],
   "source": [
    "dt=DecisionTreeClassifier(random_state=123)\n",
    "dt.fit(X,y)"
   ]
  },
  {
   "cell_type": "code",
   "execution_count": null,
   "metadata": {},
   "outputs": [],
   "source": [
    "sample_sub=pd.read_csv('sample_sub.csv')\n",
    "dt_pred=dt.predict(sample_sub[cols])"
   ]
  },
  {
   "cell_type": "code",
   "execution_count": null,
   "metadata": {},
   "outputs": [],
   "source": [
    "dt_pred"
   ]
  },
  {
   "cell_type": "code",
   "execution_count": null,
   "metadata": {},
   "outputs": [],
   "source": [
    "sample_sub.drop(['Unnamed: 0'],axis=1,inplace=True)\n",
    "sample_sub['greatstone_rating']=dt_pred"
   ]
  },
  {
   "cell_type": "code",
   "execution_count": null,
   "metadata": {},
   "outputs": [],
   "source": [
    "sample_sub.head()"
   ]
  },
  {
   "cell_type": "code",
   "execution_count": null,
   "metadata": {},
   "outputs": [],
   "source": [
    "##iter 12\n",
    "sample_sub[['fund_id','greatstone_rating']].to_csv('sample_submission_v12.csv',index=False)"
   ]
  },
  {
   "cell_type": "markdown",
   "metadata": {},
   "source": [
    "## Xgboost"
   ]
  },
  {
   "cell_type": "code",
   "execution_count": null,
   "metadata": {},
   "outputs": [],
   "source": [
    "xgb=XGBClassifier()\n",
    "xgb.fit(X,y)"
   ]
  },
  {
   "cell_type": "code",
   "execution_count": null,
   "metadata": {},
   "outputs": [],
   "source": [
    "sample_sub=pd.read_csv('sample_sub.csv')\n",
    "xgb_pred=xgb.predict(sample_sub[cols])"
   ]
  },
  {
   "cell_type": "code",
   "execution_count": null,
   "metadata": {},
   "outputs": [],
   "source": [
    "xgb_pred"
   ]
  },
  {
   "cell_type": "code",
   "execution_count": null,
   "metadata": {},
   "outputs": [],
   "source": [
    "sample_sub.drop(['Unnamed: 0'],axis=1,inplace=True)\n",
    "sample_sub['greatstone_rating']=xgb_pred"
   ]
  },
  {
   "cell_type": "code",
   "execution_count": null,
   "metadata": {},
   "outputs": [],
   "source": [
    "sample_sub.head()"
   ]
  },
  {
   "cell_type": "code",
   "execution_count": null,
   "metadata": {},
   "outputs": [],
   "source": [
    "##iter 13\n",
    "sample_sub[['fund_id','greatstone_rating']].to_csv('sample_submission_v13.csv',index=False)"
   ]
  },
  {
   "cell_type": "markdown",
   "metadata": {},
   "source": [
    "## xgboost with tuning "
   ]
  },
  {
   "cell_type": "code",
   "execution_count": null,
   "metadata": {},
   "outputs": [],
   "source": [
    "column=['yield',\n",
    " 'return_ytd',\n",
    " 'years_up',\n",
    " 'years_down',\n",
    " '2014_category_return',\n",
    " '2012_return_category',\n",
    " '2018_return_category',\n",
    " 'category_return_1year',\n",
    " 'cash_percent_of_portfolio',\n",
    " 'pc_ratio',\n",
    " '2011_return_category',\n",
    " 'ytd_return_fund',\n",
    " '2014_return_fund',\n",
    " 'category_return_1month',\n",
    " '2013_return_fund',\n",
    " 'fund_return_3months',\n",
    " 'ytd_return_category',\n",
    " 'pb_ratio',\n",
    " '2017_category_return',\n",
    " '1_year_return_fund',\n",
    " 'pe_ratio',\n",
    " '2015_return_fund',\n",
    " 'portfolio_convertable',\n",
    " '3_months_return_category',\n",
    " 'portfolio_others',\n",
    " '2016_return_fund',\n",
    " 'mmc',\n",
    " 'stock_percent_of_portfolio',\n",
    " '2016_return_category',\n",
    " 'ps_ratio',\n",
    " '2011_return_fund',\n",
    " '2010_return_fund',\n",
    " 'fund_return_3years_x',\n",
    " '2012_fund_return',\n",
    " '2018_return_fund',\n",
    " '2017_return_fund',\n",
    " 'category_return_2015',\n",
    " '1_month_fund_return',\n",
    " 'bond_percentage_of_porfolio',\n",
    " 'portfolio_preferred',\n",
    " '2010_return_category',\n",
    " '2013_category_return',\n",
    " 'fund_ratio_net_annual_expense',\n",
    " 'portfolio_communication_allocation',\n",
    " 'portfolio_financial_services',\n",
    " 'portfolio_industrials_allocation',\n",
    " 'portfolio_tech_allocation',\n",
    " 'portfolio_materials_basic_allocation',\n",
    " 'portfolio_energy_allocation',\n",
    " 'portfolio_consumer_defence_allocation',\n",
    " 'portfolio_healthcare_allocation',\n",
    " 'portfolio_property_allocation',\n",
    " 'portfolio_utils_allocation',\n",
    " 'portfolio_cyclical_consumer_allocation',\n",
    " 'bb_rating',\n",
    " 'us_govt_bond_rating',\n",
    " 'below_b_rating',\n",
    " 'others_rating',\n",
    " 'maturity_bond',\n",
    " 'b_rating',\n",
    " 'a_rating',\n",
    " 'aaa_rating',\n",
    " 'aa_rating',\n",
    " 'bbb_rating',\n",
    " 'duration_bond',\n",
    " '3yrs_treynor_ratio_fund',\n",
    " '3_years_alpha_fund',\n",
    " '3years_category_std',\n",
    " '3yrs_sharpe_ratio_fund',\n",
    " '3yrs_treynor_ratio_category',\n",
    " '3_years_return_mean_annual_fund',\n",
    " 'fund_beta_3years',\n",
    " '3years_fund_r_squared',\n",
    " '3years_fund_std',\n",
    " 'category_beta_3years',\n",
    " 'fund_return_3years_y',\n",
    " '3_years_alpha_category',\n",
    " '3_years_return_mean_annual_category',\n",
    " '3yrs_sharpe_ratio_category',\n",
    " '3years_category_r_squared',\n",
    " '3_years_return_category',\n",
    " 'category_r_squared_5years',\n",
    " '5yrs_sharpe_ratio_fund',\n",
    " '5_years_alpha_fund',\n",
    " '5years_fund_r_squared',\n",
    " '5years_fund_std',\n",
    " '5yrs_sharpe_ratio_category',\n",
    " '5_years_beta_fund',\n",
    " '5yrs_treynor_ratio_fund',\n",
    " '5_years_return_mean_annual_fund',\n",
    " '5_years_return_mean_annual_category',\n",
    " '5yrs_treynor_ratio_category',\n",
    " '5_years_return_fund',\n",
    " '5_years_alpha_category',\n",
    " '5_years_beta_category',\n",
    " '5years_category_std',\n",
    " '5_years_return_category',\n",
    " '10years_category_r_squared',\n",
    " '10yrs_sharpe_ratio_fund',\n",
    " '10_years_alpha_fund',\n",
    " '10years_fund_r_squared',\n",
    " '10years_fund_std',\n",
    " '10yrs_sharpe_ratio_category',\n",
    " '10_years_beta_fund',\n",
    " '10yrs_treynor_ratio_fund',\n",
    " '10_years_return_mean_annual_category',\n",
    " '10yrs_treynor_ratio_category',\n",
    " '10_years_return_fund',\n",
    " '10_years_alpha_category',\n",
    " '10_years_beta_category',\n",
    " '10years_category_std',\n",
    " '10_years_return_mean_annual_fund',\n",
    " '10_years_return_category',\n",
    " 'investment_class_0.0',\n",
    " 'investment_class_1.0',\n",
    " 'investment_class_2.0',\n",
    " 'fund_size_0.0',\n",
    " 'fund_size_1.0',\n",
    " 'fund_size_2.0',\n",
    " 'total_assets',\n",
    " 'category_ratio_net_annual_expense','greatstone_rating']\n",
    "train=master_df_train_test[column]"
   ]
  },
  {
   "cell_type": "code",
   "execution_count": null,
   "metadata": {},
   "outputs": [],
   "source": [
    "train.columns"
   ]
  },
  {
   "cell_type": "code",
   "execution_count": null,
   "metadata": {},
   "outputs": [],
   "source": [
    "xgb1 = XGBClassifier(\n",
    " learning_rate =0.1,\n",
    " n_estimators=1000,\n",
    " max_depth=5,\n",
    " min_child_weight=1,\n",
    " gamma=0,\n",
    " subsample=0.8,\n",
    " colsample_bytree=0.8,\n",
    " objective= 'multi:softmax',\n",
    " nthread=4,\n",
    " seed=27,num_class=6)\n",
    "xgb1.fit(X,y)"
   ]
  },
  {
   "cell_type": "code",
   "execution_count": null,
   "metadata": {},
   "outputs": [],
   "source": [
    "sample_sub=pd.read_csv('sample_sub.csv')\n",
    "xgb1_pred=xgb1.predict(sample_sub[cols])"
   ]
  },
  {
   "cell_type": "code",
   "execution_count": null,
   "metadata": {},
   "outputs": [],
   "source": [
    "xgb1_pred"
   ]
  },
  {
   "cell_type": "code",
   "execution_count": null,
   "metadata": {},
   "outputs": [],
   "source": [
    "sample_sub.drop(['Unnamed: 0'],axis=1,inplace=True)\n",
    "sample_sub['greatstone_rating']=xgb1_pred"
   ]
  },
  {
   "cell_type": "code",
   "execution_count": null,
   "metadata": {},
   "outputs": [],
   "source": [
    "sample_sub.head()"
   ]
  },
  {
   "cell_type": "code",
   "execution_count": null,
   "metadata": {},
   "outputs": [],
   "source": [
    "##iter 14\n",
    "sample_sub[['fund_id','greatstone_rating']].to_csv('sample_submission_v14.csv',index=False)"
   ]
  },
  {
   "cell_type": "code",
   "execution_count": null,
   "metadata": {},
   "outputs": [],
   "source": [
    "### Tuning all params ##\n",
    "params={'max_depth':[3,6,9,12],\n",
    "        'gamma':[0,1],\n",
    "        'subsample':[0.2,0.4,0.6,0.8],\n",
    "        'colsample_bytree':[0.2,0.4,0.6,0.8],\n",
    "        'tree_method':['auto','hist'],\n",
    "        'min_child_weight':[0,1,2]\n",
    "}\n",
    "xgb2=XGBClassifier(learning_rate=0.1,n_estimators=1000,objective='multi:softmax',random_state=123,booster='gbtree',seed=1)\n",
    "xgb2_t=RandomizedSearchCV(xgb2,param_distributions=params,n_iter=50,cv=5,n_jobs=-1,verbose=1,random_state=123)"
   ]
  },
  {
   "cell_type": "code",
   "execution_count": null,
   "metadata": {},
   "outputs": [],
   "source": [
    "xgb2_t.fit(X,y)"
   ]
  },
  {
   "cell_type": "code",
   "execution_count": null,
   "metadata": {},
   "outputs": [],
   "source": [
    "xgb2_t.best_params_"
   ]
  },
  {
   "cell_type": "code",
   "execution_count": null,
   "metadata": {},
   "outputs": [],
   "source": [
    "xgb2=XGBClassifier()\n",
    "xgb2.fit(X,y)"
   ]
  },
  {
   "cell_type": "code",
   "execution_count": null,
   "metadata": {},
   "outputs": [],
   "source": [
    "sample_sub=pd.read_csv('sample_sub.csv')\n",
    "xgb2_pred=xgb2.predict(sample_sub[cols])"
   ]
  },
  {
   "cell_type": "code",
   "execution_count": null,
   "metadata": {},
   "outputs": [],
   "source": [
    "xgb2_pred"
   ]
  },
  {
   "cell_type": "code",
   "execution_count": null,
   "metadata": {},
   "outputs": [],
   "source": [
    "sample_sub.drop(['Unnamed: 0'],axis=1,inplace=True)\n",
    "sample_sub['greatstone_rating']=xgb2_pred"
   ]
  },
  {
   "cell_type": "code",
   "execution_count": null,
   "metadata": {},
   "outputs": [],
   "source": [
    "##iter 15\n",
    "sample_sub[['fund_id','greatstone_rating']].to_csv('sample_submission_v15.csv',index=False)"
   ]
  },
  {
   "cell_type": "markdown",
   "metadata": {},
   "source": [
    "## Lightgbm classifier"
   ]
  },
  {
   "cell_type": "code",
   "execution_count": null,
   "metadata": {},
   "outputs": [],
   "source": [
    "## changing n_estimators from 100 to 1000 to 2000 keeping learning_rate constant\n",
    "lgbm=LGBMClassifier(objective='LGBMClassifier',random_state=123,n_estimators=1500)\n",
    "lgbm.fit(X,y)"
   ]
  },
  {
   "cell_type": "code",
   "execution_count": null,
   "metadata": {},
   "outputs": [],
   "source": [
    "sample_sub=pd.read_csv('sample_sub.csv')\n",
    "lgbm_pred=lgbm.predict(sample_sub[cols])"
   ]
  },
  {
   "cell_type": "code",
   "execution_count": null,
   "metadata": {},
   "outputs": [],
   "source": [
    "lgbm_pred"
   ]
  },
  {
   "cell_type": "code",
   "execution_count": null,
   "metadata": {},
   "outputs": [],
   "source": [
    "sample_sub.drop(['Unnamed: 0'],axis=1,inplace=True)\n",
    "sample_sub['greatstone_rating']=lgbm_pred"
   ]
  },
  {
   "cell_type": "code",
   "execution_count": null,
   "metadata": {},
   "outputs": [],
   "source": [
    "##iter 16 : 1000\n",
    "#sample_sub[['fund_id','greatstone_rating']].to_csv('sample_submission_v16.csv',index=False)\n",
    "##iter 17 : 2000\n",
    "#sample_sub[['fund_id','greatstone_rating']].to_csv('sample_submission_v17.csv',index=False)\n",
    "##iter 18 : 1500\n",
    "sample_sub[['fund_id','greatstone_rating']].to_csv('sample_submission_v18.csv',index=False)"
   ]
  },
  {
   "cell_type": "code",
   "execution_count": null,
   "metadata": {},
   "outputs": [],
   "source": [
    "from sklearn.model_selection import train_test_split\n",
    "X_train,X_test,Y_train,Y_test=train_test_split(X,y,test_size=0.1,random_state=123)"
   ]
  },
  {
   "cell_type": "code",
   "execution_count": null,
   "metadata": {},
   "outputs": [],
   "source": [
    "fit_params={\"early_stopping_rounds\":30, \n",
    "            \"eval_metric\" : 'logloss', \n",
    "            \"eval_set\" : [(X_test,Y_test)],\n",
    "            'eval_names': ['valid'],\n",
    "            #'callbacks': [lgb.reset_parameter(learning_rate=learning_rate_010_decay_power_099)],\n",
    "            'verbose': 100,\n",
    "            'categorical_feature': 'auto'}"
   ]
  },
  {
   "cell_type": "code",
   "execution_count": null,
   "metadata": {},
   "outputs": [],
   "source": [
    "from scipy.stats import randint as sp_randint\n",
    "from scipy.stats import uniform as sp_uniform\n",
    "param_test ={'num_leaves': sp_randint(6, 50), \n",
    "             'min_child_samples': sp_randint(100, 500), \n",
    "             'min_child_weight': [1e-5, 1e-3, 1e-2, 1e-1, 1, 1e1, 1e2, 1e3, 1e4],\n",
    "             'subsample': sp_uniform(loc=0.2, scale=0.8), \n",
    "             'colsample_bytree': sp_uniform(loc=0.4, scale=0.6),\n",
    "             'reg_alpha': [0, 1e-1, 1, 2, 5, 7, 10, 50, 100],\n",
    "             'reg_lambda': [0, 1e-1, 1, 5, 10, 20, 50, 100]}"
   ]
  },
  {
   "cell_type": "code",
   "execution_count": null,
   "metadata": {},
   "outputs": [],
   "source": [
    "#n_estimators is set to a \"large value\". The actual number of trees build will depend on early stopping and 5000 define only the absolute maximum\n",
    "clf =LGBMClassifier(max_depth=-1, random_state=314, silent=True, metric='None', n_jobs=4, n_estimators=5000)\n",
    "gs = RandomizedSearchCV(\n",
    "    estimator=clf, param_distributions=param_test, \n",
    "    n_iter=100,\n",
    "    cv=3,\n",
    "    refit=True,\n",
    "    random_state=314,\n",
    "    verbose=True)"
   ]
  },
  {
   "cell_type": "code",
   "execution_count": null,
   "metadata": {},
   "outputs": [],
   "source": [
    "gs.fit(X_train, Y_train, **fit_params)"
   ]
  },
  {
   "cell_type": "code",
   "execution_count": null,
   "metadata": {},
   "outputs": [],
   "source": [
    "gs.best_estimator_"
   ]
  },
  {
   "cell_type": "code",
   "execution_count": null,
   "metadata": {},
   "outputs": [],
   "source": [
    "## use the best params from the above search to fit the model on overall data ##\n",
    "params={'colsample_bytree': 0.9234, 'min_child_samples': 399, 'min_child_weight': 0.1,\n",
    "        'num_leaves': 13, 'reg_alpha': 2, 'reg_lambda': 5, 'subsample': 0.855}"
   ]
  },
  {
   "cell_type": "code",
   "execution_count": null,
   "metadata": {},
   "outputs": [],
   "source": [
    "clf.get_params()"
   ]
  },
  {
   "cell_type": "code",
   "execution_count": null,
   "metadata": {},
   "outputs": [],
   "source": [
    "lgbm_t=LGBMClassifier(learning_rate=0.04,n_estimators=5000,colsample_bytree=0.9234,min_child_samples=399, \n",
    "                      min_child_weight=0.1,num_leaves=13,reg_alpha=2,reg_lambda=5,subsample=0.855,random_state=123,\n",
    "                      objective='LGBMClassifier')\n",
    "lgbm_t.fit(X,y)"
   ]
  },
  {
   "cell_type": "code",
   "execution_count": null,
   "metadata": {},
   "outputs": [],
   "source": [
    "fi=lgbm_t.feature_importances_\n",
    "df_fi=pd.DataFrame({'columns':X.columns,'Imp':fi})"
   ]
  },
  {
   "cell_type": "code",
   "execution_count": null,
   "metadata": {},
   "outputs": [],
   "source": [
    "df_fi.sort_values(by='Imp',ascending=False)"
   ]
  },
  {
   "cell_type": "code",
   "execution_count": null,
   "metadata": {},
   "outputs": [],
   "source": [
    "sample_sub=pd.read_csv('sample_sub.csv')\n",
    "lgbm_t_pred=lgbm_t.predict(sample_sub[cols])"
   ]
  },
  {
   "cell_type": "code",
   "execution_count": null,
   "metadata": {},
   "outputs": [],
   "source": [
    "type(lgbm_t_pred)"
   ]
  },
  {
   "cell_type": "code",
   "execution_count": null,
   "metadata": {},
   "outputs": [],
   "source": [
    "sample_sub.drop(['Unnamed: 0'],axis=1,inplace=True)\n",
    "sample_sub['greatstone_rating']=lgbm_t_pred"
   ]
  },
  {
   "cell_type": "code",
   "execution_count": null,
   "metadata": {},
   "outputs": [],
   "source": [
    "##iter 20 : tuned learning rate and n estimators\n",
    "#sample_sub[['fund_id','greatstone_rating']].to_csv('sample_submission_v20.csv',index=False)\n",
    "##iter 21 : tuned other params while keeping nestimator and learning rate fix\n",
    "sample_sub[['fund_id','greatstone_rating']].to_csv('sample_submission_v21.csv',index=False)"
   ]
  },
  {
   "cell_type": "code",
   "execution_count": null,
   "metadata": {},
   "outputs": [],
   "source": [
    "## Lightgbm with tuning \n",
    "params={'learning_rate':[0.05,0.08,0.1]}\n",
    "lgbm=LGBMClassifier(objective='LGBMClassifier',random_state=123)\n",
    "gs=GridSearchCV(lgbm,param_grid=params,n_jobs=-1,cv=5,verbose=1)"
   ]
  },
  {
   "cell_type": "code",
   "execution_count": null,
   "metadata": {},
   "outputs": [],
   "source": [
    "gs.fit(X,y)"
   ]
  },
  {
   "cell_type": "code",
   "execution_count": null,
   "metadata": {},
   "outputs": [],
   "source": [
    "gs.best_params_"
   ]
  },
  {
   "cell_type": "code",
   "execution_count": null,
   "metadata": {},
   "outputs": [],
   "source": [
    "# learning rate tuning \n",
    "lgbm_t=LGBMClassifier(boosting_type='dart',learning_rate=0.05,n_estimators=2500,\n",
    "                      objective='LGBMClassifier',reg_lambda=0.2,min_child_samples=30,\n",
    "                      max_depth=-1,random_state=1111)\n",
    "lgbm_t.fit(X,y)"
   ]
  },
  {
   "cell_type": "code",
   "execution_count": null,
   "metadata": {},
   "outputs": [],
   "source": [
    "sample_sub=pd.read_csv('sample_sub.csv')\n",
    "lgbm_t_pred=lgbm_t.predict(sample_sub[cols])"
   ]
  },
  {
   "cell_type": "code",
   "execution_count": null,
   "metadata": {},
   "outputs": [],
   "source": [
    "lgbm_t_pred"
   ]
  },
  {
   "cell_type": "code",
   "execution_count": null,
   "metadata": {},
   "outputs": [],
   "source": [
    "sample_sub.drop(['Unnamed: 0'],axis=1,inplace=True)\n",
    "sample_sub['greatstone_rating']=lgbm_t_pred"
   ]
  },
  {
   "cell_type": "code",
   "execution_count": null,
   "metadata": {},
   "outputs": [],
   "source": [
    "##iter 19 : tuned learning rate and n estimators\n",
    "sample_sub[['fund_id','greatstone_rating']].to_csv('sample_submission_v19.csv',index=False)"
   ]
  },
  {
   "cell_type": "markdown",
   "metadata": {},
   "source": [
    "## Catboost "
   ]
  },
  {
   "cell_type": "code",
   "execution_count": null,
   "metadata": {},
   "outputs": [],
   "source": [
    "import catboost"
   ]
  },
  {
   "cell_type": "code",
   "execution_count": null,
   "metadata": {},
   "outputs": [],
   "source": [
    "from catboost import CatBoostClassifier, Pool"
   ]
  },
  {
   "cell_type": "code",
   "execution_count": null,
   "metadata": {},
   "outputs": [],
   "source": [
    "cbc=CatBoostClassifier(iterations=4000,random_state=123,learning_rate=0.1,depth=6,l2_leaf_reg=4.0)"
   ]
  },
  {
   "cell_type": "code",
   "execution_count": null,
   "metadata": {},
   "outputs": [],
   "source": [
    "cbc.fit(X,y,verbose=10)"
   ]
  },
  {
   "cell_type": "code",
   "execution_count": null,
   "metadata": {},
   "outputs": [],
   "source": [
    "sample_sub=pd.read_csv('sample_sub.csv')\n",
    "cbc_pred=cbc.predict(sample_sub[cols],prediction_type='Class')"
   ]
  },
  {
   "cell_type": "code",
   "execution_count": null,
   "metadata": {},
   "outputs": [],
   "source": [
    "cbc_pred.reshape(5000,)"
   ]
  },
  {
   "cell_type": "code",
   "execution_count": null,
   "metadata": {},
   "outputs": [],
   "source": [
    "cbc_pred=cbc_pred.astype('int').reshape(5000,)"
   ]
  },
  {
   "cell_type": "code",
   "execution_count": null,
   "metadata": {},
   "outputs": [],
   "source": [
    "cbc_pred"
   ]
  },
  {
   "cell_type": "code",
   "execution_count": null,
   "metadata": {},
   "outputs": [],
   "source": [
    "sample_sub.drop(['Unnamed: 0'],axis=1,inplace=True)\n",
    "sample_sub['greatstone_rating']=cbc_pred"
   ]
  },
  {
   "cell_type": "code",
   "execution_count": null,
   "metadata": {},
   "outputs": [],
   "source": [
    "sample_sub"
   ]
  },
  {
   "cell_type": "code",
   "execution_count": null,
   "metadata": {},
   "outputs": [],
   "source": [
    "##iter 28\n",
    "sample_sub[['fund_id','greatstone_rating']].to_csv('sample_submission_v28.csv',index=False)"
   ]
  },
  {
   "cell_type": "markdown",
   "metadata": {},
   "source": [
    "### ADA boost"
   ]
  },
  {
   "cell_type": "code",
   "execution_count": null,
   "metadata": {},
   "outputs": [],
   "source": [
    "ada=AdaBoostClassifier(algorithm='SAMME',n_estimators=100, learning_rate=0.1,random_state=123)\n",
    "ada.fit(X,y)"
   ]
  },
  {
   "cell_type": "code",
   "execution_count": null,
   "metadata": {},
   "outputs": [],
   "source": [
    "sample_sub=pd.read_csv('sample_sub.csv')\n",
    "ada_pred=ada.predict(sample_sub[cols])"
   ]
  },
  {
   "cell_type": "code",
   "execution_count": null,
   "metadata": {},
   "outputs": [],
   "source": [
    "ada_pred"
   ]
  },
  {
   "cell_type": "code",
   "execution_count": null,
   "metadata": {},
   "outputs": [],
   "source": [
    "sample_sub.drop(['Unnamed: 0'],axis=1,inplace=True)\n",
    "sample_sub['greatstone_rating']=ada_pred"
   ]
  },
  {
   "cell_type": "code",
   "execution_count": null,
   "metadata": {},
   "outputs": [],
   "source": [
    "##iter 29\n",
    "sample_sub[['fund_id','greatstone_rating']].to_csv('sample_submission_v29.csv',index=False)"
   ]
  },
  {
   "cell_type": "markdown",
   "metadata": {},
   "source": [
    "## SVC with hyper parameter tuning "
   ]
  },
  {
   "cell_type": "code",
   "execution_count": null,
   "metadata": {},
   "outputs": [],
   "source": [
    "## Scale the whole data ##\n",
    "scaler = StandardScaler()\n",
    "X_scaled= scaler.fit_transform(X)\n",
    "\n",
    "from scipy.stats import reciprocal, uniform\n",
    "param_distributions = {\"gamma\": reciprocal(0.001, 0.1), \"C\": uniform(1, 10),\"kernel\":['rbf','poly','sigmoid'],\"degree\":[3,4,5,6]}\n",
    "\n",
    "svc=SVC(gamma='scale',random_state=123)\n",
    "rs = RandomizedSearchCV(svc, param_distributions, n_iter=10, verbose=2, cv=3)\n",
    "rs.fit(X_scaled,y)"
   ]
  },
  {
   "cell_type": "code",
   "execution_count": null,
   "metadata": {},
   "outputs": [],
   "source": [
    "rs.best_estimator_"
   ]
  },
  {
   "cell_type": "code",
   "execution_count": null,
   "metadata": {},
   "outputs": [],
   "source": [
    "rs.best_score_"
   ]
  },
  {
   "cell_type": "code",
   "execution_count": null,
   "metadata": {},
   "outputs": [],
   "source": [
    "rs.best_estimator_.fit(X_scaled,y)"
   ]
  },
  {
   "cell_type": "code",
   "execution_count": null,
   "metadata": {},
   "outputs": [],
   "source": [
    "sample_sub=pd.read_csv('sample_sub.csv')\n",
    "sample_sub_scaler=scaler.transform(sample_sub[cols])\n",
    "svc_pred=rs.best_estimator_.predict(sample_sub_scaler)"
   ]
  },
  {
   "cell_type": "code",
   "execution_count": null,
   "metadata": {},
   "outputs": [],
   "source": [
    "svc_pred"
   ]
  },
  {
   "cell_type": "code",
   "execution_count": null,
   "metadata": {},
   "outputs": [],
   "source": [
    "sample_sub.drop(['Unnamed: 0'],axis=1,inplace=True)\n",
    "sample_sub['greatstone_rating']=svc_pred"
   ]
  },
  {
   "cell_type": "code",
   "execution_count": null,
   "metadata": {},
   "outputs": [],
   "source": [
    "sample_sub['greatstone_rating'].unique()"
   ]
  },
  {
   "cell_type": "code",
   "execution_count": null,
   "metadata": {},
   "outputs": [],
   "source": [
    "##iter 30\n",
    "sample_sub[['fund_id','greatstone_rating']].to_csv('sample_submission_v30.csv',index=False)"
   ]
  },
  {
   "cell_type": "markdown",
   "metadata": {},
   "source": [
    "## hist GBC "
   ]
  },
  {
   "cell_type": "code",
   "execution_count": null,
   "metadata": {},
   "outputs": [],
   "source": [
    "hgbc=HistGradientBoostingClassifier(loss='categorical_crossentropy',\n",
    "                                    max_iter=1000,\n",
    "                                    learning_rate=0.08,\n",
    "                                    max_bins=200,\n",
    "                                    random_state=123)\n",
    "hgb=hgbc.fit(X,y)"
   ]
  },
  {
   "cell_type": "code",
   "execution_count": null,
   "metadata": {},
   "outputs": [],
   "source": [
    "params={'loss':['categorical_crossentropy','auto'],\n",
    "        'learning_rate':[0.05,0.1,0.15],\n",
    "        'max_iter':[100,500,1000,1200],\n",
    "        'max_depth':[3,6,9],\n",
    "        'min_samples_leaf':[20,40,60],\n",
    "        'l2_regularization':[0,0.2,0.4]}\n",
    "hgbc=HistGradientBoostingClassifier(random_state=123,validation_fraction=0.1,n_iter_no_change=20)\n",
    "rs=RandomizedSearchCV(hgbc,param_distributions=params,n_iter=100,cv=3,verbose=10,random_state=123)\n",
    "rs.fit(X,y)"
   ]
  },
  {
   "cell_type": "code",
   "execution_count": null,
   "metadata": {},
   "outputs": [],
   "source": [
    "rs.best_params_"
   ]
  },
  {
   "cell_type": "code",
   "execution_count": null,
   "metadata": {},
   "outputs": [],
   "source": [
    "hgbc_t=HistGradientBoostingClassifier(random_state=123,min_samples_leaf=40,max_iter=1000,max_depth=9,\n",
    "                                    loss='auto',learning_rate=0.15,l2_regularization=0.2)\n",
    "hgbc_t.fit(X,y)"
   ]
  },
  {
   "cell_type": "code",
   "execution_count": null,
   "metadata": {},
   "outputs": [],
   "source": [
    "sample_sub=pd.read_csv('sample_sub.csv')\n",
    "hgbc_t_pred=hgbc_t.predict(sample_sub[cols])"
   ]
  },
  {
   "cell_type": "code",
   "execution_count": null,
   "metadata": {},
   "outputs": [],
   "source": [
    "hgbc_t_pred"
   ]
  },
  {
   "cell_type": "code",
   "execution_count": null,
   "metadata": {},
   "outputs": [],
   "source": [
    "sample_sub.drop(['Unnamed: 0'],axis=1,inplace=True)\n",
    "sample_sub['greatstone_rating']=hgbc_t_pred"
   ]
  },
  {
   "cell_type": "code",
   "execution_count": null,
   "metadata": {},
   "outputs": [],
   "source": [
    "##iter 31\n",
    "sample_sub[['fund_id','greatstone_rating']].to_csv('sample_submission_v31.csv',index=False)"
   ]
  },
  {
   "cell_type": "markdown",
   "metadata": {},
   "source": [
    "## Voting Classifier "
   ]
  },
  {
   "cell_type": "code",
   "execution_count": null,
   "metadata": {},
   "outputs": [],
   "source": [
    "#rf=RandomForestClassifier(n_estimators=100,random_state=123)\n",
    "lgbm_t=LGBMClassifier(boosting_type='dart',learning_rate=0.05,n_estimators=2500,\n",
    "                      objective='LGBMClassifier',reg_lambda=0.2,min_child_samples=30,\n",
    "                      max_depth=-1,random_state=1111)\n",
    "xgb=XGBClassifier(learning_rate=0.1,n_estimators=4000,reg_lambda=0.6,random_state=123)\n",
    "#cb=CatBoostClassifier(iterations=4000,learning_rate=0.009,l2_leaf_reg=4,random_state=123)\n",
    "vc=VotingClassifier([('lgbm',lgbm),('xgb',xgb)],voting='soft')\n",
    "vc.fit(X,y)"
   ]
  },
  {
   "cell_type": "code",
   "execution_count": null,
   "metadata": {},
   "outputs": [],
   "source": [
    "sample_sub=pd.read_csv('sample_sub.csv')\n",
    "vc_pred=vc.predict(sample_sub[cols])"
   ]
  },
  {
   "cell_type": "code",
   "execution_count": null,
   "metadata": {},
   "outputs": [],
   "source": [
    "vc_pred"
   ]
  },
  {
   "cell_type": "code",
   "execution_count": null,
   "metadata": {},
   "outputs": [],
   "source": [
    "sample_sub.drop(['Unnamed: 0'],axis=1,inplace=True)\n",
    "sample_sub['greatstone_rating']=vc_pred"
   ]
  },
  {
   "cell_type": "code",
   "execution_count": null,
   "metadata": {},
   "outputs": [],
   "source": [
    "##iter 32\n",
    "sample_sub[['fund_id','greatstone_rating']].to_csv('sample_submission_v32.csv',index=False)"
   ]
  },
  {
   "cell_type": "code",
   "execution_count": null,
   "metadata": {},
   "outputs": [],
   "source": []
  }
 ],
 "metadata": {
  "kernelspec": {
   "display_name": "Python 3",
   "language": "python",
   "name": "python3"
  },
  "language_info": {
   "codemirror_mode": {
    "name": "ipython",
    "version": 3
   },
   "file_extension": ".py",
   "mimetype": "text/x-python",
   "name": "python",
   "nbconvert_exporter": "python",
   "pygments_lexer": "ipython3",
   "version": "3.6.8"
  }
 },
 "nbformat": 4,
 "nbformat_minor": 2
}
